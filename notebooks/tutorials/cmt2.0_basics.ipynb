{
 "cells": [
  {
   "cell_type": "code",
   "execution_count": 1,
   "id": "083c70e0-3077-45ae-a399-cc655d091cac",
   "metadata": {},
   "outputs": [],
   "source": [
    "import datetime\n",
    "import straxen"
   ]
  },
  {
   "cell_type": "code",
   "execution_count": null,
   "id": "3391c2fc-f269-497d-bbf6-584a7d260677",
   "metadata": {},
   "outputs": [],
   "source": [
    "# Create an arbitrary datetime object to demonstrate time based queries \n",
    "dtime = datetime.datetime(2019, 2, 16, 13, 10, 4, 781502)"
   ]
  },
  {
   "cell_type": "markdown",
   "id": "7efd15ab",
   "metadata": {},
   "source": [
    "# Introduction\n",
    "Processing XENON data requires a large amount of detector parameters, correction information and other metadata not produced in the plugin dependency chain. The goal of CMT2.0 is to offer a way to define a schema and common interface for accessing this data from multiple data sources such as mongodb, pandas dataframes and API servers. The schema definition enforces consistent and uniform data and the common interface prevents hard coding of data access details in the plugins, notebooks and scripts that use the data. This allows analysts to easily switch out the data source for eg testing, development or when a database connection is not available."
   ]
  },
  {
   "cell_type": "markdown",
   "id": "3960fa8a-26cc-475e-8f7f-4b6603e9eed9",
   "metadata": {},
   "source": [
    "## Versioned documents\n",
    "The scope of CMT has been generalized to include all versioned documents. A collection of versioned documents has at least one index field named `version` and a common schema for all documents. The set of all index fields for each document of a given schema must be unique. By default collections are insert-only, meaning you cannot change the values for an already set index.\n",
    "All versioned documents in straxen should inherit from `straxen.BaseCorrectionSchema` or one of its subclasses"
   ]
  },
  {
   "cell_type": "markdown",
   "id": "558d4b32-5a27-4785-9bf9-b52894a9cd6e",
   "metadata": {},
   "source": [
    "## Bodega\n",
    "Bodega (detector parameters) is a perfect example of a collection of versioned documents which share a commong schema. The first step in migrating Bodega to CMT2.0 is defining the schema, this code can be found in `straxen/correction/bodega.py`\n",
    "\n",
    "```python\n",
    "\n",
    "import strax\n",
    "import rframe\n",
    "import datetime\n",
    "\n",
    "from .base_corrections import BaseCorrectionSchema\n",
    "\n",
    "export, __all__ = strax.exporter()\n",
    "\n",
    "\n",
    "@export\n",
    "class Bodega(BaseCorrectionSchema):\n",
    "    '''Detector parameters\n",
    "       A collection of non-time dependent detector\n",
    "       values.\n",
    "    '''\n",
    "    _NAME = 'bodega'\n",
    "    \n",
    "    field: str = rframe.Index()\n",
    "\n",
    "    value: float\n",
    "    uncertainty: float\n",
    "    definition: str\n",
    "    reference: str\n",
    "    date: datetime.datetime\n",
    "\n",
    "```\n",
    "\n",
    "Notice that we inherit from the `BaseCorrectionSchema` class, so the `version` field is already defined for us. We add an additional index called `field` which will store the field name of the document. The rest of the schema is simply copied from the structure of the bodega json collection. Standard python type hints can be used to enforce the field types. All `pydantic` fields are supported by the framework but a given data storage backend may have some constraints.\n"
   ]
  },
  {
   "cell_type": "markdown",
   "id": "c20af993",
   "metadata": {},
   "source": [
    "### Query interface\n",
    "Querying a specific datasource can be done using the query api. `Schema.find(datasource, version='v1', field=...)` will return a list of matching documents and `Schema.find_one(datasource, version='v1', field=...)` will return the first match. Each document will be an instance of the schema class. If you do not pass a datasource to the query methods, the default datasource will be queried."
   ]
  },
  {
   "cell_type": "code",
   "execution_count": null,
   "id": "d6096c3c",
   "metadata": {},
   "outputs": [],
   "source": [
    "drift_velocities = straxen.Bodega.find(field='drift_velocity')\n",
    "drift_velocity = drift_velocities[0]"
   ]
  },
  {
   "cell_type": "code",
   "execution_count": null,
   "id": "d7fe0ecd-5b0b-4428-890b-57f8ae860211",
   "metadata": {},
   "outputs": [],
   "source": [
    "drift_velocity = straxen.Bodega.find_one(field='drift_velocity', version='v1')\n",
    "drift_velocity"
   ]
  },
  {
   "cell_type": "code",
   "execution_count": null,
   "id": "bc132c9a-db43-421a-b590-dc27afacdea5",
   "metadata": {},
   "outputs": [],
   "source": [
    "# Document fields can be accessed as attributes\n",
    "drift_velocity.value"
   ]
  },
  {
   "cell_type": "code",
   "execution_count": null,
   "id": "0ee53da3-f6a1-4813-b5df-fc896fd0ab50",
   "metadata": {},
   "outputs": [],
   "source": [
    "# convert to python dictionary\n",
    "drift_velocity.dict()\n",
    "\n",
    "# convert to json string\n",
    "drift_velocity.json()"
   ]
  },
  {
   "cell_type": "markdown",
   "id": "f36c213f-06e3-4f7e-8507-3a2da68b934d",
   "metadata": {},
   "source": [
    "## Fax Configs\n",
    "The WFSim configuration has also been migrated to the CMT2.0 framework in `straxen/corrections/fax.py`, the schema definition is as followes:\n",
    "\n",
    "```python\n",
    "import strax\n",
    "import rframe\n",
    "\n",
    "from typing import Literal, Union\n",
    "\n",
    "from .base_corrections import BaseCorrectionSchema\n",
    "\n",
    "export, __all__ = strax.exporter()\n",
    "\n",
    "\n",
    "\n",
    "@export\n",
    "class FaxConfig(BaseCorrectionSchema):\n",
    "    '''fax configuration values for WFSim\n",
    "    '''\n",
    "    _NAME = 'fax_configs'\n",
    "    class Config:\n",
    "        smart_union = True\n",
    "        \n",
    "    field: str = rframe.Index()\n",
    "    experiment: Literal['1t','nt','nt_design'] = rframe.Index(default='nt')\n",
    "    detector: Literal['tpc', 'muon_veto', 'neutron_veto'] = rframe.Index(default='tpc')\n",
    "    science_run: str = rframe.Index()\n",
    "    version: str = rframe.Index(default='nt')\n",
    "\n",
    "    value: Union[int,float,bool,str,list,dict]\n",
    "    resource: str\n",
    "\n",
    "\n",
    "```\n",
    "\n",
    "In this case the documents are also indexed by experiment, detector, and science run."
   ]
  },
  {
   "cell_type": "code",
   "execution_count": null,
   "id": "b399b433-d2c1-4a89-b598-df2dff96305b",
   "metadata": {},
   "outputs": [],
   "source": [
    "s2_secondary_sc_gain = straxen.FaxConfig.find_one(field='s2_secondary_sc_gain', version='v0')\n",
    "s2_secondary_sc_gain.value"
   ]
  },
  {
   "cell_type": "code",
   "execution_count": null,
   "id": "77a977df-2ae6-4018-ab64-e3dcb5282045",
   "metadata": {},
   "outputs": [],
   "source": [
    "straxen.FaxConfig.get_column_fields()"
   ]
  },
  {
   "cell_type": "code",
   "execution_count": null,
   "id": "de851d08-17ea-4b3a-8381-43d41340f3b1",
   "metadata": {},
   "outputs": [],
   "source": [
    "fax_configs = straxen.FaxConfig.find(experiment='nt', version='v0')\n",
    "fax_configs[:2]"
   ]
  },
  {
   "cell_type": "markdown",
   "id": "d65218f2-d450-45ac-896c-85a1cb57c55d",
   "metadata": {},
   "source": [
    "### Resource References\n",
    "Documents which reference an external resource should inherit from `straxen.ResourceReference` and can define a fmt property which will be used to fetch the resource when the `.load()` method is called.\n",
    "\n",
    "Example: Position reconstruction models\n",
    "\n",
    "```python\n",
    "\n",
    "import strax\n",
    "import rframe\n",
    "import datetime\n",
    "from typing import Literal\n",
    "from .base_references import ResourceReference\n",
    "\n",
    "export, __all__ = strax.exporter()\n",
    "\n",
    "\n",
    "@export\n",
    "class PosRecModel(ResourceReference):\n",
    "    _NAME = \"posrec_models\"\n",
    "    fmt = 'json'\n",
    "\n",
    "    kind: Literal['cnn','gcn','mlp'] = rframe.Index()\n",
    "    time: rframe.Interval[datetime.datetime] = rframe.IntervalIndex()\n",
    "\n",
    "    value: str\n",
    "\n",
    "\n",
    "```\n",
    "\n",
    "Here we use the `typing.Literal` generic to define a field that can only be one of three model types and set it to be an index field.\n",
    "We also introduce an additional time field which is of type Interval and references the validity interval of the model. Setting it to be an IntervalIndex means that queries will be matched by overlap instead of exact value matching."
   ]
  },
  {
   "cell_type": "code",
   "execution_count": null,
   "id": "13a32de2-7311-4c04-9a76-cb27fd1b65f6",
   "metadata": {},
   "outputs": [],
   "source": [
    "model_name = straxen.PosRecModel.find_one(version='v1', time=dtime)\n",
    "\n",
    "# The value field contains the resource name\n",
    "model_name.value\n"
   ]
  },
  {
   "cell_type": "code",
   "execution_count": null,
   "id": "0c24a562-dad6-48fc-aa92-b8d38046d6ec",
   "metadata": {},
   "outputs": [],
   "source": [
    "# Calling the load method loads the actual model using straxen.get_resource().\n",
    "model = model_name.load()\n"
   ]
  },
  {
   "cell_type": "markdown",
   "id": "1db261f3-92a7-4613-9b90-680a4d707159",
   "metadata": {},
   "source": [
    "# RemoteFrame: pandas/xarray interface\n",
    "For convenience additional query APIs are implemented inspired for the pandas and xarray packages. Most of these methods return a padnas dataframe with the requested data selection."
   ]
  },
  {
   "cell_type": "code",
   "execution_count": null,
   "id": "d93b8cc5-4082-4681-998c-b0aa9f36bff9",
   "metadata": {},
   "outputs": [],
   "source": [
    "# The straxen.cframes namespace holds a collection\n",
    "# of remote frames for all defined corrections\n",
    "\n",
    "gains_rf = straxen.cframes.pmt_gains"
   ]
  },
  {
   "cell_type": "code",
   "execution_count": null,
   "id": "454edb55-31d1-43ae-b6ef-4ade4f89fc72",
   "metadata": {},
   "outputs": [],
   "source": [
    "# List the index names\n",
    "gains_rf.index.names"
   ]
  },
  {
   "cell_type": "markdown",
   "id": "4572e5b0-d325-4f0f-af57-7e882768bc06",
   "metadata": {},
   "source": [
    "### xarray api"
   ]
  },
  {
   "cell_type": "code",
   "execution_count": null,
   "id": "383e67a5-c1a0-41b2-99b2-b27f97977a04",
   "metadata": {},
   "outputs": [],
   "source": [
    "# calling the .sel() method returns a pandas\n",
    "# dataframe with the selection result\n",
    "\n",
    "df = gains_rf.sel(detector='tpc', version='v1', time=dtime)\n",
    "df"
   ]
  },
  {
   "cell_type": "markdown",
   "id": "0830c872-b46c-489a-bf9e-005bdd959002",
   "metadata": {},
   "source": [
    "### pandas api"
   ]
  },
  {
   "cell_type": "code",
   "execution_count": null,
   "id": "69238cdf-0206-4a7f-94a6-24111f2604be",
   "metadata": {},
   "outputs": [],
   "source": [
    "# pandas style multi-indexing also returns a pandas\n",
    "# dataframe with the selection result\n",
    "\n",
    "df = gains_rf.loc['v1',dtime,'tpc',:]\n",
    "df"
   ]
  },
  {
   "cell_type": "markdown",
   "id": "5751f965-59c7-4a70-bdd5-589337c9f7b0",
   "metadata": {},
   "source": [
    "#### Scalar lookup"
   ]
  },
  {
   "cell_type": "code",
   "execution_count": null,
   "id": "9c51d7ee-b5e1-4838-9a7d-cb4b9143371d",
   "metadata": {},
   "outputs": [],
   "source": [
    "# pandas api\n",
    "\n",
    "gains_rf.at[('v1',dtime,'tpc',1), 'value']"
   ]
  },
  {
   "cell_type": "code",
   "execution_count": null,
   "id": "a70f0e29-06e6-42ce-a234-415848f77de3",
   "metadata": {},
   "outputs": [],
   "source": [
    "# simple callable\n",
    "\n",
    "gains_rf('value', detector='tpc', version='v1', time=dtime, pmt=1)"
   ]
  },
  {
   "cell_type": "code",
   "execution_count": null,
   "id": "35472308-c1b5-4bef-8a8a-8c2e226c3e56",
   "metadata": {},
   "outputs": [],
   "source": []
  },
  {
   "cell_type": "markdown",
   "id": "fd7a2c2b",
   "metadata": {},
   "source": [
    "# Global Versions\n",
    "The concept of a global version in CMT2.0 is generalized to a collection of versioned documents where each document references one or more documents in another versioned collection. The schema is implemented in `straxen/corrections/global_versions.py` and is as follows:\n",
    "\n",
    "```python\n",
    "\n",
    "\n",
    "@export\n",
    "class GlobalVersion(TimeIntervalCorrection):\n",
    "    '''A GlobalVersion document references one or \n",
    "    more corrections by storing the name and labels required\n",
    "    to locate the correction in a datasource     \n",
    "    '''\n",
    "    _NAME = 'global_versions'\n",
    "\n",
    "    # arbitrary alias for this reference,\n",
    "    # this should match the straxen config name\n",
    "    alias: str = rframe.Index() \n",
    "\n",
    "    # the global version\n",
    "    version: str = rframe.Index()\n",
    "\n",
    "    # validity interval of the document\n",
    "    time: rframe.Interval[datetime.datetime] = rframe.IntervalIndex()\n",
    "\n",
    "    # Name of the correction being referenced\n",
    "    correction: str\n",
    "\n",
    "    # The attribute in the correction being referenced e.g `value`\n",
    "    attribute: str\n",
    "\n",
    "    # The index labels being referenced, eg pmt=[1,2,3], version='v3' etc.\n",
    "    labels: dict\n",
    "\n",
    "    def load(self, datasource=None, **overrides):\n",
    "        ''' Load the referenced documents\n",
    "        '''\n",
    "        labels = dict(self.labels, **overrides)\n",
    "        if self.correction not in BaseCorrectionSchema._SCHEMAS:\n",
    "            raise KeyError(f'Reference to undefined schema name {self.correction}')\n",
    "        schema = BaseCorrectionSchema._SCHEMAS[self.correction]\n",
    "        return schema.find(datasource, **labels)\n",
    "\n",
    "    @property\n",
    "    def url_config(self):\n",
    "        '''Convert reference to a URLConfig URL\n",
    "        '''\n",
    "        url = f'{self.correction}://{self.attribute}'\n",
    "        url = straxen.URLConfig.format_url_kwargs(url, **self.labels)\n",
    "        return url\n",
    "\n",
    "    @property\n",
    "    def config_dict(self):\n",
    "        return {self.name: self.url_config}\n",
    "\n",
    "    @classmethod\n",
    "    def get_global_config(cls, version, datasource=None, names=None, extra_labels=None):\n",
    "        '''Build a context config from the given global version.\n",
    "        '''\n",
    "        if extra_labels is None:\n",
    "            extra_labels = dict(run_id='plugin.run_id')\n",
    "        refs = cls.find(datasource, version=version, alias=names)\n",
    "        config = {}\n",
    "        for ref in refs:\n",
    "            url = ref.url_config\n",
    "            if extra_labels is not None:\n",
    "                url = straxen.URLConfig.format_url_kwargs(url, **extra_labels)\n",
    "            config[ref.alias] = url\n",
    "        return config\n",
    "\n",
    "```"
   ]
  },
  {
   "cell_type": "code",
   "execution_count": null,
   "id": "ad9410ef",
   "metadata": {},
   "outputs": [],
   "source": [
    "import straxen\n",
    "\n",
    "st = straxen.contexts.xenonnt()\n",
    "config = straxen.GlobalVersion.get_global_config('v1')\n",
    "\n",
    "st.set_config(config)"
   ]
  }
 ],
 "metadata": {
  "interpreter": {
   "hash": "8d4a9e3b1cf48e7d8286c31499bf7742482148cf175b8290d37db65f7b4a0399"
  },
  "kernelspec": {
   "display_name": "straxen-dev",
   "language": "python",
   "name": "python3"
  },
  "language_info": {
   "codemirror_mode": {
    "name": "ipython",
    "version": 3
   },
   "file_extension": ".py",
   "mimetype": "text/x-python",
   "name": "python",
   "nbconvert_exporter": "python",
   "pygments_lexer": "ipython3",
   "version": "3.8.0"
  }
 },
 "nbformat": 4,
 "nbformat_minor": 5
}
