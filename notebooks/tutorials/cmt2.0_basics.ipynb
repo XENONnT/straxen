{
 "cells": [
  {
   "cell_type": "code",
   "execution_count": null,
   "id": "083c70e0-3077-45ae-a399-cc655d091cac",
   "metadata": {},
   "outputs": [],
   "source": [
    "import datetime\n",
    "import straxen"
   ]
  },
  {
   "cell_type": "code",
   "execution_count": null,
   "id": "3391c2fc-f269-497d-bbf6-584a7d260677",
   "metadata": {},
   "outputs": [],
   "source": [
    "dtime = datetime.datetime(2019, 2, 16, 13, 10, 4, 781502)"
   ]
  },
  {
   "cell_type": "markdown",
   "id": "3960fa8a-26cc-475e-8f7f-4b6603e9eed9",
   "metadata": {},
   "source": [
    "# Versioned documents"
   ]
  },
  {
   "cell_type": "markdown",
   "id": "558d4b32-5a27-4785-9bf9-b52894a9cd6e",
   "metadata": {},
   "source": [
    "### Bodega"
   ]
  },
  {
   "cell_type": "code",
   "execution_count": null,
   "id": "d7fe0ecd-5b0b-4428-890b-57f8ae860211",
   "metadata": {},
   "outputs": [],
   "source": [
    "drift_velocity = straxen.Bodega.find_one(field='drift_velocity', version='v1')\n",
    "drift_velocity"
   ]
  },
  {
   "cell_type": "code",
   "execution_count": null,
   "id": "bc132c9a-db43-421a-b590-dc27afacdea5",
   "metadata": {},
   "outputs": [],
   "source": [
    "drift_velocity.value"
   ]
  },
  {
   "cell_type": "code",
   "execution_count": null,
   "id": "0ee53da3-f6a1-4813-b5df-fc896fd0ab50",
   "metadata": {},
   "outputs": [],
   "source": [
    "drift_velocity.dict()"
   ]
  },
  {
   "cell_type": "markdown",
   "id": "f36c213f-06e3-4f7e-8507-3a2da68b934d",
   "metadata": {},
   "source": [
    "### Fax Configs"
   ]
  },
  {
   "cell_type": "code",
   "execution_count": null,
   "id": "b399b433-d2c1-4a89-b598-df2dff96305b",
   "metadata": {},
   "outputs": [],
   "source": [
    "s2_secondary_sc_gain = straxen.FaxConfig.find_one(field='s2_secondary_sc_gain', version='v0')\n",
    "s2_secondary_sc_gain.value"
   ]
  },
  {
   "cell_type": "code",
   "execution_count": null,
   "id": "77a977df-2ae6-4018-ab64-e3dcb5282045",
   "metadata": {},
   "outputs": [],
   "source": [
    "straxen.FaxConfig.get_column_fields()"
   ]
  },
  {
   "cell_type": "code",
   "execution_count": null,
   "id": "de851d08-17ea-4b3a-8381-43d41340f3b1",
   "metadata": {},
   "outputs": [],
   "source": [
    "fax_configs = straxen.FaxConfig.find(experiment='nt', version='v0')\n",
    "fax_configs[:2]"
   ]
  },
  {
   "cell_type": "markdown",
   "id": "d65218f2-d450-45ac-896c-85a1cb57c55d",
   "metadata": {},
   "source": [
    "### Resource References"
   ]
  },
  {
   "cell_type": "code",
   "execution_count": null,
   "id": "13a32de2-7311-4c04-9a76-cb27fd1b65f6",
   "metadata": {},
   "outputs": [],
   "source": [
    "map_name = straxen.FdcMapName.find_one(version='v1', time=dtime)\n",
    "map_name.value"
   ]
  },
  {
   "cell_type": "code",
   "execution_count": null,
   "id": "0c24a562-dad6-48fc-aa92-b8d38046d6ec",
   "metadata": {},
   "outputs": [],
   "source": [
    "fdc_map = map_name.get_resource()\n",
    "fdc_map['name']"
   ]
  },
  {
   "cell_type": "markdown",
   "id": "1db261f3-92a7-4613-9b90-680a4d707159",
   "metadata": {},
   "source": [
    "# RemoteFrame: pandas/xarray interface"
   ]
  },
  {
   "cell_type": "code",
   "execution_count": null,
   "id": "d93b8cc5-4082-4681-998c-b0aa9f36bff9",
   "metadata": {},
   "outputs": [],
   "source": [
    "# The straxen.cframes namespace holds a collection\n",
    "# of remote frames for all defined corrections\n",
    "\n",
    "gains_rf = straxen.cframes.pmt_gains"
   ]
  },
  {
   "cell_type": "code",
   "execution_count": null,
   "id": "454edb55-31d1-43ae-b6ef-4ade4f89fc72",
   "metadata": {},
   "outputs": [],
   "source": [
    "gains_rf.index.names"
   ]
  },
  {
   "cell_type": "markdown",
   "id": "4572e5b0-d325-4f0f-af57-7e882768bc06",
   "metadata": {},
   "source": [
    "### xarray api"
   ]
  },
  {
   "cell_type": "code",
   "execution_count": null,
   "id": "383e67a5-c1a0-41b2-99b2-b27f97977a04",
   "metadata": {},
   "outputs": [],
   "source": [
    "# calling the .sel() method returns a pandas\n",
    "# dataframe with the selection result\n",
    "\n",
    "df = gains_rf.sel(detector='tpc', version='v1', time=dtime)\n",
    "df"
   ]
  },
  {
   "cell_type": "markdown",
   "id": "0830c872-b46c-489a-bf9e-005bdd959002",
   "metadata": {},
   "source": [
    "### pandas api"
   ]
  },
  {
   "cell_type": "code",
   "execution_count": null,
   "id": "69238cdf-0206-4a7f-94a6-24111f2604be",
   "metadata": {},
   "outputs": [],
   "source": [
    "# pandas style multi-indexing also returns a pandas\n",
    "# dataframe with the selection result\n",
    "\n",
    "df = gains_rf.loc['v1',dtime,'tpc',:]\n",
    "df"
   ]
  },
  {
   "cell_type": "markdown",
   "id": "5751f965-59c7-4a70-bdd5-589337c9f7b0",
   "metadata": {},
   "source": [
    "#### Scalar lookup"
   ]
  },
  {
   "cell_type": "code",
   "execution_count": null,
   "id": "9c51d7ee-b5e1-4838-9a7d-cb4b9143371d",
   "metadata": {},
   "outputs": [],
   "source": [
    "# pandas api\n",
    "\n",
    "gains_rf.at[('v1',dtime,'tpc',1), 'value']"
   ]
  },
  {
   "cell_type": "code",
   "execution_count": null,
   "id": "a70f0e29-06e6-42ce-a234-415848f77de3",
   "metadata": {},
   "outputs": [],
   "source": [
    "# simple callable\n",
    "\n",
    "gains_rf('value', detector='tpc', version='v1', time=dtime, pmt=1)"
   ]
  },
  {
   "cell_type": "code",
   "execution_count": null,
   "id": "35472308-c1b5-4bef-8a8a-8c2e226c3e56",
   "metadata": {},
   "outputs": [],
   "source": []
  }
 ],
 "metadata": {
  "kernelspec": {
   "display_name": "straxen-dev",
   "language": "python",
   "name": "straxen-dev"
  },
  "language_info": {
   "codemirror_mode": {
    "name": "ipython",
    "version": 3
   },
   "file_extension": ".py",
   "mimetype": "text/x-python",
   "name": "python",
   "nbconvert_exporter": "python",
   "pygments_lexer": "ipython3",
   "version": "3.8.0"
  }
 },
 "nbformat": 4,
 "nbformat_minor": 5
}
