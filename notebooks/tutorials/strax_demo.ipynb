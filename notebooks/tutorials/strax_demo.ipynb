{
 "cells": [
  {
   "cell_type": "markdown",
   "metadata": {},
   "source": [
    "# Tutorial"
   ]
  },
  {
   "cell_type": "markdown",
   "metadata": {},
   "source": [
    "Jelle, updated May 2019\n",
    "\n",
    "This notebook shows how to do basic analysis with straxen, much like `hax.minitrees`."
   ]
  },
  {
   "cell_type": "markdown",
   "metadata": {},
   "source": [
    "For reference, here are some jargon terms which we will introduce below:\n",
    "\n",
    "  * **Context**: Holds configuration on how to process\n",
    "  * **Dataframe** or **array**: table of related information produced by a plugin.\n",
    "  * **Plugin**: an algorithm that produces a dataframe\n",
    "  * **Data type**: specification of which columns are in a dataframe. \n",
    "  * **Data kind**: e.g. 'events' or 'peaks'. Dataframes of the same kind  have the same number of rows and can be merged.\n"
   ]
  },
  {
   "cell_type": "code",
   "execution_count": 1,
   "metadata": {},
   "outputs": [],
   "source": [
    "import numpy as np\n",
    "# This just ensures some comments in dataframes below display nicely\n",
    "import pandas as pd\n",
    "pd.options.display.max_colwidth = 100"
   ]
  },
  {
   "cell_type": "markdown",
   "metadata": {},
   "source": [
    "## Setting up"
   ]
  },
  {
   "cell_type": "markdown",
   "metadata": {},
   "source": [
    "First we load a strax **context**, much like `hax.init()`. A strax context contains all information on *how* to process: where to read what files from, what plugins provide what data, etc. \n",
    "\n",
    "You can make a context yourselves using `strax.Context`, but straxen provides standardized contexts as well. Most future analyses will use such standardized contexts defined by analysis coordinators or straxen maintainers.\n",
    "\n",
    "Unlike `hax.init`, you can have multiple active contexts, e.g. to load analysis and MC data, or compare data processed with different settings (we will see examples of this below)."
   ]
  },
  {
   "cell_type": "code",
   "execution_count": 2,
   "metadata": {},
   "outputs": [],
   "source": [
    "import straxen\n",
    "st = straxen.contexts.demo()"
   ]
  },
  {
   "cell_type": "markdown",
   "metadata": {},
   "source": [
    "## Finding your data"
   ]
  },
  {
   "cell_type": "markdown",
   "metadata": {},
   "source": [
    "Usually you'd be running on a XENON analysis facility with access to XENON data. This demo should run everywhere, so we'll have to download some data first:"
   ]
  },
  {
   "cell_type": "code",
   "execution_count": 3,
   "metadata": {},
   "outputs": [],
   "source": [
    "straxen.download_test_data()"
   ]
  },
  {
   "cell_type": "markdown",
   "metadata": {},
   "source": [
    "Suposse we want to make a cS1/cS2 plot. We have to figure out which type of **dataframes** to load. A specific type of dataframe is also called a **data type**. (in hax these were called minitrees)\n",
    "\n",
    "We can find this out automatically if we know (part of) the name of a field to load:"
   ]
  },
  {
   "cell_type": "code",
   "execution_count": 4,
   "metadata": {},
   "outputs": [
    {
     "name": "stdout",
     "output_type": "stream",
     "text": [
      "cs1 is part of corrected_areas (provided by CorrectedAreas)\n",
      "cs1 is part of event_info (provided by EventInfo)\n"
     ]
    }
   ],
   "source": [
    "st.search_field('*s1')"
   ]
  },
  {
   "cell_type": "markdown",
   "metadata": {},
   "source": [
    "It seems we're after one of the data types called `event_info` or `corrected_areas`. In the current context, these are provided by **plugins** called EventInfo and CorrectedAreas, respectively (but this doesn't concern us yet). \n",
    "\n",
    "Let's see what else is in these data types:"
   ]
  },
  {
   "cell_type": "code",
   "execution_count": 5,
   "metadata": {},
   "outputs": [
    {
     "data": {
      "text/html": [
       "<div>\n",
       "<style scoped>\n",
       "    .dataframe tbody tr th:only-of-type {\n",
       "        vertical-align: middle;\n",
       "    }\n",
       "\n",
       "    .dataframe tbody tr th {\n",
       "        vertical-align: top;\n",
       "    }\n",
       "\n",
       "    .dataframe thead th {\n",
       "        text-align: right;\n",
       "    }\n",
       "</style>\n",
       "<table border=\"1\" class=\"dataframe\">\n",
       "  <thead>\n",
       "    <tr style=\"text-align: right;\">\n",
       "      <th></th>\n",
       "      <th>Field name</th>\n",
       "      <th>Data type</th>\n",
       "      <th>Comment</th>\n",
       "    </tr>\n",
       "  </thead>\n",
       "  <tbody>\n",
       "    <tr>\n",
       "      <th>0</th>\n",
       "      <td>cs1</td>\n",
       "      <td>float32</td>\n",
       "      <td>Corrected S1 area (PE)</td>\n",
       "    </tr>\n",
       "    <tr>\n",
       "      <th>1</th>\n",
       "      <td>cs2</td>\n",
       "      <td>float32</td>\n",
       "      <td>Corrected S2 area (PE)</td>\n",
       "    </tr>\n",
       "  </tbody>\n",
       "</table>\n",
       "</div>"
      ],
      "text/plain": [
       "  Field name Data type                 Comment\n",
       "0        cs1   float32  Corrected S1 area (PE)\n",
       "1        cs2   float32  Corrected S2 area (PE)"
      ]
     },
     "execution_count": 5,
     "metadata": {},
     "output_type": "execute_result"
    }
   ],
   "source": [
    "st.data_info('corrected_areas')"
   ]
  },
  {
   "cell_type": "code",
   "execution_count": 6,
   "metadata": {},
   "outputs": [
    {
     "data": {
      "text/html": [
       "<div>\n",
       "<style scoped>\n",
       "    .dataframe tbody tr th:only-of-type {\n",
       "        vertical-align: middle;\n",
       "    }\n",
       "\n",
       "    .dataframe tbody tr th {\n",
       "        vertical-align: top;\n",
       "    }\n",
       "\n",
       "    .dataframe thead th {\n",
       "        text-align: right;\n",
       "    }\n",
       "</style>\n",
       "<table border=\"1\" class=\"dataframe\">\n",
       "  <thead>\n",
       "    <tr style=\"text-align: right;\">\n",
       "      <th></th>\n",
       "      <th>Field name</th>\n",
       "      <th>Data type</th>\n",
       "      <th>Comment</th>\n",
       "    </tr>\n",
       "  </thead>\n",
       "  <tbody>\n",
       "    <tr>\n",
       "      <th>0</th>\n",
       "      <td>event_number</td>\n",
       "      <td>int64</td>\n",
       "      <td>Event number in this dataset</td>\n",
       "    </tr>\n",
       "    <tr>\n",
       "      <th>1</th>\n",
       "      <td>time</td>\n",
       "      <td>int64</td>\n",
       "      <td>Event start time in ns since the unix epoch</td>\n",
       "    </tr>\n",
       "    <tr>\n",
       "      <th>2</th>\n",
       "      <td>endtime</td>\n",
       "      <td>int64</td>\n",
       "      <td>Event end time in ns since the unix epoch</td>\n",
       "    </tr>\n",
       "    <tr>\n",
       "      <th>3</th>\n",
       "      <td>n_peaks</td>\n",
       "      <td>int32</td>\n",
       "      <td>Number of peaks in the event</td>\n",
       "    </tr>\n",
       "    <tr>\n",
       "      <th>4</th>\n",
       "      <td>drift_time</td>\n",
       "      <td>int64</td>\n",
       "      <td>Drift time between main S1 and S2 in ns</td>\n",
       "    </tr>\n",
       "    <tr>\n",
       "      <th>5</th>\n",
       "      <td>s1_index</td>\n",
       "      <td>int32</td>\n",
       "      <td>Main S1 peak index</td>\n",
       "    </tr>\n",
       "    <tr>\n",
       "      <th>6</th>\n",
       "      <td>s1_area</td>\n",
       "      <td>float32</td>\n",
       "      <td>Main S1 area (PE), uncorrected</td>\n",
       "    </tr>\n",
       "    <tr>\n",
       "      <th>7</th>\n",
       "      <td>s1_area_fraction_top</td>\n",
       "      <td>float32</td>\n",
       "      <td>Main S1 area fraction top</td>\n",
       "    </tr>\n",
       "    <tr>\n",
       "      <th>8</th>\n",
       "      <td>s1_range_50p_area</td>\n",
       "      <td>float32</td>\n",
       "      <td>Main S1 width (ns, 50% area)</td>\n",
       "    </tr>\n",
       "    <tr>\n",
       "      <th>9</th>\n",
       "      <td>s1_n_competing</td>\n",
       "      <td>int32</td>\n",
       "      <td>Main S1 number of competing peaks</td>\n",
       "    </tr>\n",
       "    <tr>\n",
       "      <th>10</th>\n",
       "      <td>s2_index</td>\n",
       "      <td>int32</td>\n",
       "      <td>Main S2 peak index</td>\n",
       "    </tr>\n",
       "    <tr>\n",
       "      <th>11</th>\n",
       "      <td>s2_area</td>\n",
       "      <td>float32</td>\n",
       "      <td>Main S2 area (PE), uncorrected</td>\n",
       "    </tr>\n",
       "    <tr>\n",
       "      <th>12</th>\n",
       "      <td>s2_area_fraction_top</td>\n",
       "      <td>float32</td>\n",
       "      <td>Main S2 area fraction top</td>\n",
       "    </tr>\n",
       "    <tr>\n",
       "      <th>13</th>\n",
       "      <td>s2_range_50p_area</td>\n",
       "      <td>float32</td>\n",
       "      <td>Main S2 width (ns, 50% area)</td>\n",
       "    </tr>\n",
       "    <tr>\n",
       "      <th>14</th>\n",
       "      <td>s2_n_competing</td>\n",
       "      <td>int32</td>\n",
       "      <td>Main S2 number of competing peaks</td>\n",
       "    </tr>\n",
       "    <tr>\n",
       "      <th>15</th>\n",
       "      <td>x_s2</td>\n",
       "      <td>float32</td>\n",
       "      <td>Main S2 reconstructed X position (cm), uncorrected</td>\n",
       "    </tr>\n",
       "    <tr>\n",
       "      <th>16</th>\n",
       "      <td>y_s2</td>\n",
       "      <td>float32</td>\n",
       "      <td>Main S2 reconstructed Y position (cm), uncorrected</td>\n",
       "    </tr>\n",
       "    <tr>\n",
       "      <th>17</th>\n",
       "      <td>s2_largest_other</td>\n",
       "      <td>float32</td>\n",
       "      <td>Largest other S2 area (PE) in event, uncorrected</td>\n",
       "    </tr>\n",
       "    <tr>\n",
       "      <th>18</th>\n",
       "      <td>s1_largest_other</td>\n",
       "      <td>float32</td>\n",
       "      <td>Largest other S1 area (PE) in event, uncorrected</td>\n",
       "    </tr>\n",
       "    <tr>\n",
       "      <th>19</th>\n",
       "      <td>alt_s1_interaction_drift_time</td>\n",
       "      <td>float32</td>\n",
       "      <td>Drift time with alternative s1</td>\n",
       "    </tr>\n",
       "    <tr>\n",
       "      <th>20</th>\n",
       "      <td>x</td>\n",
       "      <td>float32</td>\n",
       "      <td>Interaction x-position, field-distortion corrected (cm)</td>\n",
       "    </tr>\n",
       "    <tr>\n",
       "      <th>21</th>\n",
       "      <td>y</td>\n",
       "      <td>float32</td>\n",
       "      <td>Interaction y-position, field-distortion corrected (cm)</td>\n",
       "    </tr>\n",
       "    <tr>\n",
       "      <th>22</th>\n",
       "      <td>z</td>\n",
       "      <td>float32</td>\n",
       "      <td>Interaction z-position, field-distortion corrected (cm)</td>\n",
       "    </tr>\n",
       "    <tr>\n",
       "      <th>23</th>\n",
       "      <td>r</td>\n",
       "      <td>float32</td>\n",
       "      <td>Interaction radial position, field-distortion corrected (cm)</td>\n",
       "    </tr>\n",
       "    <tr>\n",
       "      <th>24</th>\n",
       "      <td>z_naive</td>\n",
       "      <td>float32</td>\n",
       "      <td>Interaction z-position using mean drift velocity only (cm)</td>\n",
       "    </tr>\n",
       "    <tr>\n",
       "      <th>25</th>\n",
       "      <td>r_naive</td>\n",
       "      <td>float32</td>\n",
       "      <td>Interaction r-position using observed S2 positions directly (cm)</td>\n",
       "    </tr>\n",
       "    <tr>\n",
       "      <th>26</th>\n",
       "      <td>r_field_distortion_correction</td>\n",
       "      <td>float32</td>\n",
       "      <td>Correction added to r_naive for field distortion (cm)</td>\n",
       "    </tr>\n",
       "    <tr>\n",
       "      <th>27</th>\n",
       "      <td>theta</td>\n",
       "      <td>float32</td>\n",
       "      <td>Interaction angular position (radians)</td>\n",
       "    </tr>\n",
       "    <tr>\n",
       "      <th>28</th>\n",
       "      <td>cs1</td>\n",
       "      <td>float32</td>\n",
       "      <td>Corrected S1 area (PE)</td>\n",
       "    </tr>\n",
       "    <tr>\n",
       "      <th>29</th>\n",
       "      <td>cs2</td>\n",
       "      <td>float32</td>\n",
       "      <td>Corrected S2 area (PE)</td>\n",
       "    </tr>\n",
       "    <tr>\n",
       "      <th>30</th>\n",
       "      <td>e_light</td>\n",
       "      <td>float32</td>\n",
       "      <td>Energy in light signal (keV)</td>\n",
       "    </tr>\n",
       "    <tr>\n",
       "      <th>31</th>\n",
       "      <td>e_charge</td>\n",
       "      <td>float32</td>\n",
       "      <td>Energy in charge signal (keV)</td>\n",
       "    </tr>\n",
       "    <tr>\n",
       "      <th>32</th>\n",
       "      <td>e_ces</td>\n",
       "      <td>float32</td>\n",
       "      <td>Energy estimate (keV_ee)</td>\n",
       "    </tr>\n",
       "  </tbody>\n",
       "</table>\n",
       "</div>"
      ],
      "text/plain": [
       "                       Field name Data type  \\\n",
       "0                    event_number     int64   \n",
       "1                            time     int64   \n",
       "2                         endtime     int64   \n",
       "3                         n_peaks     int32   \n",
       "4                      drift_time     int64   \n",
       "5                        s1_index     int32   \n",
       "6                         s1_area   float32   \n",
       "7            s1_area_fraction_top   float32   \n",
       "8               s1_range_50p_area   float32   \n",
       "9                  s1_n_competing     int32   \n",
       "10                       s2_index     int32   \n",
       "11                        s2_area   float32   \n",
       "12           s2_area_fraction_top   float32   \n",
       "13              s2_range_50p_area   float32   \n",
       "14                 s2_n_competing     int32   \n",
       "15                           x_s2   float32   \n",
       "16                           y_s2   float32   \n",
       "17               s2_largest_other   float32   \n",
       "18               s1_largest_other   float32   \n",
       "19  alt_s1_interaction_drift_time   float32   \n",
       "20                              x   float32   \n",
       "21                              y   float32   \n",
       "22                              z   float32   \n",
       "23                              r   float32   \n",
       "24                        z_naive   float32   \n",
       "25                        r_naive   float32   \n",
       "26  r_field_distortion_correction   float32   \n",
       "27                          theta   float32   \n",
       "28                            cs1   float32   \n",
       "29                            cs2   float32   \n",
       "30                        e_light   float32   \n",
       "31                       e_charge   float32   \n",
       "32                          e_ces   float32   \n",
       "\n",
       "                                                             Comment  \n",
       "0                                       Event number in this dataset  \n",
       "1                        Event start time in ns since the unix epoch  \n",
       "2                          Event end time in ns since the unix epoch  \n",
       "3                                       Number of peaks in the event  \n",
       "4                            Drift time between main S1 and S2 in ns  \n",
       "5                                                 Main S1 peak index  \n",
       "6                                     Main S1 area (PE), uncorrected  \n",
       "7                                          Main S1 area fraction top  \n",
       "8                                       Main S1 width (ns, 50% area)  \n",
       "9                                  Main S1 number of competing peaks  \n",
       "10                                                Main S2 peak index  \n",
       "11                                    Main S2 area (PE), uncorrected  \n",
       "12                                         Main S2 area fraction top  \n",
       "13                                      Main S2 width (ns, 50% area)  \n",
       "14                                 Main S2 number of competing peaks  \n",
       "15                Main S2 reconstructed X position (cm), uncorrected  \n",
       "16                Main S2 reconstructed Y position (cm), uncorrected  \n",
       "17                  Largest other S2 area (PE) in event, uncorrected  \n",
       "18                  Largest other S1 area (PE) in event, uncorrected  \n",
       "19                                    Drift time with alternative s1  \n",
       "20           Interaction x-position, field-distortion corrected (cm)  \n",
       "21           Interaction y-position, field-distortion corrected (cm)  \n",
       "22           Interaction z-position, field-distortion corrected (cm)  \n",
       "23      Interaction radial position, field-distortion corrected (cm)  \n",
       "24        Interaction z-position using mean drift velocity only (cm)  \n",
       "25  Interaction r-position using observed S2 positions directly (cm)  \n",
       "26             Correction added to r_naive for field distortion (cm)  \n",
       "27                            Interaction angular position (radians)  \n",
       "28                                            Corrected S1 area (PE)  \n",
       "29                                            Corrected S2 area (PE)  \n",
       "30                                      Energy in light signal (keV)  \n",
       "31                                     Energy in charge signal (keV)  \n",
       "32                                          Energy estimate (keV_ee)  "
      ]
     },
     "execution_count": 6,
     "metadata": {},
     "output_type": "execute_result"
    }
   ],
   "source": [
    "st.data_info('event_info')"
   ]
  },
  {
   "cell_type": "markdown",
   "metadata": {},
   "source": [
    "As you can see, `event_info` has a lot more information; let's load that one. You can see from the documentation (TODO link) that `event_info`'s job is to merge the info from `corrected_areas` and other things.\n"
   ]
  },
  {
   "cell_type": "markdown",
   "metadata": {},
   "source": [
    "## Loading data"
   ]
  },
  {
   "cell_type": "markdown",
   "metadata": {},
   "source": [
    "Next, you'll want to select a run. The `select_runs` function will return a dataframe with all available runs; there is a separate tutorial on more advanced use of this. In this demo context, we only have high-level data for the run `180215_1029` available (and low-level data for another):"
   ]
  },
  {
   "cell_type": "code",
   "execution_count": 7,
   "metadata": {},
   "outputs": [
    {
     "name": "stderr",
     "output_type": "stream",
     "text": [
      "Checking data availability: 100%|██████████| 5/5 [00:00<00:00, 39.82it/s]\n"
     ]
    },
    {
     "data": {
      "text/html": [
       "<div>\n",
       "<style scoped>\n",
       "    .dataframe tbody tr th:only-of-type {\n",
       "        vertical-align: middle;\n",
       "    }\n",
       "\n",
       "    .dataframe tbody tr th {\n",
       "        vertical-align: top;\n",
       "    }\n",
       "\n",
       "    .dataframe thead th {\n",
       "        text-align: right;\n",
       "    }\n",
       "</style>\n",
       "<table border=\"1\" class=\"dataframe\">\n",
       "  <thead>\n",
       "    <tr style=\"text-align: right;\">\n",
       "      <th></th>\n",
       "      <th>mode</th>\n",
       "      <th>name</th>\n",
       "      <th>number</th>\n",
       "      <th>tags</th>\n",
       "      <th>event_info_available</th>\n",
       "      <th>raw_records_available</th>\n",
       "      <th>peaks_available</th>\n",
       "      <th>events_available</th>\n",
       "      <th>records_available</th>\n",
       "    </tr>\n",
       "  </thead>\n",
       "  <tbody>\n",
       "    <tr>\n",
       "      <th>0</th>\n",
       "      <td></td>\n",
       "      <td>180215_1029</td>\n",
       "      <td>1802151029</td>\n",
       "      <td></td>\n",
       "      <td>True</td>\n",
       "      <td>False</td>\n",
       "      <td>True</td>\n",
       "      <td>True</td>\n",
       "      <td>False</td>\n",
       "    </tr>\n",
       "    <tr>\n",
       "      <th>1</th>\n",
       "      <td></td>\n",
       "      <td>180423_1021</td>\n",
       "      <td>1804231021</td>\n",
       "      <td></td>\n",
       "      <td>False</td>\n",
       "      <td>True</td>\n",
       "      <td>False</td>\n",
       "      <td>False</td>\n",
       "      <td>False</td>\n",
       "    </tr>\n",
       "  </tbody>\n",
       "</table>\n",
       "</div>"
      ],
      "text/plain": [
       "  mode         name      number tags  event_info_available  \\\n",
       "0       180215_1029  1802151029                       True   \n",
       "1       180423_1021  1804231021                      False   \n",
       "\n",
       "   raw_records_available  peaks_available  events_available  records_available  \n",
       "0                  False             True              True              False  \n",
       "1                   True            False             False              False  "
      ]
     },
     "execution_count": 7,
     "metadata": {},
     "output_type": "execute_result"
    }
   ],
   "source": [
    "st.select_runs()"
   ]
  },
  {
   "cell_type": "markdown",
   "metadata": {},
   "source": [
    "So lets' take that 180215_1029.\n",
    "\n",
    "To actually load data, you use `get_df` to get a pandas DataFrame, or `get_array` to get a numpy (structured) array. Let's go with pandas for now:"
   ]
  },
  {
   "cell_type": "code",
   "execution_count": 8,
   "metadata": {
    "scrolled": false
   },
   "outputs": [],
   "source": [
    "run_id = '180215_1029'\n",
    "df = st.get_df(run_id, 'event_info')"
   ]
  },
  {
   "cell_type": "markdown",
   "metadata": {},
   "source": [
    "The first time you run this, it will take a moment: it has to actually process the data somewhat. We didn't ship highest-level demo data with straxen: that would mean we'd have to constantly update the test data when the algorithms change.\n",
    "\n",
    "Just like hax.minitrees.load, we got a dataframe back. You can specify a list of runid's instead of one run, and get the concatenated result back.\n",
    "\n",
    "Though it's not related to strax, let's make a quick plot of the events we just loaded:"
   ]
  },
  {
   "cell_type": "code",
   "execution_count": 9,
   "metadata": {},
   "outputs": [
    {
     "data": {
      "image/png": "[encoded data removed]",
      "text/plain": [
       "<Figure size 432x288 with 2 Axes>"
      ]
     },
     "metadata": {},
     "output_type": "display_data"
    }
   ],
   "source": [
    "import matplotlib.pyplot as plt\n",
    "%matplotlib inline\n",
    "\n",
    "def event_plot(df):\n",
    "    plt.scatter(df.cs1, df.cs2,\n",
    "                c=df.s1_area_fraction_top,\n",
    "                vmin=0, vmax=0.3, \n",
    "                s=10,\n",
    "                cmap=plt.cm.jet,\n",
    "                marker='.', edgecolors='none')\n",
    "    plt.colorbar(label=\"S1 area fraction top\", extend='max')\n",
    "    plt.xlabel('cS1 (PE)')\n",
    "    plt.ylabel('cS2 (PE)')\n",
    "    plt.xscale('symlog')\n",
    "    plt.yscale('log')\n",
    "    plt.ylim(1e2, 1e7)\n",
    "    \n",
    "event_plot(df)"
   ]
  },
  {
   "cell_type": "markdown",
   "metadata": {},
   "source": [
    "Can you guess what kind of data this is?"
   ]
  },
  {
   "cell_type": "markdown",
   "metadata": {},
   "source": [
    "## Waveform analysis"
   ]
  },
  {
   "cell_type": "markdown",
   "metadata": {},
   "source": [
    "The *peaks* data type contains the sum waveform information:"
   ]
  },
  {
   "cell_type": "code",
   "execution_count": 10,
   "metadata": {},
   "outputs": [
    {
     "data": {
      "text/html": [
       "<div>\n",
       "<style scoped>\n",
       "    .dataframe tbody tr th:only-of-type {\n",
       "        vertical-align: middle;\n",
       "    }\n",
       "\n",
       "    .dataframe tbody tr th {\n",
       "        vertical-align: top;\n",
       "    }\n",
       "\n",
       "    .dataframe thead th {\n",
       "        text-align: right;\n",
       "    }\n",
       "</style>\n",
       "<table border=\"1\" class=\"dataframe\">\n",
       "  <thead>\n",
       "    <tr style=\"text-align: right;\">\n",
       "      <th></th>\n",
       "      <th>Field name</th>\n",
       "      <th>Data type</th>\n",
       "      <th>Comment</th>\n",
       "    </tr>\n",
       "  </thead>\n",
       "  <tbody>\n",
       "    <tr>\n",
       "      <th>0</th>\n",
       "      <td>channel</td>\n",
       "      <td>int16</td>\n",
       "      <td>Channel/PMT number</td>\n",
       "    </tr>\n",
       "    <tr>\n",
       "      <th>1</th>\n",
       "      <td>dt</td>\n",
       "      <td>int16</td>\n",
       "      <td>Time resolution in ns</td>\n",
       "    </tr>\n",
       "    <tr>\n",
       "      <th>2</th>\n",
       "      <td>time</td>\n",
       "      <td>int64</td>\n",
       "      <td>Start time of the interval (ns since unix epoch)</td>\n",
       "    </tr>\n",
       "    <tr>\n",
       "      <th>3</th>\n",
       "      <td>length</td>\n",
       "      <td>int32</td>\n",
       "      <td>Length of the interval in samples</td>\n",
       "    </tr>\n",
       "    <tr>\n",
       "      <th>4</th>\n",
       "      <td>area</td>\n",
       "      <td>float32</td>\n",
       "      <td>Integral across channels in photoelectrons</td>\n",
       "    </tr>\n",
       "    <tr>\n",
       "      <th>5</th>\n",
       "      <td>area_per_channel</td>\n",
       "      <td>('&lt;f4', (248,))</td>\n",
       "      <td>Integral per channel in PE</td>\n",
       "    </tr>\n",
       "    <tr>\n",
       "      <th>6</th>\n",
       "      <td>n_hits</td>\n",
       "      <td>int32</td>\n",
       "      <td>Number of hits from which peak was constructed (currently zero if peak is split afterwards)</td>\n",
       "    </tr>\n",
       "    <tr>\n",
       "      <th>7</th>\n",
       "      <td>data</td>\n",
       "      <td>('&lt;f4', (200,))</td>\n",
       "      <td>Waveform data in PE/sample (not PE/ns!)</td>\n",
       "    </tr>\n",
       "    <tr>\n",
       "      <th>8</th>\n",
       "      <td>width</td>\n",
       "      <td>('&lt;f4', (11,))</td>\n",
       "      <td>Peak widths in ns: range of central area fraction</td>\n",
       "    </tr>\n",
       "    <tr>\n",
       "      <th>9</th>\n",
       "      <td>area_decile_from_midpoint</td>\n",
       "      <td>('&lt;f4', (11,))</td>\n",
       "      <td>Peak widths in ns: area from midpoint</td>\n",
       "    </tr>\n",
       "    <tr>\n",
       "      <th>10</th>\n",
       "      <td>saturated_channel</td>\n",
       "      <td>('&lt;i2', (248,))</td>\n",
       "      <td>Check if channel is saturated</td>\n",
       "    </tr>\n",
       "    <tr>\n",
       "      <th>11</th>\n",
       "      <td>n_saturated_channels</td>\n",
       "      <td>int16</td>\n",
       "      <td>Total number of saturated channels</td>\n",
       "    </tr>\n",
       "  </tbody>\n",
       "</table>\n",
       "</div>"
      ],
      "text/plain": [
       "                   Field name        Data type  \\\n",
       "0                     channel            int16   \n",
       "1                          dt            int16   \n",
       "2                        time            int64   \n",
       "3                      length            int32   \n",
       "4                        area          float32   \n",
       "5            area_per_channel  ('<f4', (248,))   \n",
       "6                      n_hits            int32   \n",
       "7                        data  ('<f4', (200,))   \n",
       "8                       width   ('<f4', (11,))   \n",
       "9   area_decile_from_midpoint   ('<f4', (11,))   \n",
       "10          saturated_channel  ('<i2', (248,))   \n",
       "11       n_saturated_channels            int16   \n",
       "\n",
       "                                                                                        Comment  \n",
       "0                                                                            Channel/PMT number  \n",
       "1                                                                         Time resolution in ns  \n",
       "2                                              Start time of the interval (ns since unix epoch)  \n",
       "3                                                             Length of the interval in samples  \n",
       "4                                                    Integral across channels in photoelectrons  \n",
       "5                                                                    Integral per channel in PE  \n",
       "6   Number of hits from which peak was constructed (currently zero if peak is split afterwards)  \n",
       "7                                                       Waveform data in PE/sample (not PE/ns!)  \n",
       "8                                             Peak widths in ns: range of central area fraction  \n",
       "9                                                         Peak widths in ns: area from midpoint  \n",
       "10                                                                Check if channel is saturated  \n",
       "11                                                           Total number of saturated channels  "
      ]
     },
     "execution_count": 10,
     "metadata": {},
     "output_type": "execute_result"
    }
   ],
   "source": [
    "st.data_info('peaks')"
   ]
  },
  {
   "cell_type": "markdown",
   "metadata": {},
   "source": [
    "Notice the compound data types of the `data`, `width` and `saturated_channel` fields. Pandas does not support such types (well, it sort of does, but the resulting dataframes are quite inefficient), so we have to load this as a numpy array:"
   ]
  },
  {
   "cell_type": "code",
   "execution_count": 11,
   "metadata": {},
   "outputs": [
    {
     "data": {
      "text/plain": [
       "(numpy.ndarray,\n",
       " ('channel',\n",
       "  'dt',\n",
       "  'time',\n",
       "  'length',\n",
       "  'area',\n",
       "  'area_per_channel',\n",
       "  'n_hits',\n",
       "  'data',\n",
       "  'width',\n",
       "  'area_decile_from_midpoint',\n",
       "  'saturated_channel',\n",
       "  'n_saturated_channels'))"
      ]
     },
     "execution_count": 11,
     "metadata": {},
     "output_type": "execute_result"
    }
   ],
   "source": [
    "peaks = st.get_array(run_id, 'peaks')\n",
    "type(peaks), peaks.dtype.names"
   ]
  },
  {
   "cell_type": "markdown",
   "metadata": {},
   "source": [
    "Now we can plot peak waveforms:"
   ]
  },
  {
   "cell_type": "code",
   "execution_count": 13,
   "metadata": {},
   "outputs": [
    {
     "data": {
      "image/png": "[encoded data removed]",
      "text/plain": [
       "<Figure size 432x288 with 1 Axes>"
      ]
     },
     "metadata": {},
     "output_type": "display_data"
    }
   ],
   "source": [
    "def plot_peak(p, t0=None, **kwargs):\n",
    "    n = p['length']\n",
    "    if t0 is None:\n",
    "        t0 = p['time']\n",
    "    plt.plot((p['time'] - t0) + np.arange(n) * p['dt'], \n",
    "             p['data'][:n] / p['dt'], \n",
    "             linestyle='steps-mid',\n",
    "             **kwargs)\n",
    "    plt.xlabel(\"Time (ns)\")\n",
    "    plt.ylabel(\"Sum waveform (PE / ns)\")\n",
    "\n",
    "plot_peak(peaks[3141])"
   ]
  },
  {
   "cell_type": "code",
   "execution_count": 14,
   "metadata": {},
   "outputs": [
    {
     "data": {
      "image/png": "[encoded data removed]",
      "text/plain": [
       "<Figure size 432x288 with 1 Axes>"
      ]
     },
     "metadata": {},
     "output_type": "display_data"
    }
   ],
   "source": [
    "def plot_peaks(main_i, n_before=0, n_after=0, label_threshold=0):\n",
    "    for i in main_i + np.arange(-n_before, n_after + 1):\n",
    "        p = peaks[i]\n",
    "        label = None\n",
    "        if p['area'] > label_threshold:\n",
    "            label = '%d PE, %d ns dt' % (p['area'], p['dt'], )\n",
    "            color = None\n",
    "        else:\n",
    "            color = 'gray'\n",
    "        plot_peak(p,\n",
    "                  t0=peaks[main_i]['time'],\n",
    "                  label=label,\n",
    "                  color=color)\n",
    "    plt.ylim(0, None)\n",
    "    plt.legend(loc='best')\n",
    "    plt.yscale('symlog')\n",
    "\n",
    "plot_peaks(23607, n_after=0, n_before=13, label_threshold=10)"
   ]
  },
  {
   "cell_type": "markdown",
   "metadata": {},
   "source": [
    "The abrupt termination of the S2 above is due to strax's data reduction."
   ]
  },
  {
   "cell_type": "markdown",
   "metadata": {},
   "source": [
    "## Configuration changes"
   ]
  },
  {
   "cell_type": "markdown",
   "metadata": {},
   "source": [
    "As you can see in the above plot, we have many events high up in the TPC at low S1. Perhaps you want to get rid of them by increasing the 'S1 coincidence requirement', i.e. the number of PMTs that must see something before a peak is labeled as S1. Then, of course, you want to load the event-level data again to see if it worked."
   ]
  },
  {
   "cell_type": "markdown",
   "metadata": {},
   "source": [
    "First, we need to see which configuration option we have to change. Strax plugins declare what configuration they take and what other plugins they depend on, so this is not very difficult. We just ask which options with `s1` in their name influence `event_basics`:"
   ]
  },
  {
   "cell_type": "code",
   "execution_count": 15,
   "metadata": {},
   "outputs": [
    {
     "data": {
      "text/html": [
       "<div>\n",
       "<style scoped>\n",
       "    .dataframe tbody tr th:only-of-type {\n",
       "        vertical-align: middle;\n",
       "    }\n",
       "\n",
       "    .dataframe tbody tr th {\n",
       "        vertical-align: top;\n",
       "    }\n",
       "\n",
       "    .dataframe thead th {\n",
       "        text-align: right;\n",
       "    }\n",
       "</style>\n",
       "<table border=\"1\" class=\"dataframe\">\n",
       "  <thead>\n",
       "    <tr style=\"text-align: right;\">\n",
       "      <th></th>\n",
       "      <th>option</th>\n",
       "      <th>default</th>\n",
       "      <th>current</th>\n",
       "      <th>applies_to</th>\n",
       "      <th>help</th>\n",
       "    </tr>\n",
       "  </thead>\n",
       "  <tbody>\n",
       "    <tr>\n",
       "      <th>0</th>\n",
       "      <td>s1_max_width</td>\n",
       "      <td>150</td>\n",
       "      <td>&lt;OMITTED&gt;</td>\n",
       "      <td>peak_classification</td>\n",
       "      <td>Maximum (IQR) width of S1s</td>\n",
       "    </tr>\n",
       "    <tr>\n",
       "      <th>1</th>\n",
       "      <td>s1_min_n_channels</td>\n",
       "      <td>3</td>\n",
       "      <td>&lt;OMITTED&gt;</td>\n",
       "      <td>peak_classification</td>\n",
       "      <td>Minimum number of PMTs that must contribute to a S1</td>\n",
       "    </tr>\n",
       "  </tbody>\n",
       "</table>\n",
       "</div>"
      ],
      "text/plain": [
       "              option  default    current           applies_to  \\\n",
       "0       s1_max_width      150  <OMITTED>  peak_classification   \n",
       "1  s1_min_n_channels        3  <OMITTED>  peak_classification   \n",
       "\n",
       "                                                  help  \n",
       "0                           Maximum (IQR) width of S1s  \n",
       "1  Minimum number of PMTs that must contribute to a S1  "
      ]
     },
     "execution_count": 15,
     "metadata": {},
     "output_type": "execute_result"
    }
   ],
   "source": [
    "st.show_config('event_basics', 's1*')"
   ]
  },
  {
   "cell_type": "markdown",
   "metadata": {},
   "source": [
    "Looks like we're after the `s1_min_n_channels option`. Note this is not part of the `event_basics` data type, but of a data type called `peak_classification`. As you can see from the table, this option is not set in the current context, so the default value (3) is used.\n",
    "\n",
    "To try out a different option, just pass it to get_df:"
   ]
  },
  {
   "cell_type": "code",
   "execution_count": 16,
   "metadata": {},
   "outputs": [
    {
     "data": {
      "image/png": "[encoded data removed]",
      "text/plain": [
       "<Figure size 432x288 with 2 Axes>"
      ]
     },
     "metadata": {},
     "output_type": "display_data"
    }
   ],
   "source": [
    "df_2 = st.get_df(run_id, 'event_info',\n",
    "                 config=dict(s1_min_n_channels=50))\n",
    "event_plot(df_2)"
   ]
  },
  {
   "cell_type": "markdown",
   "metadata": {},
   "source": [
    "Notice all the small S1 events are indeed gone now.\n",
    "\n",
    "Behind the scenes, this figured out which dataframes had to be remade: as it happens this time just `event_basics` and `peak_basics`. You will now have a new `event_basics_<somehash>` folder in `./custom_data` which contains the results, as well as a new `peak_basics_<somehash> folder`."
   ]
  },
  {
   "cell_type": "markdown",
   "metadata": {},
   "source": [
    "### More on configuration changes"
   ]
  },
  {
   "cell_type": "markdown",
   "metadata": {},
   "source": [
    "Changing configuration can be done in two other ways. We can change it permanently in the current context:\n",
    "```python\n",
    "st.set_config(dict(s1_min_channels=50))\n",
    "```\n",
    "Or we could make a new context, with this option set:\n",
    "```python\n",
    "st_2 = st.new_context(config=dict(s1_min_channels=50))\n",
    "```\n",
    "(feeding it to get_df just does the latter behind the scenes)."
   ]
  },
  {
   "cell_type": "markdown",
   "metadata": {},
   "source": [
    "Strax protects you from typos in the configuration. Suppose we typed `s1_min_n_channelz` instead:"
   ]
  },
  {
   "cell_type": "code",
   "execution_count": 17,
   "metadata": {},
   "outputs": [
    {
     "name": "stderr",
     "output_type": "stream",
     "text": [
      "/home/jelle/software/strax/strax/context.py:330: UserWarning: Option s1_min_n_channelz not taken by any registered plugin\n",
      "  warnings.warn(f\"Option {k} not taken by any registered plugin\")\n"
     ]
    },
    {
     "data": {
      "image/png": "[encoded data removed]",
      "text/plain": [
       "<Figure size 432x288 with 2 Axes>"
      ]
     },
     "metadata": {},
     "output_type": "display_data"
    }
   ],
   "source": [
    "df_2 = st.get_df(run_id, 'event_info',\n",
    "                 config=dict(s1_min_n_channelz=10))\n",
    "event_plot(df_2)"
   ]
  },
  {
   "cell_type": "markdown",
   "metadata": {},
   "source": [
    "The result of get_df is just the same as if the option wasn't set (just like in pax/hax), but you also get a warning about an unknown configuration option. \n",
    "\n",
    "By the way, you can use \n",
    "```python\n",
    "import warnings\n",
    "warnings.filterwarnings(\"error\")\n",
    "```\n",
    "to ensure any warning raises an exception instead."
   ]
  },
  {
   "cell_type": "markdown",
   "metadata": {},
   "source": [
    "## Customization: new plugins"
   ]
  },
  {
   "cell_type": "markdown",
   "metadata": {},
   "source": [
    "To add or change processing algorithms, or to define new variables to use in cuts, you have to write new strax plugins. These are somewhat similar to hax's treemakers.\n",
    "\n",
    "Suppose you have a brilliant new idea for peak classification:"
   ]
  },
  {
   "cell_type": "code",
   "execution_count": 18,
   "metadata": {},
   "outputs": [],
   "source": [
    "import strax\n",
    "import numpy as np\n",
    "\n",
    "class AdvancedExpertClassification(strax.Plugin):\n",
    "    \"\"\"Everything is an S1!\"\"\"\n",
    "    \n",
    "    # Name of the data type this plugin provides\n",
    "    provides = 'peak_classification'\n",
    "    \n",
    "    # Data types this plugin requires. Note we don't specify\n",
    "    # what plugins should produce them: maybe the default PeakBasics\n",
    "    # has been replaced by another AdvancedExpertBlabla plugin?\n",
    "    depends_on = ('peak_basics',)\n",
    "    \n",
    "    # Numpy datatype of the output \n",
    "    dtype = straxen.plugins.plugins.PeakClassification.dtype\n",
    "    \n",
    "    # Version of the plugin. Increment this if you change the algorithm.\n",
    "    __version__ = '0.0.1'\n",
    "\n",
    "    def compute(self, peaks):\n",
    "        # Your code here.\n",
    "        # This function will be called several times with \n",
    "        # 'peaks' a numpy array of the datatype 'peaks'.\n",
    "        # Each time you'll see a small part of the run.\n",
    "        \n",
    "        # You have to return a numpy array of the dtype you declared above\n",
    "        # or, which is often easier, a dictionary we can transform into it\n",
    "        # (dict keys -> field names, values -> field values)\n",
    "        return dict(type=np.ones(len(peaks)))"
   ]
  },
  {
   "cell_type": "markdown",
   "metadata": {},
   "source": [
    "Notice the plugin provides 'peak_classification' and produces the same data type as PeakClassification plugin, which in this case is just:"
   ]
  },
  {
   "cell_type": "code",
   "execution_count": 19,
   "metadata": {},
   "outputs": [
    {
     "data": {
      "text/plain": [
       "[('type', numpy.int8, 'Classification of the peak.')]"
      ]
     },
     "execution_count": 19,
     "metadata": {},
     "output_type": "execute_result"
    }
   ],
   "source": [
    "AdvancedExpertClassification.dtype"
   ]
  },
  {
   "cell_type": "markdown",
   "metadata": {},
   "source": [
    "To use it in place of PeakClassification, we only have to register it. Again, we can do so permanently using \n",
    "```python\n",
    "st.register(AdvancedExpertClassification)\n",
    "```\n",
    "or temporarily, by feeding the registration as an extra argument to `get_df`:"
   ]
  },
  {
   "cell_type": "code",
   "execution_count": 20,
   "metadata": {},
   "outputs": [],
   "source": [
    "df = st.get_df(run_id, 'event_info',\n",
    "               register=AdvancedExpertClassification)"
   ]
  },
  {
   "cell_type": "code",
   "execution_count": 21,
   "metadata": {},
   "outputs": [
    {
     "data": {
      "text/plain": [
       "0.0"
      ]
     },
     "execution_count": 21,
     "metadata": {},
     "output_type": "execute_result"
    }
   ],
   "source": [
    "df['s2_area'].max()"
   ]
  },
  {
   "cell_type": "markdown",
   "metadata": {},
   "source": [
    "As you can see, all events are now S1-only events, as expected. Maybe this is not the best alternative classification :-)\n",
    "\n",
    "This plugin was the most basic possible plugin. You'll also want to learn about `LoopPlugin`s and `OverlapWindowPlugin`s, but that's beyond the scope of this tutorial."
   ]
  }
 ],
 "metadata": {
  "kernelspec": {
   "display_name": "Python [default]",
   "language": "python",
   "name": "python3"
  },
  "language_info": {
   "codemirror_mode": {
    "name": "ipython",
    "version": 3
   },
   "file_extension": ".py",
   "mimetype": "text/x-python",
   "name": "python",
   "nbconvert_exporter": "python",
   "pygments_lexer": "ipython3",
   "version": "3.6.7"
  }
 },
 "nbformat": 4,
 "nbformat_minor": 2
}
