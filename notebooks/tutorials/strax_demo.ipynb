{
 "cells": [
  {
   "cell_type": "markdown",
   "metadata": {},
   "source": [
    "# Tutorial"
   ]
  },
  {
   "cell_type": "markdown",
   "metadata": {},
   "source": [
    "Jelle, updated May 2020\n",
    "\n",
    "This notebook shows how to do basic analysis with straxen, much like `hax.minitrees`."
   ]
  },
  {
   "cell_type": "markdown",
   "metadata": {},
   "source": [
    "For reference, here are some jargon terms which we will introduce below:\n",
    "\n",
    "  * **Context**: Holds configuration on how to process\n",
    "  * **Dataframe** or **array**: table of related information produced by a plugin.\n",
    "  * **Plugin**: an algorithm that produces a dataframe\n",
    "  * **Data type**: specification of which columns are in a dataframe. \n",
    "  * **Data kind**: e.g. 'events' or 'peaks'. Dataframes of the same kind  have the same number of rows and can be merged.\n"
   ]
  },
  {
   "cell_type": "code",
   "execution_count": 1,
   "metadata": {},
   "outputs": [
    {
     "data": {
      "text/plain": [
       "13"
      ]
     },
     "execution_count": 1,
     "metadata": {},
     "output_type": "execute_result"
    }
   ],
   "source": [
    "12+1"
   ]
  },
  {
   "cell_type": "code",
   "execution_count": 2,
   "metadata": {},
   "outputs": [],
   "source": [
    "import numpy as np\n",
    "# This just ensures some comments in dataframes below display nicely\n",
    "import pandas as pd\n",
    "pd.options.display.max_colwidth = 100"
   ]
  },
  {
   "cell_type": "markdown",
   "metadata": {},
   "source": [
    "## Setting up"
   ]
  },
  {
   "cell_type": "markdown",
   "metadata": {},
   "source": [
    "First we load a strax **context**, much like `hax.init()`. A strax context contains all information on *how* to process: where to read what files from, what plugins provide what data, etc. \n",
    "\n",
    "You can make a context yourselves using `strax.Context`, but straxen provides standardized contexts as well. Most future analyses will use such standardized contexts defined by analysis coordinators or straxen maintainers.\n",
    "\n",
    "Unlike `hax.init`, you can have multiple active contexts, e.g. to load analysis and MC data, or compare data processed with different settings (we will see examples of this below)."
   ]
  },
  {
   "cell_type": "code",
   "execution_count": 3,
   "metadata": {},
   "outputs": [],
   "source": [
    "import straxen\n",
    "st = straxen.contexts.xenon1t_dali()"
   ]
  },
  {
   "cell_type": "markdown",
   "metadata": {},
   "source": [
    "## Finding your data"
   ]
  },
  {
   "cell_type": "markdown",
   "metadata": {},
   "source": [
    "Suposse we want to make a cS1/cS2 plot. We have to figure out which type of **dataframes** to load. A specific type of dataframe is also called a **data type**. (in hax these were called minitrees)\n",
    "\n",
    "We can find this out automatically if we know (part of) the name of a field to load:"
   ]
  },
  {
   "cell_type": "code",
   "execution_count": 4,
   "metadata": {},
   "outputs": [
    {
     "name": "stdout",
     "output_type": "stream",
     "text": [
      "cs1 is part of corrected_areas (provided by CorrectedAreas)\n",
      "cs1 is part of event_info (provided by EventInfo)\n"
     ]
    }
   ],
   "source": [
    "st.search_field('cs1')"
   ]
  },
  {
   "cell_type": "markdown",
   "metadata": {},
   "source": [
    "It seems we're after one of the data types called `event_info` or `corrected_areas`. In the current context, these are provided by **plugins** called EventInfo and CorrectedAreas, respectively (but this doesn't concern us yet). \n",
    "\n",
    "Let's see what else is in these data types:"
   ]
  },
  {
   "cell_type": "code",
   "execution_count": 5,
   "metadata": {},
   "outputs": [
    {
     "data": {
      "text/html": [
       "<div>\n",
       "<style scoped>\n",
       "    .dataframe tbody tr th:only-of-type {\n",
       "        vertical-align: middle;\n",
       "    }\n",
       "\n",
       "    .dataframe tbody tr th {\n",
       "        vertical-align: top;\n",
       "    }\n",
       "\n",
       "    .dataframe thead th {\n",
       "        text-align: right;\n",
       "    }\n",
       "</style>\n",
       "<table border=\"1\" class=\"dataframe\">\n",
       "  <thead>\n",
       "    <tr style=\"text-align: right;\">\n",
       "      <th></th>\n",
       "      <th>Field name</th>\n",
       "      <th>Data type</th>\n",
       "      <th>Comment</th>\n",
       "    </tr>\n",
       "  </thead>\n",
       "  <tbody>\n",
       "    <tr>\n",
       "      <th>0</th>\n",
       "      <td>cs1</td>\n",
       "      <td>float32</td>\n",
       "      <td>Corrected S1 area [PE]</td>\n",
       "    </tr>\n",
       "    <tr>\n",
       "      <th>1</th>\n",
       "      <td>cs2</td>\n",
       "      <td>float32</td>\n",
       "      <td>Corrected S2 area [PE]</td>\n",
       "    </tr>\n",
       "    <tr>\n",
       "      <th>2</th>\n",
       "      <td>alt_cs1</td>\n",
       "      <td>float32</td>\n",
       "      <td>Corrected area of the alternate S1 [PE]</td>\n",
       "    </tr>\n",
       "    <tr>\n",
       "      <th>3</th>\n",
       "      <td>alt_cs2</td>\n",
       "      <td>float32</td>\n",
       "      <td>Corrected area of the alternate S2 [PE]</td>\n",
       "    </tr>\n",
       "    <tr>\n",
       "      <th>4</th>\n",
       "      <td>time</td>\n",
       "      <td>int64</td>\n",
       "      <td>Start time since unix epoch [ns]</td>\n",
       "    </tr>\n",
       "    <tr>\n",
       "      <th>...</th>\n",
       "      <td>...</td>\n",
       "      <td>...</td>\n",
       "      <td>...</td>\n",
       "    </tr>\n",
       "    <tr>\n",
       "      <th>59</th>\n",
       "      <td>z_naive</td>\n",
       "      <td>float32</td>\n",
       "      <td>Interaction z-position using mean drift velocity only (cm)</td>\n",
       "    </tr>\n",
       "    <tr>\n",
       "      <th>60</th>\n",
       "      <td>r_naive</td>\n",
       "      <td>float32</td>\n",
       "      <td>Interaction r-position using observed S2 positions directly (cm)</td>\n",
       "    </tr>\n",
       "    <tr>\n",
       "      <th>61</th>\n",
       "      <td>r_field_distortion_correction</td>\n",
       "      <td>float32</td>\n",
       "      <td>Correction added to r_naive for field distortion (cm)</td>\n",
       "    </tr>\n",
       "    <tr>\n",
       "      <th>62</th>\n",
       "      <td>theta</td>\n",
       "      <td>float32</td>\n",
       "      <td>Interaction angular position (radians)</td>\n",
       "    </tr>\n",
       "    <tr>\n",
       "      <th>63</th>\n",
       "      <td>event_number</td>\n",
       "      <td>int64</td>\n",
       "      <td>Event number in this dataset</td>\n",
       "    </tr>\n",
       "  </tbody>\n",
       "</table>\n",
       "<p>64 rows × 3 columns</p>\n",
       "</div>"
      ],
      "text/plain": [
       "                       Field name Data type  \\\n",
       "0                             cs1   float32   \n",
       "1                             cs2   float32   \n",
       "2                         alt_cs1   float32   \n",
       "3                         alt_cs2   float32   \n",
       "4                            time     int64   \n",
       "..                            ...       ...   \n",
       "59                        z_naive   float32   \n",
       "60                        r_naive   float32   \n",
       "61  r_field_distortion_correction   float32   \n",
       "62                          theta   float32   \n",
       "63                   event_number     int64   \n",
       "\n",
       "                                                             Comment  \n",
       "0                                             Corrected S1 area [PE]  \n",
       "1                                             Corrected S2 area [PE]  \n",
       "2                            Corrected area of the alternate S1 [PE]  \n",
       "3                            Corrected area of the alternate S2 [PE]  \n",
       "4                                   Start time since unix epoch [ns]  \n",
       "..                                                               ...  \n",
       "59        Interaction z-position using mean drift velocity only (cm)  \n",
       "60  Interaction r-position using observed S2 positions directly (cm)  \n",
       "61             Correction added to r_naive for field distortion (cm)  \n",
       "62                            Interaction angular position (radians)  \n",
       "63                                      Event number in this dataset  \n",
       "\n",
       "[64 rows x 3 columns]"
      ]
     },
     "execution_count": 5,
     "metadata": {},
     "output_type": "execute_result"
    }
   ],
   "source": [
    "st.data_info('event_info')"
   ]
  },
  {
   "cell_type": "markdown",
   "metadata": {},
   "source": [
    "As you can see, `event_info` has a lot more information; let's load that one. You can see from the documentation (TODO link) that `event_info`'s job is to merge the info from `corrected_areas` and other things.\n"
   ]
  },
  {
   "cell_type": "markdown",
   "metadata": {},
   "source": [
    "## Loading data"
   ]
  },
  {
   "cell_type": "markdown",
   "metadata": {},
   "source": [
    "Next, you'll want to select a run. The `select_runs` function will return a dataframe with all available runs; there is a separate tutorial on more advanced use of this. In this demo context, we only have high-level data for the run `180215_1029` available (and low-level data for another):"
   ]
  },
  {
   "cell_type": "code",
   "execution_count": 6,
   "metadata": {},
   "outputs": [
    {
     "name": "stderr",
     "output_type": "stream",
     "text": [
      "Checking data availability: 100%|██████████| 5/5 [00:38<00:00,  7.60s/it]\n"
     ]
    },
    {
     "data": {
      "text/html": [
       "<div>\n",
       "<style scoped>\n",
       "    .dataframe tbody tr th:only-of-type {\n",
       "        vertical-align: middle;\n",
       "    }\n",
       "\n",
       "    .dataframe tbody tr th {\n",
       "        vertical-align: top;\n",
       "    }\n",
       "\n",
       "    .dataframe thead th {\n",
       "        text-align: right;\n",
       "    }\n",
       "</style>\n",
       "<table border=\"1\" class=\"dataframe\">\n",
       "  <thead>\n",
       "    <tr style=\"text-align: right;\">\n",
       "      <th></th>\n",
       "      <th>name</th>\n",
       "      <th>number</th>\n",
       "      <th>start</th>\n",
       "      <th>reader.ini.name</th>\n",
       "      <th>trigger.events_built</th>\n",
       "      <th>end</th>\n",
       "      <th>tags</th>\n",
       "      <th>mode</th>\n",
       "      <th>livetime</th>\n",
       "      <th>tags.name</th>\n",
       "      <th>events_available</th>\n",
       "      <th>event_info_available</th>\n",
       "      <th>peaklets_available</th>\n",
       "      <th>records_available</th>\n",
       "      <th>raw_records_available</th>\n",
       "    </tr>\n",
       "  </thead>\n",
       "  <tbody>\n",
       "    <tr>\n",
       "      <th>0</th>\n",
       "      <td>170204_1410</td>\n",
       "      <td>6786</td>\n",
       "      <td>2017-02-04 14:10:08+00:00</td>\n",
       "      <td>background_stable</td>\n",
       "      <td>19574</td>\n",
       "      <td>2017-02-04 15:10:13+00:00</td>\n",
       "      <td>blinded,_sciencerun1_candidate,_sciencerun1</td>\n",
       "      <td>background_stable</td>\n",
       "      <td>01:00:05</td>\n",
       "      <td>NaN</td>\n",
       "      <td>True</td>\n",
       "      <td>True</td>\n",
       "      <td>True</td>\n",
       "      <td>True</td>\n",
       "      <td>True</td>\n",
       "    </tr>\n",
       "    <tr>\n",
       "      <th>1</th>\n",
       "      <td>170204_1510</td>\n",
       "      <td>6787</td>\n",
       "      <td>2017-02-04 15:10:28+00:00</td>\n",
       "      <td>background_stable</td>\n",
       "      <td>19634</td>\n",
       "      <td>2017-02-04 16:10:32+00:00</td>\n",
       "      <td>blinded,_sciencerun1_candidate,_sciencerun1</td>\n",
       "      <td>background_stable</td>\n",
       "      <td>01:00:04</td>\n",
       "      <td>NaN</td>\n",
       "      <td>True</td>\n",
       "      <td>True</td>\n",
       "      <td>True</td>\n",
       "      <td>True</td>\n",
       "      <td>True</td>\n",
       "    </tr>\n",
       "    <tr>\n",
       "      <th>2</th>\n",
       "      <td>170204_1610</td>\n",
       "      <td>6788</td>\n",
       "      <td>2017-02-04 16:10:39+00:00</td>\n",
       "      <td>background_stable</td>\n",
       "      <td>19400</td>\n",
       "      <td>2017-02-04 17:10:43+00:00</td>\n",
       "      <td>blinded,_sciencerun1_candidate,_sciencerun1</td>\n",
       "      <td>background_stable</td>\n",
       "      <td>01:00:04</td>\n",
       "      <td>NaN</td>\n",
       "      <td>True</td>\n",
       "      <td>True</td>\n",
       "      <td>True</td>\n",
       "      <td>True</td>\n",
       "      <td>True</td>\n",
       "    </tr>\n",
       "    <tr>\n",
       "      <th>3</th>\n",
       "      <td>170204_1710</td>\n",
       "      <td>6789</td>\n",
       "      <td>2017-02-04 17:10:51+00:00</td>\n",
       "      <td>background_stable</td>\n",
       "      <td>19415</td>\n",
       "      <td>2017-02-04 18:10:54+00:00</td>\n",
       "      <td>blinded,_sciencerun1_candidate,_sciencerun1</td>\n",
       "      <td>background_stable</td>\n",
       "      <td>01:00:03</td>\n",
       "      <td>NaN</td>\n",
       "      <td>True</td>\n",
       "      <td>True</td>\n",
       "      <td>True</td>\n",
       "      <td>True</td>\n",
       "      <td>True</td>\n",
       "    </tr>\n",
       "    <tr>\n",
       "      <th>4</th>\n",
       "      <td>170204_1810</td>\n",
       "      <td>6790</td>\n",
       "      <td>2017-02-04 18:11:01+00:00</td>\n",
       "      <td>background_stable</td>\n",
       "      <td>19671</td>\n",
       "      <td>2017-02-04 19:11:05+00:00</td>\n",
       "      <td>blinded,_sciencerun1_candidate,_sciencerun1</td>\n",
       "      <td>background_stable</td>\n",
       "      <td>01:00:04</td>\n",
       "      <td>NaN</td>\n",
       "      <td>True</td>\n",
       "      <td>True</td>\n",
       "      <td>True</td>\n",
       "      <td>True</td>\n",
       "      <td>True</td>\n",
       "    </tr>\n",
       "    <tr>\n",
       "      <th>...</th>\n",
       "      <td>...</td>\n",
       "      <td>...</td>\n",
       "      <td>...</td>\n",
       "      <td>...</td>\n",
       "      <td>...</td>\n",
       "      <td>...</td>\n",
       "      <td>...</td>\n",
       "      <td>...</td>\n",
       "      <td>...</td>\n",
       "      <td>...</td>\n",
       "      <td>...</td>\n",
       "      <td>...</td>\n",
       "      <td>...</td>\n",
       "      <td>...</td>\n",
       "      <td>...</td>\n",
       "    </tr>\n",
       "    <tr>\n",
       "      <th>211</th>\n",
       "      <td>181027_2044</td>\n",
       "      <td>23315</td>\n",
       "      <td>2018-10-27 20:44:21+00:00</td>\n",
       "      <td>ar37_stable</td>\n",
       "      <td>36496</td>\n",
       "      <td>2018-10-27 21:44:25+00:00</td>\n",
       "      <td>Kr83m,_sciencerun2_candidate,_sciencerun2_preliminary</td>\n",
       "      <td>ar37_stable</td>\n",
       "      <td>01:00:04</td>\n",
       "      <td>NaN</td>\n",
       "      <td>True</td>\n",
       "      <td>True</td>\n",
       "      <td>True</td>\n",
       "      <td>True</td>\n",
       "      <td>True</td>\n",
       "    </tr>\n",
       "    <tr>\n",
       "      <th>212</th>\n",
       "      <td>181027_2144</td>\n",
       "      <td>23316</td>\n",
       "      <td>2018-10-27 21:44:33+00:00</td>\n",
       "      <td>ar37_stable</td>\n",
       "      <td>36330</td>\n",
       "      <td>2018-10-27 22:44:35+00:00</td>\n",
       "      <td>Kr83m,_sciencerun2_candidate,_sciencerun2_preliminary</td>\n",
       "      <td>ar37_stable</td>\n",
       "      <td>01:00:02</td>\n",
       "      <td>NaN</td>\n",
       "      <td>True</td>\n",
       "      <td>True</td>\n",
       "      <td>True</td>\n",
       "      <td>True</td>\n",
       "      <td>True</td>\n",
       "    </tr>\n",
       "    <tr>\n",
       "      <th>213</th>\n",
       "      <td>181027_2244</td>\n",
       "      <td>23317</td>\n",
       "      <td>2018-10-27 22:44:43+00:00</td>\n",
       "      <td>ar37_stable</td>\n",
       "      <td>36486</td>\n",
       "      <td>2018-10-27 23:44:47+00:00</td>\n",
       "      <td>Kr83m,_sciencerun2_candidate,_sciencerun2_preliminary</td>\n",
       "      <td>ar37_stable</td>\n",
       "      <td>01:00:04</td>\n",
       "      <td>NaN</td>\n",
       "      <td>True</td>\n",
       "      <td>True</td>\n",
       "      <td>True</td>\n",
       "      <td>True</td>\n",
       "      <td>True</td>\n",
       "    </tr>\n",
       "    <tr>\n",
       "      <th>214</th>\n",
       "      <td>181027_2344</td>\n",
       "      <td>23318</td>\n",
       "      <td>2018-10-27 23:44:59+00:00</td>\n",
       "      <td>ar37_stable</td>\n",
       "      <td>36777</td>\n",
       "      <td>2018-10-28 00:45:03+00:00</td>\n",
       "      <td>Kr83m,_sciencerun2_candidate,_sciencerun2_preliminary</td>\n",
       "      <td>ar37_stable</td>\n",
       "      <td>01:00:04</td>\n",
       "      <td>NaN</td>\n",
       "      <td>True</td>\n",
       "      <td>True</td>\n",
       "      <td>True</td>\n",
       "      <td>True</td>\n",
       "      <td>True</td>\n",
       "    </tr>\n",
       "    <tr>\n",
       "      <th>215</th>\n",
       "      <td>181028_0045</td>\n",
       "      <td>23319</td>\n",
       "      <td>2018-10-28 00:45:11+00:00</td>\n",
       "      <td>ar37_stable</td>\n",
       "      <td>36708</td>\n",
       "      <td>2018-10-28 01:45:15+00:00</td>\n",
       "      <td>Kr83m,_sciencerun2_candidate,_sciencerun2_preliminary</td>\n",
       "      <td>ar37_stable</td>\n",
       "      <td>01:00:04</td>\n",
       "      <td>NaN</td>\n",
       "      <td>True</td>\n",
       "      <td>True</td>\n",
       "      <td>True</td>\n",
       "      <td>True</td>\n",
       "      <td>True</td>\n",
       "    </tr>\n",
       "  </tbody>\n",
       "</table>\n",
       "<p>216 rows × 15 columns</p>\n",
       "</div>"
      ],
      "text/plain": [
       "            name number                      start    reader.ini.name  \\\n",
       "0    170204_1410   6786  2017-02-04 14:10:08+00:00  background_stable   \n",
       "1    170204_1510   6787  2017-02-04 15:10:28+00:00  background_stable   \n",
       "2    170204_1610   6788  2017-02-04 16:10:39+00:00  background_stable   \n",
       "3    170204_1710   6789  2017-02-04 17:10:51+00:00  background_stable   \n",
       "4    170204_1810   6790  2017-02-04 18:11:01+00:00  background_stable   \n",
       "..           ...    ...                        ...                ...   \n",
       "211  181027_2044  23315  2018-10-27 20:44:21+00:00        ar37_stable   \n",
       "212  181027_2144  23316  2018-10-27 21:44:33+00:00        ar37_stable   \n",
       "213  181027_2244  23317  2018-10-27 22:44:43+00:00        ar37_stable   \n",
       "214  181027_2344  23318  2018-10-27 23:44:59+00:00        ar37_stable   \n",
       "215  181028_0045  23319  2018-10-28 00:45:11+00:00        ar37_stable   \n",
       "\n",
       "    trigger.events_built                        end  \\\n",
       "0                  19574  2017-02-04 15:10:13+00:00   \n",
       "1                  19634  2017-02-04 16:10:32+00:00   \n",
       "2                  19400  2017-02-04 17:10:43+00:00   \n",
       "3                  19415  2017-02-04 18:10:54+00:00   \n",
       "4                  19671  2017-02-04 19:11:05+00:00   \n",
       "..                   ...                        ...   \n",
       "211                36496  2018-10-27 21:44:25+00:00   \n",
       "212                36330  2018-10-27 22:44:35+00:00   \n",
       "213                36486  2018-10-27 23:44:47+00:00   \n",
       "214                36777  2018-10-28 00:45:03+00:00   \n",
       "215                36708  2018-10-28 01:45:15+00:00   \n",
       "\n",
       "                                                      tags               mode  \\\n",
       "0              blinded,_sciencerun1_candidate,_sciencerun1  background_stable   \n",
       "1              blinded,_sciencerun1_candidate,_sciencerun1  background_stable   \n",
       "2              blinded,_sciencerun1_candidate,_sciencerun1  background_stable   \n",
       "3              blinded,_sciencerun1_candidate,_sciencerun1  background_stable   \n",
       "4              blinded,_sciencerun1_candidate,_sciencerun1  background_stable   \n",
       "..                                                     ...                ...   \n",
       "211  Kr83m,_sciencerun2_candidate,_sciencerun2_preliminary        ar37_stable   \n",
       "212  Kr83m,_sciencerun2_candidate,_sciencerun2_preliminary        ar37_stable   \n",
       "213  Kr83m,_sciencerun2_candidate,_sciencerun2_preliminary        ar37_stable   \n",
       "214  Kr83m,_sciencerun2_candidate,_sciencerun2_preliminary        ar37_stable   \n",
       "215  Kr83m,_sciencerun2_candidate,_sciencerun2_preliminary        ar37_stable   \n",
       "\n",
       "    livetime tags.name  events_available  event_info_available  \\\n",
       "0   01:00:05       NaN              True                  True   \n",
       "1   01:00:04       NaN              True                  True   \n",
       "2   01:00:04       NaN              True                  True   \n",
       "3   01:00:03       NaN              True                  True   \n",
       "4   01:00:04       NaN              True                  True   \n",
       "..       ...       ...               ...                   ...   \n",
       "211 01:00:04       NaN              True                  True   \n",
       "212 01:00:02       NaN              True                  True   \n",
       "213 01:00:04       NaN              True                  True   \n",
       "214 01:00:04       NaN              True                  True   \n",
       "215 01:00:04       NaN              True                  True   \n",
       "\n",
       "     peaklets_available  records_available  raw_records_available  \n",
       "0                  True               True                   True  \n",
       "1                  True               True                   True  \n",
       "2                  True               True                   True  \n",
       "3                  True               True                   True  \n",
       "4                  True               True                   True  \n",
       "..                  ...                ...                    ...  \n",
       "211                True               True                   True  \n",
       "212                True               True                   True  \n",
       "213                True               True                   True  \n",
       "214                True               True                   True  \n",
       "215                True               True                   True  \n",
       "\n",
       "[216 rows x 15 columns]"
      ]
     },
     "execution_count": 6,
     "metadata": {},
     "output_type": "execute_result"
    }
   ],
   "source": [
    "st.select_runs()"
   ]
  },
  {
   "cell_type": "markdown",
   "metadata": {},
   "source": [
    "So lets' take that 180215_1029.\n",
    "\n",
    "To actually load data, you use `get_df` to get a pandas DataFrame, or `get_array` to get a numpy (structured) array. Let's go with pandas for now:"
   ]
  },
  {
   "cell_type": "code",
   "execution_count": 7,
   "metadata": {},
   "outputs": [],
   "source": [
    "run_id = '180215_1029'\n",
    "df = st.get_df(run_id, 'event_info')"
   ]
  },
  {
   "cell_type": "markdown",
   "metadata": {},
   "source": [
    "The first time you run this, it will take a moment: it has to actually process the data somewhat. We didn't ship highest-level demo data with straxen: that would mean we'd have to constantly update the test data when the algorithms change.\n",
    "\n",
    "You can also specify a list of runid's instead of one run, and get the concatenated result back. Likewise, you can specify multiple data types (of the same kind) to load, and they will be merged for you.\n",
    "\n",
    "Just like hax.minitrees.load, we got a dataframe back:"
   ]
  },
  {
   "cell_type": "code",
   "execution_count": 8,
   "metadata": {},
   "outputs": [
    {
     "data": {
      "text/html": [
       "<div>\n",
       "<style scoped>\n",
       "    .dataframe tbody tr th:only-of-type {\n",
       "        vertical-align: middle;\n",
       "    }\n",
       "\n",
       "    .dataframe tbody tr th {\n",
       "        vertical-align: top;\n",
       "    }\n",
       "\n",
       "    .dataframe thead th {\n",
       "        text-align: right;\n",
       "    }\n",
       "</style>\n",
       "<table border=\"1\" class=\"dataframe\">\n",
       "  <thead>\n",
       "    <tr style=\"text-align: right;\">\n",
       "      <th></th>\n",
       "      <th>option</th>\n",
       "      <th>default</th>\n",
       "      <th>current</th>\n",
       "      <th>applies_to</th>\n",
       "      <th>help</th>\n",
       "    </tr>\n",
       "  </thead>\n",
       "  <tbody>\n",
       "    <tr>\n",
       "      <th>0</th>\n",
       "      <td>trigger_min_area</td>\n",
       "      <td>100</td>\n",
       "      <td>&lt;OMITTED&gt;</td>\n",
       "      <td>(events,)</td>\n",
       "      <td>Peaks must have more area (PE) than this to cause events</td>\n",
       "    </tr>\n",
       "    <tr>\n",
       "      <th>1</th>\n",
       "      <td>trigger_max_competing</td>\n",
       "      <td>7</td>\n",
       "      <td>&lt;OMITTED&gt;</td>\n",
       "      <td>(events,)</td>\n",
       "      <td>Peaks must have FEWER nearby larger or slightly smaller peaks to cause events</td>\n",
       "    </tr>\n",
       "    <tr>\n",
       "      <th>2</th>\n",
       "      <td>left_event_extension</td>\n",
       "      <td>1000000</td>\n",
       "      <td>&lt;OMITTED&gt;</td>\n",
       "      <td>(events,)</td>\n",
       "      <td>Extend events this many ns to the left from each triggering peak</td>\n",
       "    </tr>\n",
       "    <tr>\n",
       "      <th>3</th>\n",
       "      <td>right_event_extension</td>\n",
       "      <td>1000000</td>\n",
       "      <td>&lt;OMITTED&gt;</td>\n",
       "      <td>(events,)</td>\n",
       "      <td>Extend events this many ns to the right from each triggering peak</td>\n",
       "    </tr>\n",
       "    <tr>\n",
       "      <th>4</th>\n",
       "      <td>n_top_pmts</td>\n",
       "      <td>127</td>\n",
       "      <td>&lt;OMITTED&gt;</td>\n",
       "      <td>(peak_basics,)</td>\n",
       "      <td>Number of top PMTs</td>\n",
       "    </tr>\n",
       "    <tr>\n",
       "      <th>...</th>\n",
       "      <td>...</td>\n",
       "      <td>...</td>\n",
       "      <td>...</td>\n",
       "      <td>...</td>\n",
       "      <td>...</td>\n",
       "    </tr>\n",
       "    <tr>\n",
       "      <th>56</th>\n",
       "      <td>s2_relative_lce_map</td>\n",
       "      <td>https://raw.githubusercontent.com/XENON1T/pax/master/pax/data/XENON1T_s2_xy_ly_SR1_v2.2.json</td>\n",
       "      <td>&lt;OMITTED&gt;</td>\n",
       "      <td>(corrected_areas,)</td>\n",
       "      <td>S2 relative LCE(x, y) map</td>\n",
       "    </tr>\n",
       "    <tr>\n",
       "      <th>57</th>\n",
       "      <td>elife_file</td>\n",
       "      <td>https://raw.githubusercontent.com/XENONnT/strax_auxiliary_files/master/elife.npy</td>\n",
       "      <td>&lt;OMITTED&gt;</td>\n",
       "      <td>(corrected_areas,)</td>\n",
       "      <td>link to the electron lifetime</td>\n",
       "    </tr>\n",
       "    <tr>\n",
       "      <th>58</th>\n",
       "      <td>g1</td>\n",
       "      <td>0.1426</td>\n",
       "      <td>&lt;OMITTED&gt;</td>\n",
       "      <td>(energy_estimates,)</td>\n",
       "      <td>S1 gain in PE / photons produced</td>\n",
       "    </tr>\n",
       "    <tr>\n",
       "      <th>59</th>\n",
       "      <td>g2</td>\n",
       "      <td>31.2162</td>\n",
       "      <td>&lt;OMITTED&gt;</td>\n",
       "      <td>(energy_estimates,)</td>\n",
       "      <td>S2 gain in PE / electrons produced</td>\n",
       "    </tr>\n",
       "    <tr>\n",
       "      <th>60</th>\n",
       "      <td>lxe_w</td>\n",
       "      <td>0.0137</td>\n",
       "      <td>&lt;OMITTED&gt;</td>\n",
       "      <td>(energy_estimates,)</td>\n",
       "      <td>LXe work function in quanta/keV</td>\n",
       "    </tr>\n",
       "  </tbody>\n",
       "</table>\n",
       "<p>61 rows × 5 columns</p>\n",
       "</div>"
      ],
      "text/plain": [
       "                   option  \\\n",
       "0        trigger_min_area   \n",
       "1   trigger_max_competing   \n",
       "2    left_event_extension   \n",
       "3   right_event_extension   \n",
       "4              n_top_pmts   \n",
       "..                    ...   \n",
       "56    s2_relative_lce_map   \n",
       "57             elife_file   \n",
       "58                     g1   \n",
       "59                     g2   \n",
       "60                  lxe_w   \n",
       "\n",
       "                                                                                         default  \\\n",
       "0                                                                                            100   \n",
       "1                                                                                              7   \n",
       "2                                                                                        1000000   \n",
       "3                                                                                        1000000   \n",
       "4                                                                                            127   \n",
       "..                                                                                           ...   \n",
       "56  https://raw.githubusercontent.com/XENON1T/pax/master/pax/data/XENON1T_s2_xy_ly_SR1_v2.2.json   \n",
       "57              https://raw.githubusercontent.com/XENONnT/strax_auxiliary_files/master/elife.npy   \n",
       "58                                                                                        0.1426   \n",
       "59                                                                                       31.2162   \n",
       "60                                                                                        0.0137   \n",
       "\n",
       "      current           applies_to  \\\n",
       "0   <OMITTED>            (events,)   \n",
       "1   <OMITTED>            (events,)   \n",
       "2   <OMITTED>            (events,)   \n",
       "3   <OMITTED>            (events,)   \n",
       "4   <OMITTED>       (peak_basics,)   \n",
       "..        ...                  ...   \n",
       "56  <OMITTED>   (corrected_areas,)   \n",
       "57  <OMITTED>   (corrected_areas,)   \n",
       "58  <OMITTED>  (energy_estimates,)   \n",
       "59  <OMITTED>  (energy_estimates,)   \n",
       "60  <OMITTED>  (energy_estimates,)   \n",
       "\n",
       "                                                                             help  \n",
       "0                        Peaks must have more area (PE) than this to cause events  \n",
       "1   Peaks must have FEWER nearby larger or slightly smaller peaks to cause events  \n",
       "2                Extend events this many ns to the left from each triggering peak  \n",
       "3               Extend events this many ns to the right from each triggering peak  \n",
       "4                                                              Number of top PMTs  \n",
       "..                                                                            ...  \n",
       "56                                                      S2 relative LCE(x, y) map  \n",
       "57                                                  link to the electron lifetime  \n",
       "58                                               S1 gain in PE / photons produced  \n",
       "59                                             S2 gain in PE / electrons produced  \n",
       "60                                                LXe work function in quanta/keV  \n",
       "\n",
       "[61 rows x 5 columns]"
      ]
     },
     "execution_count": 8,
     "metadata": {},
     "output_type": "execute_result"
    }
   ],
   "source": [
    "st.show_config('event_info')"
   ]
  },
  {
   "cell_type": "code",
   "execution_count": 9,
   "metadata": {},
   "outputs": [
    {
     "data": {
      "text/html": [
       "<div>\n",
       "<style scoped>\n",
       "    .dataframe tbody tr th:only-of-type {\n",
       "        vertical-align: middle;\n",
       "    }\n",
       "\n",
       "    .dataframe tbody tr th {\n",
       "        vertical-align: top;\n",
       "    }\n",
       "\n",
       "    .dataframe thead th {\n",
       "        text-align: right;\n",
       "    }\n",
       "</style>\n",
       "<table border=\"1\" class=\"dataframe\">\n",
       "  <thead>\n",
       "    <tr style=\"text-align: right;\">\n",
       "      <th></th>\n",
       "      <th>cs1</th>\n",
       "      <th>cs2</th>\n",
       "      <th>alt_cs1</th>\n",
       "      <th>alt_cs2</th>\n",
       "      <th>time</th>\n",
       "      <th>endtime</th>\n",
       "      <th>e_light</th>\n",
       "      <th>e_charge</th>\n",
       "      <th>e_ces</th>\n",
       "      <th>n_peaks</th>\n",
       "      <th>...</th>\n",
       "      <th>alt_s2_y</th>\n",
       "      <th>x</th>\n",
       "      <th>y</th>\n",
       "      <th>z</th>\n",
       "      <th>r</th>\n",
       "      <th>z_naive</th>\n",
       "      <th>r_naive</th>\n",
       "      <th>r_field_distortion_correction</th>\n",
       "      <th>theta</th>\n",
       "      <th>event_number</th>\n",
       "    </tr>\n",
       "  </thead>\n",
       "  <tbody>\n",
       "    <tr>\n",
       "      <th>0</th>\n",
       "      <td>3154.413574</td>\n",
       "      <td>652438.812500</td>\n",
       "      <td>0.000000</td>\n",
       "      <td>176.090179</td>\n",
       "      <td>1518690592149882940</td>\n",
       "      <td>1518690592152169100</td>\n",
       "      <td>303.053741</td>\n",
       "      <td>286.338745</td>\n",
       "      <td>589.392456</td>\n",
       "      <td>9</td>\n",
       "      <td>...</td>\n",
       "      <td>-31.338512</td>\n",
       "      <td>44.141258</td>\n",
       "      <td>-6.838715</td>\n",
       "      <td>-37.135551</td>\n",
       "      <td>44.667870</td>\n",
       "      <td>-37.247639</td>\n",
       "      <td>41.780415</td>\n",
       "      <td>2.887457</td>\n",
       "      <td>-0.153706</td>\n",
       "      <td>0</td>\n",
       "    </tr>\n",
       "    <tr>\n",
       "      <th>1</th>\n",
       "      <td>5758.058105</td>\n",
       "      <td>568073.625000</td>\n",
       "      <td>141.350296</td>\n",
       "      <td>337445.937500</td>\n",
       "      <td>1518690592201439770</td>\n",
       "      <td>1518690592203722050</td>\n",
       "      <td>553.193542</td>\n",
       "      <td>249.313004</td>\n",
       "      <td>802.506531</td>\n",
       "      <td>19</td>\n",
       "      <td>...</td>\n",
       "      <td>-21.093775</td>\n",
       "      <td>-41.987190</td>\n",
       "      <td>-18.791229</td>\n",
       "      <td>-34.336990</td>\n",
       "      <td>46.000374</td>\n",
       "      <td>-34.498425</td>\n",
       "      <td>42.666840</td>\n",
       "      <td>3.333534</td>\n",
       "      <td>-2.720781</td>\n",
       "      <td>1</td>\n",
       "    </tr>\n",
       "    <tr>\n",
       "      <th>2</th>\n",
       "      <td>1435.035889</td>\n",
       "      <td>82255.000000</td>\n",
       "      <td>0.000000</td>\n",
       "      <td>6068.285645</td>\n",
       "      <td>1518690592466567440</td>\n",
       "      <td>1518690592468799730</td>\n",
       "      <td>137.868103</td>\n",
       "      <td>36.099621</td>\n",
       "      <td>173.967728</td>\n",
       "      <td>66</td>\n",
       "      <td>...</td>\n",
       "      <td>5.692088</td>\n",
       "      <td>-48.027901</td>\n",
       "      <td>1.946625</td>\n",
       "      <td>-26.670229</td>\n",
       "      <td>48.067337</td>\n",
       "      <td>-27.682955</td>\n",
       "      <td>40.648117</td>\n",
       "      <td>7.419219</td>\n",
       "      <td>3.101084</td>\n",
       "      <td>2</td>\n",
       "    </tr>\n",
       "    <tr>\n",
       "      <th>3</th>\n",
       "      <td>1345.859131</td>\n",
       "      <td>122233.304688</td>\n",
       "      <td>0.000000</td>\n",
       "      <td>19143.283203</td>\n",
       "      <td>1518690592747771050</td>\n",
       "      <td>1518690592749798640</td>\n",
       "      <td>129.300629</td>\n",
       "      <td>53.645077</td>\n",
       "      <td>182.945709</td>\n",
       "      <td>10</td>\n",
       "      <td>...</td>\n",
       "      <td>-25.501575</td>\n",
       "      <td>-27.031414</td>\n",
       "      <td>-25.482199</td>\n",
       "      <td>-2.938360</td>\n",
       "      <td>37.148888</td>\n",
       "      <td>-2.960282</td>\n",
       "      <td>36.789291</td>\n",
       "      <td>0.359594</td>\n",
       "      <td>-2.385687</td>\n",
       "      <td>3</td>\n",
       "    </tr>\n",
       "    <tr>\n",
       "      <th>4</th>\n",
       "      <td>2126.204346</td>\n",
       "      <td>112584.046875</td>\n",
       "      <td>0.000000</td>\n",
       "      <td>104159.750000</td>\n",
       "      <td>1518690593003844370</td>\n",
       "      <td>1518690593005853770</td>\n",
       "      <td>204.270691</td>\n",
       "      <td>49.410263</td>\n",
       "      <td>253.680954</td>\n",
       "      <td>6</td>\n",
       "      <td>...</td>\n",
       "      <td>43.027340</td>\n",
       "      <td>8.248243</td>\n",
       "      <td>42.250587</td>\n",
       "      <td>-0.578694</td>\n",
       "      <td>43.048180</td>\n",
       "      <td>-0.612683</td>\n",
       "      <td>42.846947</td>\n",
       "      <td>0.201231</td>\n",
       "      <td>1.377999</td>\n",
       "      <td>4</td>\n",
       "    </tr>\n",
       "  </tbody>\n",
       "</table>\n",
       "<p>5 rows × 64 columns</p>\n",
       "</div>"
      ],
      "text/plain": [
       "           cs1            cs2     alt_cs1        alt_cs2                 time  \\\n",
       "0  3154.413574  652438.812500    0.000000     176.090179  1518690592149882940   \n",
       "1  5758.058105  568073.625000  141.350296  337445.937500  1518690592201439770   \n",
       "2  1435.035889   82255.000000    0.000000    6068.285645  1518690592466567440   \n",
       "3  1345.859131  122233.304688    0.000000   19143.283203  1518690592747771050   \n",
       "4  2126.204346  112584.046875    0.000000  104159.750000  1518690593003844370   \n",
       "\n",
       "               endtime     e_light    e_charge       e_ces  n_peaks  ...  \\\n",
       "0  1518690592152169100  303.053741  286.338745  589.392456        9  ...   \n",
       "1  1518690592203722050  553.193542  249.313004  802.506531       19  ...   \n",
       "2  1518690592468799730  137.868103   36.099621  173.967728       66  ...   \n",
       "3  1518690592749798640  129.300629   53.645077  182.945709       10  ...   \n",
       "4  1518690593005853770  204.270691   49.410263  253.680954        6  ...   \n",
       "\n",
       "    alt_s2_y          x          y          z          r    z_naive  \\\n",
       "0 -31.338512  44.141258  -6.838715 -37.135551  44.667870 -37.247639   \n",
       "1 -21.093775 -41.987190 -18.791229 -34.336990  46.000374 -34.498425   \n",
       "2   5.692088 -48.027901   1.946625 -26.670229  48.067337 -27.682955   \n",
       "3 -25.501575 -27.031414 -25.482199  -2.938360  37.148888  -2.960282   \n",
       "4  43.027340   8.248243  42.250587  -0.578694  43.048180  -0.612683   \n",
       "\n",
       "     r_naive  r_field_distortion_correction     theta  event_number  \n",
       "0  41.780415                       2.887457 -0.153706             0  \n",
       "1  42.666840                       3.333534 -2.720781             1  \n",
       "2  40.648117                       7.419219  3.101084             2  \n",
       "3  36.789291                       0.359594 -2.385687             3  \n",
       "4  42.846947                       0.201231  1.377999             4  \n",
       "\n",
       "[5 rows x 64 columns]"
      ]
     },
     "execution_count": 9,
     "metadata": {},
     "output_type": "execute_result"
    }
   ],
   "source": [
    "df.head()"
   ]
  },
  {
   "cell_type": "markdown",
   "metadata": {},
   "source": [
    "Let's make a quick plot of the events we just loaded:"
   ]
  },
  {
   "cell_type": "code",
   "execution_count": 10,
   "metadata": {},
   "outputs": [
    {
     "data": {
      "image/png": "[encoded data removed]",
      "text/plain": [
       "<Figure size 432x288 with 1 Axes>"
      ]
     },
     "metadata": {
      "needs_background": "light"
     },
     "output_type": "display_data"
    }
   ],
   "source": [
    "df.plot.scatter('cs1', 'cs2')\n",
    "\n",
    "import matplotlib.pyplot as plt\n",
    "plt.xscale('log')\n",
    "plt.xlim(1, None)\n",
    "plt.yscale('log')"
   ]
  },
  {
   "cell_type": "markdown",
   "metadata": {},
   "source": [
    "Since making a cS1, cS2 plot for a dataset is such a common task that straxen has a built-in method for it. There are other similar mini-analyses, such a waveform plotting, which we will see in action below."
   ]
  },
  {
   "cell_type": "code",
   "execution_count": 11,
   "metadata": {},
   "outputs": [
    {
     "data": {
      "image/png": "[encoded data removed]",
      "text/plain": [
       "<Figure size 504x360 with 4 Axes>"
      ]
     },
     "metadata": {
      "needs_background": "light"
     },
     "output_type": "display_data"
    }
   ],
   "source": [
    "st.event_scatter(run_id, s=20)"
   ]
  },
  {
   "cell_type": "markdown",
   "metadata": {},
   "source": [
    "Can you guess what kind of data this is?"
   ]
  },
  {
   "cell_type": "markdown",
   "metadata": {},
   "source": [
    "## Waveform analysis"
   ]
  },
  {
   "cell_type": "markdown",
   "metadata": {},
   "source": [
    "The *peaks* data type contains the sum waveform information:"
   ]
  },
  {
   "cell_type": "code",
   "execution_count": 12,
   "metadata": {},
   "outputs": [
    {
     "data": {
      "text/html": [
       "<div>\n",
       "<style scoped>\n",
       "    .dataframe tbody tr th:only-of-type {\n",
       "        vertical-align: middle;\n",
       "    }\n",
       "\n",
       "    .dataframe tbody tr th {\n",
       "        vertical-align: top;\n",
       "    }\n",
       "\n",
       "    .dataframe thead th {\n",
       "        text-align: right;\n",
       "    }\n",
       "</style>\n",
       "<table border=\"1\" class=\"dataframe\">\n",
       "  <thead>\n",
       "    <tr style=\"text-align: right;\">\n",
       "      <th></th>\n",
       "      <th>Field name</th>\n",
       "      <th>Data type</th>\n",
       "      <th>Comment</th>\n",
       "    </tr>\n",
       "  </thead>\n",
       "  <tbody>\n",
       "    <tr>\n",
       "      <th>0</th>\n",
       "      <td>time</td>\n",
       "      <td>int64</td>\n",
       "      <td>Start time since unix epoch [ns]</td>\n",
       "    </tr>\n",
       "    <tr>\n",
       "      <th>1</th>\n",
       "      <td>length</td>\n",
       "      <td>int32</td>\n",
       "      <td>Length of the interval in samples</td>\n",
       "    </tr>\n",
       "    <tr>\n",
       "      <th>2</th>\n",
       "      <td>dt</td>\n",
       "      <td>int16</td>\n",
       "      <td>Width of one sample [ns]</td>\n",
       "    </tr>\n",
       "    <tr>\n",
       "      <th>3</th>\n",
       "      <td>channel</td>\n",
       "      <td>int16</td>\n",
       "      <td>Channel/PMT number</td>\n",
       "    </tr>\n",
       "    <tr>\n",
       "      <th>4</th>\n",
       "      <td>type</td>\n",
       "      <td>int8</td>\n",
       "      <td>Classification of the peak(let)</td>\n",
       "    </tr>\n",
       "    <tr>\n",
       "      <th>5</th>\n",
       "      <td>area</td>\n",
       "      <td>float32</td>\n",
       "      <td>Integral across channels [PE]</td>\n",
       "    </tr>\n",
       "    <tr>\n",
       "      <th>6</th>\n",
       "      <td>area_per_channel</td>\n",
       "      <td>('&lt;f4', (248,))</td>\n",
       "      <td>Integral per channel [PE]</td>\n",
       "    </tr>\n",
       "    <tr>\n",
       "      <th>7</th>\n",
       "      <td>n_hits</td>\n",
       "      <td>int32</td>\n",
       "      <td>Number of hits from which peak was constructed (currently zero if peak is split afterwards)</td>\n",
       "    </tr>\n",
       "    <tr>\n",
       "      <th>8</th>\n",
       "      <td>data</td>\n",
       "      <td>('&lt;f4', (200,))</td>\n",
       "      <td>Waveform data in PE/sample (not PE/ns!)</td>\n",
       "    </tr>\n",
       "    <tr>\n",
       "      <th>9</th>\n",
       "      <td>width</td>\n",
       "      <td>('&lt;f4', (11,))</td>\n",
       "      <td>Peak widths in range of central area fraction [ns]</td>\n",
       "    </tr>\n",
       "    <tr>\n",
       "      <th>10</th>\n",
       "      <td>area_decile_from_midpoint</td>\n",
       "      <td>('&lt;f4', (11,))</td>\n",
       "      <td>Peak widths: time between nth and 5th area decile [ns]</td>\n",
       "    </tr>\n",
       "    <tr>\n",
       "      <th>11</th>\n",
       "      <td>saturated_channel</td>\n",
       "      <td>('&lt;i2', (248,))</td>\n",
       "      <td>Does the channel reach ADC saturation?</td>\n",
       "    </tr>\n",
       "    <tr>\n",
       "      <th>12</th>\n",
       "      <td>n_saturated_channels</td>\n",
       "      <td>int16</td>\n",
       "      <td>Total number of saturated channels</td>\n",
       "    </tr>\n",
       "    <tr>\n",
       "      <th>13</th>\n",
       "      <td>tight_coincidence</td>\n",
       "      <td>int16</td>\n",
       "      <td>Hits within tight range of mean</td>\n",
       "    </tr>\n",
       "    <tr>\n",
       "      <th>14</th>\n",
       "      <td>max_gap</td>\n",
       "      <td>int32</td>\n",
       "      <td>Largest gap between hits inside peak [ns]</td>\n",
       "    </tr>\n",
       "    <tr>\n",
       "      <th>15</th>\n",
       "      <td>max_goodness_of_split</td>\n",
       "      <td>float32</td>\n",
       "      <td>Maximum interior goodness of split</td>\n",
       "    </tr>\n",
       "  </tbody>\n",
       "</table>\n",
       "</div>"
      ],
      "text/plain": [
       "                   Field name        Data type  \\\n",
       "0                        time            int64   \n",
       "1                      length            int32   \n",
       "2                          dt            int16   \n",
       "3                     channel            int16   \n",
       "4                        type             int8   \n",
       "5                        area          float32   \n",
       "6            area_per_channel  ('<f4', (248,))   \n",
       "7                      n_hits            int32   \n",
       "8                        data  ('<f4', (200,))   \n",
       "9                       width   ('<f4', (11,))   \n",
       "10  area_decile_from_midpoint   ('<f4', (11,))   \n",
       "11          saturated_channel  ('<i2', (248,))   \n",
       "12       n_saturated_channels            int16   \n",
       "13          tight_coincidence            int16   \n",
       "14                    max_gap            int32   \n",
       "15      max_goodness_of_split          float32   \n",
       "\n",
       "                                                                                        Comment  \n",
       "0                                                              Start time since unix epoch [ns]  \n",
       "1                                                             Length of the interval in samples  \n",
       "2                                                                      Width of one sample [ns]  \n",
       "3                                                                            Channel/PMT number  \n",
       "4                                                               Classification of the peak(let)  \n",
       "5                                                                 Integral across channels [PE]  \n",
       "6                                                                     Integral per channel [PE]  \n",
       "7   Number of hits from which peak was constructed (currently zero if peak is split afterwards)  \n",
       "8                                                       Waveform data in PE/sample (not PE/ns!)  \n",
       "9                                            Peak widths in range of central area fraction [ns]  \n",
       "10                                       Peak widths: time between nth and 5th area decile [ns]  \n",
       "11                                                       Does the channel reach ADC saturation?  \n",
       "12                                                           Total number of saturated channels  \n",
       "13                                                              Hits within tight range of mean  \n",
       "14                                                    Largest gap between hits inside peak [ns]  \n",
       "15                                                           Maximum interior goodness of split  "
      ]
     },
     "execution_count": 12,
     "metadata": {},
     "output_type": "execute_result"
    }
   ],
   "source": [
    "st.data_info('peaks')"
   ]
  },
  {
   "cell_type": "markdown",
   "metadata": {},
   "source": [
    "Notice the compound data types of the `data`, `width` and `saturated_channel` fields. Pandas does not support such types (well, it sort of does, but the resulting dataframes are quite inefficient), so we have to load this as a numpy array."
   ]
  },
  {
   "cell_type": "code",
   "execution_count": 13,
   "metadata": {},
   "outputs": [
    {
     "data": {
      "text/plain": [
       "(numpy.ndarray,\n",
       " ('time',\n",
       "  'length',\n",
       "  'dt',\n",
       "  'channel',\n",
       "  'type',\n",
       "  'area',\n",
       "  'area_per_channel',\n",
       "  'n_hits',\n",
       "  'data',\n",
       "  'width',\n",
       "  'area_decile_from_midpoint',\n",
       "  'saturated_channel',\n",
       "  'n_saturated_channels',\n",
       "  'tight_coincidence',\n",
       "  'max_gap',\n",
       "  'max_goodness_of_split'))"
      ]
     },
     "execution_count": 13,
     "metadata": {},
     "output_type": "execute_result"
    }
   ],
   "source": [
    "peaks = st.get_array(run_id, 'peaks')\n",
    "type(peaks), peaks.dtype.names"
   ]
  },
  {
   "cell_type": "markdown",
   "metadata": {},
   "source": [
    "Now we can plot peak waveforms:"
   ]
  },
  {
   "cell_type": "code",
   "execution_count": 14,
   "metadata": {},
   "outputs": [
    {
     "data": {
      "image/png": "[encoded data removed]",
      "text/plain": [
       "<Figure size 432x288 with 1 Axes>"
      ]
     },
     "metadata": {
      "needs_background": "light"
     },
     "output_type": "display_data"
    }
   ],
   "source": [
    "def plot_peak(p, t0=None, **kwargs):\n",
    "    n = p['length']\n",
    "    if t0 is None:\n",
    "        t0 = p['time']\n",
    "    plt.plot((p['time'] - t0) + np.arange(n) * p['dt'], \n",
    "             p['data'][:n] / p['dt'], \n",
    "             drawstyle='steps-mid',\n",
    "             **kwargs)\n",
    "    plt.xlabel(\"Time (ns)\")\n",
    "    plt.ylabel(\"Sum waveform (PE / ns)\")\n",
    "\n",
    "plot_peak(peaks[9100])"
   ]
  },
  {
   "cell_type": "code",
   "execution_count": 15,
   "metadata": {},
   "outputs": [
    {
     "data": {
      "image/png": "[encoded data removed]",
      "text/plain": [
       "<Figure size 432x288 with 1 Axes>"
      ]
     },
     "metadata": {
      "needs_background": "light"
     },
     "output_type": "display_data"
    }
   ],
   "source": [
    "def plot_peaks(main_i, n_before=0, n_after=0, label_threshold=0, legendloc='best'):\n",
    "    for i in main_i + np.arange(-n_before, n_after + 1):\n",
    "        p = peaks[i]\n",
    "        label = None\n",
    "        if p['area'] > label_threshold:\n",
    "            label = '%d PE, %d ns dt' % (p['area'], p['dt'], )\n",
    "            color = None\n",
    "        else:\n",
    "            color = 'gray'\n",
    "        plot_peak(p,\n",
    "                  t0=peaks[main_i]['time'],\n",
    "                  label=label,\n",
    "                  color=color)\n",
    "    plt.ylim(0, None)\n",
    "    plt.legend(loc=legendloc)\n",
    "    plt.yscale('symlog')\n",
    "\n",
    "# Find the largest peak\n",
    "i_of_largest_peak = np.argmax(peaks['area'])\n",
    "plot_peaks(i_of_largest_peak,\n",
    "           n_after=1, \n",
    "           n_before=5, \n",
    "           label_threshold=10, \n",
    "           legendloc=(0.1, 0.5))"
   ]
  },
  {
   "cell_type": "markdown",
   "metadata": {},
   "source": [
    "The abrupt termination of the S2 above is due to strax's data reduction."
   ]
  },
  {
   "cell_type": "markdown",
   "metadata": {},
   "source": [
    "If you have access to the raw data (at least the `records` level) you can use straxen's built-in waveform display. For example, try:\n",
    "\n",
    "```python\n",
    "st.waveform_display(run_id, seconds_range=(0, 0.15))\n",
    "```\n",
    "\n",
    "(we didn't evaluate this in the tutorial, as it creates a substantial amount of javascript, which would have made the notebook quite huge)."
   ]
  },
  {
   "cell_type": "markdown",
   "metadata": {},
   "source": [
    "## Configuration changes"
   ]
  },
  {
   "cell_type": "markdown",
   "metadata": {},
   "source": [
    "As you can see in the above plot, we have many events high up in the TPC at low S1. Perhaps you want to get rid of them by increasing the 'S1 coincidence requirement', i.e. the number of PMTs that must see something before a peak is labeled as S1. Then, of course, you want to load the event-level data again to see if it worked."
   ]
  },
  {
   "cell_type": "markdown",
   "metadata": {},
   "source": [
    "First, we need to see which configuration option we have to change. Strax plugins declare what configuration they take and what other plugins they depend on, so this is not very difficult. We just ask which options with `s1` in their name influence `event_basics`:"
   ]
  },
  {
   "cell_type": "code",
   "execution_count": 16,
   "metadata": {},
   "outputs": [
    {
     "data": {
      "text/html": [
       "<div>\n",
       "<style scoped>\n",
       "    .dataframe tbody tr th:only-of-type {\n",
       "        vertical-align: middle;\n",
       "    }\n",
       "\n",
       "    .dataframe tbody tr th {\n",
       "        vertical-align: top;\n",
       "    }\n",
       "\n",
       "    .dataframe thead th {\n",
       "        text-align: right;\n",
       "    }\n",
       "</style>\n",
       "<table border=\"1\" class=\"dataframe\">\n",
       "  <thead>\n",
       "    <tr style=\"text-align: right;\">\n",
       "      <th></th>\n",
       "      <th>option</th>\n",
       "      <th>default</th>\n",
       "      <th>current</th>\n",
       "      <th>applies_to</th>\n",
       "      <th>help</th>\n",
       "    </tr>\n",
       "  </thead>\n",
       "  <tbody>\n",
       "    <tr>\n",
       "      <th>0</th>\n",
       "      <td>s1_max_rise_time</td>\n",
       "      <td>60</td>\n",
       "      <td>&lt;OMITTED&gt;</td>\n",
       "      <td>(peaklet_classification,)</td>\n",
       "      <td>Maximum S1 rise time for &lt; 100 PE [ns]</td>\n",
       "    </tr>\n",
       "    <tr>\n",
       "      <th>1</th>\n",
       "      <td>s1_max_rise_time_post100</td>\n",
       "      <td>150</td>\n",
       "      <td>&lt;OMITTED&gt;</td>\n",
       "      <td>(peaklet_classification,)</td>\n",
       "      <td>Maximum S1 rise time for &gt; 100 PE [ns]</td>\n",
       "    </tr>\n",
       "    <tr>\n",
       "      <th>2</th>\n",
       "      <td>s1_min_coincidence</td>\n",
       "      <td>3</td>\n",
       "      <td>&lt;OMITTED&gt;</td>\n",
       "      <td>(peaklet_classification,)</td>\n",
       "      <td>Minimum tight coincidence necessary to make an S1</td>\n",
       "    </tr>\n",
       "  </tbody>\n",
       "</table>\n",
       "</div>"
      ],
      "text/plain": [
       "                     option  default    current                 applies_to  \\\n",
       "0          s1_max_rise_time       60  <OMITTED>  (peaklet_classification,)   \n",
       "1  s1_max_rise_time_post100      150  <OMITTED>  (peaklet_classification,)   \n",
       "2        s1_min_coincidence        3  <OMITTED>  (peaklet_classification,)   \n",
       "\n",
       "                                                help  \n",
       "0             Maximum S1 rise time for < 100 PE [ns]  \n",
       "1             Maximum S1 rise time for > 100 PE [ns]  \n",
       "2  Minimum tight coincidence necessary to make an S1  "
      ]
     },
     "execution_count": 16,
     "metadata": {},
     "output_type": "execute_result"
    }
   ],
   "source": [
    "st.show_config('event_basics', 's1*')"
   ]
  },
  {
   "cell_type": "markdown",
   "metadata": {},
   "source": [
    "Looks like we're after the `s1_min_n_channels option`. Note this is not part of the `event_basics` data type, but of a data type called `peak_classification`. As you can see from the table, this option is not set in the current context, so the default value (3) is used.\n",
    "\n",
    "To try out a different option, just pass it to get_df:"
   ]
  },
  {
   "cell_type": "code",
   "execution_count": 17,
   "metadata": {},
   "outputs": [
    {
     "name": "stderr",
     "output_type": "stream",
     "text": [
      "/home/aalbers/software/strax/strax/context.py:373: UserWarning: Option s1_min_n_channels not taken by any registered plugin\n",
      "  warnings.warn(f\"Option {k} not taken by any registered plugin\")\n"
     ]
    },
    {
     "data": {
      "image/png": "[encoded data removed]",
      "text/plain": [
       "<Figure size 504x360 with 4 Axes>"
      ]
     },
     "metadata": {
      "needs_background": "light"
     },
     "output_type": "display_data"
    }
   ],
   "source": [
    "df_2 = st.get_df(run_id, 'event_info',\n",
    "                 config=dict(s1_min_n_channels=50))\n",
    "st.event_scatter(run_id, events=df_2)"
   ]
  },
  {
   "cell_type": "markdown",
   "metadata": {},
   "source": [
    "Notice all the small S1 events are indeed gone now.\n",
    "\n",
    "Behind the scenes, this figured out which dataframes had to be remade: as it happens this time just `event_basics` and `peak_basics`. You will now have a new `event_basics_<somehash>` folder in `./custom_data` which contains the results, as well as a new `peak_basics_<somehash> folder`."
   ]
  },
  {
   "cell_type": "markdown",
   "metadata": {},
   "source": [
    "### More on configuration changes"
   ]
  },
  {
   "cell_type": "markdown",
   "metadata": {},
   "source": [
    "Changing configuration can be done in two other ways. We can change it permanently in the current context:\n",
    "```python\n",
    "st.set_config(dict(s1_min_channels=50))\n",
    "```\n",
    "Or we could make a new context, with this option set:\n",
    "```python\n",
    "st_2 = st.new_context(config=dict(s1_min_channels=50))\n",
    "```\n",
    "(feeding it to get_df just does the latter behind the scenes).\n",
    "\n",
    "If you just want to run a mini-analysis (like `event_scatter`), you can also pass a new `config` option directly to it, as in the example below."
   ]
  },
  {
   "cell_type": "markdown",
   "metadata": {},
   "source": [
    "Strax protects you from typos in the configuration. Suppose we typed `s1_min_n_channelz` instead:"
   ]
  },
  {
   "cell_type": "code",
   "execution_count": 18,
   "metadata": {},
   "outputs": [
    {
     "name": "stderr",
     "output_type": "stream",
     "text": [
      "/home/aalbers/software/strax/strax/context.py:373: UserWarning: Option s1_min_n_channelz not taken by any registered plugin\n",
      "  warnings.warn(f\"Option {k} not taken by any registered plugin\")\n"
     ]
    },
    {
     "data": {
      "image/png": "[encoded data removed]",
      "text/plain": [
       "<Figure size 504x360 with 4 Axes>"
      ]
     },
     "metadata": {
      "needs_background": "light"
     },
     "output_type": "display_data"
    }
   ],
   "source": [
    "st.event_scatter(run_id, config=dict(s1_min_n_channelz=10))"
   ]
  },
  {
   "cell_type": "markdown",
   "metadata": {},
   "source": [
    "The result of get_df is just the same as if the option wasn't set (just like in pax/hax), but you also get a warning about an unknown configuration option. \n",
    "\n",
    "By the way, you can use \n",
    "```python\n",
    "import warnings\n",
    "warnings.filterwarnings(\"error\")\n",
    "```\n",
    "to ensure any warning raises an exception instead."
   ]
  },
  {
   "cell_type": "markdown",
   "metadata": {},
   "source": [
    "## Customization: new plugins"
   ]
  },
  {
   "cell_type": "markdown",
   "metadata": {},
   "source": [
    "To add or change processing algorithms, or to define new variables to use in cuts, you have to write new strax plugins. These are somewhat similar to hax's treemakers.\n",
    "\n",
    "Suppose you have a brilliant new idea for peak classification. Strax does this in the peaklet_classification plugin, which produces:"
   ]
  },
  {
   "cell_type": "code",
   "execution_count": 19,
   "metadata": {},
   "outputs": [
    {
     "data": {
      "text/html": [
       "<div>\n",
       "<style scoped>\n",
       "    .dataframe tbody tr th:only-of-type {\n",
       "        vertical-align: middle;\n",
       "    }\n",
       "\n",
       "    .dataframe tbody tr th {\n",
       "        vertical-align: top;\n",
       "    }\n",
       "\n",
       "    .dataframe thead th {\n",
       "        text-align: right;\n",
       "    }\n",
       "</style>\n",
       "<table border=\"1\" class=\"dataframe\">\n",
       "  <thead>\n",
       "    <tr style=\"text-align: right;\">\n",
       "      <th></th>\n",
       "      <th>Field name</th>\n",
       "      <th>Data type</th>\n",
       "      <th>Comment</th>\n",
       "    </tr>\n",
       "  </thead>\n",
       "  <tbody>\n",
       "    <tr>\n",
       "      <th>0</th>\n",
       "      <td>time</td>\n",
       "      <td>int64</td>\n",
       "      <td>Start time since unix epoch [ns]</td>\n",
       "    </tr>\n",
       "    <tr>\n",
       "      <th>1</th>\n",
       "      <td>length</td>\n",
       "      <td>int32</td>\n",
       "      <td>Length of the interval in samples</td>\n",
       "    </tr>\n",
       "    <tr>\n",
       "      <th>2</th>\n",
       "      <td>dt</td>\n",
       "      <td>int16</td>\n",
       "      <td>Width of one sample [ns]</td>\n",
       "    </tr>\n",
       "    <tr>\n",
       "      <th>3</th>\n",
       "      <td>channel</td>\n",
       "      <td>int16</td>\n",
       "      <td>Channel/PMT number</td>\n",
       "    </tr>\n",
       "    <tr>\n",
       "      <th>4</th>\n",
       "      <td>type</td>\n",
       "      <td>int8</td>\n",
       "      <td>Classification of the peak(let)</td>\n",
       "    </tr>\n",
       "  </tbody>\n",
       "</table>\n",
       "</div>"
      ],
      "text/plain": [
       "  Field name Data type                            Comment\n",
       "0       time     int64   Start time since unix epoch [ns]\n",
       "1     length     int32  Length of the interval in samples\n",
       "2         dt     int16           Width of one sample [ns]\n",
       "3    channel     int16                 Channel/PMT number\n",
       "4       type      int8    Classification of the peak(let)"
      ]
     },
     "execution_count": 19,
     "metadata": {},
     "output_type": "execute_result"
    }
   ],
   "source": [
    "st.data_info('peaklet_classification')"
   ]
  },
  {
   "cell_type": "markdown",
   "metadata": {},
   "source": [
    "  * The first three fields contain time information of the peak. This is duplicated in many datatypes -- unfortunately, this is necessary for strax to be able to track the data and combine it with other data. Instead of (time, length, dt), plugins could also provide (time, endtime). See [here](https://strax.readthedocs.io/en/latest/advanced/plugin_dev.html#special-time-fields) for more information.\n",
    "  * The 'channel' field is an historical artifact.\n",
    "  * The 'type' field contains the classification: 0 for unknown, 1 for S1, 2 for S2. (note [#8](https://github.com/XENONnT/straxen/issues/8))\n",
    "  \n",
    "You can find the original plugin in [peaklet_processing.py](https://github.com/XENONnT/straxen/blob/master/straxen/plugins/peaklet_processing.py.) Here's how you would make a different classification plugin:"
   ]
  },
  {
   "cell_type": "code",
   "execution_count": 20,
   "metadata": {},
   "outputs": [],
   "source": [
    "import strax\n",
    "import numpy as np\n",
    "\n",
    "class AdvancedExpertClassification(strax.Plugin):\n",
    "    \"\"\"Everything is an S1!\"\"\"\n",
    "    \n",
    "    # Name of the data type this plugin provides\n",
    "    provides = 'peaklet_classification'\n",
    "    \n",
    "    # Data types this plugin requires. Note we don't specify\n",
    "    # what plugins should produce them: maybe the default PeakBasics\n",
    "    # has been replaced by another AdvancedExpertBlabla plugin?\n",
    "    depends_on = ('peaklets',)\n",
    "    \n",
    "    # Numpy datatype of the output \n",
    "    dtype = straxen.PeakletClassification.dtype\n",
    "    \n",
    "    # Version of the plugin. Increment this if you change the algorithm.\n",
    "    __version__ = '0.0.2'\n",
    "\n",
    "    def compute(self, peaklets):\n",
    "        # Your code here.\n",
    "        # This function will be called several times with \n",
    "        # 'peaks' a numpy array of the datatype 'peaks'.\n",
    "        # Each time you'll see a small part of the run.\n",
    "        \n",
    "        # You have to return a numpy array of the dtype you declared above\n",
    "        result = np.zeros(len(peaklets), self.dtype)\n",
    "        \n",
    "        # Copy the basic time fields over from peaklets\n",
    "        for (_, field), _ in strax.time_dt_fields:\n",
    "            result[field] = peaklets[field]\n",
    "            \n",
    "        # Store the classification results\n",
    "        # You might want to do real work here\n",
    "        result['type'] = 1\n",
    "        \n",
    "        return result\n",
    "        \n",
    "        # Instead of an array, you are also allowed to return a dictionary \n",
    "        # we can transform into an array.\n",
    "        # That is, (dict keys -> field names, values -> field values)"
   ]
  },
  {
   "cell_type": "markdown",
   "metadata": {},
   "source": [
    "To use it in place of PeakClassification, we only have to register it. Again, we can do so permanently using \n",
    "```python\n",
    "st.register(AdvancedExpertClassification)\n",
    "```\n",
    "or temporarily, by feeding the registration as an extra argument to `get_df`:"
   ]
  },
  {
   "cell_type": "code",
   "execution_count": 21,
   "metadata": {},
   "outputs": [],
   "source": [
    "df = st.get_df(run_id, 'event_info',\n",
    "               register=AdvancedExpertClassification)"
   ]
  },
  {
   "cell_type": "code",
   "execution_count": 22,
   "metadata": {},
   "outputs": [
    {
     "data": {
      "text/plain": [
       "0.0"
      ]
     },
     "execution_count": 22,
     "metadata": {},
     "output_type": "execute_result"
    }
   ],
   "source": [
    "df['s2_area'].max()"
   ]
  },
  {
   "cell_type": "markdown",
   "metadata": {},
   "source": [
    "As you can see, all events are now S1-only events, as expected. Maybe this is not the best alternative classification :-)\n",
    "\n",
    "This plugin was a rather basic plugin. You'll also want to learn about `LoopPlugin`s and `OverlapWindowPlugin`s, but that's beyond the scope of this tutorial."
   ]
  }
 ],
 "metadata": {
  "kernelspec": {
   "display_name": "Python 3",
   "language": "python",
   "name": "python3"
  },
  "language_info": {
   "codemirror_mode": {
    "name": "ipython",
    "version": 3
   },
   "file_extension": ".py",
   "mimetype": "text/x-python",
   "name": "python",
   "nbconvert_exporter": "python",
   "pygments_lexer": "ipython3",
   "version": "3.7.6"
  }
 },
 "nbformat": 4,
 "nbformat_minor": 4
}
