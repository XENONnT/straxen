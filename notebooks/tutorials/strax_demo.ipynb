{
 "cells": [
  {
   "cell_type": "markdown",
   "metadata": {},
   "source": [
    "# Tutorial"
   ]
  },
  {
   "cell_type": "markdown",
   "metadata": {},
   "source": [
    "Jelle, updated May 2020\n",
    "\n",
    "updated Feb 2022 by Joran\n",
    "\n",
    "This notebook shows how to do basic analysis with straxen, much like `hax.minitrees`."
   ]
  },
  {
   "cell_type": "markdown",
   "metadata": {},
   "source": [
    "For reference, here are some jargon terms which we will introduce below:\n",
    "\n",
    "  * **Context**: Holds configuration on how to process\n",
    "  * **Dataframe** or **array**: table of related information produced by a plugin.\n",
    "  * **Plugin**: an algorithm that produces a dataframe\n",
    "  * **Data type**: specification of which columns are in a dataframe. \n",
    "  * **Data kind**: e.g. 'events' or 'peaks'. Dataframes of the same kind  have the same number of rows and can be merged.\n"
   ]
  },
  {
   "cell_type": "code",
   "execution_count": 1,
   "metadata": {},
   "outputs": [],
   "source": [
    "import numpy as np\n",
    "import pandas as pd\n",
    "# This just ensures some comments in dataframes below display nicely\n",
    "pd.options.display.max_colwidth = 100\n",
    "import straxen"
   ]
  },
  {
   "cell_type": "code",
   "execution_count": 2,
   "metadata": {},
   "outputs": [
    {
     "name": "stdout",
     "output_type": "stream",
     "text": [
      "cutax is not installed\n"
     ]
    },
    {
     "data": {
      "text/html": [
       "<div>\n",
       "<style scoped>\n",
       "    .dataframe tbody tr th:only-of-type {\n",
       "        vertical-align: middle;\n",
       "    }\n",
       "\n",
       "    .dataframe tbody tr th {\n",
       "        vertical-align: top;\n",
       "    }\n",
       "\n",
       "    .dataframe thead th {\n",
       "        text-align: right;\n",
       "    }\n",
       "</style>\n",
       "<table border=\"1\" class=\"dataframe\">\n",
       "  <thead>\n",
       "    <tr style=\"text-align: right;\">\n",
       "      <th></th>\n",
       "      <th>module</th>\n",
       "      <th>version</th>\n",
       "      <th>path</th>\n",
       "      <th>git</th>\n",
       "    </tr>\n",
       "  </thead>\n",
       "  <tbody>\n",
       "    <tr>\n",
       "      <th>0</th>\n",
       "      <td>python</td>\n",
       "      <td>3.10.0</td>\n",
       "      <td>/home/angevaare/miniconda3/envs/dev_strax/bin/python</td>\n",
       "      <td>None</td>\n",
       "    </tr>\n",
       "    <tr>\n",
       "      <th>1</th>\n",
       "      <td>strax</td>\n",
       "      <td>1.1.7</td>\n",
       "      <td>/home/angevaare/software/dev_strax/strax/strax</td>\n",
       "      <td>branch:master | db14f80</td>\n",
       "    </tr>\n",
       "    <tr>\n",
       "      <th>2</th>\n",
       "      <td>straxen</td>\n",
       "      <td>1.2.8</td>\n",
       "      <td>/home/angevaare/software/dev_strax/straxen/straxen</td>\n",
       "      <td>branch:master | 024602e</td>\n",
       "    </tr>\n",
       "  </tbody>\n",
       "</table>\n",
       "</div>"
      ],
      "text/plain": [
       "    module version                                                  path  \\\n",
       "0   python  3.10.0  /home/angevaare/miniconda3/envs/dev_strax/bin/python   \n",
       "1    strax   1.1.7        /home/angevaare/software/dev_strax/strax/strax   \n",
       "2  straxen   1.2.8    /home/angevaare/software/dev_strax/straxen/straxen   \n",
       "\n",
       "                       git  \n",
       "0                     None  \n",
       "1  branch:master | db14f80  \n",
       "2  branch:master | 024602e  "
      ]
     },
     "execution_count": 2,
     "metadata": {},
     "output_type": "execute_result"
    }
   ],
   "source": [
    "straxen.print_versions()"
   ]
  },
  {
   "cell_type": "markdown",
   "metadata": {},
   "source": [
    "## Setting up"
   ]
  },
  {
   "cell_type": "markdown",
   "metadata": {},
   "source": [
    "First we load a strax **context**, much like `hax.init()`. A strax context contains all information on *how* to process: where to read what files from, what plugins provide what data, etc. \n",
    "\n",
    "You can make a context yourselves using `strax.Context`, but straxen provides standardized contexts as well. Most future analyses will use such standardized contexts defined by analysis coordinators or straxen maintainers.\n",
    "\n",
    "Unlike `hax.init`, you can have multiple active contexts, e.g. to load analysis and MC data, or compare data processed with different settings (we will see examples of this below)."
   ]
  },
  {
   "cell_type": "code",
   "execution_count": 3,
   "metadata": {},
   "outputs": [],
   "source": [
    "st = straxen.contexts.xenonnt_online()"
   ]
  },
  {
   "cell_type": "markdown",
   "metadata": {},
   "source": [
    "## Finding your data"
   ]
  },
  {
   "cell_type": "markdown",
   "metadata": {},
   "source": [
    "Suposse we want to make a cS1/cS2 plot. We have to figure out which type of **dataframes** to load. A specific type of dataframe is also called a **data type**. (in hax these were called minitrees)\n",
    "\n",
    "We can find this out automatically if we know (part of) the name of a field to load:"
   ]
  },
  {
   "cell_type": "code",
   "execution_count": 4,
   "metadata": {},
   "outputs": [
    {
     "name": "stdout",
     "output_type": "stream",
     "text": [
      "\n",
      "cs1 is part of corrected_areas (provided by CorrectedAreas)\n",
      "cs1 is part of event_info (provided by EventInfo)\n",
      "\n",
      "cs1 is used in CorrectedAreas.infer_dtype\n",
      "cs1 is used in CorrectedAreas.compute\n",
      "cs1 is used in EnergyEstimates.compute\n",
      "cs1 is used in EnergyEstimates.cs1_to_e\n"
     ]
    }
   ],
   "source": [
    "st.search_field('cs1')"
   ]
  },
  {
   "cell_type": "markdown",
   "metadata": {},
   "source": [
    "It seems we're after one of the data types called `event_info` or `corrected_areas`. In the current context, these are provided by **plugins** called EventInfo and CorrectedAreas, respectively (but this doesn't concern us yet). \n",
    "\n",
    "Additionally, we see the occurrences of `cs1` of a field in `EnergyEstimates` and `CorrectedAreas`. This means that the field is used there directly\n",
    "\n",
    "Let's see what else is in these data types:"
   ]
  },
  {
   "cell_type": "code",
   "execution_count": 5,
   "metadata": {},
   "outputs": [
    {
     "data": {
      "text/html": [
       "<div>\n",
       "<style scoped>\n",
       "    .dataframe tbody tr th:only-of-type {\n",
       "        vertical-align: middle;\n",
       "    }\n",
       "\n",
       "    .dataframe tbody tr th {\n",
       "        vertical-align: top;\n",
       "    }\n",
       "\n",
       "    .dataframe thead th {\n",
       "        text-align: right;\n",
       "    }\n",
       "</style>\n",
       "<table border=\"1\" class=\"dataframe\">\n",
       "  <thead>\n",
       "    <tr style=\"text-align: right;\">\n",
       "      <th></th>\n",
       "      <th>Field name</th>\n",
       "      <th>Data type</th>\n",
       "      <th>Comment</th>\n",
       "    </tr>\n",
       "  </thead>\n",
       "  <tbody>\n",
       "    <tr>\n",
       "      <th>0</th>\n",
       "      <td>time</td>\n",
       "      <td>int64</td>\n",
       "      <td>Start time since unix epoch [ns]</td>\n",
       "    </tr>\n",
       "    <tr>\n",
       "      <th>1</th>\n",
       "      <td>endtime</td>\n",
       "      <td>int64</td>\n",
       "      <td>Exclusive end time since unix epoch [ns]</td>\n",
       "    </tr>\n",
       "    <tr>\n",
       "      <th>2</th>\n",
       "      <td>cs1</td>\n",
       "      <td>float32</td>\n",
       "      <td>Corrected area of main S1 [PE]</td>\n",
       "    </tr>\n",
       "    <tr>\n",
       "      <th>3</th>\n",
       "      <td>cs2_wo_elifecorr</td>\n",
       "      <td>float32</td>\n",
       "      <td>Corrected area of main S2 before elife correction (s2 xy correction + SEG/EE correction applied)...</td>\n",
       "    </tr>\n",
       "    <tr>\n",
       "      <th>4</th>\n",
       "      <td>cs2_wo_timecorr</td>\n",
       "      <td>float32</td>\n",
       "      <td>Corrected area of main S2 before SEG/EE and elife corrections(s2 xy correction applied) [PE]</td>\n",
       "    </tr>\n",
       "    <tr>\n",
       "      <th>...</th>\n",
       "      <td>...</td>\n",
       "      <td>...</td>\n",
       "      <td>...</td>\n",
       "    </tr>\n",
       "    <tr>\n",
       "      <th>106</th>\n",
       "      <td>z_naive</td>\n",
       "      <td>float32</td>\n",
       "      <td>Interaction z-position using mean drift velocity only (cm)</td>\n",
       "    </tr>\n",
       "    <tr>\n",
       "      <th>107</th>\n",
       "      <td>r_naive</td>\n",
       "      <td>float32</td>\n",
       "      <td>Interaction r-position using observed S2 positions directly (cm)</td>\n",
       "    </tr>\n",
       "    <tr>\n",
       "      <th>108</th>\n",
       "      <td>r_field_distortion_correction</td>\n",
       "      <td>float32</td>\n",
       "      <td>Correction added to r_naive for field distortion (cm)</td>\n",
       "    </tr>\n",
       "    <tr>\n",
       "      <th>109</th>\n",
       "      <td>z_field_distortion_correction</td>\n",
       "      <td>float32</td>\n",
       "      <td>Correction added to z_naive for field distortion (cm)</td>\n",
       "    </tr>\n",
       "    <tr>\n",
       "      <th>110</th>\n",
       "      <td>theta</td>\n",
       "      <td>float32</td>\n",
       "      <td>Interaction angular position (radians)</td>\n",
       "    </tr>\n",
       "  </tbody>\n",
       "</table>\n",
       "<p>111 rows × 3 columns</p>\n",
       "</div>"
      ],
      "text/plain": [
       "                        Field name Data type  \\\n",
       "0                             time     int64   \n",
       "1                          endtime     int64   \n",
       "2                              cs1   float32   \n",
       "3                 cs2_wo_elifecorr   float32   \n",
       "4                  cs2_wo_timecorr   float32   \n",
       "..                             ...       ...   \n",
       "106                        z_naive   float32   \n",
       "107                        r_naive   float32   \n",
       "108  r_field_distortion_correction   float32   \n",
       "109  z_field_distortion_correction   float32   \n",
       "110                          theta   float32   \n",
       "\n",
       "                                                                                                 Comment  \n",
       "0                                                                       Start time since unix epoch [ns]  \n",
       "1                                                               Exclusive end time since unix epoch [ns]  \n",
       "2                                                                         Corrected area of main S1 [PE]  \n",
       "3    Corrected area of main S2 before elife correction (s2 xy correction + SEG/EE correction applied)...  \n",
       "4           Corrected area of main S2 before SEG/EE and elife corrections(s2 xy correction applied) [PE]  \n",
       "..                                                                                                   ...  \n",
       "106                                           Interaction z-position using mean drift velocity only (cm)  \n",
       "107                                     Interaction r-position using observed S2 positions directly (cm)  \n",
       "108                                                Correction added to r_naive for field distortion (cm)  \n",
       "109                                                Correction added to z_naive for field distortion (cm)  \n",
       "110                                                               Interaction angular position (radians)  \n",
       "\n",
       "[111 rows x 3 columns]"
      ]
     },
     "execution_count": 5,
     "metadata": {},
     "output_type": "execute_result"
    }
   ],
   "source": [
    "st.data_info('event_info')"
   ]
  },
  {
   "cell_type": "markdown",
   "metadata": {},
   "source": [
    "As you can see, `event_info` has a lot more information; let's load that one. You can see from the documentation (TODO link) that `event_info`'s job is to merge the info from `corrected_areas` and other things.\n"
   ]
  },
  {
   "cell_type": "markdown",
   "metadata": {},
   "source": [
    "## Loading data"
   ]
  },
  {
   "cell_type": "markdown",
   "metadata": {},
   "source": [
    "Next, you'll want to select a run. The `select_runs` function will return a dataframe with all available runs; there is a separate tutorial on more advanced use of this. In this demo context, we only have high-level data for the run `180215_1029` available (and low-level data for another):"
   ]
  },
  {
   "cell_type": "code",
   "execution_count": null,
   "metadata": {},
   "outputs": [],
   "source": [
    "st.select_runs()"
   ]
  },
  {
   "cell_type": "markdown",
   "metadata": {},
   "source": [
    "So lets' take 021932.\n",
    "\n",
    "To actually load data, you use `get_df` to get a pandas DataFrame, or `get_array` to get a numpy (structured) array. Let's go with pandas for now:"
   ]
  },
  {
   "cell_type": "code",
   "execution_count": 6,
   "metadata": {
    "scrolled": true
   },
   "outputs": [
    {
     "data": {
      "application/vnd.jupyter.widget-view+json": {
       "model_id": "22bcf8d7f0e74a8980a53922f9cfc3f8",
       "version_major": 2,
       "version_minor": 0
      },
      "text/plain": [
       "Loading event_info: |          | 0.00 % [00:00<?]"
      ]
     },
     "metadata": {},
     "output_type": "display_data"
    }
   ],
   "source": [
    "run_id = '021932'\n",
    "# The seconds_range=[0,60] is an optional argument to prevent loading too much data at once\n",
    "df = st.get_df(run_id, 'event_info', seconds_range=[0,60])"
   ]
  },
  {
   "cell_type": "markdown",
   "metadata": {},
   "source": [
    "The first time you run this, it will take a moment: it has to actually process the data somewhat. We didn't ship highest-level demo data with straxen: that would mean we'd have to constantly update the test data when the algorithms change.\n",
    "\n",
    "You can also specify a list of runid's instead of one run, and get the concatenated result back. Likewise, you can specify multiple data types (of the same kind) to load, and they will be merged for you.\n",
    "\n",
    "Just like hax.minitrees.load, we got a dataframe back:"
   ]
  },
  {
   "cell_type": "code",
   "execution_count": 7,
   "metadata": {},
   "outputs": [
    {
     "data": {
      "text/html": [
       "<div>\n",
       "<style scoped>\n",
       "    .dataframe tbody tr th:only-of-type {\n",
       "        vertical-align: middle;\n",
       "    }\n",
       "\n",
       "    .dataframe tbody tr th {\n",
       "        vertical-align: top;\n",
       "    }\n",
       "\n",
       "    .dataframe thead th {\n",
       "        text-align: right;\n",
       "    }\n",
       "</style>\n",
       "<table border=\"1\" class=\"dataframe\">\n",
       "  <thead>\n",
       "    <tr style=\"text-align: right;\">\n",
       "      <th></th>\n",
       "      <th>option</th>\n",
       "      <th>default</th>\n",
       "      <th>current</th>\n",
       "      <th>applies_to</th>\n",
       "      <th>help</th>\n",
       "    </tr>\n",
       "  </thead>\n",
       "  <tbody>\n",
       "    <tr>\n",
       "      <th>0</th>\n",
       "      <td>gain_model</td>\n",
       "      <td>&lt;OMITTED&gt;</td>\n",
       "      <td>(to_pe_model, ONLINE, True)</td>\n",
       "      <td>(afterpulses,)</td>\n",
       "      <td>PMT gain model. Specify as (model_type, model_config)</td>\n",
       "    </tr>\n",
       "    <tr>\n",
       "      <th>1</th>\n",
       "      <td>n_tpc_pmts</td>\n",
       "      <td>&lt;OMITTED&gt;</td>\n",
       "      <td>494</td>\n",
       "      <td>(afterpulses,)</td>\n",
       "      <td>Number of PMTs in TPC</td>\n",
       "    </tr>\n",
       "    <tr>\n",
       "      <th>2</th>\n",
       "      <td>LED_window_left</td>\n",
       "      <td>50</td>\n",
       "      <td>&lt;OMITTED&gt;</td>\n",
       "      <td>(afterpulses,)</td>\n",
       "      <td>Left boundary of sample range for LED pulse integration</td>\n",
       "    </tr>\n",
       "    <tr>\n",
       "      <th>3</th>\n",
       "      <td>LED_window_right</td>\n",
       "      <td>100</td>\n",
       "      <td>&lt;OMITTED&gt;</td>\n",
       "      <td>(afterpulses,)</td>\n",
       "      <td>Right boundary of sample range for LED pulse integration</td>\n",
       "    </tr>\n",
       "    <tr>\n",
       "      <th>4</th>\n",
       "      <td>baseline_samples</td>\n",
       "      <td>40</td>\n",
       "      <td>&lt;OMITTED&gt;</td>\n",
       "      <td>(afterpulses,)</td>\n",
       "      <td>Number of samples to use at start of WF to determine the baseline</td>\n",
       "    </tr>\n",
       "    <tr>\n",
       "      <th>...</th>\n",
       "      <td>...</td>\n",
       "      <td>...</td>\n",
       "      <td>...</td>\n",
       "      <td>...</td>\n",
       "      <td>...</td>\n",
       "    </tr>\n",
       "    <tr>\n",
       "      <th>269</th>\n",
       "      <td>recon_alg_included</td>\n",
       "      <td>(_mlp, _gcn, _cnn)</td>\n",
       "      <td>&lt;OMITTED&gt;</td>\n",
       "      <td>(s2_recon_pos_diff,)</td>\n",
       "      <td>The list of all reconstruction algorithm considered.</td>\n",
       "    </tr>\n",
       "    <tr>\n",
       "      <th>270</th>\n",
       "      <td>max_veto_window</td>\n",
       "      <td>7200000000000</td>\n",
       "      <td>&lt;OMITTED&gt;</td>\n",
       "      <td>(veto_intervals,)</td>\n",
       "      <td>Maximum separation between veto stop and start pulses [ns]. Set to be &gt;&gt; than the max duration o...</td>\n",
       "    </tr>\n",
       "    <tr>\n",
       "      <th>271</th>\n",
       "      <td>event_window_fields</td>\n",
       "      <td>(time, endtime)</td>\n",
       "      <td>&lt;OMITTED&gt;</td>\n",
       "      <td>(veto_proximity,)</td>\n",
       "      <td>Fields to determine where to look for overlaps for using this plugin in the events. The default ...</td>\n",
       "    </tr>\n",
       "    <tr>\n",
       "      <th>272</th>\n",
       "      <td>veto_proximity_window</td>\n",
       "      <td>300000000000</td>\n",
       "      <td>&lt;OMITTED&gt;</td>\n",
       "      <td>(veto_proximity,)</td>\n",
       "      <td>Maximum separation between veto stop and start pulses [ns]</td>\n",
       "    </tr>\n",
       "    <tr>\n",
       "      <th>273</th>\n",
       "      <td>time_no_aqmon_veto_found</td>\n",
       "      <td>3600000000000</td>\n",
       "      <td>&lt;OMITTED&gt;</td>\n",
       "      <td>(veto_proximity,)</td>\n",
       "      <td>If no next/previous veto is found, we will fill the fields time_to_previous_XX with this time. S...</td>\n",
       "    </tr>\n",
       "  </tbody>\n",
       "</table>\n",
       "<p>274 rows × 5 columns</p>\n",
       "</div>"
      ],
      "text/plain": [
       "                       option             default  \\\n",
       "0                  gain_model           <OMITTED>   \n",
       "1                  n_tpc_pmts           <OMITTED>   \n",
       "2             LED_window_left                  50   \n",
       "3            LED_window_right                 100   \n",
       "4            baseline_samples                  40   \n",
       "..                        ...                 ...   \n",
       "269        recon_alg_included  (_mlp, _gcn, _cnn)   \n",
       "270           max_veto_window       7200000000000   \n",
       "271       event_window_fields     (time, endtime)   \n",
       "272     veto_proximity_window        300000000000   \n",
       "273  time_no_aqmon_veto_found       3600000000000   \n",
       "\n",
       "                         current            applies_to  \\\n",
       "0    (to_pe_model, ONLINE, True)        (afterpulses,)   \n",
       "1                            494        (afterpulses,)   \n",
       "2                      <OMITTED>        (afterpulses,)   \n",
       "3                      <OMITTED>        (afterpulses,)   \n",
       "4                      <OMITTED>        (afterpulses,)   \n",
       "..                           ...                   ...   \n",
       "269                    <OMITTED>  (s2_recon_pos_diff,)   \n",
       "270                    <OMITTED>     (veto_intervals,)   \n",
       "271                    <OMITTED>     (veto_proximity,)   \n",
       "272                    <OMITTED>     (veto_proximity,)   \n",
       "273                    <OMITTED>     (veto_proximity,)   \n",
       "\n",
       "                                                                                                    help  \n",
       "0                                                  PMT gain model. Specify as (model_type, model_config)  \n",
       "1                                                                                  Number of PMTs in TPC  \n",
       "2                                                Left boundary of sample range for LED pulse integration  \n",
       "3                                               Right boundary of sample range for LED pulse integration  \n",
       "4                                      Number of samples to use at start of WF to determine the baseline  \n",
       "..                                                                                                   ...  \n",
       "269                                                 The list of all reconstruction algorithm considered.  \n",
       "270  Maximum separation between veto stop and start pulses [ns]. Set to be >> than the max duration o...  \n",
       "271  Fields to determine where to look for overlaps for using this plugin in the events. The default ...  \n",
       "272                                           Maximum separation between veto stop and start pulses [ns]  \n",
       "273  If no next/previous veto is found, we will fill the fields time_to_previous_XX with this time. S...  \n",
       "\n",
       "[274 rows x 5 columns]"
      ]
     },
     "execution_count": 7,
     "metadata": {},
     "output_type": "execute_result"
    }
   ],
   "source": [
    "st.show_config('event_info')"
   ]
  },
  {
   "cell_type": "code",
   "execution_count": 8,
   "metadata": {},
   "outputs": [
    {
     "data": {
      "text/html": [
       "<div>\n",
       "<style scoped>\n",
       "    .dataframe tbody tr th:only-of-type {\n",
       "        vertical-align: middle;\n",
       "    }\n",
       "\n",
       "    .dataframe tbody tr th {\n",
       "        vertical-align: top;\n",
       "    }\n",
       "\n",
       "    .dataframe thead th {\n",
       "        text-align: right;\n",
       "    }\n",
       "</style>\n",
       "<table border=\"1\" class=\"dataframe\">\n",
       "  <thead>\n",
       "    <tr style=\"text-align: right;\">\n",
       "      <th></th>\n",
       "      <th>time</th>\n",
       "      <th>endtime</th>\n",
       "      <th>cs1</th>\n",
       "      <th>cs2_wo_elifecorr</th>\n",
       "      <th>cs2_wo_timecorr</th>\n",
       "      <th>cs2_area_fraction_top</th>\n",
       "      <th>cs2_bottom</th>\n",
       "      <th>cs2</th>\n",
       "      <th>alt_cs1</th>\n",
       "      <th>alt_cs2_wo_elifecorr</th>\n",
       "      <th>...</th>\n",
       "      <th>alt_s2_y_mlp</th>\n",
       "      <th>x</th>\n",
       "      <th>y</th>\n",
       "      <th>z</th>\n",
       "      <th>r</th>\n",
       "      <th>z_naive</th>\n",
       "      <th>r_naive</th>\n",
       "      <th>r_field_distortion_correction</th>\n",
       "      <th>z_field_distortion_correction</th>\n",
       "      <th>theta</th>\n",
       "    </tr>\n",
       "  </thead>\n",
       "  <tbody>\n",
       "    <tr>\n",
       "      <th>0</th>\n",
       "      <td>1623144887003148092</td>\n",
       "      <td>1623144887005863030</td>\n",
       "      <td>2.659672</td>\n",
       "      <td>348.436493</td>\n",
       "      <td>370.887268</td>\n",
       "      <td>0.777278</td>\n",
       "      <td>82.604637</td>\n",
       "      <td>370.887268</td>\n",
       "      <td>NaN</td>\n",
       "      <td>34.098747</td>\n",
       "      <td>...</td>\n",
       "      <td>-23.990379</td>\n",
       "      <td>-7.353356</td>\n",
       "      <td>-15.314320</td>\n",
       "      <td>-43.339104</td>\n",
       "      <td>16.988239</td>\n",
       "      <td>-43.339104</td>\n",
       "      <td>16.190155</td>\n",
       "      <td>0.798083</td>\n",
       "      <td>0.007348</td>\n",
       "      <td>-2.018448</td>\n",
       "    </tr>\n",
       "    <tr>\n",
       "      <th>1</th>\n",
       "      <td>1623144887006147772</td>\n",
       "      <td>1623144887008854250</td>\n",
       "      <td>13155.237305</td>\n",
       "      <td>NaN</td>\n",
       "      <td>NaN</td>\n",
       "      <td>NaN</td>\n",
       "      <td>NaN</td>\n",
       "      <td>NaN</td>\n",
       "      <td>4.279365</td>\n",
       "      <td>NaN</td>\n",
       "      <td>...</td>\n",
       "      <td>NaN</td>\n",
       "      <td>45.517769</td>\n",
       "      <td>55.207436</td>\n",
       "      <td>-0.189628</td>\n",
       "      <td>71.552284</td>\n",
       "      <td>-0.189628</td>\n",
       "      <td>69.542831</td>\n",
       "      <td>2.009451</td>\n",
       "      <td>0.000000</td>\n",
       "      <td>0.881302</td>\n",
       "    </tr>\n",
       "    <tr>\n",
       "      <th>2</th>\n",
       "      <td>1623144887030319882</td>\n",
       "      <td>1623144887033327360</td>\n",
       "      <td>61723.960938</td>\n",
       "      <td>28599.917969</td>\n",
       "      <td>29029.152344</td>\n",
       "      <td>0.723225</td>\n",
       "      <td>8034.542969</td>\n",
       "      <td>29029.152344</td>\n",
       "      <td>19.304628</td>\n",
       "      <td>1338.243530</td>\n",
       "      <td>...</td>\n",
       "      <td>53.898460</td>\n",
       "      <td>-35.264309</td>\n",
       "      <td>55.141556</td>\n",
       "      <td>-10.200156</td>\n",
       "      <td>65.453514</td>\n",
       "      <td>-10.200156</td>\n",
       "      <td>61.628628</td>\n",
       "      <td>3.824886</td>\n",
       "      <td>0.744288</td>\n",
       "      <td>2.139771</td>\n",
       "    </tr>\n",
       "    <tr>\n",
       "      <th>3</th>\n",
       "      <td>1623144887054958322</td>\n",
       "      <td>1623144887057677700</td>\n",
       "      <td>76545.257812</td>\n",
       "      <td>1266.177612</td>\n",
       "      <td>1266.558594</td>\n",
       "      <td>0.159955</td>\n",
       "      <td>1063.966309</td>\n",
       "      <td>1266.558594</td>\n",
       "      <td>2.062342</td>\n",
       "      <td>17.207802</td>\n",
       "      <td>...</td>\n",
       "      <td>2.884162</td>\n",
       "      <td>31.293451</td>\n",
       "      <td>9.913309</td>\n",
       "      <td>-0.026945</td>\n",
       "      <td>32.826115</td>\n",
       "      <td>-0.026945</td>\n",
       "      <td>37.803139</td>\n",
       "      <td>-4.977024</td>\n",
       "      <td>0.000000</td>\n",
       "      <td>0.306784</td>\n",
       "    </tr>\n",
       "    <tr>\n",
       "      <th>4</th>\n",
       "      <td>1623144887127075472</td>\n",
       "      <td>1623144887129777490</td>\n",
       "      <td>NaN</td>\n",
       "      <td>5178.317383</td>\n",
       "      <td>NaN</td>\n",
       "      <td>0.749424</td>\n",
       "      <td>NaN</td>\n",
       "      <td>NaN</td>\n",
       "      <td>NaN</td>\n",
       "      <td>NaN</td>\n",
       "      <td>...</td>\n",
       "      <td>NaN</td>\n",
       "      <td>NaN</td>\n",
       "      <td>NaN</td>\n",
       "      <td>NaN</td>\n",
       "      <td>NaN</td>\n",
       "      <td>NaN</td>\n",
       "      <td>61.323208</td>\n",
       "      <td>NaN</td>\n",
       "      <td>NaN</td>\n",
       "      <td>2.864871</td>\n",
       "    </tr>\n",
       "  </tbody>\n",
       "</table>\n",
       "<p>5 rows × 111 columns</p>\n",
       "</div>"
      ],
      "text/plain": [
       "                  time              endtime           cs1  cs2_wo_elifecorr  \\\n",
       "0  1623144887003148092  1623144887005863030      2.659672        348.436493   \n",
       "1  1623144887006147772  1623144887008854250  13155.237305               NaN   \n",
       "2  1623144887030319882  1623144887033327360  61723.960938      28599.917969   \n",
       "3  1623144887054958322  1623144887057677700  76545.257812       1266.177612   \n",
       "4  1623144887127075472  1623144887129777490           NaN       5178.317383   \n",
       "\n",
       "   cs2_wo_timecorr  cs2_area_fraction_top   cs2_bottom           cs2  \\\n",
       "0       370.887268               0.777278    82.604637    370.887268   \n",
       "1              NaN                    NaN          NaN           NaN   \n",
       "2     29029.152344               0.723225  8034.542969  29029.152344   \n",
       "3      1266.558594               0.159955  1063.966309   1266.558594   \n",
       "4              NaN               0.749424          NaN           NaN   \n",
       "\n",
       "     alt_cs1  alt_cs2_wo_elifecorr  ...  alt_s2_y_mlp          x          y  \\\n",
       "0        NaN             34.098747  ...    -23.990379  -7.353356 -15.314320   \n",
       "1   4.279365                   NaN  ...           NaN  45.517769  55.207436   \n",
       "2  19.304628           1338.243530  ...     53.898460 -35.264309  55.141556   \n",
       "3   2.062342             17.207802  ...      2.884162  31.293451   9.913309   \n",
       "4        NaN                   NaN  ...           NaN        NaN        NaN   \n",
       "\n",
       "           z          r    z_naive    r_naive  r_field_distortion_correction  \\\n",
       "0 -43.339104  16.988239 -43.339104  16.190155                       0.798083   \n",
       "1  -0.189628  71.552284  -0.189628  69.542831                       2.009451   \n",
       "2 -10.200156  65.453514 -10.200156  61.628628                       3.824886   \n",
       "3  -0.026945  32.826115  -0.026945  37.803139                      -4.977024   \n",
       "4        NaN        NaN        NaN  61.323208                            NaN   \n",
       "\n",
       "   z_field_distortion_correction     theta  \n",
       "0                       0.007348 -2.018448  \n",
       "1                       0.000000  0.881302  \n",
       "2                       0.744288  2.139771  \n",
       "3                       0.000000  0.306784  \n",
       "4                            NaN  2.864871  \n",
       "\n",
       "[5 rows x 111 columns]"
      ]
     },
     "execution_count": 8,
     "metadata": {},
     "output_type": "execute_result"
    }
   ],
   "source": [
    "df.head()"
   ]
  },
  {
   "cell_type": "markdown",
   "metadata": {},
   "source": [
    "Let's make a quick plot of the events we just loaded:"
   ]
  },
  {
   "cell_type": "code",
   "execution_count": 9,
   "metadata": {},
   "outputs": [
    {
     "data": {
      "image/png": "[encoded data removed]",
      "text/plain": [
       "<Figure size 432x288 with 1 Axes>"
      ]
     },
     "metadata": {
      "needs_background": "light"
     },
     "output_type": "display_data"
    }
   ],
   "source": [
    "df.plot.scatter('cs1', 'cs2')\n",
    "\n",
    "import matplotlib.pyplot as plt\n",
    "plt.xscale('log')\n",
    "plt.xlim(1, None)\n",
    "plt.yscale('log')"
   ]
  },
  {
   "cell_type": "markdown",
   "metadata": {},
   "source": [
    "Since making a cS1, cS2 plot for a dataset is such a common task that straxen has a built-in method for it. There are other similar mini-analyses, such a waveform plotting, which we will see in action below."
   ]
  },
  {
   "cell_type": "code",
   "execution_count": 10,
   "metadata": {},
   "outputs": [
    {
     "data": {
      "image/png": "[encoded data removed]",
      "text/plain": [
       "<Figure size 504x360 with 4 Axes>"
      ]
     },
     "metadata": {
      "needs_background": "light"
     },
     "output_type": "display_data"
    }
   ],
   "source": [
    "st.event_scatter(run_id, s=20, seconds_range=[0,60])"
   ]
  },
  {
   "cell_type": "markdown",
   "metadata": {},
   "source": [
    "Can you guess what kind of data this is?"
   ]
  },
  {
   "cell_type": "markdown",
   "metadata": {},
   "source": [
    "## Waveform analysis"
   ]
  },
  {
   "cell_type": "markdown",
   "metadata": {},
   "source": [
    "The *peaks* data type contains the sum waveform information:"
   ]
  },
  {
   "cell_type": "code",
   "execution_count": 11,
   "metadata": {},
   "outputs": [
    {
     "data": {
      "text/html": [
       "<div>\n",
       "<style scoped>\n",
       "    .dataframe tbody tr th:only-of-type {\n",
       "        vertical-align: middle;\n",
       "    }\n",
       "\n",
       "    .dataframe tbody tr th {\n",
       "        vertical-align: top;\n",
       "    }\n",
       "\n",
       "    .dataframe thead th {\n",
       "        text-align: right;\n",
       "    }\n",
       "</style>\n",
       "<table border=\"1\" class=\"dataframe\">\n",
       "  <thead>\n",
       "    <tr style=\"text-align: right;\">\n",
       "      <th></th>\n",
       "      <th>Field name</th>\n",
       "      <th>Data type</th>\n",
       "      <th>Comment</th>\n",
       "    </tr>\n",
       "  </thead>\n",
       "  <tbody>\n",
       "    <tr>\n",
       "      <th>0</th>\n",
       "      <td>time</td>\n",
       "      <td>int64</td>\n",
       "      <td>Start time since unix epoch [ns]</td>\n",
       "    </tr>\n",
       "    <tr>\n",
       "      <th>1</th>\n",
       "      <td>length</td>\n",
       "      <td>int32</td>\n",
       "      <td>Length of the interval in samples</td>\n",
       "    </tr>\n",
       "    <tr>\n",
       "      <th>2</th>\n",
       "      <td>dt</td>\n",
       "      <td>int32</td>\n",
       "      <td>Width of one sample [ns]</td>\n",
       "    </tr>\n",
       "    <tr>\n",
       "      <th>3</th>\n",
       "      <td>channel</td>\n",
       "      <td>int16</td>\n",
       "      <td>Channel/PMT number</td>\n",
       "    </tr>\n",
       "    <tr>\n",
       "      <th>4</th>\n",
       "      <td>type</td>\n",
       "      <td>int8</td>\n",
       "      <td>Classification of the peak(let)</td>\n",
       "    </tr>\n",
       "    <tr>\n",
       "      <th>5</th>\n",
       "      <td>area</td>\n",
       "      <td>float32</td>\n",
       "      <td>Integral across channels [PE]</td>\n",
       "    </tr>\n",
       "    <tr>\n",
       "      <th>6</th>\n",
       "      <td>area_per_channel</td>\n",
       "      <td>('&lt;f4', (494,))</td>\n",
       "      <td>Integral per channel [PE]</td>\n",
       "    </tr>\n",
       "    <tr>\n",
       "      <th>7</th>\n",
       "      <td>n_hits</td>\n",
       "      <td>int32</td>\n",
       "      <td>Number of hits contributing at least one sample to the peak</td>\n",
       "    </tr>\n",
       "    <tr>\n",
       "      <th>8</th>\n",
       "      <td>data</td>\n",
       "      <td>('&lt;f4', (200,))</td>\n",
       "      <td>Waveform data in PE/sample (not PE/ns!)</td>\n",
       "    </tr>\n",
       "    <tr>\n",
       "      <th>9</th>\n",
       "      <td>width</td>\n",
       "      <td>('&lt;f4', (11,))</td>\n",
       "      <td>Peak widths in range of central area fraction [ns]</td>\n",
       "    </tr>\n",
       "    <tr>\n",
       "      <th>10</th>\n",
       "      <td>area_decile_from_midpoint</td>\n",
       "      <td>('&lt;f4', (11,))</td>\n",
       "      <td>Peak widths: time between nth and 5th area decile [ns]</td>\n",
       "    </tr>\n",
       "    <tr>\n",
       "      <th>11</th>\n",
       "      <td>saturated_channel</td>\n",
       "      <td>('i1', (494,))</td>\n",
       "      <td>Does the channel reach ADC saturation?</td>\n",
       "    </tr>\n",
       "    <tr>\n",
       "      <th>12</th>\n",
       "      <td>n_saturated_channels</td>\n",
       "      <td>int16</td>\n",
       "      <td>Total number of saturated channels</td>\n",
       "    </tr>\n",
       "    <tr>\n",
       "      <th>13</th>\n",
       "      <td>tight_coincidence</td>\n",
       "      <td>int16</td>\n",
       "      <td>Channel within tight range of mean</td>\n",
       "    </tr>\n",
       "    <tr>\n",
       "      <th>14</th>\n",
       "      <td>max_gap</td>\n",
       "      <td>int32</td>\n",
       "      <td>Largest gap between hits inside peak [ns]</td>\n",
       "    </tr>\n",
       "    <tr>\n",
       "      <th>15</th>\n",
       "      <td>max_goodness_of_split</td>\n",
       "      <td>float32</td>\n",
       "      <td>Maximum interior goodness of split</td>\n",
       "    </tr>\n",
       "  </tbody>\n",
       "</table>\n",
       "</div>"
      ],
      "text/plain": [
       "                   Field name        Data type  \\\n",
       "0                        time            int64   \n",
       "1                      length            int32   \n",
       "2                          dt            int32   \n",
       "3                     channel            int16   \n",
       "4                        type             int8   \n",
       "5                        area          float32   \n",
       "6            area_per_channel  ('<f4', (494,))   \n",
       "7                      n_hits            int32   \n",
       "8                        data  ('<f4', (200,))   \n",
       "9                       width   ('<f4', (11,))   \n",
       "10  area_decile_from_midpoint   ('<f4', (11,))   \n",
       "11          saturated_channel   ('i1', (494,))   \n",
       "12       n_saturated_channels            int16   \n",
       "13          tight_coincidence            int16   \n",
       "14                    max_gap            int32   \n",
       "15      max_goodness_of_split          float32   \n",
       "\n",
       "                                                         Comment  \n",
       "0                               Start time since unix epoch [ns]  \n",
       "1                              Length of the interval in samples  \n",
       "2                                       Width of one sample [ns]  \n",
       "3                                             Channel/PMT number  \n",
       "4                                Classification of the peak(let)  \n",
       "5                                  Integral across channels [PE]  \n",
       "6                                      Integral per channel [PE]  \n",
       "7   Number of hits contributing at least one sample to the peak   \n",
       "8                        Waveform data in PE/sample (not PE/ns!)  \n",
       "9             Peak widths in range of central area fraction [ns]  \n",
       "10        Peak widths: time between nth and 5th area decile [ns]  \n",
       "11                        Does the channel reach ADC saturation?  \n",
       "12                            Total number of saturated channels  \n",
       "13                            Channel within tight range of mean  \n",
       "14                     Largest gap between hits inside peak [ns]  \n",
       "15                            Maximum interior goodness of split  "
      ]
     },
     "execution_count": 11,
     "metadata": {},
     "output_type": "execute_result"
    }
   ],
   "source": [
    "st.data_info('peaks')"
   ]
  },
  {
   "cell_type": "markdown",
   "metadata": {},
   "source": [
    "Notice the compound data types of the `data`, `width` and `saturated_channel` fields. Pandas does not support such types (well, it sort of does, but the resulting dataframes are quite inefficient), so we have to load this as a numpy array."
   ]
  },
  {
   "cell_type": "code",
   "execution_count": 12,
   "metadata": {},
   "outputs": [
    {
     "data": {
      "application/vnd.jupyter.widget-view+json": {
       "model_id": "d9c934aa54c74cf6b8e5927d2969bf9f",
       "version_major": 2,
       "version_minor": 0
      },
      "text/plain": [
       "Loading peaks: |          | 0.00 % [00:00<?]"
      ]
     },
     "metadata": {},
     "output_type": "display_data"
    },
    {
     "data": {
      "text/plain": [
       "(numpy.ndarray,\n",
       " ('time',\n",
       "  'length',\n",
       "  'dt',\n",
       "  'channel',\n",
       "  'type',\n",
       "  'area',\n",
       "  'area_per_channel',\n",
       "  'n_hits',\n",
       "  'data',\n",
       "  'width',\n",
       "  'area_decile_from_midpoint',\n",
       "  'saturated_channel',\n",
       "  'n_saturated_channels',\n",
       "  'tight_coincidence',\n",
       "  'max_gap',\n",
       "  'max_goodness_of_split'))"
      ]
     },
     "execution_count": 12,
     "metadata": {},
     "output_type": "execute_result"
    }
   ],
   "source": [
    "peaks = st.get_array(run_id, 'peaks', seconds_range=[0,60])\n",
    "type(peaks), peaks.dtype.names"
   ]
  },
  {
   "cell_type": "markdown",
   "metadata": {},
   "source": [
    "Now we can plot peak waveforms:"
   ]
  },
  {
   "cell_type": "code",
   "execution_count": 13,
   "metadata": {},
   "outputs": [
    {
     "data": {
      "image/png": "[encoded data removed]",
      "text/plain": [
       "<Figure size 432x288 with 1 Axes>"
      ]
     },
     "metadata": {
      "needs_background": "light"
     },
     "output_type": "display_data"
    }
   ],
   "source": [
    "def plot_peak(p, t0=None, **kwargs):\n",
    "    n = p['length']\n",
    "    if t0 is None:\n",
    "        t0 = p['time']\n",
    "    plt.plot((p['time'] - t0) + np.arange(n) * p['dt'], \n",
    "             p['data'][:n] / p['dt'], \n",
    "             drawstyle='steps-mid',\n",
    "             **kwargs)\n",
    "    plt.xlabel(\"Time (ns)\")\n",
    "    plt.ylabel(\"Sum waveform (PE / ns)\")\n",
    "\n",
    "plot_peak(peaks[148])\n",
    "plt.show()"
   ]
  },
  {
   "cell_type": "code",
   "execution_count": 14,
   "metadata": {},
   "outputs": [
    {
     "data": {
      "image/png": "[encoded data removed]",
      "text/plain": [
       "<Figure size 432x288 with 1 Axes>"
      ]
     },
     "metadata": {
      "needs_background": "light"
     },
     "output_type": "display_data"
    }
   ],
   "source": [
    "def plot_peaks(main_i, n_before=0, n_after=0, label_threshold=0, legendloc='best'):\n",
    "    for i in main_i + np.arange(-n_before, n_after + 1):\n",
    "        p = peaks[mask][i]\n",
    "        label = None\n",
    "        if p['area'] > label_threshold:\n",
    "            label = '%d PE, %d ns dt' % (p['area'], p['dt'], )\n",
    "            color = None\n",
    "        else:\n",
    "            color = 'gray'\n",
    "        plot_peak(p,\n",
    "                  t0=peaks[main_i]['time'],\n",
    "                  label=label,\n",
    "                  color=color)\n",
    "    plt.ylim(0, None)\n",
    "    plt.legend(loc=legendloc)\n",
    "    plt.yscale('symlog')\n",
    "\n",
    "# Find the largest peak close to 1e4 PE\n",
    "mask=peaks['area']<1e4\n",
    "i_of_largest_peak = np.argmax(peaks[mask]['area'])\n",
    "plot_peaks(i_of_largest_peak,\n",
    "           n_after=5, \n",
    "           n_before=2, \n",
    "           label_threshold=10, \n",
    "           legendloc=(1.1, 0.0))"
   ]
  },
  {
   "cell_type": "markdown",
   "metadata": {},
   "source": [
    "The abrupt termination of the S2 above is due to strax's data reduction."
   ]
  },
  {
   "cell_type": "markdown",
   "metadata": {},
   "source": [
    "If you have access to the raw data (at least the `records` level) you can use straxen's built-in waveform display. For example, try:\n",
    "\n",
    "```python\n",
    "st.waveform_display(run_id, seconds_range=(0, 0.15))\n",
    "```\n",
    "\n",
    "(we didn't evaluate this in the tutorial, as it creates a substantial amount of javascript, which would have made the notebook quite huge)."
   ]
  },
  {
   "cell_type": "markdown",
   "metadata": {},
   "source": [
    "## Configuration changes"
   ]
  },
  {
   "cell_type": "markdown",
   "metadata": {},
   "source": [
    "As you can see in the above plot, we have many events high up in the TPC at low S1. Perhaps you want to get rid of them by increasing the 'S1 coincidence requirement', i.e. the number of PMTs that must see something before a peak is labeled as S1. Then, of course, you want to load the event-level data again to see if it worked."
   ]
  },
  {
   "cell_type": "markdown",
   "metadata": {},
   "source": [
    "First, we need to see which configuration option we have to change. Strax plugins declare what configuration they take and what other plugins they depend on, so this is not very difficult. We just ask which options with `s1` in their name influence `event_basics`:"
   ]
  },
  {
   "cell_type": "code",
   "execution_count": 29,
   "metadata": {},
   "outputs": [
    {
     "data": {
      "text/html": [
       "<div>\n",
       "<style scoped>\n",
       "    .dataframe tbody tr th:only-of-type {\n",
       "        vertical-align: middle;\n",
       "    }\n",
       "\n",
       "    .dataframe tbody tr th {\n",
       "        vertical-align: top;\n",
       "    }\n",
       "\n",
       "    .dataframe thead th {\n",
       "        text-align: right;\n",
       "    }\n",
       "</style>\n",
       "<table border=\"1\" class=\"dataframe\">\n",
       "  <thead>\n",
       "    <tr style=\"text-align: right;\">\n",
       "      <th></th>\n",
       "      <th>option</th>\n",
       "      <th>applies_to</th>\n",
       "      <th>help</th>\n",
       "      <th>current</th>\n",
       "      <th>default</th>\n",
       "    </tr>\n",
       "  </thead>\n",
       "  <tbody>\n",
       "    <tr>\n",
       "      <th>0</th>\n",
       "      <td>s1_xyz_map</td>\n",
       "      <td>(corrected_areas,)</td>\n",
       "      <td></td>\n",
       "      <td>&lt;OMITTED&gt;</td>\n",
       "      <td>itp_map://resource://cmt://format://s1_xyz_map_{algo}?version=ONLINE&amp;run_id=plugin.run_id&amp;fmt=js...</td>\n",
       "    </tr>\n",
       "    <tr>\n",
       "      <th>1</th>\n",
       "      <td>s1_risetime_area_parameters</td>\n",
       "      <td>(peaklet_classification,)</td>\n",
       "      <td>norm, const, tau in the empirical boundary in the risetime-area plot</td>\n",
       "      <td>&lt;OMITTED&gt;</td>\n",
       "      <td>(50, 80, 12)</td>\n",
       "    </tr>\n",
       "    <tr>\n",
       "      <th>2</th>\n",
       "      <td>s1_risetime_aft_parameters</td>\n",
       "      <td>(peaklet_classification,)</td>\n",
       "      <td>Slope and offset in exponential of emperical boundary in the rise time-AFT plot. Specified as (s...</td>\n",
       "      <td>&lt;OMITTED&gt;</td>\n",
       "      <td>(-1, 2.6)</td>\n",
       "    </tr>\n",
       "    <tr>\n",
       "      <th>3</th>\n",
       "      <td>s1_flatten_threshold_aft</td>\n",
       "      <td>(peaklet_classification,)</td>\n",
       "      <td>Threshold for AFT, above which we use a flatted boundary for rise timeSpecified values: (AFT bou...</td>\n",
       "      <td>&lt;OMITTED&gt;</td>\n",
       "      <td>(0.6, 100)</td>\n",
       "    </tr>\n",
       "    <tr>\n",
       "      <th>4</th>\n",
       "      <td>s1_max_rise_time_post100</td>\n",
       "      <td>(peaklet_classification,)</td>\n",
       "      <td>Maximum S1 rise time for &gt; 100 PE [ns]</td>\n",
       "      <td>&lt;OMITTED&gt;</td>\n",
       "      <td>200</td>\n",
       "    </tr>\n",
       "    <tr>\n",
       "      <th>5</th>\n",
       "      <td>s1_min_coincidence</td>\n",
       "      <td>(peaklet_classification,)</td>\n",
       "      <td>Minimum tight coincidence necessary to make an S1</td>\n",
       "      <td>&lt;OMITTED&gt;</td>\n",
       "      <td>2</td>\n",
       "    </tr>\n",
       "    <tr>\n",
       "      <th>6</th>\n",
       "      <td>s1_optical_map</td>\n",
       "      <td>(event_pattern_fit,)</td>\n",
       "      <td>S1 (x, y, z) optical/pattern map.</td>\n",
       "      <td>&lt;OMITTED&gt;</td>\n",
       "      <td>XENONnT_s1_xyz_patterns_LCE_corrected_qes_MCva43fa9b_wires.pkl</td>\n",
       "    </tr>\n",
       "    <tr>\n",
       "      <th>7</th>\n",
       "      <td>s1_aft_map</td>\n",
       "      <td>(event_pattern_fit,)</td>\n",
       "      <td>Date drive S1 area fraction top map.</td>\n",
       "      <td>&lt;OMITTED&gt;</td>\n",
       "      <td>s1_aft_dd_xyz_XENONnT_Kr83m_41500eV_31Oct2021.json</td>\n",
       "    </tr>\n",
       "    <tr>\n",
       "      <th>8</th>\n",
       "      <td>s1_min_area_pattern_fit</td>\n",
       "      <td>(event_pattern_fit,)</td>\n",
       "      <td>Skip EventPatternFit reconstruction if S1 area (PE) is less than this</td>\n",
       "      <td>&lt;OMITTED&gt;</td>\n",
       "      <td>2</td>\n",
       "    </tr>\n",
       "    <tr>\n",
       "      <th>9</th>\n",
       "      <td>s1_risetime_area_parameters</td>\n",
       "      <td>(peaklet_classification_he,)</td>\n",
       "      <td>norm, const, tau in the empirical boundary in the risetime-area plot</td>\n",
       "      <td>&lt;OMITTED&gt;</td>\n",
       "      <td>(50, 80, 12)</td>\n",
       "    </tr>\n",
       "    <tr>\n",
       "      <th>10</th>\n",
       "      <td>s1_risetime_aft_parameters</td>\n",
       "      <td>(peaklet_classification_he,)</td>\n",
       "      <td>Slope and offset in exponential of emperical boundary in the rise time-AFT plot. Specified as (s...</td>\n",
       "      <td>&lt;OMITTED&gt;</td>\n",
       "      <td>(-1, 2.6)</td>\n",
       "    </tr>\n",
       "    <tr>\n",
       "      <th>11</th>\n",
       "      <td>s1_flatten_threshold_aft</td>\n",
       "      <td>(peaklet_classification_he,)</td>\n",
       "      <td>Threshold for AFT, above which we use a flatted boundary for rise timeSpecified values: (AFT bou...</td>\n",
       "      <td>&lt;OMITTED&gt;</td>\n",
       "      <td>(0.6, 100)</td>\n",
       "    </tr>\n",
       "    <tr>\n",
       "      <th>12</th>\n",
       "      <td>s1_max_rise_time_post100</td>\n",
       "      <td>(peaklet_classification_he,)</td>\n",
       "      <td>Maximum S1 rise time for &gt; 100 PE [ns]</td>\n",
       "      <td>&lt;OMITTED&gt;</td>\n",
       "      <td>200</td>\n",
       "    </tr>\n",
       "    <tr>\n",
       "      <th>13</th>\n",
       "      <td>s1_min_coincidence</td>\n",
       "      <td>(peaklet_classification_he,)</td>\n",
       "      <td>Minimum tight coincidence necessary to make an S1</td>\n",
       "      <td>&lt;OMITTED&gt;</td>\n",
       "      <td>2</td>\n",
       "    </tr>\n",
       "  </tbody>\n",
       "</table>\n",
       "</div>"
      ],
      "text/plain": [
       "                         option                    applies_to  \\\n",
       "0                    s1_xyz_map            (corrected_areas,)   \n",
       "1   s1_risetime_area_parameters     (peaklet_classification,)   \n",
       "2    s1_risetime_aft_parameters     (peaklet_classification,)   \n",
       "3      s1_flatten_threshold_aft     (peaklet_classification,)   \n",
       "4      s1_max_rise_time_post100     (peaklet_classification,)   \n",
       "5            s1_min_coincidence     (peaklet_classification,)   \n",
       "6                s1_optical_map          (event_pattern_fit,)   \n",
       "7                    s1_aft_map          (event_pattern_fit,)   \n",
       "8       s1_min_area_pattern_fit          (event_pattern_fit,)   \n",
       "9   s1_risetime_area_parameters  (peaklet_classification_he,)   \n",
       "10   s1_risetime_aft_parameters  (peaklet_classification_he,)   \n",
       "11     s1_flatten_threshold_aft  (peaklet_classification_he,)   \n",
       "12     s1_max_rise_time_post100  (peaklet_classification_he,)   \n",
       "13           s1_min_coincidence  (peaklet_classification_he,)   \n",
       "\n",
       "                                                                                                   help  \\\n",
       "0                                                                                                         \n",
       "1                                  norm, const, tau in the empirical boundary in the risetime-area plot   \n",
       "2   Slope and offset in exponential of emperical boundary in the rise time-AFT plot. Specified as (s...   \n",
       "3   Threshold for AFT, above which we use a flatted boundary for rise timeSpecified values: (AFT bou...   \n",
       "4                                                                Maximum S1 rise time for > 100 PE [ns]   \n",
       "5                                                     Minimum tight coincidence necessary to make an S1   \n",
       "6                                                                     S1 (x, y, z) optical/pattern map.   \n",
       "7                                                                  Date drive S1 area fraction top map.   \n",
       "8                                 Skip EventPatternFit reconstruction if S1 area (PE) is less than this   \n",
       "9                                  norm, const, tau in the empirical boundary in the risetime-area plot   \n",
       "10  Slope and offset in exponential of emperical boundary in the rise time-AFT plot. Specified as (s...   \n",
       "11  Threshold for AFT, above which we use a flatted boundary for rise timeSpecified values: (AFT bou...   \n",
       "12                                                               Maximum S1 rise time for > 100 PE [ns]   \n",
       "13                                                    Minimum tight coincidence necessary to make an S1   \n",
       "\n",
       "      current  \\\n",
       "0   <OMITTED>   \n",
       "1   <OMITTED>   \n",
       "2   <OMITTED>   \n",
       "3   <OMITTED>   \n",
       "4   <OMITTED>   \n",
       "5   <OMITTED>   \n",
       "6   <OMITTED>   \n",
       "7   <OMITTED>   \n",
       "8   <OMITTED>   \n",
       "9   <OMITTED>   \n",
       "10  <OMITTED>   \n",
       "11  <OMITTED>   \n",
       "12  <OMITTED>   \n",
       "13  <OMITTED>   \n",
       "\n",
       "                                                                                                default  \n",
       "0   itp_map://resource://cmt://format://s1_xyz_map_{algo}?version=ONLINE&run_id=plugin.run_id&fmt=js...  \n",
       "1                                                                                          (50, 80, 12)  \n",
       "2                                                                                             (-1, 2.6)  \n",
       "3                                                                                            (0.6, 100)  \n",
       "4                                                                                                   200  \n",
       "5                                                                                                     2  \n",
       "6                                        XENONnT_s1_xyz_patterns_LCE_corrected_qes_MCva43fa9b_wires.pkl  \n",
       "7                                                    s1_aft_dd_xyz_XENONnT_Kr83m_41500eV_31Oct2021.json  \n",
       "8                                                                                                     2  \n",
       "9                                                                                          (50, 80, 12)  \n",
       "10                                                                                            (-1, 2.6)  \n",
       "11                                                                                           (0.6, 100)  \n",
       "12                                                                                                  200  \n",
       "13                                                                                                    2  "
      ]
     },
     "execution_count": 29,
     "metadata": {},
     "output_type": "execute_result"
    }
   ],
   "source": [
    "st.show_config('event_basics', 's1*')[['option', 'applies_to', 'help', 'current', 'default']]"
   ]
  },
  {
   "cell_type": "markdown",
   "metadata": {},
   "source": [
    "Looks like we're after the `s1_min_coincidence option`. Note this is not part of the `event_basics` data type, but of a data type called `peak_classification`. As you can see from the table, this option is not set in the current context, so the default value (3) is used.\n",
    "\n",
    "To try out a different option, just pass it to get_df:"
   ]
  },
  {
   "cell_type": "code",
   "execution_count": 30,
   "metadata": {},
   "outputs": [],
   "source": [
    "# Let's use a short run for the following exaples\n",
    "run_id='038769'"
   ]
  },
  {
   "cell_type": "code",
   "execution_count": 31,
   "metadata": {},
   "outputs": [
    {
     "data": {
      "application/vnd.jupyter.widget-view+json": {
       "model_id": "4c7b5d64b41b422998d39903f8f66af8",
       "version_major": 2,
       "version_minor": 0
      },
      "text/plain": [
       "Loading event_info: |          | 0.00 % [00:00<?]"
      ]
     },
     "metadata": {},
     "output_type": "display_data"
    },
    {
     "data": {
      "image/png": "[encoded data removed]",
      "text/plain": [
       "<Figure size 504x360 with 4 Axes>"
      ]
     },
     "metadata": {
      "needs_background": "light"
     },
     "output_type": "display_data"
    }
   ],
   "source": [
    "st2 = st.new_context()\n",
    "st2.set_config(dict(s1_min_coincidence=50))\n",
    "df_2 = st2.get_df(run_id, 'event_info',\n",
    "                 config=dict(s1_min_coincidence=50),\n",
    "                )\n",
    "st2.event_scatter(run_id, events=df_2)"
   ]
  },
  {
   "cell_type": "markdown",
   "metadata": {},
   "source": [
    "Notice all the small S1 events are indeed gone now.\n",
    "\n",
    "Behind the scenes, this figured out which dataframes had to be remade: as it happens this time just `event_basics` and `peak_basics`. You will now have a new `event_basics_<somehash>` folder in `./custom_data` which contains the results, as well as a new `peak_basics_<somehash> folder`."
   ]
  },
  {
   "cell_type": "markdown",
   "metadata": {},
   "source": [
    "### More on configuration changes"
   ]
  },
  {
   "cell_type": "markdown",
   "metadata": {},
   "source": [
    "Changing configuration can be done in two other ways. We can change it permanently in the current context:\n",
    "```python\n",
    "st.set_config(dict(s1_min_coincidence=50))\n",
    "```\n",
    "Or we could make a new context, with this option set:\n",
    "```python\n",
    "st_2 = st.new_context(config=dict(s1_min_coincidence=50))\n",
    "```\n",
    "(feeding it to get_df just does the latter behind the scenes).\n",
    "\n",
    "If you just want to run a mini-analysis (like `event_scatter`), you can also pass a new `config` option directly to it, as in the example below."
   ]
  },
  {
   "cell_type": "markdown",
   "metadata": {},
   "source": [
    "Strax protects you from typos in the configuration. Suppose we typed `s1_min_n_channelz` instead:"
   ]
  },
  {
   "cell_type": "code",
   "execution_count": 32,
   "metadata": {},
   "outputs": [
    {
     "name": "stderr",
     "output_type": "stream",
     "text": [
      "Option s1_min_n_channelz not taken by any registered plugin\n",
      "Option s1_min_n_channelz not taken by any registered plugin\n"
     ]
    },
    {
     "ename": "DataNotAvailable",
     "evalue": "Time range selection assumes data is already available, but event_info for 038769 is not.",
     "output_type": "error",
     "traceback": [
      "\u001b[0;31m---------------------------------------------------------------------------\u001b[0m",
      "\u001b[0;31mDataNotAvailable\u001b[0m                          Traceback (most recent call last)",
      "Input \u001b[0;32mIn [32]\u001b[0m, in \u001b[0;36m<module>\u001b[0;34m\u001b[0m\n\u001b[0;32m----> 1\u001b[0m \u001b[43mst\u001b[49m\u001b[38;5;241;43m.\u001b[39;49m\u001b[43mevent_scatter\u001b[49m\u001b[43m(\u001b[49m\u001b[43mrun_id\u001b[49m\u001b[43m,\u001b[49m\u001b[43m \u001b[49m\u001b[43mconfig\u001b[49m\u001b[38;5;241;43m=\u001b[39;49m\u001b[38;5;28;43mdict\u001b[39;49m\u001b[43m(\u001b[49m\u001b[43ms1_min_n_channelz\u001b[49m\u001b[38;5;241;43m=\u001b[39;49m\u001b[38;5;241;43m10\u001b[39;49m\u001b[43m)\u001b[49m\u001b[43m,\u001b[49m\u001b[43m \u001b[49m\u001b[43mseconds_range\u001b[49m\u001b[38;5;241;43m=\u001b[39;49m\u001b[43m[\u001b[49m\u001b[38;5;241;43m0\u001b[39;49m\u001b[43m,\u001b[49m\u001b[38;5;241;43m60\u001b[39;49m\u001b[43m]\u001b[49m\u001b[43m)\u001b[49m\n",
      "File \u001b[0;32m~/software/dev_strax/straxen/straxen/mini_analysis.py:106\u001b[0m, in \u001b[0;36mmini_analysis.<locals>.decorator.<locals>.wrapped_f\u001b[0;34m(context, run_id, **kwargs)\u001b[0m\n\u001b[1;32m    100\u001b[0m         kwargs[dkind] \u001b[38;5;241m=\u001b[39m strax\u001b[38;5;241m.\u001b[39mapply_selection(\n\u001b[1;32m    101\u001b[0m             kwargs[dkind],\n\u001b[1;32m    102\u001b[0m             selection_str\u001b[38;5;241m=\u001b[39mkwargs[\u001b[38;5;124m'\u001b[39m\u001b[38;5;124mselection_str\u001b[39m\u001b[38;5;124m'\u001b[39m],\n\u001b[1;32m    103\u001b[0m             time_range\u001b[38;5;241m=\u001b[39mkwargs[\u001b[38;5;124m'\u001b[39m\u001b[38;5;124mtime_range\u001b[39m\u001b[38;5;124m'\u001b[39m],\n\u001b[1;32m    104\u001b[0m             time_selection\u001b[38;5;241m=\u001b[39mkwargs[\u001b[38;5;124m'\u001b[39m\u001b[38;5;124mtime_selection\u001b[39m\u001b[38;5;124m'\u001b[39m])\n\u001b[1;32m    105\u001b[0m     \u001b[38;5;28;01melse\u001b[39;00m:\n\u001b[0;32m--> 106\u001b[0m         kwargs[dkind] \u001b[38;5;241m=\u001b[39m \u001b[43mcontext\u001b[49m\u001b[38;5;241;43m.\u001b[39;49m\u001b[43mget_array\u001b[49m\u001b[43m(\u001b[49m\n\u001b[1;32m    107\u001b[0m \u001b[43m            \u001b[49m\u001b[43mrun_id\u001b[49m\u001b[43m,\u001b[49m\n\u001b[1;32m    108\u001b[0m \u001b[43m            \u001b[49m\u001b[43mdtypes\u001b[49m\u001b[43m,\u001b[49m\n\u001b[1;32m    109\u001b[0m \u001b[43m            \u001b[49m\u001b[43mselection_str\u001b[49m\u001b[38;5;241;43m=\u001b[39;49m\u001b[43mkwargs\u001b[49m\u001b[43m[\u001b[49m\u001b[38;5;124;43m'\u001b[39;49m\u001b[38;5;124;43mselection_str\u001b[39;49m\u001b[38;5;124;43m'\u001b[39;49m\u001b[43m]\u001b[49m\u001b[43m,\u001b[49m\n\u001b[1;32m    110\u001b[0m \u001b[43m            \u001b[49m\u001b[43mtime_range\u001b[49m\u001b[38;5;241;43m=\u001b[39;49m\u001b[43mkwargs\u001b[49m\u001b[43m[\u001b[49m\u001b[38;5;124;43m'\u001b[39;49m\u001b[38;5;124;43mtime_range\u001b[39;49m\u001b[38;5;124;43m'\u001b[39;49m\u001b[43m]\u001b[49m\u001b[43m,\u001b[49m\n\u001b[1;32m    111\u001b[0m \u001b[43m            \u001b[49m\u001b[43mtime_selection\u001b[49m\u001b[38;5;241;43m=\u001b[39;49m\u001b[43mkwargs\u001b[49m\u001b[43m[\u001b[49m\u001b[38;5;124;43m'\u001b[39;49m\u001b[38;5;124;43mtime_selection\u001b[39;49m\u001b[38;5;124;43m'\u001b[39;49m\u001b[43m]\u001b[49m\u001b[43m,\u001b[49m\n\u001b[1;32m    112\u001b[0m \u001b[43m            \u001b[49m\u001b[38;5;66;43;03m# Arguments for new context, if needed\u001b[39;49;00m\n\u001b[1;32m    113\u001b[0m \u001b[43m            \u001b[49m\u001b[43mconfig\u001b[49m\u001b[38;5;241;43m=\u001b[39;49m\u001b[43mkwargs\u001b[49m\u001b[38;5;241;43m.\u001b[39;49m\u001b[43mget\u001b[49m\u001b[43m(\u001b[49m\u001b[38;5;124;43m'\u001b[39;49m\u001b[38;5;124;43mconfig\u001b[39;49m\u001b[38;5;124;43m'\u001b[39;49m\u001b[43m)\u001b[49m\u001b[43m,\u001b[49m\n\u001b[1;32m    114\u001b[0m \u001b[43m            \u001b[49m\u001b[43mregister\u001b[49m\u001b[38;5;241;43m=\u001b[39;49m\u001b[43mkwargs\u001b[49m\u001b[38;5;241;43m.\u001b[39;49m\u001b[43mget\u001b[49m\u001b[43m(\u001b[49m\u001b[38;5;124;43m'\u001b[39;49m\u001b[38;5;124;43mregister\u001b[39;49m\u001b[38;5;124;43m'\u001b[39;49m\u001b[43m)\u001b[49m\u001b[43m,\u001b[49m\n\u001b[1;32m    115\u001b[0m \u001b[43m            \u001b[49m\u001b[43mstorage\u001b[49m\u001b[38;5;241;43m=\u001b[39;49m\u001b[43mkwargs\u001b[49m\u001b[38;5;241;43m.\u001b[39;49m\u001b[43mget\u001b[49m\u001b[43m(\u001b[49m\u001b[38;5;124;43m'\u001b[39;49m\u001b[38;5;124;43mstorage\u001b[39;49m\u001b[38;5;124;43m'\u001b[39;49m\u001b[43m,\u001b[49m\u001b[43m \u001b[49m\u001b[38;5;28;43mtuple\u001b[39;49m\u001b[43m(\u001b[49m\u001b[43m)\u001b[49m\u001b[43m)\u001b[49m\u001b[43m,\u001b[49m\n\u001b[1;32m    116\u001b[0m \u001b[43m            \u001b[49m\u001b[43mprogress_bar\u001b[49m\u001b[38;5;241;43m=\u001b[39;49m\u001b[38;5;28;43;01mFalse\u001b[39;49;00m\u001b[43m,\u001b[49m\n\u001b[1;32m    117\u001b[0m \u001b[43m        \u001b[49m\u001b[43m)\u001b[49m\n\u001b[1;32m    119\u001b[0m \u001b[38;5;66;03m# If user did not give time kwargs, but the function expects\u001b[39;00m\n\u001b[1;32m    120\u001b[0m \u001b[38;5;66;03m# a time_range, try to add one based on the time range of the data\u001b[39;00m\n\u001b[1;32m    121\u001b[0m base_dkind \u001b[38;5;241m=\u001b[39m \u001b[38;5;28mlist\u001b[39m(deps_by_kind\u001b[38;5;241m.\u001b[39mkeys())[\u001b[38;5;241m0\u001b[39m]\n",
      "File \u001b[0;32m~/software/dev_strax/strax/strax/context.py:1406\u001b[0m, in \u001b[0;36mContext.get_array\u001b[0;34m(self, run_id, targets, save, max_workers, **kwargs)\u001b[0m\n\u001b[1;32m   1399\u001b[0m \u001b[38;5;28;01melse\u001b[39;00m:\n\u001b[1;32m   1400\u001b[0m     source \u001b[38;5;241m=\u001b[39m \u001b[38;5;28mself\u001b[39m\u001b[38;5;241m.\u001b[39mget_iter(\n\u001b[1;32m   1401\u001b[0m         run_ids[\u001b[38;5;241m0\u001b[39m],\n\u001b[1;32m   1402\u001b[0m         targets,\n\u001b[1;32m   1403\u001b[0m         save\u001b[38;5;241m=\u001b[39msave,\n\u001b[1;32m   1404\u001b[0m         max_workers\u001b[38;5;241m=\u001b[39mmax_workers,\n\u001b[1;32m   1405\u001b[0m         \u001b[38;5;241m*\u001b[39m\u001b[38;5;241m*\u001b[39mkwargs)\n\u001b[0;32m-> 1406\u001b[0m     results \u001b[38;5;241m=\u001b[39m [x\u001b[38;5;241m.\u001b[39mdata \u001b[38;5;28;01mfor\u001b[39;00m x \u001b[38;5;129;01min\u001b[39;00m source]\n\u001b[1;32m   1408\u001b[0m results \u001b[38;5;241m=\u001b[39m np\u001b[38;5;241m.\u001b[39mconcatenate(results)\n\u001b[1;32m   1409\u001b[0m \u001b[38;5;28;01mreturn\u001b[39;00m results\n",
      "File \u001b[0;32m~/software/dev_strax/strax/strax/context.py:1406\u001b[0m, in \u001b[0;36m<listcomp>\u001b[0;34m(.0)\u001b[0m\n\u001b[1;32m   1399\u001b[0m \u001b[38;5;28;01melse\u001b[39;00m:\n\u001b[1;32m   1400\u001b[0m     source \u001b[38;5;241m=\u001b[39m \u001b[38;5;28mself\u001b[39m\u001b[38;5;241m.\u001b[39mget_iter(\n\u001b[1;32m   1401\u001b[0m         run_ids[\u001b[38;5;241m0\u001b[39m],\n\u001b[1;32m   1402\u001b[0m         targets,\n\u001b[1;32m   1403\u001b[0m         save\u001b[38;5;241m=\u001b[39msave,\n\u001b[1;32m   1404\u001b[0m         max_workers\u001b[38;5;241m=\u001b[39mmax_workers,\n\u001b[1;32m   1405\u001b[0m         \u001b[38;5;241m*\u001b[39m\u001b[38;5;241m*\u001b[39mkwargs)\n\u001b[0;32m-> 1406\u001b[0m     results \u001b[38;5;241m=\u001b[39m [x\u001b[38;5;241m.\u001b[39mdata \u001b[38;5;28;01mfor\u001b[39;00m x \u001b[38;5;129;01min\u001b[39;00m source]\n\u001b[1;32m   1408\u001b[0m results \u001b[38;5;241m=\u001b[39m np\u001b[38;5;241m.\u001b[39mconcatenate(results)\n\u001b[1;32m   1409\u001b[0m \u001b[38;5;28;01mreturn\u001b[39;00m results\n",
      "File \u001b[0;32m~/software/dev_strax/strax/strax/context.py:1234\u001b[0m, in \u001b[0;36mContext.get_iter\u001b[0;34m(self, run_id, targets, save, max_workers, time_range, seconds_range, time_within, time_selection, selection_str, keep_columns, drop_columns, allow_multiple, progress_bar, _chunk_number, **kwargs)\u001b[0m\n\u001b[1;32m   1225\u001b[0m     \u001b[38;5;28;01melif\u001b[39;00m (\u001b[38;5;28mself\u001b[39m\u001b[38;5;241m.\u001b[39mcontext_config[\u001b[38;5;124m'\u001b[39m\u001b[38;5;124mtimeout\u001b[39m\u001b[38;5;124m'\u001b[39m] \u001b[38;5;241m>\u001b[39m \u001b[38;5;241m7200\u001b[39m \u001b[38;5;129;01mor\u001b[39;00m (\n\u001b[1;32m   1226\u001b[0m             \u001b[38;5;28mself\u001b[39m\u001b[38;5;241m.\u001b[39mcontext_config[\u001b[38;5;124m'\u001b[39m\u001b[38;5;124mallow_lazy\u001b[39m\u001b[38;5;124m'\u001b[39m] \u001b[38;5;129;01mand\u001b[39;00m\n\u001b[1;32m   1227\u001b[0m             \u001b[38;5;129;01mnot\u001b[39;00m \u001b[38;5;28mself\u001b[39m\u001b[38;5;241m.\u001b[39mcontext_config[\u001b[38;5;124m'\u001b[39m\u001b[38;5;124mallow_multiprocess\u001b[39m\u001b[38;5;124m'\u001b[39m])):\n\u001b[1;32m   1228\u001b[0m         \u001b[38;5;66;03m# For allow_multiple we don't want allow this when in lazy mode\u001b[39;00m\n\u001b[1;32m   1229\u001b[0m         \u001b[38;5;66;03m# with long timeouts (lazy-mode is disabled if multiprocessing\u001b[39;00m\n\u001b[1;32m   1230\u001b[0m         \u001b[38;5;66;03m# so if that is activated, we can also continue)\u001b[39;00m\n\u001b[1;32m   1231\u001b[0m         \u001b[38;5;28;01mraise\u001b[39;00m \u001b[38;5;167;01mRuntimeError\u001b[39;00m(\u001b[38;5;124mf\u001b[39m\u001b[38;5;124m'\u001b[39m\u001b[38;5;124mCannot allow_multiple in lazy mode or \u001b[39m\u001b[38;5;124m'\u001b[39m\n\u001b[1;32m   1232\u001b[0m                            \u001b[38;5;124mf\u001b[39m\u001b[38;5;124m'\u001b[39m\u001b[38;5;124mwith long timeouts.\u001b[39m\u001b[38;5;124m'\u001b[39m)\n\u001b[0;32m-> 1234\u001b[0m components \u001b[38;5;241m=\u001b[39m \u001b[38;5;28;43mself\u001b[39;49m\u001b[38;5;241;43m.\u001b[39;49m\u001b[43mget_components\u001b[49m\u001b[43m(\u001b[49m\u001b[43mrun_id\u001b[49m\u001b[43m,\u001b[49m\n\u001b[1;32m   1235\u001b[0m \u001b[43m                                 \u001b[49m\u001b[43mtargets\u001b[49m\u001b[38;5;241;43m=\u001b[39;49m\u001b[43mtargets\u001b[49m\u001b[43m,\u001b[49m\n\u001b[1;32m   1236\u001b[0m \u001b[43m                                 \u001b[49m\u001b[43msave\u001b[49m\u001b[38;5;241;43m=\u001b[39;49m\u001b[43msave\u001b[49m\u001b[43m,\u001b[49m\n\u001b[1;32m   1237\u001b[0m \u001b[43m                                 \u001b[49m\u001b[43mtime_range\u001b[49m\u001b[38;5;241;43m=\u001b[39;49m\u001b[43mtime_range\u001b[49m\u001b[43m,\u001b[49m\n\u001b[1;32m   1238\u001b[0m \u001b[43m                                 \u001b[49m\u001b[43mchunk_number\u001b[49m\u001b[38;5;241;43m=\u001b[39;49m\u001b[43m_chunk_number\u001b[49m\u001b[43m)\u001b[49m\n\u001b[1;32m   1240\u001b[0m \u001b[38;5;66;03m# Cleanup the temp plugins\u001b[39;00m\n\u001b[1;32m   1241\u001b[0m \u001b[38;5;28;01mfor\u001b[39;00m k \u001b[38;5;129;01min\u001b[39;00m \u001b[38;5;28mlist\u001b[39m(\u001b[38;5;28mself\u001b[39m\u001b[38;5;241m.\u001b[39m_plugin_class_registry\u001b[38;5;241m.\u001b[39mkeys()):\n",
      "File \u001b[0;32m~/software/dev_strax/strax/strax/context.py:979\u001b[0m, in \u001b[0;36mContext.get_components\u001b[0;34m(self, run_id, targets, save, time_range, chunk_number)\u001b[0m\n\u001b[1;32m    975\u001b[0m             savers \u001b[38;5;241m=\u001b[39m \u001b[38;5;28mself\u001b[39m\u001b[38;5;241m.\u001b[39m_add_saver(savers, d_to_save, target_plugin,\n\u001b[1;32m    976\u001b[0m                                      _is_superrun, loading_this_data)\n\u001b[1;32m    978\u001b[0m \u001b[38;5;28;01mfor\u001b[39;00m target_i \u001b[38;5;129;01min\u001b[39;00m targets:\n\u001b[0;32m--> 979\u001b[0m     \u001b[43mcheck_cache\u001b[49m\u001b[43m(\u001b[49m\u001b[43mtarget_i\u001b[49m\u001b[43m)\u001b[49m\n\u001b[1;32m    980\u001b[0m plugins \u001b[38;5;241m=\u001b[39m to_compute\n\u001b[1;32m    982\u001b[0m intersec \u001b[38;5;241m=\u001b[39m \u001b[38;5;28mlist\u001b[39m(plugins\u001b[38;5;241m.\u001b[39mkeys() \u001b[38;5;241m&\u001b[39m loaders\u001b[38;5;241m.\u001b[39mkeys())\n",
      "File \u001b[0;32m~/software/dev_strax/strax/strax/context.py:894\u001b[0m, in \u001b[0;36mContext.get_components.<locals>.check_cache\u001b[0;34m(target_i)\u001b[0m\n\u001b[1;32m    891\u001b[0m     \u001b[38;5;28;01mif\u001b[39;00m target_plugin\u001b[38;5;241m.\u001b[39msave_when[target_i] \u001b[38;5;241m==\u001b[39m strax\u001b[38;5;241m.\u001b[39mSaveWhen\u001b[38;5;241m.\u001b[39mTARGET:\n\u001b[1;32m    892\u001b[0m         error_message \u001b[38;5;241m+\u001b[39m\u001b[38;5;241m=\u001b[39m (\u001b[38;5;124mf\u001b[39m\u001b[38;5;124m\"\u001b[39m\u001b[38;5;130;01m\\n\u001b[39;00m\u001b[38;5;124mFirst run st.make(\u001b[39m\u001b[38;5;132;01m{\u001b[39;00mrun_id\u001b[38;5;132;01m}\u001b[39;00m\u001b[38;5;124m, \u001b[39m\u001b[38;5;124m\"\u001b[39m\n\u001b[1;32m    893\u001b[0m                           \u001b[38;5;124mf\u001b[39m\u001b[38;5;124m\"\u001b[39m\u001b[38;5;132;01m{\u001b[39;00mtarget_i\u001b[38;5;132;01m}\u001b[39;00m\u001b[38;5;124m) to make \u001b[39m\u001b[38;5;132;01m{\u001b[39;00mtarget_i\u001b[38;5;132;01m}\u001b[39;00m\u001b[38;5;124m.\u001b[39m\u001b[38;5;124m\"\u001b[39m)\n\u001b[0;32m--> 894\u001b[0m     \u001b[38;5;28;01mraise\u001b[39;00m strax\u001b[38;5;241m.\u001b[39mDataNotAvailable(error_message)\n\u001b[1;32m    895\u001b[0m \u001b[38;5;28;01mif\u001b[39;00m \u001b[38;5;124m'\u001b[39m\u001b[38;5;124m*\u001b[39m\u001b[38;5;124m'\u001b[39m \u001b[38;5;129;01min\u001b[39;00m \u001b[38;5;28mself\u001b[39m\u001b[38;5;241m.\u001b[39mcontext_config[\u001b[38;5;124m'\u001b[39m\u001b[38;5;124mforbid_creation_of\u001b[39m\u001b[38;5;124m'\u001b[39m]:\n\u001b[1;32m    896\u001b[0m     \u001b[38;5;28;01mraise\u001b[39;00m strax\u001b[38;5;241m.\u001b[39mDataNotAvailable(\n\u001b[1;32m    897\u001b[0m         \u001b[38;5;124mf\u001b[39m\u001b[38;5;124m\"\u001b[39m\u001b[38;5;132;01m{\u001b[39;00mtarget_i\u001b[38;5;132;01m}\u001b[39;00m\u001b[38;5;124m for \u001b[39m\u001b[38;5;132;01m{\u001b[39;00mrun_id\u001b[38;5;132;01m}\u001b[39;00m\u001b[38;5;124m not found in any storage, and \u001b[39m\u001b[38;5;124m\"\u001b[39m\n\u001b[1;32m    898\u001b[0m         \u001b[38;5;124m\"\u001b[39m\u001b[38;5;124myour context specifies no new data can be created.\u001b[39m\u001b[38;5;124m\"\u001b[39m)\n",
      "\u001b[0;31mDataNotAvailable\u001b[0m: Time range selection assumes data is already available, but event_info for 038769 is not."
     ]
    }
   ],
   "source": [
    "st.event_scatter(run_id, config=dict(s1_min_n_channelz=10), seconds_range=[0,60])"
   ]
  },
  {
   "cell_type": "markdown",
   "metadata": {},
   "source": [
    "The result of get_df is just the same as if the option wasn't set (just like in pax/hax), but you also get a warning about an unknown configuration option. \n",
    "\n",
    "By the way, you can use \n",
    "```python\n",
    "import warnings\n",
    "warnings.filterwarnings(\"error\")\n",
    "```\n",
    "to ensure any warning raises an exception instead."
   ]
  },
  {
   "cell_type": "markdown",
   "metadata": {},
   "source": [
    "## Customization: new plugins"
   ]
  },
  {
   "cell_type": "markdown",
   "metadata": {},
   "source": [
    "To add or change processing algorithms, or to define new variables to use in cuts, you have to write new strax plugins. These are somewhat similar to hax's treemakers.\n",
    "\n",
    "Suppose you have a brilliant new idea for peak classification. Strax does this in the peaklet_classification plugin, which produces:"
   ]
  },
  {
   "cell_type": "code",
   "execution_count": 33,
   "metadata": {},
   "outputs": [
    {
     "data": {
      "text/html": [
       "<div>\n",
       "<style scoped>\n",
       "    .dataframe tbody tr th:only-of-type {\n",
       "        vertical-align: middle;\n",
       "    }\n",
       "\n",
       "    .dataframe tbody tr th {\n",
       "        vertical-align: top;\n",
       "    }\n",
       "\n",
       "    .dataframe thead th {\n",
       "        text-align: right;\n",
       "    }\n",
       "</style>\n",
       "<table border=\"1\" class=\"dataframe\">\n",
       "  <thead>\n",
       "    <tr style=\"text-align: right;\">\n",
       "      <th></th>\n",
       "      <th>Field name</th>\n",
       "      <th>Data type</th>\n",
       "      <th>Comment</th>\n",
       "    </tr>\n",
       "  </thead>\n",
       "  <tbody>\n",
       "    <tr>\n",
       "      <th>0</th>\n",
       "      <td>time</td>\n",
       "      <td>int64</td>\n",
       "      <td>Start time since unix epoch [ns]</td>\n",
       "    </tr>\n",
       "    <tr>\n",
       "      <th>1</th>\n",
       "      <td>length</td>\n",
       "      <td>int32</td>\n",
       "      <td>Length of the interval in samples</td>\n",
       "    </tr>\n",
       "    <tr>\n",
       "      <th>2</th>\n",
       "      <td>dt</td>\n",
       "      <td>int32</td>\n",
       "      <td>Width of one sample [ns]</td>\n",
       "    </tr>\n",
       "    <tr>\n",
       "      <th>3</th>\n",
       "      <td>channel</td>\n",
       "      <td>int16</td>\n",
       "      <td>Channel/PMT number</td>\n",
       "    </tr>\n",
       "    <tr>\n",
       "      <th>4</th>\n",
       "      <td>type</td>\n",
       "      <td>int8</td>\n",
       "      <td>Classification of the peak(let)</td>\n",
       "    </tr>\n",
       "  </tbody>\n",
       "</table>\n",
       "</div>"
      ],
      "text/plain": [
       "  Field name Data type                            Comment\n",
       "0       time     int64   Start time since unix epoch [ns]\n",
       "1     length     int32  Length of the interval in samples\n",
       "2         dt     int32           Width of one sample [ns]\n",
       "3    channel     int16                 Channel/PMT number\n",
       "4       type      int8    Classification of the peak(let)"
      ]
     },
     "execution_count": 33,
     "metadata": {},
     "output_type": "execute_result"
    }
   ],
   "source": [
    "st.data_info('peaklet_classification')"
   ]
  },
  {
   "cell_type": "markdown",
   "metadata": {},
   "source": [
    "  * The first three fields contain time information of the peak. This is duplicated in many datatypes -- unfortunately, this is necessary for strax to be able to track the data and combine it with other data. Instead of (time, length, dt), plugins could also provide (time, endtime). See [here](https://strax.readthedocs.io/en/latest/advanced/plugin_dev.html#special-time-fields) for more information.\n",
    "  * The 'channel' field is an historical artifact.\n",
    "  * The 'type' field contains the classification: 0 for unknown, 1 for S1, 2 for S2. (note [#8](https://github.com/XENONnT/straxen/issues/8))\n",
    "  \n",
    "You can find the original plugin in [peaklet_processing.py](https://github.com/XENONnT/straxen/blob/master/straxen/plugins/peaklet_processing.py.) Here's how you would make a different classification plugin:"
   ]
  },
  {
   "cell_type": "code",
   "execution_count": 34,
   "metadata": {},
   "outputs": [],
   "source": [
    "import strax\n",
    "import numpy as np\n",
    "\n",
    "class AdvancedExpertClassification(strax.Plugin):\n",
    "    \"\"\"Everything is an S1!\"\"\"\n",
    "    \n",
    "    # Name of the data type this plugin provides\n",
    "    provides = 'peaklet_classification'\n",
    "    \n",
    "    # Data types this plugin requires. Note we don't specify\n",
    "    # what plugins should produce them: maybe the default PeakBasics\n",
    "    # has been replaced by another AdvancedExpertBlabla plugin?\n",
    "    depends_on = ('peaklets',)\n",
    "    \n",
    "    # Numpy datatype of the output \n",
    "    dtype = straxen.PeakletClassification.dtype\n",
    "    \n",
    "    # Version of the plugin. Increment this if you change the algorithm.\n",
    "    __version__ = '0.0.2'\n",
    "\n",
    "    def compute(self, peaklets):\n",
    "        # Your code here.\n",
    "        # This function will be called several times with \n",
    "        # 'peaks' a numpy array of the datatype 'peaks'.\n",
    "        # Each time you'll see a small part of the run.\n",
    "        \n",
    "        # You have to return a numpy array of the dtype you declared above\n",
    "        result = np.zeros(len(peaklets), self.dtype)\n",
    "        \n",
    "        # Copy the basic time fields over from peaklets\n",
    "        for (_, field), _ in strax.time_dt_fields:\n",
    "            result[field] = peaklets[field]\n",
    "            \n",
    "        # Store the classification results\n",
    "        # You might want to do real work here\n",
    "        result['type'] = 1\n",
    "        \n",
    "        return result\n",
    "        \n",
    "        # Instead of an array, you are also allowed to return a dictionary \n",
    "        # we can transform into an array.\n",
    "        # That is, (dict keys -> field names, values -> field values)"
   ]
  },
  {
   "cell_type": "markdown",
   "metadata": {},
   "source": [
    "To use it in place of PeakClassification, we only have to register it. Again, we can do so permanently using \n",
    "```python\n",
    "st.register(AdvancedExpertClassification)\n",
    "```\n",
    "or temporarily, by feeding the registration as an extra argument to `get_df`:"
   ]
  },
  {
   "cell_type": "code",
   "execution_count": 35,
   "metadata": {},
   "outputs": [
    {
     "data": {
      "application/vnd.jupyter.widget-view+json": {
       "model_id": "f7289983bcb54401aca75e151137b30f",
       "version_major": 2,
       "version_minor": 0
      },
      "text/plain": [
       "Loading event_info: |          | 0.00 % [00:00<?]"
      ]
     },
     "metadata": {},
     "output_type": "display_data"
    },
    {
     "name": "stdout",
     "output_type": "stream",
     "text": [
      "Found chunk without events?!\n",
      "Found chunk without events?!\n",
      "Found chunk without events?!\n"
     ]
    }
   ],
   "source": [
    "df = st.get_df(run_id, 'event_info',\n",
    "               register=AdvancedExpertClassification,\n",
    "              )"
   ]
  },
  {
   "cell_type": "code",
   "execution_count": 36,
   "metadata": {},
   "outputs": [
    {
     "data": {
      "text/plain": [
       "nan"
      ]
     },
     "execution_count": 36,
     "metadata": {},
     "output_type": "execute_result"
    }
   ],
   "source": [
    "df['s2_area'].max()"
   ]
  },
  {
   "cell_type": "markdown",
   "metadata": {},
   "source": [
    "As you can see, all events are now S1-only events, as expected. Maybe this is not the best alternative classification :-)\n",
    "\n",
    "This plugin was a rather basic plugin. You'll also want to learn about `LoopPlugin`s and `OverlapWindowPlugin`s, but that's beyond the scope of this tutorial."
   ]
  }
 ],
 "metadata": {
  "kernelspec": {
   "display_name": "Python 3 (ipykernel)",
   "language": "python",
   "name": "python3"
  },
  "language_info": {
   "codemirror_mode": {
    "name": "ipython",
    "version": 3
   },
   "file_extension": ".py",
   "mimetype": "text/x-python",
   "name": "python",
   "nbconvert_exporter": "python",
   "pygments_lexer": "ipython3",
   "version": "3.10.0"
  },
  "latex_envs": {
   "LaTeX_envs_menu_present": true,
   "autoclose": false,
   "autocomplete": true,
   "bibliofile": "biblio.bib",
   "cite_by": "apalike",
   "current_citInitial": 1,
   "eqLabelWithNumbers": true,
   "eqNumInitial": 1,
   "hotkeys": {
    "equation": "Ctrl-E",
    "itemize": "Ctrl-I"
   },
   "labels_anchors": false,
   "latex_user_defs": false,
   "report_style_numbering": false,
   "user_envs_cfg": false
  },
  "varInspector": {
   "cols": {
    "lenName": 16,
    "lenType": 16,
    "lenVar": 40
   },
   "kernels_config": {
    "python": {
     "delete_cmd_postfix": "",
     "delete_cmd_prefix": "del ",
     "library": "var_list.py",
     "varRefreshCmd": "print(var_dic_list())"
    },
    "r": {
     "delete_cmd_postfix": ") ",
     "delete_cmd_prefix": "rm(",
     "library": "var_list.r",
     "varRefreshCmd": "cat(var_dic_list()) "
    }
   },
   "types_to_exclude": [
    "module",
    "function",
    "builtin_function_or_method",
    "instance",
    "_Feature"
   ],
   "window_display": false
  }
 },
 "nbformat": 4,
 "nbformat_minor": 4
}
