{
 "cells": [
  {
   "cell_type": "markdown",
   "metadata": {},
   "source": [
    "# Interactive event display\n",
    "\n",
    "In this short notebook we will explain how the interactive event display can be used and further customized. In the first section the basics are explained. Further, I show how the appearance of the event display can be customized. After the customization section I quickly explain how the record matrix addition works."
   ]
  },
  {
   "cell_type": "code",
   "execution_count": null,
   "metadata": {
    "ExecuteTime": {
     "end_time": "2022-09-08T11:56:39.571609Z",
     "start_time": "2022-09-08T11:56:39.533785Z"
    }
   },
   "outputs": [],
   "source": [
    "import strax\n",
    "import straxen\n",
    "\n",
    "st = straxen.contexts.xenonnt_online(include_rucio_remote=True, download_heavy=True)"
   ]
  },
  {
   "cell_type": "markdown",
   "metadata": {},
   "source": [
    "In addition to our standard import we have to set up our jupyter notebook to show plots directly in the notebook:"
   ]
  },
  {
   "cell_type": "code",
   "execution_count": null,
   "metadata": {
    "ExecuteTime": {
     "end_time": "2022-09-08T11:53:54.226150Z",
     "start_time": "2022-09-08T11:53:54.219806Z"
    }
   },
   "outputs": [],
   "source": [
    "import bokeh.plotting as bklt"
   ]
  },
  {
   "cell_type": "code",
   "execution_count": null,
   "metadata": {},
   "outputs": [],
   "source": [
    "run_id = \"024399\""
   ]
  },
  {
   "cell_type": "markdown",
   "metadata": {},
   "source": [
    "No let us get some events..."
   ]
  },
  {
   "cell_type": "code",
   "execution_count": null,
   "metadata": {
    "ExecuteTime": {
     "end_time": "2022-09-08T11:55:13.119075Z",
     "start_time": "2022-09-08T11:53:54.227824Z"
    }
   },
   "outputs": [],
   "source": [
    "# If data is not stored already download single chunk and make events\n",
    "# for single chunk only\n",
    "if not st.is_stored(run_id, \"event_basics\"):\n",
    "    st.get_array(run_id, \"raw_records\", _chunk_number=0)\n",
    "    st.make(run_id, \"event_basics\", _chunk_number=0)"
   ]
  },
  {
   "cell_type": "code",
   "execution_count": null,
   "metadata": {
    "ExecuteTime": {
     "end_time": "2022-09-08T11:55:13.228702Z",
     "start_time": "2022-09-08T11:55:13.121716Z"
    }
   },
   "outputs": [],
   "source": [
    "events = st.get_array(run_id, \"events\", _chunk_number=0)"
   ]
  },
  {
   "cell_type": "markdown",
   "metadata": {},
   "source": [
    "... and plot an arbitrary one:"
   ]
  },
  {
   "cell_type": "code",
   "execution_count": null,
   "metadata": {
    "ExecuteTime": {
     "end_time": "2022-09-08T11:55:14.031463Z",
     "start_time": "2022-09-08T11:55:13.230004Z"
    }
   },
   "outputs": [],
   "source": [
    "ith_event = 1\n",
    "fig = st.event_display_interactive(\n",
    "    run_id=run_id, time_range=(events[ith_event][\"time\"], events[ith_event][\"endtime\"])\n",
    ")"
   ]
  },
  {
   "cell_type": "markdown",
   "metadata": {},
   "source": [
    "The parameter fig now stores the interactive plot as an instance of the bokeh.plotting class. Sounds complicated but showing the plot is actually quite simple. Before we plot the event it may be helpful to increase the cell width a bit. Although, I spend quite some time to get the auto-scaling of the plot working properly a too small width may lead to an overlap between legends and plots. \n",
    "\n",
    "For my 24 inch screen a width of 80% works fine. If you would like to go back to the default cell width just comment out the cell content below and execute the cell again."
   ]
  },
  {
   "cell_type": "code",
   "execution_count": null,
   "metadata": {
    "ExecuteTime": {
     "end_time": "2022-09-08T11:55:14.046030Z",
     "start_time": "2022-09-08T11:55:14.033211Z"
    }
   },
   "outputs": [],
   "source": [
    "from IPython.core.display import display, HTML\n",
    "\n",
    "display(HTML(\"<style>.container { width:80% !important; }</style>\"))"
   ]
  },
  {
   "cell_type": "markdown",
   "metadata": {},
   "source": [
    "To show the figure we can call:"
   ]
  },
  {
   "cell_type": "code",
   "execution_count": null,
   "metadata": {
    "ExecuteTime": {
     "end_time": "2022-09-08T11:55:14.419587Z",
     "start_time": "2022-09-08T11:55:14.047775Z"
    }
   },
   "outputs": [],
   "source": [
    "bklt.show(fig)"
   ]
  },
  {
   "cell_type": "markdown",
   "metadata": {},
   "source": [
    "We now have an interactive event display with the following features:\n",
    "\n",
    "* Mouseover which holds additional information for all shown Peaks, PMTs and S2 positions. In case you would like to deactivate the mouse over just deselect the speech bubble in the upper right corner of the plot's toolbar. \n",
    "* Interactive legends to select/deselect (semi-transparent) plots. E.g. if you push AS1 for alternative S1 in the upper right figure the alternative S1 will be shown.\n",
    "* Moving, Box-Zoom and Reset tool: Additionally to the already mentioned feature the toolbar in the upper right corner offers a tool for moving (arrows) and zooming (magnifier). This can be helpful to zoom into smaller S1 S2 signals in the large event display in the bottom panel. To reset the zoom you can use arrows on a circle. \n",
    "\n",
    "You can also copy the plots to our wiki. For this purpose you can call..."
   ]
  },
  {
   "cell_type": "code",
   "execution_count": null,
   "metadata": {
    "ExecuteTime": {
     "end_time": "2022-09-08T11:55:15.050003Z",
     "start_time": "2022-09-08T11:55:14.420756Z"
    },
    "scrolled": true,
    "tags": []
   },
   "outputs": [],
   "source": [
    "straxen.bokeh_to_wiki(fig)"
   ]
  },
  {
   "cell_type": "markdown",
   "metadata": {},
   "source": [
    "... which converts the html image into a wiki friendly format. By default the out put is printed to the notebook so you can easily copy it to the wiki. You can also return the html code as a text file if you like. \n",
    "\n",
    "In case you would like to keep the data just as a normal html file you can do:"
   ]
  },
  {
   "cell_type": "code",
   "execution_count": null,
   "metadata": {
    "ExecuteTime": {
     "end_time": "2022-09-08T11:55:15.654409Z",
     "start_time": "2022-09-08T11:55:15.051549Z"
    }
   },
   "outputs": [],
   "source": [
    "bklt.save(fig, \"example.html\")"
   ]
  },
  {
   "cell_type": "markdown",
   "metadata": {},
   "source": [
    "but please be aware that if you want to copy the output to the wiki in this case you have to change the first lines of the file from"
   ]
  },
  {
   "cell_type": "markdown",
   "metadata": {},
   "source": [
    "```html\n",
    "<!DOCTYPE html>\n",
    "<html lang=\"en\">\n",
    "```"
   ]
  },
  {
   "cell_type": "markdown",
   "metadata": {},
   "source": [
    "...into"
   ]
  },
  {
   "cell_type": "markdown",
   "metadata": {},
   "source": [
    "```html\n",
    "<html>\n",
    "```"
   ]
  },
  {
   "cell_type": "markdown",
   "metadata": {},
   "source": [
    "In case you would like to store the event display as a png or svg file please follow this [guide](https://docs.bokeh.org/en/latest/docs/user_guide/export.html)."
   ]
  },
  {
   "cell_type": "markdown",
   "metadata": {},
   "source": [
    "## Manipulating the display appearance\n",
    "\n",
    "For talks or a thesis it might be necessary to modify some of the fonts styles or size. Further, it may be needed to reduce the amount of shown information. For this purpose I added some additional options: \n",
    "\n",
    "* only_main_peaks: If True only the main S1/S2 are plotted in the upper row of plots (detailed peak view and PMT arrays).\n",
    "* only_peak_detail_in_wf: If True plots only the peaks shown in the upper row into the waveform plot (e.g. if only_main_peaks == False only plots main Peaks).\n",
    "* bottom_pmt_array: If False removes bottom PMT array from the upper row.\n",
    "* plot_all_pmts: if true PMTs which are switched off are displayed in the same colors as the other PMTs. By default (False) these PMTs are colored gray.\n",
    "* colors: Changes the colors of the different peak types. The colors are consistently used throughout all plots. The colors have to be specified in the same order as the peak types (Unknown, S1, S2). Support are bokeh.colors e.g. words, rgba values or hex values."
   ]
  },
  {
   "cell_type": "code",
   "execution_count": null,
   "metadata": {
    "ExecuteTime": {
     "end_time": "2022-09-08T11:55:16.005057Z",
     "start_time": "2022-09-08T11:55:15.657602Z"
    }
   },
   "outputs": [],
   "source": [
    "ith_event = 1\n",
    "fig = st.event_display_interactive(\n",
    "    run_id=run_id,\n",
    "    time_range=(events[ith_event][\"time\"], events[ith_event][\"endtime\"]),\n",
    "    only_main_peaks=True,\n",
    "    only_peak_detail_in_wf=True,\n",
    "    bottom_pmt_array=False,\n",
    "    plot_all_pmts=False,\n",
    "    colors=(\"orange\", \"magenta\", \"black\"),\n",
    ")"
   ]
  },
  {
   "cell_type": "code",
   "execution_count": null,
   "metadata": {
    "ExecuteTime": {
     "end_time": "2022-09-08T11:55:16.230595Z",
     "start_time": "2022-09-08T11:55:16.006662Z"
    }
   },
   "outputs": [],
   "source": [
    "bklt.show(fig)"
   ]
  },
  {
   "cell_type": "markdown",
   "metadata": {},
   "source": [
    "### How to customize the display even further? \n",
    "\n",
    "The entire display is build up by many individual figure objects. To customize certain properties we have to add them to the corresponding figure. To get the individual components one can use `fig.children`..."
   ]
  },
  {
   "cell_type": "code",
   "execution_count": null,
   "metadata": {
    "ExecuteTime": {
     "end_time": "2022-09-08T11:55:16.235181Z",
     "start_time": "2022-09-08T11:55:16.232134Z"
    }
   },
   "outputs": [],
   "source": [
    "fig.children"
   ]
  },
  {
   "cell_type": "markdown",
   "metadata": {},
   "source": [
    "... which returns us a list of two objects a DIV object which represents the plot title and a Column object. As you can see already know the event display is actually a very nested thing. If we unpack the column object even further we get ..."
   ]
  },
  {
   "cell_type": "code",
   "execution_count": null,
   "metadata": {
    "ExecuteTime": {
     "end_time": "2022-09-08T11:55:16.241383Z",
     "start_time": "2022-09-08T11:55:16.236763Z"
    }
   },
   "outputs": [],
   "source": [
    "fig.children[1].children"
   ]
  },
  {
   "cell_type": "markdown",
   "metadata": {},
   "source": [
    "... a toolbar and a GridBox. The toolbar represents the toolbar on top of our plots. The Grid box is another nested structure of the upper plot row and the lower waveform. To change now the properties of something specifically we have to get the corresponding object and adjust or add the desired option. Let us for example change the headline color to green. First we have to get the DIV object which uses HTML5 syntax for the styling:"
   ]
  },
  {
   "cell_type": "code",
   "execution_count": null,
   "metadata": {
    "ExecuteTime": {
     "end_time": "2022-09-08T11:55:16.246669Z",
     "start_time": "2022-09-08T11:55:16.243114Z"
    }
   },
   "outputs": [],
   "source": [
    "div = fig.children[0]"
   ]
  },
  {
   "cell_type": "markdown",
   "metadata": {},
   "source": [
    "Lets add the color green:"
   ]
  },
  {
   "cell_type": "code",
   "execution_count": null,
   "metadata": {
    "ExecuteTime": {
     "end_time": "2022-09-08T11:55:16.252202Z",
     "start_time": "2022-09-08T11:55:16.248264Z"
    }
   },
   "outputs": [],
   "source": [
    "div.style[\"color\"] = \"green\""
   ]
  },
  {
   "cell_type": "markdown",
   "metadata": {},
   "source": [
    "Before we plot let us also remove the toolbar:"
   ]
  },
  {
   "cell_type": "code",
   "execution_count": null,
   "metadata": {
    "ExecuteTime": {
     "end_time": "2022-09-08T11:55:16.257692Z",
     "start_time": "2022-09-08T11:55:16.253811Z"
    }
   },
   "outputs": [],
   "source": [
    "tool_box = fig.children[1].children[0]\n",
    "tool_box.visible = False"
   ]
  },
  {
   "cell_type": "code",
   "execution_count": null,
   "metadata": {
    "ExecuteTime": {
     "end_time": "2022-09-08T11:55:16.401893Z",
     "start_time": "2022-09-08T11:55:16.259288Z"
    }
   },
   "outputs": [],
   "source": [
    "bklt.show(fig)"
   ]
  },
  {
   "cell_type": "markdown",
   "metadata": {},
   "source": [
    "## Record matrix\n",
    "\n",
    "The regular event display can be extended by an additional record matrix which is helpful especially for peak building and splitting analyses. To plot the record matrix you have to simply set ` plot_record_matrix=True`. The event display will then automatically check if the specified raw_data is available. The record matrix is build on records, in case only `raw_records` are available the event display will warn you and build the required `records` on the fly.    "
   ]
  },
  {
   "cell_type": "code",
   "execution_count": null,
   "metadata": {
    "ExecuteTime": {
     "end_time": "2022-09-08T11:55:23.070262Z",
     "start_time": "2022-09-08T11:55:16.403447Z"
    }
   },
   "outputs": [],
   "source": [
    "if not st.is_stored(run_id, \"records\"):\n",
    "    st.make(run_id, \"records\", _chunk_number=0)"
   ]
  },
  {
   "cell_type": "code",
   "execution_count": null,
   "metadata": {
    "ExecuteTime": {
     "end_time": "2022-09-08T11:55:32.956498Z",
     "start_time": "2022-09-08T11:55:23.072412Z"
    }
   },
   "outputs": [],
   "source": [
    "ith_event = 2\n",
    "fig = st.event_display_interactive(\n",
    "    run_id=run_id,\n",
    "    time_range=(events[ith_event][\"time\"], events[ith_event][\"endtime\"]),\n",
    "    plot_record_matrix=True,\n",
    "    plot_records_threshold=10,\n",
    ")"
   ]
  },
  {
   "cell_type": "markdown",
   "metadata": {},
   "source": [
    "Please note that in case of ` plot_record_matrix=True` you do not have to call `bklt.show()` as the display library has now changed to panel. Yes I know.... super annoying, but belief me implementing this was even more frustrating....   \n",
    "\n",
    "The record matrix is displayed as as blue squares which are resized depending on the zoom level. Each square is allocated at the center time of the corresponding records. You can change the zoom level by hovering with the mouse over the central peak waveform plot and scrolling up and down with your mouse wheel. As an alternative you can also use the box zoom feature in the same plot. \n",
    "Once you zoomed in far enough, such that the x_range spans only 10 µs (default can be adjusted), the event display will plot all records inside the currently shown window as lines. The line color represents hereby the area of the individual records. If you zoom out again the lines vanish. "
   ]
  },
  {
   "cell_type": "code",
   "execution_count": null,
   "metadata": {
    "ExecuteTime": {
     "end_time": "2022-09-08T11:55:34.429559Z",
     "start_time": "2022-09-08T11:55:32.958117Z"
    }
   },
   "outputs": [],
   "source": [
    "fig"
   ]
  },
  {
   "cell_type": "markdown",
   "metadata": {},
   "source": [
    "The re-plotting of the record array requires an active python kernel in the background. This means that the interactivity of this plot gets lost as soon as it is exported as an HTML file."
   ]
  },
  {
   "cell_type": "markdown",
   "metadata": {},
   "source": [
    "## Event selection\n",
    "\n",
    "(**Currently this function only works in jupyter notebook but not lab**) Beside an interactive event display we also have now an interactive cut selection tool. To use the tool we have to first import get some data:"
   ]
  },
  {
   "cell_type": "code",
   "execution_count": null,
   "metadata": {
    "ExecuteTime": {
     "end_time": "2022-09-08T11:56:51.976656Z",
     "start_time": "2022-09-08T11:56:51.938615Z"
    }
   },
   "outputs": [],
   "source": [
    "peaks = st.get_array(run_id, \"peak_basics\", _chunk_number=0)"
   ]
  },
  {
   "cell_type": "markdown",
   "metadata": {},
   "source": [
    "Now we can import the tool..."
   ]
  },
  {
   "cell_type": "code",
   "execution_count": null,
   "metadata": {
    "ExecuteTime": {
     "end_time": "2022-09-08T11:56:53.176934Z",
     "start_time": "2022-09-08T11:56:53.174582Z"
    }
   },
   "outputs": [],
   "source": [
    "from straxen.analyses.bokeh_waveform_plot import DataSelectionHist"
   ]
  },
  {
   "cell_type": "markdown",
   "metadata": {},
   "source": [
    "... and initialize it. Please note, that you have to put the class object name as a string into the first function argument. Otherwise the JavaScript call back for the data selection wont work."
   ]
  },
  {
   "cell_type": "code",
   "execution_count": null,
   "metadata": {
    "ExecuteTime": {
     "end_time": "2022-09-08T11:56:54.098083Z",
     "start_time": "2022-09-08T11:56:54.088336Z"
    }
   },
   "outputs": [],
   "source": [
    "ds = DataSelectionHist(\"ds\")"
   ]
  },
  {
   "cell_type": "markdown",
   "metadata": {},
   "source": [
    "Now we can plot any data e.g. some peak properties..."
   ]
  },
  {
   "cell_type": "code",
   "execution_count": null,
   "metadata": {
    "ExecuteTime": {
     "end_time": "2022-09-08T11:56:55.609115Z",
     "start_time": "2022-09-08T11:56:55.178475Z"
    }
   },
   "outputs": [],
   "source": [
    "f = ds.histogram2d(\n",
    "    peaks,\n",
    "    peaks[\"area\"],\n",
    "    peaks[\"range_50p_area\"],\n",
    "    bins=50,\n",
    "    hist_range=((0, 200), (0, 2000)),\n",
    "    log_color_scale=True,\n",
    "    clim=(10, None),\n",
    "    undeflow_color=\"white\",\n",
    ")"
   ]
  },
  {
   "cell_type": "markdown",
   "metadata": {},
   "source": [
    "... and with show we can render the plot. \n",
    "\n",
    "Please note that the current implementation is limited to a squared binning (in pixels not in data space as shown). The plot has the typical mousover feature showing the bin position and number of entries. You can deactivate this feature by clicking on speech bubble in the toolbar. \n",
    "\n",
    "However, the main feature is not the mousover but the dynamic data selection. Currently, two tools are supported for the data selection a box cut and a lasso cut allowing for arbitrary selections. By default the lasso tool is active. In general the box tool has a better performance since the computation is easier.\n",
    "\n",
    "If you would like to make multiple selections at once you can press shift to add the selected areas up. "
   ]
  },
  {
   "cell_type": "code",
   "execution_count": null,
   "metadata": {
    "ExecuteTime": {
     "end_time": "2022-09-08T11:56:57.225010Z",
     "start_time": "2022-09-08T11:56:57.217181Z"
    }
   },
   "outputs": [],
   "source": [
    "import bokeh\n",
    "\n",
    "bokeh.io.output_notebook()"
   ]
  },
  {
   "cell_type": "code",
   "execution_count": null,
   "metadata": {
    "ExecuteTime": {
     "end_time": "2022-09-08T11:56:58.492740Z",
     "start_time": "2022-09-08T11:56:58.371759Z"
    }
   },
   "outputs": [],
   "source": [
    "bklt.show(f)"
   ]
  },
  {
   "cell_type": "markdown",
   "metadata": {},
   "source": [
    "Once you are satisfied with your selection you can return the corresponding peaks with..."
   ]
  },
  {
   "cell_type": "code",
   "execution_count": null,
   "metadata": {
    "ExecuteTime": {
     "end_time": "2022-09-08T11:57:05.679005Z",
     "start_time": "2022-09-08T11:57:05.674158Z"
    }
   },
   "outputs": [],
   "source": [
    "ps = ds.get_back_selected_items()"
   ]
  },
  {
   "cell_type": "markdown",
   "metadata": {},
   "source": [
    "... which stores the information is ps. Let us now finally make a control plot to see if the selection work. For this plot we use a finder binning:"
   ]
  },
  {
   "cell_type": "code",
   "execution_count": null,
   "metadata": {
    "ExecuteTime": {
     "end_time": "2022-09-08T11:57:06.362257Z",
     "start_time": "2022-09-08T11:57:06.360294Z"
    }
   },
   "outputs": [],
   "source": [
    "import matplotlib.pyplot as plt\n",
    "import matplotlib\n",
    "\n",
    "plt.figure(dpi=150)\n",
    "plt.hist2d(\n",
    "    peaks[\"area\"],\n",
    "    peaks[\"range_50p_area\"],\n",
    "    bins=(200, 200),\n",
    "    range=((0, 200), (0, 2000)),\n",
    "    norm=matplotlib.colors.LogNorm(),\n",
    "    cmap=\"inferno\",\n",
    ")\n",
    "plt.hist2d(\n",
    "    ps[\"area\"],\n",
    "    ps[\"range_50p_area\"],\n",
    "    bins=(200, 200),\n",
    "    range=((0, 200), (0, 2000)),\n",
    "    norm=matplotlib.colors.LogNorm(),\n",
    "    cmap=\"viridis\",\n",
    ")\n",
    "plt.xlabel(\"Area [pe]\")\n",
    "plt.ylabel(\"50 % Width [ns]\")\n",
    "plt.show()"
   ]
  }
 ],
 "metadata": {
  "kernelspec": {
   "display_name": "Python 3 (ipykernel)",
   "language": "python",
   "name": "python3"
  },
  "language_info": {
   "codemirror_mode": {
    "name": "ipython",
    "version": 3
   },
   "file_extension": ".py",
   "mimetype": "text/x-python",
   "name": "python",
   "nbconvert_exporter": "python",
   "pygments_lexer": "ipython3",
   "version": "3.8.16"
  },
  "nbsphinx": {
   "execute": "never"
  }
 },
 "nbformat": 4,
 "nbformat_minor": 4
}
