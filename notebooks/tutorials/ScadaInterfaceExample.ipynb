{
 "cells": [
  {
   "cell_type": "code",
   "execution_count": 1,
   "metadata": {
    "ExecuteTime": {
     "end_time": "2021-06-23T07:58:43.069604Z",
     "start_time": "2021-06-23T07:58:28.861529Z"
    }
   },
   "outputs": [
    {
     "name": "stderr",
     "output_type": "stream",
     "text": [
      "/home/dwenz/mymodules/straxen/straxen/rucio.py:29: UserWarning: No installation of rucio-clients found. Can't use rucio remove backend\n",
      "  warnings.warn(\"No installation of rucio-clients found. Can't use rucio remove backend\")\n"
     ]
    }
   ],
   "source": [
    "import straxen\n",
    "import matplotlib.pyplot as plt"
   ]
  },
  {
   "cell_type": "markdown",
   "metadata": {},
   "source": [
    "# Tutorial SCADA-Python :\n",
    "\n",
    "In this notebook we show the basic functionalities of our SCADA interface. As a first step we have to initialize the interface. Please note that this is only possible for XENON members who are working on Midway. The straxen client will request a security token from our slowcontrol webservice. This token is only valid 3 hrs."
   ]
  },
  {
   "cell_type": "code",
   "execution_count": 2,
   "metadata": {
    "ExecuteTime": {
     "end_time": "2021-06-23T07:58:43.842920Z",
     "start_time": "2021-06-23T07:58:43.072337Z"
    }
   },
   "outputs": [
    {
     "name": "stdout",
     "output_type": "stream",
     "text": [
      "Received token, the token is valid for 3 hrs.\n",
      " from 23.06. 07:58:43 UTC\n",
      " till 23.06. 10:58:43 UTC\n",
      "We will automatically refresh the token for you :). Have a nice day and a fruitful analysis!\n"
     ]
    }
   ],
   "source": [
    "sc = straxen.SCADAInterface()"
   ]
  },
  {
   "cell_type": "markdown",
   "metadata": {},
   "source": [
    "After getting the token we can query some parameters. Lets try to get some data for a certain time range and set of different parameters. The parameters can be specified via a dictionary which takes as values the Historian database names of the required parameter and some short name as key. Let us query as an example some different parameters:"
   ]
  },
  {
   "cell_type": "code",
   "execution_count": 3,
   "metadata": {
    "ExecuteTime": {
     "end_time": "2021-06-23T07:58:43.848209Z",
     "start_time": "2021-06-23T07:58:43.845452Z"
    }
   },
   "outputs": [],
   "source": [
    "parameters = {'para1': 'XE1T.CTPC.Board06.Chan011.VMon',\n",
    "              'para2': 'XE1T.CRY_TE101_TCRYOBOTT_AI.PI',\n",
    "              'para3': 'XE1T.CRY_PT101_PCHAMBER_AI.PI',\n",
    "              'para4': 'XE1T.GEN_CE911_SLM1_HMON.PI',\n",
    "              'para5': 'XE1T.CRY_FCV104FMON.PI',\n",
    "             }"
   ]
  },
  {
   "cell_type": "markdown",
   "metadata": {},
   "source": [
    "Feel free to give in your own analysis more meaningful parameter keys. Since it can be quite annoying to look up all those parameter names we also offer some functions which can return the corresponding names. For example for our PMTs the following function returns the high-voltage and current names:"
   ]
  },
  {
   "cell_type": "code",
   "execution_count": 4,
   "metadata": {
    "ExecuteTime": {
     "end_time": "2021-06-23T07:58:43.863028Z",
     "start_time": "2021-06-23T07:58:43.850371Z"
    }
   },
   "outputs": [
    {
     "data": {
      "text/plain": [
       "{'PMT10_HV': 'XE1T.CTPC.BOARD03.CHAN008.VMON',\n",
       " 'PMT10_I': 'XE1T.CTPC.BOARD03.CHAN008.IMON',\n",
       " 'PMT11_HV': 'XE1T.CTPC.BOARD04.CHAN002.VMON',\n",
       " 'PMT11_I': 'XE1T.CTPC.BOARD04.CHAN002.IMON'}"
      ]
     },
     "execution_count": 4,
     "metadata": {},
     "output_type": "execute_result"
    }
   ],
   "source": [
    "pmts = sc.find_pmt_names(range(10, 12), hv=True, current=True)\n",
    "pmts"
   ]
  },
  {
   "cell_type": "markdown",
   "metadata": {},
   "source": [
    "Beside the parameters we also have to specify the time range we would like to query. Since straxen handles time intervals in unix time nano-seconds it is  natural to do the same here (Do not worry we can also query times in a human readable way which is shown below). "
   ]
  },
  {
   "cell_type": "code",
   "execution_count": 5,
   "metadata": {
    "ExecuteTime": {
     "end_time": "2021-06-23T07:59:58.861353Z",
     "start_time": "2021-06-23T07:58:43.865257Z"
    }
   },
   "outputs": [
    {
     "data": {
      "application/vnd.jupyter.widget-view+json": {
       "model_id": "4287bc8d7f9d4c86899e0f72f92ce8e0",
       "version_major": 2,
       "version_minor": 0
      },
      "text/plain": [
       "Load parameters:   0%|          | 0/5 [00:00<?, ?it/s]"
      ]
     },
     "metadata": {},
     "output_type": "display_data"
    }
   ],
   "source": [
    "start = 1609682275000000000\n",
    "end= 1609736527000000000\n",
    "\n",
    "df = sc.get_scada_values(parameters, start=start, end=end, every_nth_value=1)"
   ]
  },
  {
   "cell_type": "markdown",
   "metadata": {},
   "source": [
    "As the name already suggest the data is returned as a simple data DataFrame:"
   ]
  },
  {
   "cell_type": "code",
   "execution_count": 6,
   "metadata": {
    "ExecuteTime": {
     "end_time": "2021-06-23T07:59:58.885297Z",
     "start_time": "2021-06-23T07:59:58.863026Z"
    }
   },
   "outputs": [
    {
     "data": {
      "text/html": [
       "<div>\n",
       "<style scoped>\n",
       "    .dataframe tbody tr th:only-of-type {\n",
       "        vertical-align: middle;\n",
       "    }\n",
       "\n",
       "    .dataframe tbody tr th {\n",
       "        vertical-align: top;\n",
       "    }\n",
       "\n",
       "    .dataframe thead th {\n",
       "        text-align: right;\n",
       "    }\n",
       "</style>\n",
       "<table border=\"1\" class=\"dataframe\">\n",
       "  <thead>\n",
       "    <tr style=\"text-align: right;\">\n",
       "      <th></th>\n",
       "      <th>para1</th>\n",
       "      <th>para2</th>\n",
       "      <th>para3</th>\n",
       "      <th>para4</th>\n",
       "      <th>para5</th>\n",
       "    </tr>\n",
       "    <tr>\n",
       "      <th>time UTC</th>\n",
       "      <th></th>\n",
       "      <th></th>\n",
       "      <th></th>\n",
       "      <th></th>\n",
       "      <th></th>\n",
       "    </tr>\n",
       "  </thead>\n",
       "  <tbody>\n",
       "    <tr>\n",
       "      <th>2021-01-03 13:57:55+00:00</th>\n",
       "      <td>1253.800049</td>\n",
       "      <td>-95.719833</td>\n",
       "      <td>1.935087</td>\n",
       "      <td>3.215701</td>\n",
       "      <td>2.079859</td>\n",
       "    </tr>\n",
       "    <tr>\n",
       "      <th>2021-01-03 13:57:56+00:00</th>\n",
       "      <td>1253.800049</td>\n",
       "      <td>-95.714409</td>\n",
       "      <td>1.934731</td>\n",
       "      <td>3.215701</td>\n",
       "      <td>2.079859</td>\n",
       "    </tr>\n",
       "    <tr>\n",
       "      <th>2021-01-03 13:57:57+00:00</th>\n",
       "      <td>1253.800049</td>\n",
       "      <td>-95.721893</td>\n",
       "      <td>1.935143</td>\n",
       "      <td>3.215701</td>\n",
       "      <td>2.079859</td>\n",
       "    </tr>\n",
       "    <tr>\n",
       "      <th>2021-01-03 13:57:58+00:00</th>\n",
       "      <td>1253.800049</td>\n",
       "      <td>-95.710648</td>\n",
       "      <td>1.935179</td>\n",
       "      <td>3.215701</td>\n",
       "      <td>2.079859</td>\n",
       "    </tr>\n",
       "    <tr>\n",
       "      <th>2021-01-03 13:57:59+00:00</th>\n",
       "      <td>1253.800049</td>\n",
       "      <td>-95.714691</td>\n",
       "      <td>1.934264</td>\n",
       "      <td>3.179139</td>\n",
       "      <td>2.079859</td>\n",
       "    </tr>\n",
       "  </tbody>\n",
       "</table>\n",
       "</div>"
      ],
      "text/plain": [
       "                                 para1      para2     para3     para4  \\\n",
       "time UTC                                                                \n",
       "2021-01-03 13:57:55+00:00  1253.800049 -95.719833  1.935087  3.215701   \n",
       "2021-01-03 13:57:56+00:00  1253.800049 -95.714409  1.934731  3.215701   \n",
       "2021-01-03 13:57:57+00:00  1253.800049 -95.721893  1.935143  3.215701   \n",
       "2021-01-03 13:57:58+00:00  1253.800049 -95.710648  1.935179  3.215701   \n",
       "2021-01-03 13:57:59+00:00  1253.800049 -95.714691  1.934264  3.179139   \n",
       "\n",
       "                              para5  \n",
       "time UTC                             \n",
       "2021-01-03 13:57:55+00:00  2.079859  \n",
       "2021-01-03 13:57:56+00:00  2.079859  \n",
       "2021-01-03 13:57:57+00:00  2.079859  \n",
       "2021-01-03 13:57:58+00:00  2.079859  \n",
       "2021-01-03 13:57:59+00:00  2.079859  "
      ]
     },
     "execution_count": 6,
     "metadata": {},
     "output_type": "execute_result"
    }
   ],
   "source": [
    "df.head()"
   ]
  },
  {
   "cell_type": "code",
   "execution_count": 7,
   "metadata": {
    "ExecuteTime": {
     "end_time": "2021-06-23T07:59:59.206377Z",
     "start_time": "2021-06-23T07:59:58.887105Z"
    }
   },
   "outputs": [
    {
     "data": {
      "image/png": "[encoded data removed]",
      "text/plain": [
       "<Figure size 432x288 with 1 Axes>"
      ]
     },
     "metadata": {
      "needs_background": "light"
     },
     "output_type": "display_data"
    }
   ],
   "source": [
    "plt.plot(df['para2'])\n",
    "plt.xlabel('Time [UTC]')\n",
    "plt.ylabel('Temperature at TE101 [°C]')\n",
    "plt.xticks(rotation='45', horizontalalignment='right')\n",
    "plt.show()"
   ]
  },
  {
   "cell_type": "markdown",
   "metadata": {},
   "source": [
    "### Querying data in a human readable way:\n",
    "\n",
    "Querying data with timestamps in nano-seconds unix times can be a bit tedious, especially, if you are not working with any straxen data. In order to allow a query in a human readable way we added some widgets:"
   ]
  },
  {
   "cell_type": "code",
   "execution_count": 8,
   "metadata": {
    "ExecuteTime": {
     "end_time": "2021-06-23T07:59:59.210153Z",
     "start_time": "2021-06-23T07:59:59.207995Z"
    }
   },
   "outputs": [],
   "source": [
    "tw = straxen.TimeWidgets()"
   ]
  },
  {
   "cell_type": "markdown",
   "metadata": {},
   "source": [
    "After initialization you can render the widgets via..."
   ]
  },
  {
   "cell_type": "code",
   "execution_count": 9,
   "metadata": {
    "ExecuteTime": {
     "end_time": "2021-06-23T07:59:59.277438Z",
     "start_time": "2021-06-23T07:59:59.212570Z"
    }
   },
   "outputs": [
    {
     "data": {
      "application/vnd.jupyter.widget-view+json": {
       "model_id": "c9bed63910184e2fbffd776f5b840609",
       "version_major": 2,
       "version_minor": 0
      },
      "text/plain": [
       "VBox(children=(HBox(children=(Dropdown(description='Time Zone:', options=(('CET', 0), ('UTC', 1)), value=0), H…"
      ]
     },
     "metadata": {},
     "output_type": "display_data"
    }
   ],
   "source": [
    "tw.create_widgets()"
   ]
  },
  {
   "cell_type": "markdown",
   "metadata": {},
   "source": [
    "... and select any time range you would like. After specifying a time you can get the start and end time via:"
   ]
  },
  {
   "cell_type": "code",
   "execution_count": 10,
   "metadata": {
    "ExecuteTime": {
     "end_time": "2021-06-23T07:59:59.891006Z",
     "start_time": "2021-06-23T07:59:59.278733Z"
    }
   },
   "outputs": [
    {
     "name": "stdout",
     "output_type": "stream",
     "text": [
      "1624424340000000000 1624427940000000000\n"
     ]
    }
   ],
   "source": [
    "start, end = tw.get_start_end()\n",
    "print(start, end)"
   ]
  },
  {
   "cell_type": "markdown",
   "metadata": {},
   "source": [
    "In addition to this time widget we also offer analyst to query data via run_ids. This can be quite handy if you would like to correlate your data with other detector parameters. Further, you can also query data with a coarser binning e.g. every 300 seconds. Before we can use run_ids though we have to specify the context we are working with:"
   ]
  },
  {
   "cell_type": "code",
   "execution_count": 11,
   "metadata": {
    "ExecuteTime": {
     "end_time": "2021-06-23T07:59:59.945251Z",
     "start_time": "2021-06-23T07:59:59.892856Z"
    }
   },
   "outputs": [],
   "source": [
    "st = straxen.contexts.xenonnt_online()\n",
    "sc.context = st"
   ]
  },
  {
   "cell_type": "code",
   "execution_count": 15,
   "metadata": {
    "ExecuteTime": {
     "end_time": "2021-06-23T08:00:32.174880Z",
     "start_time": "2021-06-23T08:00:29.378285Z"
    }
   },
   "outputs": [
    {
     "data": {
      "application/vnd.jupyter.widget-view+json": {
       "model_id": "d15dedc42d1b45ada18fd37d525f6300",
       "version_major": 2,
       "version_minor": 0
      },
      "text/plain": [
       "Load parameters:   0%|          | 0/5 [00:00<?, ?it/s]"
      ]
     },
     "metadata": {},
     "output_type": "display_data"
    }
   ],
   "source": [
    "df = sc.get_scada_values(parameters, run_id='020280', every_nth_value=10)"
   ]
  },
  {
   "cell_type": "markdown",
   "metadata": {},
   "source": [
    "### Changing the time zone\n",
    "\n",
    "You can also easily change the timezone of your data if needed:"
   ]
  },
  {
   "cell_type": "code",
   "execution_count": 16,
   "metadata": {
    "ExecuteTime": {
     "end_time": "2021-06-23T08:00:32.191464Z",
     "start_time": "2021-06-23T08:00:32.178848Z"
    }
   },
   "outputs": [
    {
     "data": {
      "text/html": [
       "<div>\n",
       "<style scoped>\n",
       "    .dataframe tbody tr th:only-of-type {\n",
       "        vertical-align: middle;\n",
       "    }\n",
       "\n",
       "    .dataframe tbody tr th {\n",
       "        vertical-align: top;\n",
       "    }\n",
       "\n",
       "    .dataframe thead th {\n",
       "        text-align: right;\n",
       "    }\n",
       "</style>\n",
       "<table border=\"1\" class=\"dataframe\">\n",
       "  <thead>\n",
       "    <tr style=\"text-align: right;\">\n",
       "      <th></th>\n",
       "      <th>para1</th>\n",
       "      <th>para2</th>\n",
       "      <th>para3</th>\n",
       "      <th>para4</th>\n",
       "      <th>para5</th>\n",
       "    </tr>\n",
       "    <tr>\n",
       "      <th>time CET</th>\n",
       "      <th></th>\n",
       "      <th></th>\n",
       "      <th></th>\n",
       "      <th></th>\n",
       "      <th></th>\n",
       "    </tr>\n",
       "  </thead>\n",
       "  <tbody>\n",
       "    <tr>\n",
       "      <th>2021-05-24 15:03:52+02:00</th>\n",
       "      <td>1211.0</td>\n",
       "      <td>-96.117081</td>\n",
       "      <td>1.887699</td>\n",
       "      <td>-16.963255</td>\n",
       "      <td>4.632631</td>\n",
       "    </tr>\n",
       "    <tr>\n",
       "      <th>2021-05-24 15:04:02+02:00</th>\n",
       "      <td>1211.0</td>\n",
       "      <td>-96.118813</td>\n",
       "      <td>1.888073</td>\n",
       "      <td>-16.958317</td>\n",
       "      <td>4.983373</td>\n",
       "    </tr>\n",
       "    <tr>\n",
       "      <th>2021-05-24 15:04:12+02:00</th>\n",
       "      <td>1211.0</td>\n",
       "      <td>-96.130096</td>\n",
       "      <td>1.887873</td>\n",
       "      <td>-16.958286</td>\n",
       "      <td>4.983373</td>\n",
       "    </tr>\n",
       "    <tr>\n",
       "      <th>2021-05-24 15:04:22+02:00</th>\n",
       "      <td>1211.0</td>\n",
       "      <td>-96.134781</td>\n",
       "      <td>1.888285</td>\n",
       "      <td>-16.958317</td>\n",
       "      <td>5.216488</td>\n",
       "    </tr>\n",
       "    <tr>\n",
       "      <th>2021-05-24 15:04:32+02:00</th>\n",
       "      <td>1211.0</td>\n",
       "      <td>-96.126343</td>\n",
       "      <td>1.887630</td>\n",
       "      <td>-16.958317</td>\n",
       "      <td>5.216488</td>\n",
       "    </tr>\n",
       "  </tbody>\n",
       "</table>\n",
       "</div>"
      ],
      "text/plain": [
       "                            para1      para2     para3      para4     para5\n",
       "time CET                                                                   \n",
       "2021-05-24 15:03:52+02:00  1211.0 -96.117081  1.887699 -16.963255  4.632631\n",
       "2021-05-24 15:04:02+02:00  1211.0 -96.118813  1.888073 -16.958317  4.983373\n",
       "2021-05-24 15:04:12+02:00  1211.0 -96.130096  1.887873 -16.958286  4.983373\n",
       "2021-05-24 15:04:22+02:00  1211.0 -96.134781  1.888285 -16.958317  5.216488\n",
       "2021-05-24 15:04:32+02:00  1211.0 -96.126343  1.887630 -16.958317  5.216488"
      ]
     },
     "execution_count": 16,
     "metadata": {},
     "output_type": "execute_result"
    }
   ],
   "source": [
    "dfcet = straxen.convert_time_zone(df, 'CET')\n",
    "dfcet.head()"
   ]
  },
  {
   "cell_type": "code",
   "execution_count": 17,
   "metadata": {
    "ExecuteTime": {
     "end_time": "2021-06-23T08:00:32.369995Z",
     "start_time": "2021-06-23T08:00:32.193548Z"
    }
   },
   "outputs": [
    {
     "data": {
      "image/png": "[encoded data removed]",
      "text/plain": [
       "<Figure size 432x288 with 1 Axes>"
      ]
     },
     "metadata": {
      "needs_background": "light"
     },
     "output_type": "display_data"
    }
   ],
   "source": [
    "dfcet['para2'].plot()\n",
    "plt.xlabel('Time [CET]')\n",
    "plt.ylabel('Temperature at TE101 [°C]')\n",
    "plt.xticks(rotation='45', horizontalalignment='right')\n",
    "plt.show()"
   ]
  },
  {
   "cell_type": "code",
   "execution_count": null,
   "metadata": {},
   "outputs": [],
   "source": []
  }
 ],
 "metadata": {
  "kernelspec": {
   "display_name": "Python 3",
   "language": "python",
   "name": "python3"
  },
  "language_info": {
   "codemirror_mode": {
    "name": "ipython",
    "version": 3
   },
   "file_extension": ".py",
   "mimetype": "text/x-python",
   "name": "python",
   "nbconvert_exporter": "python",
   "pygments_lexer": "ipython3",
   "version": "3.8.6"
  }
 },
 "nbformat": 4,
 "nbformat_minor": 4
}
