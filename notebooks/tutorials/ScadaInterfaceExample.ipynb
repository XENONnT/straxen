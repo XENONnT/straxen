{
 "cells": [
  {
   "cell_type": "code",
   "execution_count": 1,
   "metadata": {
    "ExecuteTime": {
     "end_time": "2021-06-17T14:54:08.411307Z",
     "start_time": "2021-06-17T14:53:13.435259Z"
    }
   },
   "outputs": [],
   "source": [
    "import straxen\n",
    "import matplotlib.pyplot as plt"
   ]
  },
  {
   "cell_type": "markdown",
   "metadata": {},
   "source": [
    "# Tutorial SCADA-Python :\n",
    "\n",
    "In this notebook we show the basic functionalities of our SCADA interface. As a first step we have to initialize the interface. Please note that this is only possible for XENON members who are working on Midway. The straxen client will request a security token from our slowcontrol webservice. This token is only valid 3 hrs."
   ]
  },
  {
   "cell_type": "code",
   "execution_count": 23,
   "metadata": {
    "ExecuteTime": {
     "end_time": "2021-06-17T15:31:49.625746Z",
     "start_time": "2021-06-17T15:31:49.155245Z"
    }
   },
   "outputs": [
    {
     "name": "stdout",
     "output_type": "stream",
     "text": [
      "Received token, the token is valid for 3 hrs.\n",
      " from 17.06. 15:31:49 UTC\n",
      " till 17.06. 18:31:49 UTC\n",
      "We will automatically refresh the token for you :). Have a nice day and a fruitful analysis!\n"
     ]
    }
   ],
   "source": [
    "sc = straxen.SCADAInterface()"
   ]
  },
  {
   "cell_type": "markdown",
   "metadata": {},
   "source": [
    "After getting the token we can query some parameters. Lets try to get some data for a certain time range and set of different parameters. The parameters can be specified via a dictionary which takes as values the Historian database names of the required parameter and some short name as key. Let us query as an example some different parameters:"
   ]
  },
  {
   "cell_type": "code",
   "execution_count": 24,
   "metadata": {
    "ExecuteTime": {
     "end_time": "2021-06-17T15:31:49.729703Z",
     "start_time": "2021-06-17T15:31:49.725985Z"
    }
   },
   "outputs": [],
   "source": [
    "parameters = {'para1': 'XE1T.CTPC.Board06.Chan011.VMon',\n",
    "              'para2': 'XE1T.CRY_TE101_TCRYOBOTT_AI.PI',\n",
    "              'para3': 'XE1T.CRY_PT101_PCHAMBER_AI.PI',\n",
    "              'para4': 'XE1T.GEN_CE911_SLM1_HMON.PI',\n",
    "              'para5': 'XE1T.CRY_FCV104FMON.PI',\n",
    "             }"
   ]
  },
  {
   "cell_type": "markdown",
   "metadata": {},
   "source": [
    "Feel free to give in your own analysis more meaningful parameter keys. Since it can be quite annoying to look up all those parameter names we also offer some functions which can return the corresponding names. For example for our PMTs the following function returns the high-voltage and current names:"
   ]
  },
  {
   "cell_type": "code",
   "execution_count": 25,
   "metadata": {
    "ExecuteTime": {
     "end_time": "2021-06-17T15:31:50.355292Z",
     "start_time": "2021-06-17T15:31:50.340490Z"
    }
   },
   "outputs": [
    {
     "data": {
      "text/plain": [
       "{'PMT10_HV': 'XE1T.CTPC.BOARD03.CHAN008.VMON',\n",
       " 'PMT10_I': 'XE1T.CTPC.BOARD03.CHAN008.IMON',\n",
       " 'PMT11_HV': 'XE1T.CTPC.BOARD04.CHAN002.VMON',\n",
       " 'PMT11_I': 'XE1T.CTPC.BOARD04.CHAN002.IMON'}"
      ]
     },
     "execution_count": 25,
     "metadata": {},
     "output_type": "execute_result"
    }
   ],
   "source": [
    "pmts = sc.find_pmt_names(range(10, 12), hv=True, current=True)\n",
    "pmts"
   ]
  },
  {
   "cell_type": "markdown",
   "metadata": {},
   "source": [
    "Beside the parameters we also have to specify the time range we would like to query. Since straxen handles time intervals in unix time nano-seconds it is  natural to do the same here (Do not worry we can also query times in a human readable way which is shown below). "
   ]
  },
  {
   "cell_type": "code",
   "execution_count": 26,
   "metadata": {
    "ExecuteTime": {
     "end_time": "2021-06-17T15:33:10.608862Z",
     "start_time": "2021-06-17T15:31:52.692659Z"
    }
   },
   "outputs": [
    {
     "data": {
      "application/vnd.jupyter.widget-view+json": {
       "model_id": "3dabaf9701164054aef1fca184c7ca68",
       "version_major": 2,
       "version_minor": 0
      },
      "text/plain": [
       "Load parameters:   0%|          | 0/5 [00:00<?, ?it/s]"
      ]
     },
     "metadata": {},
     "output_type": "display_data"
    }
   ],
   "source": [
    "start = 1609682275000000000\n",
    "end= 1609736527000000000\n",
    "\n",
    "df = sc.get_scada_values(parameters, start=start, end=end, every_nth_value=1)"
   ]
  },
  {
   "cell_type": "markdown",
   "metadata": {},
   "source": [
    "As the name already suggest the data is returned as a simple data DataFrame:"
   ]
  },
  {
   "cell_type": "code",
   "execution_count": 27,
   "metadata": {
    "ExecuteTime": {
     "end_time": "2021-06-17T15:33:10.621382Z",
     "start_time": "2021-06-17T15:33:10.610555Z"
    }
   },
   "outputs": [
    {
     "data": {
      "text/html": [
       "<div>\n",
       "<style scoped>\n",
       "    .dataframe tbody tr th:only-of-type {\n",
       "        vertical-align: middle;\n",
       "    }\n",
       "\n",
       "    .dataframe tbody tr th {\n",
       "        vertical-align: top;\n",
       "    }\n",
       "\n",
       "    .dataframe thead th {\n",
       "        text-align: right;\n",
       "    }\n",
       "</style>\n",
       "<table border=\"1\" class=\"dataframe\">\n",
       "  <thead>\n",
       "    <tr style=\"text-align: right;\">\n",
       "      <th></th>\n",
       "      <th>para1</th>\n",
       "      <th>para2</th>\n",
       "      <th>para3</th>\n",
       "      <th>para4</th>\n",
       "      <th>para5</th>\n",
       "    </tr>\n",
       "    <tr>\n",
       "      <th>time UTC</th>\n",
       "      <th></th>\n",
       "      <th></th>\n",
       "      <th></th>\n",
       "      <th></th>\n",
       "      <th></th>\n",
       "    </tr>\n",
       "  </thead>\n",
       "  <tbody>\n",
       "    <tr>\n",
       "      <th>2021-01-03 13:57:55+00:00</th>\n",
       "      <td>2.797</td>\n",
       "      <td>-95.719833</td>\n",
       "      <td>1.935087</td>\n",
       "      <td>3.215701</td>\n",
       "      <td>2.079859</td>\n",
       "    </tr>\n",
       "    <tr>\n",
       "      <th>2021-01-03 13:57:56+00:00</th>\n",
       "      <td>2.797</td>\n",
       "      <td>-95.714409</td>\n",
       "      <td>1.934731</td>\n",
       "      <td>3.215701</td>\n",
       "      <td>2.079859</td>\n",
       "    </tr>\n",
       "    <tr>\n",
       "      <th>2021-01-03 13:57:57+00:00</th>\n",
       "      <td>2.795</td>\n",
       "      <td>-95.721893</td>\n",
       "      <td>1.935143</td>\n",
       "      <td>3.215701</td>\n",
       "      <td>2.079859</td>\n",
       "    </tr>\n",
       "    <tr>\n",
       "      <th>2021-01-03 13:57:58+00:00</th>\n",
       "      <td>2.795</td>\n",
       "      <td>-95.710648</td>\n",
       "      <td>1.935179</td>\n",
       "      <td>3.215701</td>\n",
       "      <td>2.079859</td>\n",
       "    </tr>\n",
       "    <tr>\n",
       "      <th>2021-01-03 13:57:59+00:00</th>\n",
       "      <td>2.795</td>\n",
       "      <td>-95.714691</td>\n",
       "      <td>1.934264</td>\n",
       "      <td>3.179139</td>\n",
       "      <td>2.079859</td>\n",
       "    </tr>\n",
       "  </tbody>\n",
       "</table>\n",
       "</div>"
      ],
      "text/plain": [
       "                           para1      para2     para3     para4     para5\n",
       "time UTC                                                                 \n",
       "2021-01-03 13:57:55+00:00  2.797 -95.719833  1.935087  3.215701  2.079859\n",
       "2021-01-03 13:57:56+00:00  2.797 -95.714409  1.934731  3.215701  2.079859\n",
       "2021-01-03 13:57:57+00:00  2.795 -95.721893  1.935143  3.215701  2.079859\n",
       "2021-01-03 13:57:58+00:00  2.795 -95.710648  1.935179  3.215701  2.079859\n",
       "2021-01-03 13:57:59+00:00  2.795 -95.714691  1.934264  3.179139  2.079859"
      ]
     },
     "execution_count": 27,
     "metadata": {},
     "output_type": "execute_result"
    }
   ],
   "source": [
    "df.head()"
   ]
  },
  {
   "cell_type": "code",
   "execution_count": 28,
   "metadata": {
    "ExecuteTime": {
     "end_time": "2021-06-17T15:33:10.942128Z",
     "start_time": "2021-06-17T15:33:10.623187Z"
    }
   },
   "outputs": [
    {
     "data": {
      "image/png": "[encoded data removed]",
      "text/plain": [
       "<Figure size 432x288 with 1 Axes>"
      ]
     },
     "metadata": {
      "needs_background": "light"
     },
     "output_type": "display_data"
    }
   ],
   "source": [
    "plt.plot(df['para2'])\n",
    "plt.xlabel('Time [UTC]')\n",
    "plt.ylabel('Temperature at TE101 [°C]')\n",
    "plt.xticks(rotation='45', horizontalalignment='right')\n",
    "plt.show()"
   ]
  },
  {
   "cell_type": "markdown",
   "metadata": {},
   "source": [
    "### Querying data in a human readable way:\n",
    "\n",
    "Querying data with timestamps in nano-seconds unix times can be a bit tedious, especially, if you are not working with any straxen data. In order to allow a query in a human readable way we added some widgets:"
   ]
  },
  {
   "cell_type": "code",
   "execution_count": 29,
   "metadata": {
    "ExecuteTime": {
     "end_time": "2021-06-17T15:33:10.946219Z",
     "start_time": "2021-06-17T15:33:10.943865Z"
    }
   },
   "outputs": [],
   "source": [
    "tw = straxen.TimeWidgets()"
   ]
  },
  {
   "cell_type": "markdown",
   "metadata": {},
   "source": [
    "After initialization you can render the widgets via..."
   ]
  },
  {
   "cell_type": "code",
   "execution_count": 30,
   "metadata": {
    "ExecuteTime": {
     "end_time": "2021-06-17T15:33:11.076415Z",
     "start_time": "2021-06-17T15:33:10.947929Z"
    }
   },
   "outputs": [
    {
     "data": {
      "application/vnd.jupyter.widget-view+json": {
       "model_id": "2a38b81c03394796828fcc34d6089840",
       "version_major": 2,
       "version_minor": 0
      },
      "text/plain": [
       "VBox(children=(HBox(children=(Dropdown(description='Time Zone:', options=(('CET', 0), ('UTC', 1)), value=0), H…"
      ]
     },
     "metadata": {},
     "output_type": "display_data"
    }
   ],
   "source": [
    "tw.create_widgets()"
   ]
  },
  {
   "cell_type": "markdown",
   "metadata": {},
   "source": [
    "... and select any time range you would like. After specifying a time you can get the start and end time via:"
   ]
  },
  {
   "cell_type": "code",
   "execution_count": 31,
   "metadata": {
    "ExecuteTime": {
     "end_time": "2021-06-17T15:33:11.086293Z",
     "start_time": "2021-06-17T15:33:11.080705Z"
    }
   },
   "outputs": [
    {
     "name": "stdout",
     "output_type": "stream",
     "text": [
      "1623933180000000000 1623936780000000000\n"
     ]
    }
   ],
   "source": [
    "start, end = tw.get_start_end()\n",
    "print(start, end)"
   ]
  },
  {
   "cell_type": "markdown",
   "metadata": {},
   "source": [
    "In addition to this time widget we also offer analyst to query data via run_ids. This can be quite handy if you would like to correlate your data with other detector parameters. Further, you can also query data with a coarser binning e.g. every 300 seconds. Before we can use run_ids though we have to specify the context we are working with:"
   ]
  },
  {
   "cell_type": "code",
   "execution_count": 32,
   "metadata": {
    "ExecuteTime": {
     "end_time": "2021-06-17T15:33:11.145544Z",
     "start_time": "2021-06-17T15:33:11.091062Z"
    }
   },
   "outputs": [],
   "source": [
    "st = straxen.contexts.xenonnt_online()\n",
    "sc.st = st"
   ]
  },
  {
   "cell_type": "code",
   "execution_count": 21,
   "metadata": {
    "ExecuteTime": {
     "end_time": "2021-06-17T15:31:30.780679Z",
     "start_time": "2021-06-17T15:31:27.936389Z"
    }
   },
   "outputs": [
    {
     "data": {
      "application/vnd.jupyter.widget-view+json": {
       "model_id": "81d2374ab3e148739d2b374ed33c712e",
       "version_major": 2,
       "version_minor": 0
      },
      "text/plain": [
       "Load parameters:   0%|          | 0/5 [00:00<?, ?it/s]"
      ]
     },
     "metadata": {},
     "output_type": "display_data"
    }
   ],
   "source": [
    "df = sc.get_scada_values(parameters, run_id='020280', every_nth_value=300)"
   ]
  },
  {
   "cell_type": "markdown",
   "metadata": {},
   "source": [
    "### Changing the time zone\n",
    "\n",
    "You can also easily change the timezone of your data if needed:"
   ]
  },
  {
   "cell_type": "code",
   "execution_count": 33,
   "metadata": {
    "ExecuteTime": {
     "end_time": "2021-06-17T15:34:32.936450Z",
     "start_time": "2021-06-17T15:34:32.915840Z"
    }
   },
   "outputs": [
    {
     "data": {
      "text/html": [
       "<div>\n",
       "<style scoped>\n",
       "    .dataframe tbody tr th:only-of-type {\n",
       "        vertical-align: middle;\n",
       "    }\n",
       "\n",
       "    .dataframe tbody tr th {\n",
       "        vertical-align: top;\n",
       "    }\n",
       "\n",
       "    .dataframe thead th {\n",
       "        text-align: right;\n",
       "    }\n",
       "</style>\n",
       "<table border=\"1\" class=\"dataframe\">\n",
       "  <thead>\n",
       "    <tr style=\"text-align: right;\">\n",
       "      <th></th>\n",
       "      <th>para1</th>\n",
       "      <th>para2</th>\n",
       "      <th>para3</th>\n",
       "      <th>para4</th>\n",
       "      <th>para5</th>\n",
       "    </tr>\n",
       "    <tr>\n",
       "      <th>time CET</th>\n",
       "      <th></th>\n",
       "      <th></th>\n",
       "      <th></th>\n",
       "      <th></th>\n",
       "      <th></th>\n",
       "    </tr>\n",
       "  </thead>\n",
       "  <tbody>\n",
       "    <tr>\n",
       "      <th>2021-01-03 14:57:55+01:00</th>\n",
       "      <td>2.797</td>\n",
       "      <td>-95.719833</td>\n",
       "      <td>1.935087</td>\n",
       "      <td>3.215701</td>\n",
       "      <td>2.079859</td>\n",
       "    </tr>\n",
       "    <tr>\n",
       "      <th>2021-01-03 14:57:56+01:00</th>\n",
       "      <td>2.797</td>\n",
       "      <td>-95.714409</td>\n",
       "      <td>1.934731</td>\n",
       "      <td>3.215701</td>\n",
       "      <td>2.079859</td>\n",
       "    </tr>\n",
       "    <tr>\n",
       "      <th>2021-01-03 14:57:57+01:00</th>\n",
       "      <td>2.795</td>\n",
       "      <td>-95.721893</td>\n",
       "      <td>1.935143</td>\n",
       "      <td>3.215701</td>\n",
       "      <td>2.079859</td>\n",
       "    </tr>\n",
       "    <tr>\n",
       "      <th>2021-01-03 14:57:58+01:00</th>\n",
       "      <td>2.795</td>\n",
       "      <td>-95.710648</td>\n",
       "      <td>1.935179</td>\n",
       "      <td>3.215701</td>\n",
       "      <td>2.079859</td>\n",
       "    </tr>\n",
       "    <tr>\n",
       "      <th>2021-01-03 14:57:59+01:00</th>\n",
       "      <td>2.795</td>\n",
       "      <td>-95.714691</td>\n",
       "      <td>1.934264</td>\n",
       "      <td>3.179139</td>\n",
       "      <td>2.079859</td>\n",
       "    </tr>\n",
       "  </tbody>\n",
       "</table>\n",
       "</div>"
      ],
      "text/plain": [
       "                           para1      para2     para3     para4     para5\n",
       "time CET                                                                 \n",
       "2021-01-03 14:57:55+01:00  2.797 -95.719833  1.935087  3.215701  2.079859\n",
       "2021-01-03 14:57:56+01:00  2.797 -95.714409  1.934731  3.215701  2.079859\n",
       "2021-01-03 14:57:57+01:00  2.795 -95.721893  1.935143  3.215701  2.079859\n",
       "2021-01-03 14:57:58+01:00  2.795 -95.710648  1.935179  3.215701  2.079859\n",
       "2021-01-03 14:57:59+01:00  2.795 -95.714691  1.934264  3.179139  2.079859"
      ]
     },
     "execution_count": 33,
     "metadata": {},
     "output_type": "execute_result"
    }
   ],
   "source": [
    "dfcet = straxen.convert_time_zone(df, 'CET')\n",
    "dfcet.head()"
   ]
  },
  {
   "cell_type": "code",
   "execution_count": 35,
   "metadata": {
    "ExecuteTime": {
     "end_time": "2021-06-17T15:34:44.871648Z",
     "start_time": "2021-06-17T15:34:44.050141Z"
    }
   },
   "outputs": [
    {
     "data": {
      "image/png": "[encoded data removed]",
      "text/plain": [
       "<Figure size 432x288 with 1 Axes>"
      ]
     },
     "metadata": {
      "needs_background": "light"
     },
     "output_type": "display_data"
    }
   ],
   "source": [
    "dfcet['para2'].plot()\n",
    "plt.xlabel('Time [CET]')\n",
    "plt.ylabel('Temperature at TE101 [°C]')\n",
    "plt.xticks(rotation='45', horizontalalignment='right')\n",
    "plt.show()"
   ]
  },
  {
   "cell_type": "code",
   "execution_count": null,
   "metadata": {},
   "outputs": [],
   "source": []
  }
 ],
 "metadata": {
  "kernelspec": {
   "display_name": "Python 3",
   "language": "python",
   "name": "python3"
  },
  "language_info": {
   "codemirror_mode": {
    "name": "ipython",
    "version": 3
   },
   "file_extension": ".py",
   "mimetype": "text/x-python",
   "name": "python",
   "nbconvert_exporter": "python",
   "pygments_lexer": "ipython3",
   "version": "3.8.6"
  }
 },
 "nbformat": 4,
 "nbformat_minor": 4
}