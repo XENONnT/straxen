{
 "cells": [
  {
   "cell_type": "code",
   "execution_count": 11,
   "id": "083c70e0-3077-45ae-a399-cc655d091cac",
   "metadata": {},
   "outputs": [],
   "source": [
    "import straxen"
   ]
  },
  {
   "cell_type": "markdown",
   "id": "ae5d16b6",
   "metadata": {},
   "source": [
    "# Test Plugin implementation\n",
    "Thanks to the URLConfig, to switch to CMT2.0 all you have to do is change the URL in your context config or change the default value in the plugin definition:\n",
    "As an example lets load the tpc pmt gains and store the average and stdv values in the events data just for fun.\n",
    "\n",
    "```python\n",
    "\n",
    "class CMT2Example(strax.Plugin):\n",
    "    \"\"\"\n",
    "    Plugin which merges the information of all event data_kinds into a\n",
    "    single data_type.\n",
    "    \"\"\"\n",
    "\n",
    "    tpc_gains = URLConfig(default='cmt2://pmt_gains'\n",
    "                                  '?version=v6'\n",
    "                                  '&detector=tpc'\n",
    "                                  '&run_id=plugin.run_id'\n",
    "                                  '&attr=value'\n",
    "                                  '&sort=pmt',\n",
    "                        cache=True)\n",
    "\n",
    "    depends_on = ('event_basics',)\n",
    "\n",
    "    save_when = strax.SaveWhen.NEVER\n",
    "\n",
    "    provides = 'gain_stats'\n",
    "\n",
    "    dtype = strax.time_fields + [\n",
    "        ('gain_average', np.float64, 'Average tpc gains'),\n",
    "        ('gain_std', np.float64, 'stdv of tpc gains'),\n",
    "        ]\n",
    "\n",
    "    __version__ = '0.0.1'\n",
    "\n",
    "\n",
    "    def compute(self, events):\n",
    "        gains = self.tpc_gains\n",
    "        result = np.zeros(len(events), dtype=self.dtype)\n",
    "        result['time'] = events['time']\n",
    "        result['endtime'] = events['endtime']\n",
    "        result['gain_average'] = np.average(gains)\n",
    "        result['gain_std'] = np.std(gains)\n",
    "       \n",
    "        return  result\n",
    "\n",
    "\n",
    "\n",
    "```"
   ]
  },
  {
   "cell_type": "markdown",
   "id": "19139e68-2d51-4b42-8bbc-a4ad1099d6ce",
   "metadata": {},
   "source": [
    "# Using the CMT2.0 test plugin"
   ]
  },
  {
   "cell_type": "markdown",
   "id": "c8a9dd3a-c942-4ee8-86d9-d9d4bd99977e",
   "metadata": {},
   "source": [
    "## Register the plugin"
   ]
  },
  {
   "cell_type": "code",
   "execution_count": 2,
   "id": "4af8f44f-d6c0-4b6d-b767-ead602c4896c",
   "metadata": {},
   "outputs": [
    {
     "data": {
      "text/plain": [
       "straxen.plugins.cmt2_example.CMT2Example"
      ]
     },
     "execution_count": 2,
     "metadata": {},
     "output_type": "execute_result"
    }
   ],
   "source": [
    "st = straxen.test_utils.nt_test_context()\n",
    "st.register(straxen.CMT2Example)"
   ]
  },
  {
   "cell_type": "markdown",
   "id": "5135cb2a-d2ce-42d4-bedf-cd2541ff5c59",
   "metadata": {},
   "source": [
    "## Get the plugin"
   ]
  },
  {
   "cell_type": "code",
   "execution_count": 3,
   "id": "93d81e75-e3e6-4bf9-a38a-663d35243719",
   "metadata": {},
   "outputs": [],
   "source": [
    "p = st.get_single_plugin('012882', 'gain_stats')"
   ]
  },
  {
   "cell_type": "code",
   "execution_count": 4,
   "id": "29ac5294-606c-4303-ac72-01b3416f119b",
   "metadata": {},
   "outputs": [
    {
     "data": {
      "text/plain": [
       "{'tpc_gains': 'cmt2://pmt_gains?version=v6&detector=tpc&run_id=plugin.run_id&attr=value&sort=pmt'}"
      ]
     },
     "execution_count": 4,
     "metadata": {},
     "output_type": "execute_result"
    }
   ],
   "source": [
    "p.config"
   ]
  },
  {
   "cell_type": "markdown",
   "id": "34070907-2f59-45a6-baac-96a331b213af",
   "metadata": {},
   "source": [
    "## Make the test data"
   ]
  },
  {
   "cell_type": "code",
   "execution_count": 6,
   "id": "044e6adf-8aef-439d-b395-f7959453a4ad",
   "metadata": {},
   "outputs": [
    {
     "data": {
      "application/vnd.jupyter.widget-view+json": {
       "model_id": "e83a5794e9e14da8861c9463c30885ca",
       "version_major": 2,
       "version_minor": 0
      },
      "text/plain": [
       "Loading gain_stats: |          | 0.00 % [00:00<?]"
      ]
     },
     "metadata": {},
     "output_type": "display_data"
    }
   ],
   "source": [
    "df = st.get_df('012882', 'gain_stats')"
   ]
  },
  {
   "cell_type": "markdown",
   "id": "283dce4e-c9bc-43c7-9cf1-e28ac64bfd79",
   "metadata": {},
   "source": [
    "## Inspect the test data\n",
    "wow, so beautiful"
   ]
  },
  {
   "cell_type": "code",
   "execution_count": 47,
   "id": "784e0918-c08b-4846-8ccb-14a6db3e0ce9",
   "metadata": {},
   "outputs": [
    {
     "data": {
      "text/html": [
       "<div>\n",
       "<style scoped>\n",
       "    .dataframe tbody tr th:only-of-type {\n",
       "        vertical-align: middle;\n",
       "    }\n",
       "\n",
       "    .dataframe tbody tr th {\n",
       "        vertical-align: top;\n",
       "    }\n",
       "\n",
       "    .dataframe thead th {\n",
       "        text-align: right;\n",
       "    }\n",
       "</style>\n",
       "<table border=\"1\" class=\"dataframe\">\n",
       "  <thead>\n",
       "    <tr style=\"text-align: right;\">\n",
       "      <th></th>\n",
       "      <th>time</th>\n",
       "      <th>endtime</th>\n",
       "      <th>gain_average</th>\n",
       "      <th>gain_std</th>\n",
       "    </tr>\n",
       "  </thead>\n",
       "  <tbody>\n",
       "    <tr>\n",
       "      <th>0</th>\n",
       "      <td>124900000</td>\n",
       "      <td>125756920</td>\n",
       "      <td>0.010926</td>\n",
       "      <td>0.005491</td>\n",
       "    </tr>\n",
       "    <tr>\n",
       "      <th>1</th>\n",
       "      <td>373103602</td>\n",
       "      <td>375986430</td>\n",
       "      <td>0.010926</td>\n",
       "      <td>0.005491</td>\n",
       "    </tr>\n",
       "    <tr>\n",
       "      <th>2</th>\n",
       "      <td>622431032</td>\n",
       "      <td>625294240</td>\n",
       "      <td>0.010926</td>\n",
       "      <td>0.005491</td>\n",
       "    </tr>\n",
       "    <tr>\n",
       "      <th>3</th>\n",
       "      <td>872454492</td>\n",
       "      <td>875318350</td>\n",
       "      <td>0.010926</td>\n",
       "      <td>0.005491</td>\n",
       "    </tr>\n",
       "    <tr>\n",
       "      <th>4</th>\n",
       "      <td>1123095132</td>\n",
       "      <td>1125970040</td>\n",
       "      <td>0.010926</td>\n",
       "      <td>0.005491</td>\n",
       "    </tr>\n",
       "  </tbody>\n",
       "</table>\n",
       "</div>"
      ],
      "text/plain": [
       "         time     endtime  gain_average  gain_std\n",
       "0   124900000   125756920      0.010926  0.005491\n",
       "1   373103602   375986430      0.010926  0.005491\n",
       "2   622431032   625294240      0.010926  0.005491\n",
       "3   872454492   875318350      0.010926  0.005491\n",
       "4  1123095132  1125970040      0.010926  0.005491"
      ]
     },
     "execution_count": 47,
     "metadata": {},
     "output_type": "execute_result"
    }
   ],
   "source": [
    "df.head()"
   ]
  },
  {
   "cell_type": "markdown",
   "id": "3b5c1520-4e3b-4ab5-9d4e-7cd8e4d3c208",
   "metadata": {},
   "source": [
    "## Inspect the gains array\n",
    "wow, so pretty"
   ]
  },
  {
   "cell_type": "code",
   "execution_count": 9,
   "id": "3e09a592-72ff-43f7-bf94-3e30864f2725",
   "metadata": {},
   "outputs": [
    {
     "data": {
      "text/plain": [
       "[0.007978886026682173,\n",
       " 0.008737005473622564,\n",
       " 0.011696056533065597,\n",
       " 0.013830639629634581,\n",
       " 0.008746130220955254,\n",
       " 0.026788049778946853,\n",
       " 0.008659173466360496,\n",
       " 0.007938550091345057,\n",
       " 0.008616717894222567,\n",
       " 0.00921492158937479]"
      ]
     },
     "execution_count": 9,
     "metadata": {},
     "output_type": "execute_result"
    }
   ],
   "source": [
    "p.tpc_gains[:10]"
   ]
  }
 ],
 "metadata": {
  "kernelspec": {
   "display_name": "straxen-dev",
   "language": "python",
   "name": "straxen-dev"
  },
  "language_info": {
   "codemirror_mode": {
    "name": "ipython",
    "version": 3
   },
   "file_extension": ".py",
   "mimetype": "text/x-python",
   "name": "python",
   "nbconvert_exporter": "python",
   "pygments_lexer": "ipython3",
   "version": "3.8.0"
  }
 },
 "nbformat": 4,
 "nbformat_minor": 5
}
