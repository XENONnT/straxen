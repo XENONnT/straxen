{
 "cells": [
  {
   "cell_type": "markdown",
   "metadata": {},
   "source": [
    "# Opening data to do analyses\n",
    "\n",
    "06-01-2020\n",
    "\n",
    "j.angevaare@nikhef.nl\n",
    "\n",
    "\n",
    "To this end we will play with one of our most recent 1T datasets (run), load it, make some selections and plots. We will only be looking at two parameters but the data is rich and can be explored in many more ways.\n",
    "\n",
    "## Goal & setup\n",
    "We want to use straxen to open some data, to this end we show how to make a basic selection and plot some waveforms.\n"
   ]
  },
  {
   "cell_type": "code",
   "execution_count": 1,
   "metadata": {
    "ExecuteTime": {
     "end_time": "2021-01-06T09:47:39.616704Z",
     "start_time": "2021-01-06T09:47:32.294957Z"
    }
   },
   "outputs": [
    {
     "name": "stdout",
     "output_type": "stream",
     "text": [
      "Start import\n",
      "Working on dali030.rcc.local with the following versions \n",
      "and installation paths:\n",
      "strax\n",
      "\tv0.13.2\t/home/angevaare/software/strax/strax\n",
      "straxen\n",
      "\tv0.14.1\t/home/angevaare/software/straxen/straxen\n",
      "\n"
     ]
    }
   ],
   "source": [
    "print('Start import')\n",
    "import socket \n",
    "import strax\n",
    "import straxen\n",
    "import numpy as np\n",
    "import datetime\n",
    "import matplotlib.pyplot as plt\n",
    "from matplotlib.colors import LogNorm\n",
    "import datetime\n",
    "\n",
    "print(\n",
    "f'''Working on {socket.getfqdn()} with the following versions \n",
    "and installation paths:\n",
    "strax\n",
    "\\tv{strax.__version__}\\t{str(strax.__path__[0])}\n",
    "straxen\n",
    "\\tv{straxen.__version__}\\t{str(straxen.__path__[0])}\n",
    "''')"
   ]
  },
  {
   "cell_type": "markdown",
   "metadata": {},
   "source": [
    "### Setup straxen\n",
    "We just have to use the `xenonnt_online` context for nT or the one below for 1T"
   ]
  },
  {
   "cell_type": "code",
   "execution_count": 2,
   "metadata": {
    "ExecuteTime": {
     "end_time": "2021-01-06T09:47:39.634558Z",
     "start_time": "2021-01-06T09:47:39.622525Z"
    }
   },
   "outputs": [],
   "source": [
    "st = straxen.contexts.xenon1t_dali()"
   ]
  },
  {
   "cell_type": "markdown",
   "metadata": {},
   "source": [
    "## Data-availability\n",
    "## Using the context to check what is available.\n",
    "This loads the RunsDB, looks at the runs that are considered in the context and checks if they are available.\n",
    "\n",
    "NB: I'm going to slightly alter the config here to check for multiple datatypes. This takes considereably longer so you can sit back for a while."
   ]
  },
  {
   "cell_type": "code",
   "execution_count": 3,
   "metadata": {
    "ExecuteTime": {
     "end_time": "2021-01-06T09:47:53.521470Z",
     "start_time": "2021-01-06T09:47:39.638460Z"
    }
   },
   "outputs": [
    {
     "name": "stderr",
     "output_type": "stream",
     "text": [
      "Checking data availability: 100%|██████████| 4/4 [00:12<00:00,  3.02s/it]"
     ]
    },
    {
     "name": "stdout",
     "output_type": "stream",
     "text": [
      "CPU times: user 6.8 s, sys: 711 ms, total: 7.51 s\n",
      "Wall time: 13.8 s\n"
     ]
    },
    {
     "name": "stderr",
     "output_type": "stream",
     "text": [
      "\n"
     ]
    },
    {
     "data": {
      "text/html": [
       "<div>\n",
       "<style scoped>\n",
       "    .dataframe tbody tr th:only-of-type {\n",
       "        vertical-align: middle;\n",
       "    }\n",
       "\n",
       "    .dataframe tbody tr th {\n",
       "        vertical-align: top;\n",
       "    }\n",
       "\n",
       "    .dataframe thead th {\n",
       "        text-align: right;\n",
       "    }\n",
       "</style>\n",
       "<table border=\"1\" class=\"dataframe\">\n",
       "  <thead>\n",
       "    <tr style=\"text-align: right;\">\n",
       "      <th></th>\n",
       "      <th>name</th>\n",
       "      <th>number</th>\n",
       "      <th>start</th>\n",
       "      <th>reader.ini.name</th>\n",
       "      <th>trigger.events_built</th>\n",
       "      <th>end</th>\n",
       "      <th>tags</th>\n",
       "      <th>mode</th>\n",
       "      <th>livetime</th>\n",
       "      <th>peak_basics_available</th>\n",
       "      <th>peaklets_available</th>\n",
       "      <th>records_available</th>\n",
       "      <th>raw_records_available</th>\n",
       "    </tr>\n",
       "  </thead>\n",
       "  <tbody>\n",
       "    <tr>\n",
       "      <td>0</td>\n",
       "      <td>170204_1410</td>\n",
       "      <td>6786</td>\n",
       "      <td>2017-02-04 14:10:08+00:00</td>\n",
       "      <td>background_stable</td>\n",
       "      <td>19574</td>\n",
       "      <td>2017-02-04 15:10:13+00:00</td>\n",
       "      <td>blinded,_sciencerun1_candidate,_sciencerun1</td>\n",
       "      <td>background_stable</td>\n",
       "      <td>01:00:05</td>\n",
       "      <td>True</td>\n",
       "      <td>True</td>\n",
       "      <td>True</td>\n",
       "      <td>True</td>\n",
       "    </tr>\n",
       "    <tr>\n",
       "      <td>1</td>\n",
       "      <td>170204_1510</td>\n",
       "      <td>6787</td>\n",
       "      <td>2017-02-04 15:10:28+00:00</td>\n",
       "      <td>background_stable</td>\n",
       "      <td>19634</td>\n",
       "      <td>2017-02-04 16:10:32+00:00</td>\n",
       "      <td>blinded,_sciencerun1_candidate,_sciencerun1</td>\n",
       "      <td>background_stable</td>\n",
       "      <td>01:00:04</td>\n",
       "      <td>True</td>\n",
       "      <td>True</td>\n",
       "      <td>True</td>\n",
       "      <td>True</td>\n",
       "    </tr>\n",
       "    <tr>\n",
       "      <td>2</td>\n",
       "      <td>170204_1610</td>\n",
       "      <td>6788</td>\n",
       "      <td>2017-02-04 16:10:39+00:00</td>\n",
       "      <td>background_stable</td>\n",
       "      <td>19400</td>\n",
       "      <td>2017-02-04 17:10:43+00:00</td>\n",
       "      <td>blinded,_sciencerun1_candidate,_sciencerun1</td>\n",
       "      <td>background_stable</td>\n",
       "      <td>01:00:04</td>\n",
       "      <td>True</td>\n",
       "      <td>True</td>\n",
       "      <td>True</td>\n",
       "      <td>True</td>\n",
       "    </tr>\n",
       "    <tr>\n",
       "      <td>3</td>\n",
       "      <td>170204_1710</td>\n",
       "      <td>6789</td>\n",
       "      <td>2017-02-04 17:10:51+00:00</td>\n",
       "      <td>background_stable</td>\n",
       "      <td>19415</td>\n",
       "      <td>2017-02-04 18:10:54+00:00</td>\n",
       "      <td>blinded,_sciencerun1_candidate,_sciencerun1</td>\n",
       "      <td>background_stable</td>\n",
       "      <td>01:00:03</td>\n",
       "      <td>True</td>\n",
       "      <td>True</td>\n",
       "      <td>True</td>\n",
       "      <td>True</td>\n",
       "    </tr>\n",
       "    <tr>\n",
       "      <td>4</td>\n",
       "      <td>170204_1810</td>\n",
       "      <td>6790</td>\n",
       "      <td>2017-02-04 18:11:01+00:00</td>\n",
       "      <td>background_stable</td>\n",
       "      <td>19671</td>\n",
       "      <td>2017-02-04 19:11:05+00:00</td>\n",
       "      <td>blinded,_sciencerun1_candidate,_sciencerun1</td>\n",
       "      <td>background_stable</td>\n",
       "      <td>01:00:04</td>\n",
       "      <td>True</td>\n",
       "      <td>True</td>\n",
       "      <td>True</td>\n",
       "      <td>True</td>\n",
       "    </tr>\n",
       "    <tr>\n",
       "      <td>...</td>\n",
       "      <td>...</td>\n",
       "      <td>...</td>\n",
       "      <td>...</td>\n",
       "      <td>...</td>\n",
       "      <td>...</td>\n",
       "      <td>...</td>\n",
       "      <td>...</td>\n",
       "      <td>...</td>\n",
       "      <td>...</td>\n",
       "      <td>...</td>\n",
       "      <td>...</td>\n",
       "      <td>...</td>\n",
       "      <td>...</td>\n",
       "    </tr>\n",
       "    <tr>\n",
       "      <td>211</td>\n",
       "      <td>181027_2044</td>\n",
       "      <td>23315</td>\n",
       "      <td>2018-10-27 20:44:21+00:00</td>\n",
       "      <td>ar37_stable</td>\n",
       "      <td>36496</td>\n",
       "      <td>2018-10-27 21:44:25+00:00</td>\n",
       "      <td>Kr83m,_sciencerun2_candidate,_sciencerun2_prel...</td>\n",
       "      <td>ar37_stable</td>\n",
       "      <td>01:00:04</td>\n",
       "      <td>True</td>\n",
       "      <td>True</td>\n",
       "      <td>True</td>\n",
       "      <td>True</td>\n",
       "    </tr>\n",
       "    <tr>\n",
       "      <td>212</td>\n",
       "      <td>181027_2144</td>\n",
       "      <td>23316</td>\n",
       "      <td>2018-10-27 21:44:33+00:00</td>\n",
       "      <td>ar37_stable</td>\n",
       "      <td>36330</td>\n",
       "      <td>2018-10-27 22:44:35+00:00</td>\n",
       "      <td>Kr83m,_sciencerun2_candidate,_sciencerun2_prel...</td>\n",
       "      <td>ar37_stable</td>\n",
       "      <td>01:00:02</td>\n",
       "      <td>True</td>\n",
       "      <td>True</td>\n",
       "      <td>True</td>\n",
       "      <td>True</td>\n",
       "    </tr>\n",
       "    <tr>\n",
       "      <td>213</td>\n",
       "      <td>181027_2244</td>\n",
       "      <td>23317</td>\n",
       "      <td>2018-10-27 22:44:43+00:00</td>\n",
       "      <td>ar37_stable</td>\n",
       "      <td>36486</td>\n",
       "      <td>2018-10-27 23:44:47+00:00</td>\n",
       "      <td>Kr83m,_sciencerun2_candidate,_sciencerun2_prel...</td>\n",
       "      <td>ar37_stable</td>\n",
       "      <td>01:00:04</td>\n",
       "      <td>True</td>\n",
       "      <td>True</td>\n",
       "      <td>True</td>\n",
       "      <td>True</td>\n",
       "    </tr>\n",
       "    <tr>\n",
       "      <td>214</td>\n",
       "      <td>181027_2344</td>\n",
       "      <td>23318</td>\n",
       "      <td>2018-10-27 23:44:59+00:00</td>\n",
       "      <td>ar37_stable</td>\n",
       "      <td>36777</td>\n",
       "      <td>2018-10-28 00:45:03+00:00</td>\n",
       "      <td>Kr83m,_sciencerun2_candidate,_sciencerun2_prel...</td>\n",
       "      <td>ar37_stable</td>\n",
       "      <td>01:00:04</td>\n",
       "      <td>True</td>\n",
       "      <td>True</td>\n",
       "      <td>True</td>\n",
       "      <td>True</td>\n",
       "    </tr>\n",
       "    <tr>\n",
       "      <td>215</td>\n",
       "      <td>181028_0045</td>\n",
       "      <td>23319</td>\n",
       "      <td>2018-10-28 00:45:11+00:00</td>\n",
       "      <td>ar37_stable</td>\n",
       "      <td>36708</td>\n",
       "      <td>2018-10-28 01:45:15+00:00</td>\n",
       "      <td>Kr83m,_sciencerun2_candidate,_sciencerun2_prel...</td>\n",
       "      <td>ar37_stable</td>\n",
       "      <td>01:00:04</td>\n",
       "      <td>True</td>\n",
       "      <td>True</td>\n",
       "      <td>True</td>\n",
       "      <td>True</td>\n",
       "    </tr>\n",
       "  </tbody>\n",
       "</table>\n",
       "<p>216 rows × 13 columns</p>\n",
       "</div>"
      ],
      "text/plain": [
       "            name number                      start    reader.ini.name  \\\n",
       "0    170204_1410   6786  2017-02-04 14:10:08+00:00  background_stable   \n",
       "1    170204_1510   6787  2017-02-04 15:10:28+00:00  background_stable   \n",
       "2    170204_1610   6788  2017-02-04 16:10:39+00:00  background_stable   \n",
       "3    170204_1710   6789  2017-02-04 17:10:51+00:00  background_stable   \n",
       "4    170204_1810   6790  2017-02-04 18:11:01+00:00  background_stable   \n",
       "..           ...    ...                        ...                ...   \n",
       "211  181027_2044  23315  2018-10-27 20:44:21+00:00        ar37_stable   \n",
       "212  181027_2144  23316  2018-10-27 21:44:33+00:00        ar37_stable   \n",
       "213  181027_2244  23317  2018-10-27 22:44:43+00:00        ar37_stable   \n",
       "214  181027_2344  23318  2018-10-27 23:44:59+00:00        ar37_stable   \n",
       "215  181028_0045  23319  2018-10-28 00:45:11+00:00        ar37_stable   \n",
       "\n",
       "    trigger.events_built                        end  \\\n",
       "0                  19574  2017-02-04 15:10:13+00:00   \n",
       "1                  19634  2017-02-04 16:10:32+00:00   \n",
       "2                  19400  2017-02-04 17:10:43+00:00   \n",
       "3                  19415  2017-02-04 18:10:54+00:00   \n",
       "4                  19671  2017-02-04 19:11:05+00:00   \n",
       "..                   ...                        ...   \n",
       "211                36496  2018-10-27 21:44:25+00:00   \n",
       "212                36330  2018-10-27 22:44:35+00:00   \n",
       "213                36486  2018-10-27 23:44:47+00:00   \n",
       "214                36777  2018-10-28 00:45:03+00:00   \n",
       "215                36708  2018-10-28 01:45:15+00:00   \n",
       "\n",
       "                                                  tags               mode  \\\n",
       "0          blinded,_sciencerun1_candidate,_sciencerun1  background_stable   \n",
       "1          blinded,_sciencerun1_candidate,_sciencerun1  background_stable   \n",
       "2          blinded,_sciencerun1_candidate,_sciencerun1  background_stable   \n",
       "3          blinded,_sciencerun1_candidate,_sciencerun1  background_stable   \n",
       "4          blinded,_sciencerun1_candidate,_sciencerun1  background_stable   \n",
       "..                                                 ...                ...   \n",
       "211  Kr83m,_sciencerun2_candidate,_sciencerun2_prel...        ar37_stable   \n",
       "212  Kr83m,_sciencerun2_candidate,_sciencerun2_prel...        ar37_stable   \n",
       "213  Kr83m,_sciencerun2_candidate,_sciencerun2_prel...        ar37_stable   \n",
       "214  Kr83m,_sciencerun2_candidate,_sciencerun2_prel...        ar37_stable   \n",
       "215  Kr83m,_sciencerun2_candidate,_sciencerun2_prel...        ar37_stable   \n",
       "\n",
       "    livetime  peak_basics_available  peaklets_available  records_available  \\\n",
       "0   01:00:05                   True                True               True   \n",
       "1   01:00:04                   True                True               True   \n",
       "2   01:00:04                   True                True               True   \n",
       "3   01:00:03                   True                True               True   \n",
       "4   01:00:04                   True                True               True   \n",
       "..       ...                    ...                 ...                ...   \n",
       "211 01:00:04                   True                True               True   \n",
       "212 01:00:02                   True                True               True   \n",
       "213 01:00:04                   True                True               True   \n",
       "214 01:00:04                   True                True               True   \n",
       "215 01:00:04                   True                True               True   \n",
       "\n",
       "     raw_records_available  \n",
       "0                     True  \n",
       "1                     True  \n",
       "2                     True  \n",
       "3                     True  \n",
       "4                     True  \n",
       "..                     ...  \n",
       "211                   True  \n",
       "212                   True  \n",
       "213                   True  \n",
       "214                   True  \n",
       "215                   True  \n",
       "\n",
       "[216 rows x 13 columns]"
      ]
     },
     "execution_count": 3,
     "metadata": {},
     "output_type": "execute_result"
    }
   ],
   "source": [
    "%%time\n",
    "# This config change will take time\n",
    "st.set_context_config({'check_available': ('raw_records', 'records', 'peaklets', 'peak_basics')})\n",
    "st.select_runs()"
   ]
  },
  {
   "cell_type": "markdown",
   "metadata": {},
   "source": [
    "#### This means we can make selections on what kind of runs are ailable. E.g. I want good runs where we have peaklets available:\n",
    "The second time we run this, it will be much faster."
   ]
  },
  {
   "cell_type": "code",
   "execution_count": 4,
   "metadata": {
    "ExecuteTime": {
     "end_time": "2021-01-06T09:47:53.549191Z",
     "start_time": "2021-01-06T09:47:53.527105Z"
    }
   },
   "outputs": [
    {
     "data": {
      "text/html": [
       "<div>\n",
       "<style scoped>\n",
       "    .dataframe tbody tr th:only-of-type {\n",
       "        vertical-align: middle;\n",
       "    }\n",
       "\n",
       "    .dataframe tbody tr th {\n",
       "        vertical-align: top;\n",
       "    }\n",
       "\n",
       "    .dataframe thead th {\n",
       "        text-align: right;\n",
       "    }\n",
       "</style>\n",
       "<table border=\"1\" class=\"dataframe\">\n",
       "  <thead>\n",
       "    <tr style=\"text-align: right;\">\n",
       "      <th></th>\n",
       "      <th>name</th>\n",
       "      <th>number</th>\n",
       "      <th>start</th>\n",
       "      <th>reader.ini.name</th>\n",
       "      <th>trigger.events_built</th>\n",
       "      <th>end</th>\n",
       "      <th>tags</th>\n",
       "      <th>mode</th>\n",
       "      <th>livetime</th>\n",
       "      <th>peak_basics_available</th>\n",
       "      <th>peaklets_available</th>\n",
       "      <th>records_available</th>\n",
       "      <th>raw_records_available</th>\n",
       "    </tr>\n",
       "  </thead>\n",
       "  <tbody>\n",
       "    <tr>\n",
       "      <td>0</td>\n",
       "      <td>170204_1410</td>\n",
       "      <td>6786</td>\n",
       "      <td>2017-02-04 14:10:08+00:00</td>\n",
       "      <td>background_stable</td>\n",
       "      <td>19574</td>\n",
       "      <td>2017-02-04 15:10:13+00:00</td>\n",
       "      <td>blinded,_sciencerun1_candidate,_sciencerun1</td>\n",
       "      <td>background_stable</td>\n",
       "      <td>01:00:05</td>\n",
       "      <td>True</td>\n",
       "      <td>True</td>\n",
       "      <td>True</td>\n",
       "      <td>True</td>\n",
       "    </tr>\n",
       "    <tr>\n",
       "      <td>1</td>\n",
       "      <td>170204_1510</td>\n",
       "      <td>6787</td>\n",
       "      <td>2017-02-04 15:10:28+00:00</td>\n",
       "      <td>background_stable</td>\n",
       "      <td>19634</td>\n",
       "      <td>2017-02-04 16:10:32+00:00</td>\n",
       "      <td>blinded,_sciencerun1_candidate,_sciencerun1</td>\n",
       "      <td>background_stable</td>\n",
       "      <td>01:00:04</td>\n",
       "      <td>True</td>\n",
       "      <td>True</td>\n",
       "      <td>True</td>\n",
       "      <td>True</td>\n",
       "    </tr>\n",
       "    <tr>\n",
       "      <td>2</td>\n",
       "      <td>170204_1610</td>\n",
       "      <td>6788</td>\n",
       "      <td>2017-02-04 16:10:39+00:00</td>\n",
       "      <td>background_stable</td>\n",
       "      <td>19400</td>\n",
       "      <td>2017-02-04 17:10:43+00:00</td>\n",
       "      <td>blinded,_sciencerun1_candidate,_sciencerun1</td>\n",
       "      <td>background_stable</td>\n",
       "      <td>01:00:04</td>\n",
       "      <td>True</td>\n",
       "      <td>True</td>\n",
       "      <td>True</td>\n",
       "      <td>True</td>\n",
       "    </tr>\n",
       "    <tr>\n",
       "      <td>3</td>\n",
       "      <td>170204_1710</td>\n",
       "      <td>6789</td>\n",
       "      <td>2017-02-04 17:10:51+00:00</td>\n",
       "      <td>background_stable</td>\n",
       "      <td>19415</td>\n",
       "      <td>2017-02-04 18:10:54+00:00</td>\n",
       "      <td>blinded,_sciencerun1_candidate,_sciencerun1</td>\n",
       "      <td>background_stable</td>\n",
       "      <td>01:00:03</td>\n",
       "      <td>True</td>\n",
       "      <td>True</td>\n",
       "      <td>True</td>\n",
       "      <td>True</td>\n",
       "    </tr>\n",
       "    <tr>\n",
       "      <td>4</td>\n",
       "      <td>170204_1810</td>\n",
       "      <td>6790</td>\n",
       "      <td>2017-02-04 18:11:01+00:00</td>\n",
       "      <td>background_stable</td>\n",
       "      <td>19671</td>\n",
       "      <td>2017-02-04 19:11:05+00:00</td>\n",
       "      <td>blinded,_sciencerun1_candidate,_sciencerun1</td>\n",
       "      <td>background_stable</td>\n",
       "      <td>01:00:04</td>\n",
       "      <td>True</td>\n",
       "      <td>True</td>\n",
       "      <td>True</td>\n",
       "      <td>True</td>\n",
       "    </tr>\n",
       "    <tr>\n",
       "      <td>...</td>\n",
       "      <td>...</td>\n",
       "      <td>...</td>\n",
       "      <td>...</td>\n",
       "      <td>...</td>\n",
       "      <td>...</td>\n",
       "      <td>...</td>\n",
       "      <td>...</td>\n",
       "      <td>...</td>\n",
       "      <td>...</td>\n",
       "      <td>...</td>\n",
       "      <td>...</td>\n",
       "      <td>...</td>\n",
       "      <td>...</td>\n",
       "    </tr>\n",
       "    <tr>\n",
       "      <td>211</td>\n",
       "      <td>181027_2044</td>\n",
       "      <td>23315</td>\n",
       "      <td>2018-10-27 20:44:21+00:00</td>\n",
       "      <td>ar37_stable</td>\n",
       "      <td>36496</td>\n",
       "      <td>2018-10-27 21:44:25+00:00</td>\n",
       "      <td>Kr83m,_sciencerun2_candidate,_sciencerun2_prel...</td>\n",
       "      <td>ar37_stable</td>\n",
       "      <td>01:00:04</td>\n",
       "      <td>True</td>\n",
       "      <td>True</td>\n",
       "      <td>True</td>\n",
       "      <td>True</td>\n",
       "    </tr>\n",
       "    <tr>\n",
       "      <td>212</td>\n",
       "      <td>181027_2144</td>\n",
       "      <td>23316</td>\n",
       "      <td>2018-10-27 21:44:33+00:00</td>\n",
       "      <td>ar37_stable</td>\n",
       "      <td>36330</td>\n",
       "      <td>2018-10-27 22:44:35+00:00</td>\n",
       "      <td>Kr83m,_sciencerun2_candidate,_sciencerun2_prel...</td>\n",
       "      <td>ar37_stable</td>\n",
       "      <td>01:00:02</td>\n",
       "      <td>True</td>\n",
       "      <td>True</td>\n",
       "      <td>True</td>\n",
       "      <td>True</td>\n",
       "    </tr>\n",
       "    <tr>\n",
       "      <td>213</td>\n",
       "      <td>181027_2244</td>\n",
       "      <td>23317</td>\n",
       "      <td>2018-10-27 22:44:43+00:00</td>\n",
       "      <td>ar37_stable</td>\n",
       "      <td>36486</td>\n",
       "      <td>2018-10-27 23:44:47+00:00</td>\n",
       "      <td>Kr83m,_sciencerun2_candidate,_sciencerun2_prel...</td>\n",
       "      <td>ar37_stable</td>\n",
       "      <td>01:00:04</td>\n",
       "      <td>True</td>\n",
       "      <td>True</td>\n",
       "      <td>True</td>\n",
       "      <td>True</td>\n",
       "    </tr>\n",
       "    <tr>\n",
       "      <td>214</td>\n",
       "      <td>181027_2344</td>\n",
       "      <td>23318</td>\n",
       "      <td>2018-10-27 23:44:59+00:00</td>\n",
       "      <td>ar37_stable</td>\n",
       "      <td>36777</td>\n",
       "      <td>2018-10-28 00:45:03+00:00</td>\n",
       "      <td>Kr83m,_sciencerun2_candidate,_sciencerun2_prel...</td>\n",
       "      <td>ar37_stable</td>\n",
       "      <td>01:00:04</td>\n",
       "      <td>True</td>\n",
       "      <td>True</td>\n",
       "      <td>True</td>\n",
       "      <td>True</td>\n",
       "    </tr>\n",
       "    <tr>\n",
       "      <td>215</td>\n",
       "      <td>181028_0045</td>\n",
       "      <td>23319</td>\n",
       "      <td>2018-10-28 00:45:11+00:00</td>\n",
       "      <td>ar37_stable</td>\n",
       "      <td>36708</td>\n",
       "      <td>2018-10-28 01:45:15+00:00</td>\n",
       "      <td>Kr83m,_sciencerun2_candidate,_sciencerun2_prel...</td>\n",
       "      <td>ar37_stable</td>\n",
       "      <td>01:00:04</td>\n",
       "      <td>True</td>\n",
       "      <td>True</td>\n",
       "      <td>True</td>\n",
       "      <td>True</td>\n",
       "    </tr>\n",
       "  </tbody>\n",
       "</table>\n",
       "<p>205 rows × 13 columns</p>\n",
       "</div>"
      ],
      "text/plain": [
       "            name number                      start    reader.ini.name  \\\n",
       "0    170204_1410   6786  2017-02-04 14:10:08+00:00  background_stable   \n",
       "1    170204_1510   6787  2017-02-04 15:10:28+00:00  background_stable   \n",
       "2    170204_1610   6788  2017-02-04 16:10:39+00:00  background_stable   \n",
       "3    170204_1710   6789  2017-02-04 17:10:51+00:00  background_stable   \n",
       "4    170204_1810   6790  2017-02-04 18:11:01+00:00  background_stable   \n",
       "..           ...    ...                        ...                ...   \n",
       "211  181027_2044  23315  2018-10-27 20:44:21+00:00        ar37_stable   \n",
       "212  181027_2144  23316  2018-10-27 21:44:33+00:00        ar37_stable   \n",
       "213  181027_2244  23317  2018-10-27 22:44:43+00:00        ar37_stable   \n",
       "214  181027_2344  23318  2018-10-27 23:44:59+00:00        ar37_stable   \n",
       "215  181028_0045  23319  2018-10-28 00:45:11+00:00        ar37_stable   \n",
       "\n",
       "    trigger.events_built                        end  \\\n",
       "0                  19574  2017-02-04 15:10:13+00:00   \n",
       "1                  19634  2017-02-04 16:10:32+00:00   \n",
       "2                  19400  2017-02-04 17:10:43+00:00   \n",
       "3                  19415  2017-02-04 18:10:54+00:00   \n",
       "4                  19671  2017-02-04 19:11:05+00:00   \n",
       "..                   ...                        ...   \n",
       "211                36496  2018-10-27 21:44:25+00:00   \n",
       "212                36330  2018-10-27 22:44:35+00:00   \n",
       "213                36486  2018-10-27 23:44:47+00:00   \n",
       "214                36777  2018-10-28 00:45:03+00:00   \n",
       "215                36708  2018-10-28 01:45:15+00:00   \n",
       "\n",
       "                                                  tags               mode  \\\n",
       "0          blinded,_sciencerun1_candidate,_sciencerun1  background_stable   \n",
       "1          blinded,_sciencerun1_candidate,_sciencerun1  background_stable   \n",
       "2          blinded,_sciencerun1_candidate,_sciencerun1  background_stable   \n",
       "3          blinded,_sciencerun1_candidate,_sciencerun1  background_stable   \n",
       "4          blinded,_sciencerun1_candidate,_sciencerun1  background_stable   \n",
       "..                                                 ...                ...   \n",
       "211  Kr83m,_sciencerun2_candidate,_sciencerun2_prel...        ar37_stable   \n",
       "212  Kr83m,_sciencerun2_candidate,_sciencerun2_prel...        ar37_stable   \n",
       "213  Kr83m,_sciencerun2_candidate,_sciencerun2_prel...        ar37_stable   \n",
       "214  Kr83m,_sciencerun2_candidate,_sciencerun2_prel...        ar37_stable   \n",
       "215  Kr83m,_sciencerun2_candidate,_sciencerun2_prel...        ar37_stable   \n",
       "\n",
       "    livetime  peak_basics_available  peaklets_available  records_available  \\\n",
       "0   01:00:05                   True                True               True   \n",
       "1   01:00:04                   True                True               True   \n",
       "2   01:00:04                   True                True               True   \n",
       "3   01:00:03                   True                True               True   \n",
       "4   01:00:04                   True                True               True   \n",
       "..       ...                    ...                 ...                ...   \n",
       "211 01:00:04                   True                True               True   \n",
       "212 01:00:02                   True                True               True   \n",
       "213 01:00:04                   True                True               True   \n",
       "214 01:00:04                   True                True               True   \n",
       "215 01:00:04                   True                True               True   \n",
       "\n",
       "     raw_records_available  \n",
       "0                     True  \n",
       "1                     True  \n",
       "2                     True  \n",
       "3                     True  \n",
       "4                     True  \n",
       "..                     ...  \n",
       "211                   True  \n",
       "212                   True  \n",
       "213                   True  \n",
       "214                   True  \n",
       "215                   True  \n",
       "\n",
       "[205 rows x 13 columns]"
      ]
     },
     "execution_count": 4,
     "metadata": {},
     "output_type": "execute_result"
    }
   ],
   "source": [
    "st.select_runs(available = 'peaklets', \n",
    "               exclude_tags = ('bad', 'messy'))"
   ]
  },
  {
   "cell_type": "markdown",
   "metadata": {},
   "source": [
    "### For nT one can also select a run from the website:\n",
    "https://xenon1t-daq.lngs.infn.it/runsui"
   ]
  },
  {
   "cell_type": "code",
   "execution_count": 5,
   "metadata": {
    "ExecuteTime": {
     "end_time": "2021-01-06T09:47:53.555215Z",
     "start_time": "2021-01-06T09:47:53.552513Z"
    }
   },
   "outputs": [],
   "source": [
    "# The name of the run\n",
    "run_id = '181027_2044'"
   ]
  },
  {
   "cell_type": "markdown",
   "metadata": {},
   "source": [
    "### Alternative method.\n",
    "If you know what to look for you can use this command to double check:"
   ]
  },
  {
   "cell_type": "code",
   "execution_count": 6,
   "metadata": {
    "ExecuteTime": {
     "end_time": "2021-01-06T09:47:53.581695Z",
     "start_time": "2021-01-06T09:47:53.558975Z"
    }
   },
   "outputs": [
    {
     "data": {
      "text/plain": [
       "True"
      ]
     },
     "execution_count": 6,
     "metadata": {},
     "output_type": "execute_result"
    }
   ],
   "source": [
    "st.is_stored(run_id, \"peak_basics\")"
   ]
  },
  {
   "cell_type": "markdown",
   "metadata": {},
   "source": [
    "Lets load the peaks of this run and have a look. We are going to look at peak_basics \n",
    "(loading e.g. peaks) is much more data, making everything slow. You can check the size before loading using the command below:"
   ]
  },
  {
   "cell_type": "code",
   "execution_count": 7,
   "metadata": {
    "ExecuteTime": {
     "end_time": "2021-01-06T09:47:53.621227Z",
     "start_time": "2021-01-06T09:47:53.587520Z"
    }
   },
   "outputs": [
    {
     "name": "stdout",
     "output_type": "stream",
     "text": [
      "Target: raw_records \t is 50612 MB\n",
      "Target: records \t is 17145 MB\n",
      "Target: peaklets \t is 2159 MB\n",
      "Target: peak_basics \t is 56 MB\n",
      "Target: pulse_counts \t is 7 MB\n"
     ]
    }
   ],
   "source": [
    "for p in ('raw_records', 'records', 'peaklets', 'peak_basics', 'pulse_counts'):\n",
    "    if st.is_stored(run_id, p):\n",
    "        print(f'Target: {p} \\t is {st.size_mb(run_id, p):.0f} MB')"
   ]
  },
  {
   "cell_type": "markdown",
   "metadata": {},
   "source": [
    "## Loading the data\n",
    "### NB: Don't crash your notebook!\n",
    "The prints above are why you only want to load small portions of data. Especially for 'low-level' data. If you try to load all of records or even peaklets, your notebook crashes.\n",
    "\n",
    "We are going to load only 100 seconds of data as that will be enough to see some populations. Later we can load more if we want.\n",
    "\n",
    "My favorite reduction method id just loading one or a few seconds, like below:"
   ]
  },
  {
   "cell_type": "code",
   "execution_count": 8,
   "metadata": {
    "ExecuteTime": {
     "end_time": "2021-01-06T09:47:54.394023Z",
     "start_time": "2021-01-06T09:47:53.624669Z"
    }
   },
   "outputs": [],
   "source": [
    "peaks = st.get_array(run_id, \n",
    "                     targets = ('peak_basics'),\n",
    "                     seconds_range = (0, 100), # Only first 100 seconds\n",
    "                     progress_bar=False)"
   ]
  },
  {
   "cell_type": "code",
   "execution_count": 9,
   "metadata": {
    "ExecuteTime": {
     "end_time": "2021-01-06T09:47:54.402973Z",
     "start_time": "2021-01-06T09:47:54.398781Z"
    }
   },
   "outputs": [
    {
     "name": "stdout",
     "output_type": "stream",
     "text": [
      "We loaded 1.5 MB of peaks-data\n"
     ]
    }
   ],
   "source": [
    "# Let's see how much we have loaded:\n",
    "print(f'We loaded {peaks.nbytes/1e6:.1f} MB of peaks-data')"
   ]
  },
  {
   "cell_type": "code",
   "execution_count": 10,
   "metadata": {
    "ExecuteTime": {
     "end_time": "2021-01-06T09:47:54.529986Z",
     "start_time": "2021-01-06T09:47:54.406850Z"
    }
   },
   "outputs": [
    {
     "data": {
      "text/html": [
       "<div>\n",
       "<style scoped>\n",
       "    .dataframe tbody tr th:only-of-type {\n",
       "        vertical-align: middle;\n",
       "    }\n",
       "\n",
       "    .dataframe tbody tr th {\n",
       "        vertical-align: top;\n",
       "    }\n",
       "\n",
       "    .dataframe thead th {\n",
       "        text-align: right;\n",
       "    }\n",
       "</style>\n",
       "<table border=\"1\" class=\"dataframe\">\n",
       "  <thead>\n",
       "    <tr style=\"text-align: right;\">\n",
       "      <th></th>\n",
       "      <th>time</th>\n",
       "      <th>endtime</th>\n",
       "      <th>center_time</th>\n",
       "      <th>area</th>\n",
       "      <th>n_channels</th>\n",
       "      <th>max_pmt</th>\n",
       "      <th>max_pmt_area</th>\n",
       "      <th>range_50p_area</th>\n",
       "      <th>range_90p_area</th>\n",
       "      <th>area_fraction_top</th>\n",
       "      <th>length</th>\n",
       "      <th>dt</th>\n",
       "      <th>rise_time</th>\n",
       "      <th>tight_coincidence</th>\n",
       "      <th>type</th>\n",
       "    </tr>\n",
       "  </thead>\n",
       "  <tbody>\n",
       "    <tr>\n",
       "      <td>0</td>\n",
       "      <td>1540673061000064360</td>\n",
       "      <td>1540673061000072510</td>\n",
       "      <td>1540673061000067775</td>\n",
       "      <td>630.876892</td>\n",
       "      <td>129</td>\n",
       "      <td>7</td>\n",
       "      <td>63.06451</td>\n",
       "      <td>2154.426758</td>\n",
       "      <td>6508.952637</td>\n",
       "      <td>0.650553</td>\n",
       "      <td>163</td>\n",
       "      <td>50</td>\n",
       "      <td>2509.838867</td>\n",
       "      <td>15</td>\n",
       "      <td>2</td>\n",
       "    </tr>\n",
       "    <tr>\n",
       "      <td>1</td>\n",
       "      <td>1540673061000080260</td>\n",
       "      <td>1540673061000080940</td>\n",
       "      <td>1540673061000080508</td>\n",
       "      <td>12.416115</td>\n",
       "      <td>3</td>\n",
       "      <td>66</td>\n",
       "      <td>9.20665</td>\n",
       "      <td>236.856506</td>\n",
       "      <td>606.827026</td>\n",
       "      <td>0.741508</td>\n",
       "      <td>68</td>\n",
       "      <td>10</td>\n",
       "      <td>138.616135</td>\n",
       "      <td>2</td>\n",
       "      <td>0</td>\n",
       "    </tr>\n",
       "  </tbody>\n",
       "</table>\n",
       "</div>"
      ],
      "text/plain": [
       "                  time              endtime          center_time        area  \\\n",
       "0  1540673061000064360  1540673061000072510  1540673061000067775  630.876892   \n",
       "1  1540673061000080260  1540673061000080940  1540673061000080508   12.416115   \n",
       "\n",
       "   n_channels  max_pmt  max_pmt_area  range_50p_area  range_90p_area  \\\n",
       "0         129        7      63.06451     2154.426758     6508.952637   \n",
       "1           3       66       9.20665      236.856506      606.827026   \n",
       "\n",
       "   area_fraction_top  length  dt    rise_time  tight_coincidence  type  \n",
       "0           0.650553     163  50  2509.838867                 15     2  \n",
       "1           0.741508      68  10   138.616135                  2     0  "
      ]
     },
     "execution_count": 10,
     "metadata": {},
     "output_type": "execute_result"
    }
   ],
   "source": [
    "# You can also use get_df that will give you a pandas.DataFrame. For example:\n",
    "st.get_df(run_id, \n",
    "                     targets = ('peak_basics'),\n",
    "                     seconds_range = (0, 0.01), # Only first 10 ms because I'm going to use the array from above\n",
    "                     progress_bar=False).head(10)"
   ]
  },
  {
   "cell_type": "markdown",
   "metadata": {},
   "source": [
    "## Make plots of this one run\n",
    "\n",
    "These are my helper functions:\n",
    " - I want to make an area vs width plot to check which population to select\n",
    " - I want to be able to check some waveforms"
   ]
  },
  {
   "cell_type": "code",
   "execution_count": 11,
   "metadata": {
    "ExecuteTime": {
     "end_time": "2021-01-06T09:47:54.539866Z",
     "start_time": "2021-01-06T09:47:54.533852Z"
    }
   },
   "outputs": [],
   "source": [
    "# My function to make a 2D histogram\n",
    "def plots_area_vs_width(data, log=None, **kwargs):\n",
    "    \"\"\"basic wrapper to plot area vs width\"\"\"\n",
    "    # Things to put on the axes\n",
    "    x, y = data['area'], data['range_50p_area']\n",
    "    \n",
    "    # Make a log-plot manually\n",
    "    if log:\n",
    "        x, y = np.log10(x), np.log10(y)\n",
    "    plt.hist2d(x, y, norm=LogNorm(), **kwargs)\n",
    "    plt.ylabel(f'Width [ns]')\n",
    "    plt.xlabel(f'Area [PE]')\n",
    "    \n",
    "    # Change the ticks slightly for nicer formats\n",
    "    if log:\n",
    "        xt = np.arange(int(plt.xticks()[0].min()), int(plt.xticks()[0].max()))\n",
    "        plt.xticks(xt, 10 ** xt)\n",
    "        yt = np.arange(int(plt.yticks()[0].min()), int(plt.yticks()[0].max()))\n",
    "        plt.yticks(yt, 10 ** yt)\n",
    "    plt.colorbar(label='counts/bin')"
   ]
  },
  {
   "cell_type": "code",
   "execution_count": 12,
   "metadata": {
    "ExecuteTime": {
     "end_time": "2021-01-06T09:47:54.549140Z",
     "start_time": "2021-01-06T09:47:54.543326Z"
    }
   },
   "outputs": [],
   "source": [
    "# My function to plot some waveforms\n",
    "def plot_some_peaks(peaks, max_plots = 5, randomize = False):\n",
    "    \"\"\"Plot the first peaks in the peaks collection (max number of 5 by default)\"\"\"\n",
    "    if randomize:\n",
    "        # This randomly takes max_plots in the range (0, len(peaks)). Plot these indices\n",
    "        indices = np.random.randint(0, len(peaks), max_plots)\n",
    "    else:\n",
    "        # Just take the first max_plots peaks in the data\n",
    "        indices = range(max_plots)\n",
    "    for i in indices:\n",
    "        p = peaks[i]\n",
    "        start, stop = p['time'], p['endtime']\n",
    "        st.plot_peaks(run_id,\n",
    "                      time_range = (start, stop))\n",
    "        plt.title(f'S{p[\"type\"]} of ~{int(p[\"area\"])} PE (width {int(p[\"range_50p_area\"])} ns)\\n'\n",
    "                  f'detected by {p[\"n_channels\"]} PMTs at:\\n'\n",
    "                  f'{datetime.datetime.fromtimestamp(start/1e9).isoformat()}')  # should in s not ns hence /1e9\n",
    "        plt.show()"
   ]
  },
  {
   "cell_type": "markdown",
   "metadata": {},
   "source": [
    "## Plotting waveforms\n",
    "This may help you if you want to look at specific waveforms. Below I'm just going to show that it works. As you can see, there are a lot of junk waveforms! We are going to do some cuts to select 'nice' ones later."
   ]
  },
  {
   "cell_type": "code",
   "execution_count": 13,
   "metadata": {
    "ExecuteTime": {
     "end_time": "2021-01-06T09:47:56.475515Z",
     "start_time": "2021-01-06T09:47:54.552576Z"
    },
    "scrolled": false
   },
   "outputs": [
    {
     "data": {
      "image/png": "[encoded data removed]",
      "text/plain": [
       "<Figure size 720x288 with 1 Axes>"
      ]
     },
     "metadata": {
      "needs_background": "light"
     },
     "output_type": "display_data"
    },
    {
     "data": {
      "image/png": "[encoded data removed]",
      "text/plain": [
       "<Figure size 720x288 with 1 Axes>"
      ]
     },
     "metadata": {
      "needs_background": "light"
     },
     "output_type": "display_data"
    }
   ],
   "source": [
    "# Let's plot the first 2\n",
    "plot_some_peaks(peaks, max_plots = 2)"
   ]
  },
  {
   "cell_type": "code",
   "execution_count": 14,
   "metadata": {
    "ExecuteTime": {
     "end_time": "2021-01-06T09:47:57.779664Z",
     "start_time": "2021-01-06T09:47:56.479213Z"
    },
    "scrolled": false
   },
   "outputs": [
    {
     "data": {
      "image/png": "[encoded data removed]",
      "text/plain": [
       "<Figure size 720x288 with 1 Axes>"
      ]
     },
     "metadata": {
      "needs_background": "light"
     },
     "output_type": "display_data"
    },
    {
     "data": {
      "image/png": "[encoded data removed]",
      "text/plain": [
       "<Figure size 720x288 with 1 Axes>"
      ]
     },
     "metadata": {
      "needs_background": "light"
     },
     "output_type": "display_data"
    }
   ],
   "source": [
    "# Or just look at two random peaks somewhere in our dataset\n",
    "plot_some_peaks(peaks, max_plots=2, randomize = True)"
   ]
  },
  {
   "cell_type": "markdown",
   "metadata": {},
   "source": [
    "## Display populations\n",
    "### Area vs width plot \n",
    "You see these plots a lot on Slac. We'll make a 2D histogram of two propperties of the peaks. Herefrom we try to isolatea population to look at the waveforms."
   ]
  },
  {
   "cell_type": "code",
   "execution_count": 15,
   "metadata": {
    "ExecuteTime": {
     "end_time": "2021-01-06T09:47:58.117522Z",
     "start_time": "2021-01-06T09:47:57.785997Z"
    }
   },
   "outputs": [
    {
     "name": "stderr",
     "output_type": "stream",
     "text": [
      "/home/angevaare/software/Miniconda3/envs/strax/lib/python3.6/site-packages/ipykernel_launcher.py:9: RuntimeWarning: invalid value encountered in log10\n",
      "  if __name__ == '__main__':\n",
      "/home/angevaare/software/Miniconda3/envs/strax/lib/python3.6/site-packages/ipykernel_launcher.py:9: RuntimeWarning: divide by zero encountered in log10\n",
      "  if __name__ == '__main__':\n"
     ]
    },
    {
     "data": {
      "text/plain": [
       "Text(0.5, 1.0, 'Area vs width in log-log space of all populations\\n10 s of data')"
      ]
     },
     "execution_count": 15,
     "metadata": {},
     "output_type": "execute_result"
    },
    {
     "data": {
      "image/png": "[encoded data removed]",
      "text/plain": [
       "<Figure size 432x288 with 2 Axes>"
      ]
     },
     "metadata": {
      "needs_background": "light"
     },
     "output_type": "display_data"
    }
   ],
   "source": [
    "# All peaks\n",
    "plots_area_vs_width(peaks, \n",
    "                    log = True,\n",
    "                    bins = 100, \n",
    "                    range=[[0,4], [1,4]])\n",
    "plt.title('Area vs width in log-log space of all populations\\n10 s of data')"
   ]
  },
  {
   "cell_type": "markdown",
   "metadata": {},
   "source": [
    "I want to zoom in on the population on the lower right. Therefore I reduce the range:"
   ]
  },
  {
   "cell_type": "code",
   "execution_count": 16,
   "metadata": {
    "ExecuteTime": {
     "end_time": "2021-01-06T09:47:58.313752Z",
     "start_time": "2021-01-06T09:47:58.120919Z"
    }
   },
   "outputs": [
    {
     "name": "stderr",
     "output_type": "stream",
     "text": [
      "/home/angevaare/software/Miniconda3/envs/strax/lib/python3.6/site-packages/ipykernel_launcher.py:9: RuntimeWarning: invalid value encountered in log10\n",
      "  if __name__ == '__main__':\n",
      "/home/angevaare/software/Miniconda3/envs/strax/lib/python3.6/site-packages/ipykernel_launcher.py:9: RuntimeWarning: divide by zero encountered in log10\n",
      "  if __name__ == '__main__':\n"
     ]
    },
    {
     "data": {
      "text/plain": [
       "Text(0.5, 1.0, 'Area vs width in log-log space zoomed on large S1s\\n10 s of data')"
      ]
     },
     "execution_count": 16,
     "metadata": {},
     "output_type": "execute_result"
    },
    {
     "data": {
      "image/png": "[encoded data removed]",
      "text/plain": [
       "<Figure size 432x288 with 2 Axes>"
      ]
     },
     "metadata": {
      "needs_background": "light"
     },
     "output_type": "display_data"
    }
   ],
   "source": [
    "plots_area_vs_width(peaks, \n",
    "                    log = True,\n",
    "                    bins = 100, \n",
    "                    range=[[2,4], [1.5,2.5]]) # zoomed wrt to previous plot!\n",
    "plt.title('Area vs width in log-log space zoomed on large S1s\\n10 s of data')"
   ]
  },
  {
   "cell_type": "markdown",
   "metadata": {},
   "source": [
    "### Let's select this blob of peaks. \n",
    "For this I switch to lin-lin space rather than log-log as I'm too lazy to convert the selection I'm going to make from lin to log and vise versa."
   ]
  },
  {
   "cell_type": "code",
   "execution_count": 17,
   "metadata": {
    "ExecuteTime": {
     "end_time": "2021-01-06T09:47:58.540284Z",
     "start_time": "2021-01-06T09:47:58.317272Z"
    }
   },
   "outputs": [
    {
     "data": {
      "text/plain": [
       "Text(0.5, 1.0, 'Area vs width in lin-lin space zoomed on large S1s\\n10 s of data')"
      ]
     },
     "execution_count": 17,
     "metadata": {},
     "output_type": "execute_result"
    },
    {
     "data": {
      "image/png": "[encoded data removed]",
      "text/plain": [
       "<Figure size 432x288 with 2 Axes>"
      ]
     },
     "metadata": {
      "needs_background": "light"
     },
     "output_type": "display_data"
    }
   ],
   "source": [
    "# Let's look in linspace \n",
    "plots_area_vs_width(peaks,\n",
    "                    log = False,\n",
    "                    bins = 100, \n",
    "                    range=[[10**2, 10**4], [10**1.5, 10**2.5]])\n",
    "plt.title('Area vs width in lin-lin space zoomed on large S1s\\n10 s of data')"
   ]
  },
  {
   "cell_type": "markdown",
   "metadata": {},
   "source": [
    "## Data selection\n",
    "### Let's make a very rudimentary selection in this data\n",
    "\n",
    "Below I'm going to draw a box arround the blob as above and load some peaks therefrom. I suspect this are nice fat S1s."
   ]
  },
  {
   "cell_type": "code",
   "execution_count": 18,
   "metadata": {
    "ExecuteTime": {
     "end_time": "2021-01-06T09:47:58.546357Z",
     "start_time": "2021-01-06T09:47:58.543828Z"
    }
   },
   "outputs": [],
   "source": [
    "# Parameters used for plot below\n",
    "low_area = 400\n",
    "high_area = 8000\n",
    "low_width = 40\n",
    "high_width = 60"
   ]
  },
  {
   "cell_type": "code",
   "execution_count": 19,
   "metadata": {
    "ExecuteTime": {
     "end_time": "2021-01-06T09:47:58.825021Z",
     "start_time": "2021-01-06T09:47:58.549635Z"
    }
   },
   "outputs": [
    {
     "data": {
      "text/plain": [
       "Text(0.5, 1.0, 'Area vs width in lin-lin space zoomed on large S1s\\nwith selection\\n10 s of data')"
      ]
     },
     "execution_count": 19,
     "metadata": {},
     "output_type": "execute_result"
    },
    {
     "data": {
      "image/png": "[encoded data removed]",
      "text/plain": [
       "<Figure size 432x288 with 2 Axes>"
      ]
     },
     "metadata": {
      "needs_background": "light"
     },
     "output_type": "display_data"
    }
   ],
   "source": [
    "# select data in box\n",
    "plots_area_vs_width(peaks,\n",
    "                    log = False,\n",
    "                    bins = 100, \n",
    "                    range=[[10**2, 10**4], [10**1.5, 10**2.5]])\n",
    "\n",
    "ax = plt.gca()\n",
    "x = np.arange(low_area,high_area,2)\n",
    "y = np.full(len(x), low_width)\n",
    "y2 = np.full(len(x), high_width)\n",
    "ax.fill_between(x,y,y2, alpha = 0.5, color= 'red', label = 'selection')\n",
    "plt.legend()\n",
    "plt.title('Area vs width in lin-lin space zoomed on large S1s\\nwith selection\\n10 s of data')"
   ]
  },
  {
   "cell_type": "markdown",
   "metadata": {},
   "source": [
    "## Load more data from the selection.\n",
    "For this I will use a 'selection string' this will reduce memory usage, see straxferno 0 and 1: https://xe1t-wiki.lngs.infn.it/doku.php?id=xenon:xenon1t:aalbers:straxferno\n",
    "\n",
    "I'm also going to load all of the of data!"
   ]
  },
  {
   "cell_type": "code",
   "execution_count": 20,
   "metadata": {
    "ExecuteTime": {
     "end_time": "2021-01-06T09:47:58.830984Z",
     "start_time": "2021-01-06T09:47:58.828455Z"
    }
   },
   "outputs": [],
   "source": [
    "# Clear peaks from our namespace, this reduces our RAM usage (what usually crashes a notebook).\n",
    "del peaks"
   ]
  },
  {
   "cell_type": "code",
   "execution_count": 21,
   "metadata": {
    "ExecuteTime": {
     "end_time": "2021-01-06T09:47:59.000912Z",
     "start_time": "2021-01-06T09:47:58.834808Z"
    }
   },
   "outputs": [
    {
     "data": {
      "application/vnd.jupyter.widget-view+json": {
       "model_id": "5993e0ea678045d1a4c80a7203695907",
       "version_major": 2,
       "version_minor": 0
      },
      "text/plain": [
       "HBox(children=(HTML(value=''), FloatProgress(value=0.0, max=1.0), HTML(value='')))"
      ]
     },
     "metadata": {},
     "output_type": "display_data"
    },
    {
     "name": "stdout",
     "output_type": "stream",
     "text": [
      "\n",
      "CPU times: user 92 ms, sys: 51.7 ms, total: 144 ms\n",
      "Wall time: 162 ms\n"
     ]
    }
   ],
   "source": [
    "%%time\n",
    "# use selection string to load a lot of data\n",
    "selected_peaks = st.get_array(run_id, \n",
    "    targets = ( 'peak_basics'), \n",
    "    selection_str = f'({high_area}>area) & (area>{low_area}) ' \\\n",
    "                    f'& ({high_width}>range_50p_area) & (range_50p_area>{low_width})')"
   ]
  },
  {
   "cell_type": "markdown",
   "metadata": {},
   "source": [
    "### Alternative method yielding the same (if all data were loaded)\n",
    "The cell above does return the same results as this selection (only now we are taking the entire run instead of 10s):\n",
    "```\n",
    "mask = ((high_area>peaks['area'] ) & (peaks['area']>{low_area}) &\n",
    "        high_width > peaks['range_50p_area'] & peaks['range_50p_area'] > low_area )\n",
    "\n",
    "selected_peaks \n",
    "```"
   ]
  },
  {
   "cell_type": "code",
   "execution_count": 22,
   "metadata": {
    "ExecuteTime": {
     "end_time": "2021-01-06T09:47:59.227665Z",
     "start_time": "2021-01-06T09:47:59.007680Z"
    }
   },
   "outputs": [
    {
     "data": {
      "text/plain": [
       "Text(0.5, 1.0, 'Area vs width in log-log space with selected S1s\\nall data')"
      ]
     },
     "execution_count": 22,
     "metadata": {},
     "output_type": "execute_result"
    },
    {
     "data": {
      "image/png": "[encoded data removed]",
      "text/plain": [
       "<Figure size 432x288 with 2 Axes>"
      ]
     },
     "metadata": {
      "needs_background": "light"
     },
     "output_type": "display_data"
    }
   ],
   "source": [
    "# Let's double check that we have the data we want in the area vs width space\n",
    "plots_area_vs_width(selected_peaks,\n",
    "                    log = True,\n",
    "                    bins = 100, \n",
    "                    range=[[2,4], [1,3]])\n",
    "plt.title('Area vs width in log-log space with selected S1s\\nall data')"
   ]
  },
  {
   "cell_type": "code",
   "execution_count": 23,
   "metadata": {
    "ExecuteTime": {
     "end_time": "2021-01-06T09:47:59.486314Z",
     "start_time": "2021-01-06T09:47:59.230630Z"
    }
   },
   "outputs": [
    {
     "data": {
      "text/plain": [
       "Text(0.5, 1.0, 'Area vs width in lin-lin space with selected S1s\\nall data')"
      ]
     },
     "execution_count": 23,
     "metadata": {},
     "output_type": "execute_result"
    },
    {
     "data": {
      "image/png": "[encoded data removed]",
      "text/plain": [
       "<Figure size 432x288 with 2 Axes>"
      ]
     },
     "metadata": {
      "needs_background": "light"
     },
     "output_type": "display_data"
    }
   ],
   "source": [
    "# select data in box\n",
    "plots_area_vs_width(selected_peaks,\n",
    "                    log = False,\n",
    "                    bins = 100, \n",
    "                    range=[[10**2,10**4], [10**1,10**2.5]])\n",
    "plt.title('Area vs width in lin-lin space with selected S1s\\nall data')"
   ]
  },
  {
   "cell_type": "markdown",
   "metadata": {},
   "source": [
    "## Plotting waveforms\n",
    "Let's check that these are indeed big S1s:"
   ]
  },
  {
   "cell_type": "code",
   "execution_count": 24,
   "metadata": {
    "ExecuteTime": {
     "end_time": "2021-01-06T09:48:02.825659Z",
     "start_time": "2021-01-06T09:47:59.489441Z"
    },
    "scrolled": false
   },
   "outputs": [
    {
     "data": {
      "image/png": "[encoded data removed]",
      "text/plain": [
       "<Figure size 720x288 with 1 Axes>"
      ]
     },
     "metadata": {
      "needs_background": "light"
     },
     "output_type": "display_data"
    },
    {
     "data": {
      "image/png": "[encoded data removed]",
      "text/plain": [
       "<Figure size 720x288 with 1 Axes>"
      ]
     },
     "metadata": {
      "needs_background": "light"
     },
     "output_type": "display_data"
    },
    {
     "data": {
      "image/png": "[encoded data removed]",
      "text/plain": [
       "<Figure size 720x288 with 1 Axes>"
      ]
     },
     "metadata": {
      "needs_background": "light"
     },
     "output_type": "display_data"
    },
    {
     "data": {
      "image/png": "[encoded data removed]",
      "text/plain": [
       "<Figure size 720x288 with 1 Axes>"
      ]
     },
     "metadata": {
      "needs_background": "light"
     },
     "output_type": "display_data"
    },
    {
     "data": {
      "image/png": "[encoded data removed]",
      "text/plain": [
       "<Figure size 720x288 with 1 Axes>"
      ]
     },
     "metadata": {
      "needs_background": "light"
     },
     "output_type": "display_data"
    }
   ],
   "source": [
    "plot_some_peaks(selected_peaks)"
   ]
  },
  {
   "cell_type": "markdown",
   "metadata": {},
   "source": [
    "Nice, we made a simple cut and checked that some waveforms are of the kind we expected. Of course we can do more elaborate cuts and check the other dimensions of the parameter space. Very interesting times to be an analyst! "
   ]
  },
  {
   "cell_type": "code",
   "execution_count": null,
   "metadata": {},
   "outputs": [],
   "source": []
  }
 ],
 "metadata": {
  "kernelspec": {
   "display_name": "Python 3",
   "language": "python",
   "name": "python3"
  },
  "language_info": {
   "codemirror_mode": {
    "name": "ipython",
    "version": 3
   },
   "file_extension": ".py",
   "mimetype": "text/x-python",
   "name": "python",
   "nbconvert_exporter": "python",
   "pygments_lexer": "ipython3",
   "version": "3.8.5"
  },
  "latex_envs": {
   "LaTeX_envs_menu_present": true,
   "autoclose": false,
   "autocomplete": true,
   "bibliofile": "biblio.bib",
   "cite_by": "apalike",
   "current_citInitial": 1,
   "eqLabelWithNumbers": true,
   "eqNumInitial": 1,
   "hotkeys": {
    "equation": "Ctrl-E",
    "itemize": "Ctrl-I"
   },
   "labels_anchors": false,
   "latex_user_defs": false,
   "report_style_numbering": false,
   "user_envs_cfg": false
  },
  "varInspector": {
   "cols": {
    "lenName": 16,
    "lenType": 16,
    "lenVar": 40
   },
   "kernels_config": {
    "python": {
     "delete_cmd_postfix": "",
     "delete_cmd_prefix": "del ",
     "library": "var_list.py",
     "varRefreshCmd": "print(var_dic_list())"
    },
    "r": {
     "delete_cmd_postfix": ") ",
     "delete_cmd_prefix": "rm(",
     "library": "var_list.r",
     "varRefreshCmd": "cat(var_dic_list()) "
    }
   },
   "types_to_exclude": [
    "module",
    "function",
    "builtin_function_or_method",
    "instance",
    "_Feature"
   ],
   "window_display": false
  }
 },
 "nbformat": 4,
 "nbformat_minor": 4
}
