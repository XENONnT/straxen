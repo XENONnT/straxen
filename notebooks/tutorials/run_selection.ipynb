{
 "cells": [
  {
   "cell_type": "markdown",
   "metadata": {},
   "source": [
    "# Run selection demonstration"
   ]
  },
  {
   "cell_type": "markdown",
   "metadata": {},
   "source": [
    "Jelle, updated May 2019"
   ]
  },
  {
   "cell_type": "markdown",
   "metadata": {},
   "source": [
    "Run selection in strax is relatively simple. Let's start with setting up a basic XENON1T analysis:"
   ]
  },
  {
   "cell_type": "code",
   "execution_count": 1,
   "metadata": {},
   "outputs": [],
   "source": [
    "import strax\n",
    "import straxen\n",
    "\n",
    "st = straxen.contexts.xenon1t_dali()"
   ]
  },
  {
   "cell_type": "markdown",
   "metadata": {},
   "source": [
    "### 1. Basic selections"
   ]
  },
  {
   "cell_type": "markdown",
   "metadata": {},
   "source": [
    "Suppose we want to select runs that satisfy all of these criteria:\n",
    "  * Have a tag called `sciencerun2_preliminary` (or `_sciencerun2_preliminary`, we ignore leading underscores)\n",
    "  * Do NOT have tags `afterNG` or `AfterNG`, indicating the run was shortly after a neutron generator. \n",
    "  * Have `raw_records` accessible.\n",
    "  * Have a run mode that starts with `background` (e.g. `background_stable` and `background_triggerless`)\n",
    "  \n",
    "Here's how you would do that:"
   ]
  },
  {
   "cell_type": "code",
   "execution_count": 2,
   "metadata": {},
   "outputs": [
    {
     "name": "stderr",
     "output_type": "stream",
     "text": [
      "Checking data availability: 100%|██████████| 5/5 [00:01<00:00,  2.98it/s]\n"
     ]
    },
    {
     "data": {
      "text/plain": [
       "34"
      ]
     },
     "execution_count": 2,
     "metadata": {},
     "output_type": "execute_result"
    }
   ],
   "source": [
    "dsets = st.select_runs(include_tags='sciencerun2_preliminary', \n",
    "                       exclude_tags='?fterNG',\n",
    "                       available='raw_records', \n",
    "                       run_mode='background*')\n",
    "len(dsets)"
   ]
  },
  {
   "cell_type": "markdown",
   "metadata": {},
   "source": [
    "The first time you run the cell above, it took a few seconds to fetch some information from the XENON runs db. If you run it again, or if you run some other selection, it won't have to (try it), and should return almost instantly.\n",
    "\n",
    "The results are returned as a dataframe:"
   ]
  },
  {
   "cell_type": "code",
   "execution_count": 3,
   "metadata": {},
   "outputs": [
    {
     "data": {
      "text/html": [
       "<div>\n",
       "<style scoped>\n",
       "    .dataframe tbody tr th:only-of-type {\n",
       "        vertical-align: middle;\n",
       "    }\n",
       "\n",
       "    .dataframe tbody tr th {\n",
       "        vertical-align: top;\n",
       "    }\n",
       "\n",
       "    .dataframe thead th {\n",
       "        text-align: right;\n",
       "    }\n",
       "</style>\n",
       "<table border=\"1\" class=\"dataframe\">\n",
       "  <thead>\n",
       "    <tr style=\"text-align: right;\">\n",
       "      <th></th>\n",
       "      <th>end</th>\n",
       "      <th>mode</th>\n",
       "      <th>name</th>\n",
       "      <th>number</th>\n",
       "      <th>reader.ini.name</th>\n",
       "      <th>start</th>\n",
       "      <th>tags</th>\n",
       "      <th>trigger.events_built</th>\n",
       "      <th>peaks_available</th>\n",
       "      <th>events_available</th>\n",
       "      <th>raw_records_available</th>\n",
       "      <th>event_info_available</th>\n",
       "      <th>records_available</th>\n",
       "    </tr>\n",
       "  </thead>\n",
       "  <tbody>\n",
       "    <tr>\n",
       "      <th>2</th>\n",
       "      <td>2018-02-15 10:30:55+00:00</td>\n",
       "      <td>background_triggerless</td>\n",
       "      <td>180215_1029</td>\n",
       "      <td>16854</td>\n",
       "      <td>background_triggerless</td>\n",
       "      <td>2018-02-15 10:29:52+00:00</td>\n",
       "      <td>_sciencerun2_candidate,_sciencerun2_preliminary</td>\n",
       "      <td>858.0</td>\n",
       "      <td>False</td>\n",
       "      <td>True</td>\n",
       "      <td>True</td>\n",
       "      <td>True</td>\n",
       "      <td>False</td>\n",
       "    </tr>\n",
       "    <tr>\n",
       "      <th>3</th>\n",
       "      <td>2018-02-16 14:24:47+00:00</td>\n",
       "      <td>background_triggerless</td>\n",
       "      <td>180216_1324</td>\n",
       "      <td>16887</td>\n",
       "      <td>background_triggerless</td>\n",
       "      <td>2018-02-16 13:24:43+00:00</td>\n",
       "      <td>_sciencerun2_candidate,_sciencerun2_preliminary</td>\n",
       "      <td>36292.0</td>\n",
       "      <td>False</td>\n",
       "      <td>False</td>\n",
       "      <td>True</td>\n",
       "      <td>False</td>\n",
       "      <td>False</td>\n",
       "    </tr>\n",
       "    <tr>\n",
       "      <th>4</th>\n",
       "      <td>2018-02-16 15:55:09+00:00</td>\n",
       "      <td>background_triggerless</td>\n",
       "      <td>180216_1455</td>\n",
       "      <td>16889</td>\n",
       "      <td>background_triggerless</td>\n",
       "      <td>2018-02-16 14:55:06+00:00</td>\n",
       "      <td>_sciencerun2_candidate,_sciencerun2_preliminary</td>\n",
       "      <td>36292.0</td>\n",
       "      <td>False</td>\n",
       "      <td>False</td>\n",
       "      <td>True</td>\n",
       "      <td>False</td>\n",
       "      <td>False</td>\n",
       "    </tr>\n",
       "    <tr>\n",
       "      <th>5</th>\n",
       "      <td>2018-02-16 17:25:29+00:00</td>\n",
       "      <td>background_triggerless</td>\n",
       "      <td>180216_1625</td>\n",
       "      <td>16891</td>\n",
       "      <td>background_triggerless</td>\n",
       "      <td>2018-02-16 16:25:26+00:00</td>\n",
       "      <td>_sciencerun2_candidate,_sciencerun2_preliminary</td>\n",
       "      <td>36292.0</td>\n",
       "      <td>False</td>\n",
       "      <td>False</td>\n",
       "      <td>True</td>\n",
       "      <td>False</td>\n",
       "      <td>False</td>\n",
       "    </tr>\n",
       "    <tr>\n",
       "      <th>6</th>\n",
       "      <td>2018-02-16 23:26:57+00:00</td>\n",
       "      <td>background_triggerless</td>\n",
       "      <td>180216_2226</td>\n",
       "      <td>16899</td>\n",
       "      <td>background_triggerless</td>\n",
       "      <td>2018-02-16 22:26:54+00:00</td>\n",
       "      <td>_sciencerun2_candidate,_sciencerun2_preliminary</td>\n",
       "      <td>36292.0</td>\n",
       "      <td>False</td>\n",
       "      <td>False</td>\n",
       "      <td>True</td>\n",
       "      <td>False</td>\n",
       "      <td>False</td>\n",
       "    </tr>\n",
       "  </tbody>\n",
       "</table>\n",
       "</div>"
      ],
      "text/plain": [
       "                        end                    mode         name  number  \\\n",
       "2 2018-02-15 10:30:55+00:00  background_triggerless  180215_1029   16854   \n",
       "3 2018-02-16 14:24:47+00:00  background_triggerless  180216_1324   16887   \n",
       "4 2018-02-16 15:55:09+00:00  background_triggerless  180216_1455   16889   \n",
       "5 2018-02-16 17:25:29+00:00  background_triggerless  180216_1625   16891   \n",
       "6 2018-02-16 23:26:57+00:00  background_triggerless  180216_2226   16899   \n",
       "\n",
       "          reader.ini.name                     start  \\\n",
       "2  background_triggerless 2018-02-15 10:29:52+00:00   \n",
       "3  background_triggerless 2018-02-16 13:24:43+00:00   \n",
       "4  background_triggerless 2018-02-16 14:55:06+00:00   \n",
       "5  background_triggerless 2018-02-16 16:25:26+00:00   \n",
       "6  background_triggerless 2018-02-16 22:26:54+00:00   \n",
       "\n",
       "                                              tags  trigger.events_built  \\\n",
       "2  _sciencerun2_candidate,_sciencerun2_preliminary                 858.0   \n",
       "3  _sciencerun2_candidate,_sciencerun2_preliminary               36292.0   \n",
       "4  _sciencerun2_candidate,_sciencerun2_preliminary               36292.0   \n",
       "5  _sciencerun2_candidate,_sciencerun2_preliminary               36292.0   \n",
       "6  _sciencerun2_candidate,_sciencerun2_preliminary               36292.0   \n",
       "\n",
       "   peaks_available  events_available  raw_records_available  \\\n",
       "2            False              True                   True   \n",
       "3            False             False                   True   \n",
       "4            False             False                   True   \n",
       "5            False             False                   True   \n",
       "6            False             False                   True   \n",
       "\n",
       "   event_info_available  records_available  \n",
       "2                  True              False  \n",
       "3                 False              False  \n",
       "4                 False              False  \n",
       "5                 False              False  \n",
       "6                 False              False  "
      ]
     },
     "execution_count": 3,
     "metadata": {},
     "output_type": "execute_result"
    }
   ],
   "source": [
    "dsets.head()"
   ]
  },
  {
   "cell_type": "markdown",
   "metadata": {},
   "source": [
    "In particular, the `name` field gives the `run_id` you feed to `st.get_data`."
   ]
  },
  {
   "cell_type": "markdown",
   "metadata": {},
   "source": [
    "### 2. The `dsets` dataframe, more refined selections"
   ]
  },
  {
   "cell_type": "markdown",
   "metadata": {},
   "source": [
    "The extra info in the `dsets` dataframe can be used for further selections, for example on the number of events or the start/stop times of the run."
   ]
  },
  {
   "cell_type": "code",
   "execution_count": 4,
   "metadata": {},
   "outputs": [
    {
     "data": {
      "text/plain": [
       "33"
      ]
     },
     "execution_count": 4,
     "metadata": {},
     "output_type": "execute_result"
    }
   ],
   "source": [
    "dsets = dsets[dsets['trigger.events_built'] > 10000]\n",
    "len(dsets)"
   ]
  },
  {
   "cell_type": "markdown",
   "metadata": {},
   "source": [
    "You can also use it to get some quick statistics on the runs, such as the total uncorrected live-time:"
   ]
  },
  {
   "cell_type": "code",
   "execution_count": 5,
   "metadata": {},
   "outputs": [
    {
     "data": {
      "text/plain": [
       "Timedelta('1 days 09:01:47')"
      ]
     },
     "execution_count": 5,
     "metadata": {},
     "output_type": "execute_result"
    }
   ],
   "source": [
    "(dsets['end'] - dsets['start']).sum()"
   ]
  },
  {
   "cell_type": "markdown",
   "metadata": {},
   "source": [
    "You might also want to check all combinations of tags that occur in the selected datasets, to see if anything odd is selected. Straxen has a utility function for this:"
   ]
  },
  {
   "cell_type": "code",
   "execution_count": 6,
   "metadata": {},
   "outputs": [
    {
     "data": {
      "text/plain": [
       "Counter({'_sciencerun2_candidate': 33, '_sciencerun2_preliminary': 33})"
      ]
     },
     "execution_count": 6,
     "metadata": {},
     "output_type": "execute_result"
    }
   ],
   "source": [
    "strax.count_tags(dsets)"
   ]
  },
  {
   "cell_type": "markdown",
   "metadata": {},
   "source": [
    "Hmm, maybe you want to add `wrongtime` to the list of excluded tags. Try it!"
   ]
  },
  {
   "cell_type": "markdown",
   "metadata": {},
   "source": [
    "### 3. Detailed run info and advanced selections"
   ]
  },
  {
   "cell_type": "markdown",
   "metadata": {},
   "source": [
    "If you want to get more detailed run information on a single run, you can use the `run_metadata` method to fetch the entire run document:"
   ]
  },
  {
   "cell_type": "code",
   "execution_count": 7,
   "metadata": {},
   "outputs": [
    {
     "name": "stdout",
     "output_type": "stream",
     "text": [
      "['name', 'user', 'detector', 'number', 'start', 'reader', 'trigger', 'source', 'comments', 'end', 'processor', 'raw_size_byte', 'quality', 'tags', 'mode']\n"
     ]
    }
   ],
   "source": [
    "doc = st.run_metadata('180215_1029')\n",
    "print(list(doc.keys()))"
   ]
  },
  {
   "cell_type": "markdown",
   "metadata": {},
   "source": [
    "Please do not use this in a loop over all runs, the runs database is almost 1 GB in size... This may become smaller in the future, if we decide to put chunk-level metadata somewhere else."
   ]
  },
  {
   "cell_type": "markdown",
   "metadata": {},
   "source": [
    "If you want to get a specific piece of information for many runs, you can tell straxen to fetch extra fields from the runs db with `scan_runs`:"
   ]
  },
  {
   "cell_type": "code",
   "execution_count": 8,
   "metadata": {},
   "outputs": [
    {
     "name": "stderr",
     "output_type": "stream",
     "text": [
      "Checking data availability: 100%|██████████| 5/5 [00:01<00:00,  3.24it/s]\n"
     ]
    }
   ],
   "source": [
    "st.scan_runs(store_fields='quality.hv.anode')\n",
    "dsets = st.select_runs(include_tags='sciencerun1')"
   ]
  },
  {
   "cell_type": "markdown",
   "metadata": {},
   "source": [
    "Now `dsets` has an extra column `quality__hv__anode` available that you can select on. We converted the dots (`.`) in the field name to double underscores (`__`) to ensure the column name remains a valid python identifier. Here's a histogram of the observed values:"
   ]
  },
  {
   "cell_type": "code",
   "execution_count": 9,
   "metadata": {},
   "outputs": [
    {
     "data": {
      "text/plain": [
       "Index(['end', 'mode', 'name', 'number', 'quality.hv.anode', 'reader.ini.name',\n",
       "       'start', 'tags', 'trigger.events_built', 'peaks_available',\n",
       "       'events_available', 'raw_records_available', 'event_info_available',\n",
       "       'records_available'],\n",
       "      dtype='object')"
      ]
     },
     "execution_count": 9,
     "metadata": {},
     "output_type": "execute_result"
    }
   ],
   "source": [
    "dsets.columns"
   ]
  },
  {
   "cell_type": "code",
   "execution_count": 10,
   "metadata": {},
   "outputs": [
    {
     "data": {
      "text/plain": [
       "Text(0, 0.5, 'Number of runs')"
      ]
     },
     "execution_count": 10,
     "metadata": {},
     "output_type": "execute_result"
    },
    {
     "data": {
      "image/png": "[encoded data removed]",
      "text/plain": [
       "<Figure size 432x288 with 1 Axes>"
      ]
     },
     "metadata": {},
     "output_type": "display_data"
    }
   ],
   "source": [
    "import matplotlib.pyplot as plt\n",
    "%matplotlib inline\n",
    "plt.hist(dsets['quality.hv.anode'], bins=20);\n",
    "plt.xlabel(\"Anode voltage (V)\")\n",
    "plt.ylabel(\"Number of runs\")"
   ]
  },
  {
   "cell_type": "markdown",
   "metadata": {},
   "source": [
    "Finally, if you want to do something truly custom, you can construct and run your own MongoDB query or aggregation.\n",
    "\n",
    "TODO: For now this doesn't work in this context, since the actual XENON run db is not activated"
   ]
  },
  {
   "cell_type": "code",
   "execution_count": 11,
   "metadata": {},
   "outputs": [],
   "source": [
    "# mongo_collection = st.storage[0].collection\n",
    "# doc = mongo_collection.find_one({'number': 10000}, projection=['name'])\n",
    "# doc['name']"
   ]
  }
 ],
 "metadata": {
  "kernelspec": {
   "display_name": "Python [default]",
   "language": "python",
   "name": "python3"
  },
  "language_info": {
   "codemirror_mode": {
    "name": "ipython",
    "version": 3
   },
   "file_extension": ".py",
   "mimetype": "text/x-python",
   "name": "python",
   "nbconvert_exporter": "python",
   "pygments_lexer": "ipython3",
   "version": "3.6.8"
  }
 },
 "nbformat": 4,
 "nbformat_minor": 2
}
