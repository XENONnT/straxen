{
 "cells": [
  {
   "cell_type": "markdown",
   "id": "muslim-knight",
   "metadata": {},
   "source": [
    "# Superruns\n",
    "\n",
    "### Basic concept of a superrun:\n",
    "\n",
    "A superrun is made up of many regular runs  and helps us therefore to organize data in logic units and to load it faster. In the following notebook we will give some brief examples how superruns work and can be used to make analysts lives easier.\n",
    "\n",
    "\n",
    "Let's get started how we can define superruns. The example I demonstrate here is based on some dummy Record and Peak plugins. But it works in the same way for regular data."
   ]
  },
  {
   "cell_type": "code",
   "execution_count": 1,
   "id": "mineral-indianapolis",
   "metadata": {},
   "outputs": [
    {
     "name": "stderr",
     "output_type": "stream",
     "text": [
      "/home/dwenz/mymodules/straxen/straxen/rucio.py:29: UserWarning: No installation of rucio-clients found. Can't use rucio remote backend.\n",
      "  warnings.warn(\"No installation of rucio-clients found. Can't use rucio remote backend.\")\n"
     ]
    }
   ],
   "source": [
    "import strax\n",
    "import straxen"
   ]
  },
  {
   "cell_type": "markdown",
   "id": "flush-smith",
   "metadata": {},
   "source": [
    "### Define context and create some dummy data:\n",
    "\n",
    "In the subsequent cells I create a dummy context and write some dummy-data. You can either read through it if you are interested or skip until **Define a superrun**. For the working examples on superruns you only need to know:\n",
    "\n",
    "* Superruns can be created with any of our regular online and offline contexts. \n",
    "* In the two cells below I define 3 runs and records for the run_ids 0, 1, 2. \n",
    "* The constituents of a superrun are called subruns which we call runs."
   ]
  },
  {
   "cell_type": "code",
   "execution_count": 3,
   "id": "biblical-shame",
   "metadata": {},
   "outputs": [],
   "source": [
    "from strax.testutils import Records, Peaks\n",
    "\n",
    "superrun_name='_superrun_test'\n",
    "st = strax.Context(storage=[strax.DataDirectory('./strax_data',\n",
    "                                                provide_run_metadata=True,\n",
    "                                                readonly=False,\n",
    "                                                deep_scan=True)],\n",
    "                   register=[Records, Peaks],\n",
    "                   config={'bonus_area': 42}\n",
    "                                     )\n",
    "st.set_context_config({ 'use_per_run_defaults': False})\n"
   ]
  },
  {
   "cell_type": "code",
   "execution_count": 4,
   "id": "suffering-burning",
   "metadata": {
    "scrolled": false
   },
   "outputs": [
    {
     "name": "stderr",
     "output_type": "stream",
     "text": [
      "Could not estimate run start and end time from run metadata: assuming it is 0 and inf\n",
      "Could not estimate run start and end time from run metadata: assuming it is 0 and inf\n",
      "Could not estimate run start and end time from run metadata: assuming it is 0 and inf\n"
     ]
    },
    {
     "name": "stdout",
     "output_type": "stream",
     "text": [
      "Source finished!\n",
      "Source finished!\n",
      "Source finished!\n"
     ]
    }
   ],
   "source": [
    "import datetime\n",
    "import pytz\n",
    "\n",
    "import numpy as np\n",
    "\n",
    "import json\n",
    "from bson import json_util\n",
    "\n",
    "def _write_run_doc(context, run_id, time, endtime):\n",
    "    \"\"\"Function which writes a dummy run document.\n",
    "    \"\"\"\n",
    "    run_doc = {'name': run_id, 'start': time, 'end': endtime}\n",
    "    with open(context.storage[0]._run_meta_path(str(run_id)), 'w') as fp:\n",
    "        json.dump(run_doc, fp,sort_keys=True, indent=4, default=json_util.default)\n",
    "\n",
    "\n",
    "offset_between_subruns = 10\n",
    "\n",
    "now = datetime.datetime.now()\n",
    "now.replace(tzinfo=pytz.utc)\n",
    "subrun_ids = [str(r) for r in range(3)]\n",
    "\n",
    "for run_id in subrun_ids:\n",
    "    rr = st.get_array(run_id, 'records')\n",
    "    time = np.min(rr['time'])\n",
    "    endtime = np.max(strax.endtime(rr))\n",
    "\n",
    "    _write_run_doc(st, \n",
    "                    run_id, \n",
    "                    now + datetime.timedelta(0, int(time)),\n",
    "                    now + datetime.timedelta(0, int(endtime)), \n",
    "                    )\n",
    "\n",
    "    st.set_config({'secret_time_offset': endtime + offset_between_subruns}) # untracked option\n",
    "    assert st.is_stored(run_id, 'records')\n",
    "\n"
   ]
  },
  {
   "cell_type": "markdown",
   "id": "departmental-ceremony",
   "metadata": {},
   "source": [
    "If we print now the lineage and hash for the three runs you will see it is equivalent to our regular data."
   ]
  },
  {
   "cell_type": "code",
   "execution_count": 5,
   "id": "catholic-danish",
   "metadata": {},
   "outputs": [
    {
     "name": "stdout",
     "output_type": "stream",
     "text": [
      "2-records-j3nd2fjbiq\n"
     ]
    },
    {
     "data": {
      "text/plain": [
       "{'records': ('Records', '0.0.0', {'crash': False, 'dummy_tracked_option': 42})}"
      ]
     },
     "execution_count": 5,
     "metadata": {},
     "output_type": "execute_result"
    }
   ],
   "source": [
    "print(st.key_for('2', 'records'))\n",
    "st.key_for('2', 'records').lineage"
   ]
  },
  {
   "cell_type": "markdown",
   "id": "inner-morris",
   "metadata": {},
   "source": [
    "### Metadata of our subruns: \n",
    "\n",
    "To understand a bit better how our dummy data looks like we can have a look into the metadata for a single run. Each subrun is made of 10 chunks each containing 10 waveforms in 10 different channels. "
   ]
  },
  {
   "cell_type": "code",
   "execution_count": 6,
   "id": "suited-shelter",
   "metadata": {
    "scrolled": true
   },
   "outputs": [
    {
     "data": {
      "text/plain": [
       "{'chunk_target_size_mb': 200,\n",
       " 'chunks': [{'chunk_i': 0,\n",
       "   'end': 41,\n",
       "   'filename': 'records-j3nd2fjbiq-000000',\n",
       "   'filesize': 313,\n",
       "   'first_endtime': 41,\n",
       "   'first_time': 40,\n",
       "   'last_endtime': 41,\n",
       "   'last_time': 40,\n",
       "   'n': 10,\n",
       "   'nbytes': 2570,\n",
       "   'run_id': '2',\n",
       "   'start': 40,\n",
       "   'subruns': None},\n",
       "  {'chunk_i': 1,\n",
       "   'end': 42,\n",
       "   'filename': 'records-j3nd2fjbiq-000001',\n",
       "   'filesize': 313,\n",
       "   'first_endtime': 42,\n",
       "   'first_time': 41,\n",
       "   'last_endtime': 42,\n",
       "   'last_time': 41,\n",
       "   'n': 10,\n",
       "   'nbytes': 2570,\n",
       "   'run_id': '2',\n",
       "   'start': 41,\n",
       "   'subruns': None},\n",
       "  {'chunk_i': 2,\n",
       "   'end': 43,\n",
       "   'filename': 'records-j3nd2fjbiq-000002',\n",
       "   'filesize': 313,\n",
       "   'first_endtime': 43,\n",
       "   'first_time': 42,\n",
       "   'last_endtime': 43,\n",
       "   'last_time': 42,\n",
       "   'n': 10,\n",
       "   'nbytes': 2570,\n",
       "   'run_id': '2',\n",
       "   'start': 42,\n",
       "   'subruns': None},\n",
       "  {'chunk_i': 3,\n",
       "   'end': 44,\n",
       "   'filename': 'records-j3nd2fjbiq-000003',\n",
       "   'filesize': 313,\n",
       "   'first_endtime': 44,\n",
       "   'first_time': 43,\n",
       "   'last_endtime': 44,\n",
       "   'last_time': 43,\n",
       "   'n': 10,\n",
       "   'nbytes': 2570,\n",
       "   'run_id': '2',\n",
       "   'start': 43,\n",
       "   'subruns': None},\n",
       "  {'chunk_i': 4,\n",
       "   'end': 45,\n",
       "   'filename': 'records-j3nd2fjbiq-000004',\n",
       "   'filesize': 313,\n",
       "   'first_endtime': 45,\n",
       "   'first_time': 44,\n",
       "   'last_endtime': 45,\n",
       "   'last_time': 44,\n",
       "   'n': 10,\n",
       "   'nbytes': 2570,\n",
       "   'run_id': '2',\n",
       "   'start': 44,\n",
       "   'subruns': None},\n",
       "  {'chunk_i': 5,\n",
       "   'end': 46,\n",
       "   'filename': 'records-j3nd2fjbiq-000005',\n",
       "   'filesize': 313,\n",
       "   'first_endtime': 46,\n",
       "   'first_time': 45,\n",
       "   'last_endtime': 46,\n",
       "   'last_time': 45,\n",
       "   'n': 10,\n",
       "   'nbytes': 2570,\n",
       "   'run_id': '2',\n",
       "   'start': 45,\n",
       "   'subruns': None},\n",
       "  {'chunk_i': 6,\n",
       "   'end': 47,\n",
       "   'filename': 'records-j3nd2fjbiq-000006',\n",
       "   'filesize': 313,\n",
       "   'first_endtime': 47,\n",
       "   'first_time': 46,\n",
       "   'last_endtime': 47,\n",
       "   'last_time': 46,\n",
       "   'n': 10,\n",
       "   'nbytes': 2570,\n",
       "   'run_id': '2',\n",
       "   'start': 46,\n",
       "   'subruns': None},\n",
       "  {'chunk_i': 7,\n",
       "   'end': 48,\n",
       "   'filename': 'records-j3nd2fjbiq-000007',\n",
       "   'filesize': 313,\n",
       "   'first_endtime': 48,\n",
       "   'first_time': 47,\n",
       "   'last_endtime': 48,\n",
       "   'last_time': 47,\n",
       "   'n': 10,\n",
       "   'nbytes': 2570,\n",
       "   'run_id': '2',\n",
       "   'start': 47,\n",
       "   'subruns': None},\n",
       "  {'chunk_i': 8,\n",
       "   'end': 49,\n",
       "   'filename': 'records-j3nd2fjbiq-000008',\n",
       "   'filesize': 313,\n",
       "   'first_endtime': 49,\n",
       "   'first_time': 48,\n",
       "   'last_endtime': 49,\n",
       "   'last_time': 48,\n",
       "   'n': 10,\n",
       "   'nbytes': 2570,\n",
       "   'run_id': '2',\n",
       "   'start': 48,\n",
       "   'subruns': None},\n",
       "  {'chunk_i': 9,\n",
       "   'end': 50,\n",
       "   'filename': 'records-j3nd2fjbiq-000009',\n",
       "   'filesize': 313,\n",
       "   'first_endtime': 50,\n",
       "   'first_time': 49,\n",
       "   'last_endtime': 50,\n",
       "   'last_time': 49,\n",
       "   'n': 10,\n",
       "   'nbytes': 2570,\n",
       "   'run_id': '2',\n",
       "   'start': 49,\n",
       "   'subruns': None}],\n",
       " 'compressor': 'blosc',\n",
       " 'data_kind': 'records',\n",
       " 'data_type': 'records',\n",
       " 'dtype': \"[(('Start time since unix epoch [ns]', 'time'), '<i8'), (('Length of the interval in samples', 'length'), '<i4'), (('Width of one sample [ns]', 'dt'), '<i2'), (('Channel/PMT number', 'channel'), '<i2'), (('Length of pulse to which the record belongs (without zero-padding)', 'pulse_length'), '<i4'), (('Fragment number in the pulse', 'record_i'), '<i2'), (('Integral in ADC counts x samples', 'area'), '<i4'), (('Level of data reduction applied (strax.ReductionLevel enum)', 'reduction_level'), '|u1'), (('Baseline in ADC counts. data = int(baseline) - data_orig', 'baseline'), '<f4'), (('Baseline RMS in ADC counts. data = baseline - data_orig', 'baseline_rms'), '<f4'), (('Multiply data by 2**(this number). Baseline is unaffected.', 'amplitude_bit_shift'), '<i2'), (('Waveform data in raw counts above integer part of baseline', 'data'), '<i2', (110,))]\",\n",
       " 'end': 50,\n",
       " 'lineage': {'records': ['Records',\n",
       "   '0.0.0',\n",
       "   {'crash': False, 'dummy_tracked_option': 42}]},\n",
       " 'lineage_hash': 'j3nd2fjbiq',\n",
       " 'run_id': '2',\n",
       " 'start': 40,\n",
       " 'strax_version': '0.16.0',\n",
       " 'writing_ended': 1626283809.9985752,\n",
       " 'writing_started': 1626283809.9701405}"
      ]
     },
     "execution_count": 6,
     "metadata": {},
     "output_type": "execute_result"
    }
   ],
   "source": [
    "st.get_meta('2', 'records')"
   ]
  },
  {
   "cell_type": "markdown",
   "id": "charming-output",
   "metadata": {},
   "source": [
    "### Define a superrun:\n",
    "\n",
    "Defining a superrun is quite simple one has to call:"
   ]
  },
  {
   "cell_type": "code",
   "execution_count": 7,
   "id": "accepted-routine",
   "metadata": {},
   "outputs": [
    {
     "name": "stdout",
     "output_type": "stream",
     "text": [
      "superrun_name:  _superrun_test \n",
      "subrun_ids:  ['0', '1', '2']\n"
     ]
    }
   ],
   "source": [
    "st.define_run(superrun_name, subrun_ids)\n",
    "print('superrun_name: ', superrun_name, '\\n'\n",
    "      'subrun_ids: ', subrun_ids\n",
    "     )"
   ]
  },
  {
   "cell_type": "markdown",
   "id": "prepared-strength",
   "metadata": {},
   "source": [
    "where the first argument is a string specifying the name of the superrun e.g. `_Kr83m_20200816`. Please note that superrun names must start with an underscore. \n",
    "\n",
    "The second argument is a list of run_ids of subruns the superrun should be made of. Please note that the definition of a superrun does not need any specification of a data_kind like peaks or event_info because it is a \"run\".\n",
    "\n",
    "By default, it is only allowed to store new runs under the usere's specified strax_data directory. In this example it is simply `./strax_data` and the run_meta data can be looked at via:"
   ]
  },
  {
   "cell_type": "code",
   "execution_count": 8,
   "id": "basic-processing",
   "metadata": {},
   "outputs": [
    {
     "data": {
      "text/plain": [
       "{'sub_run_spec': {'0': 'all', '1': 'all', '2': 'all'},\n",
       " 'start': datetime.datetime(2021, 7, 14, 12, 30, 7, 830000, tzinfo=<bson.tz_util.FixedOffset object at 0x7f6a66bb6070>),\n",
       " 'end': datetime.datetime(2021, 7, 14, 12, 30, 57, 830000, tzinfo=<bson.tz_util.FixedOffset object at 0x7f6a66bb6070>),\n",
       " 'livetime': 30000000000.0,\n",
       " 'name': '_superrun_test'}"
      ]
     },
     "execution_count": 8,
     "metadata": {},
     "output_type": "execute_result"
    }
   ],
   "source": [
    "st.run_metadata('_superrun_test')"
   ]
  },
  {
   "cell_type": "markdown",
   "id": "egyptian-alpha",
   "metadata": {},
   "source": [
    "The superrun-metadata contains a list of all subruns making up the superrun, the start and end time (in milliseconds) of the corresponding collections of runs and its naive livetime in nanoseconds without any corrections for deadtime.\n",
    "\n",
    "Please note that in the presented example the time difference between start and end time is 50 s while the live time is only about 30 s. This comes from the fact that I defined the time between two runs to be 10 s. It should be always kept in mind for superruns that livetime is not the same as the end - start of the superrun."
   ]
  },
  {
   "cell_type": "markdown",
   "id": "linear-elite",
   "metadata": {},
   "source": [
    "The superun will appear in the run selection as any other run:"
   ]
  },
  {
   "cell_type": "code",
   "execution_count": 9,
   "id": "delayed-reggae",
   "metadata": {},
   "outputs": [
    {
     "name": "stderr",
     "output_type": "stream",
     "text": [
      "Checking data availability: 0it [00:00, ?it/s]\n"
     ]
    },
    {
     "data": {
      "text/html": [
       "<div>\n",
       "<style scoped>\n",
       "    .dataframe tbody tr th:only-of-type {\n",
       "        vertical-align: middle;\n",
       "    }\n",
       "\n",
       "    .dataframe tbody tr th {\n",
       "        vertical-align: top;\n",
       "    }\n",
       "\n",
       "    .dataframe thead th {\n",
       "        text-align: right;\n",
       "    }\n",
       "</style>\n",
       "<table border=\"1\" class=\"dataframe\">\n",
       "  <thead>\n",
       "    <tr style=\"text-align: right;\">\n",
       "      <th></th>\n",
       "      <th>name</th>\n",
       "      <th>number</th>\n",
       "      <th>mode</th>\n",
       "      <th>tags</th>\n",
       "    </tr>\n",
       "  </thead>\n",
       "  <tbody>\n",
       "    <tr>\n",
       "      <th>0</th>\n",
       "      <td>0</td>\n",
       "      <td>0.0</td>\n",
       "      <td></td>\n",
       "      <td></td>\n",
       "    </tr>\n",
       "    <tr>\n",
       "      <th>1</th>\n",
       "      <td>1</td>\n",
       "      <td>1.0</td>\n",
       "      <td></td>\n",
       "      <td></td>\n",
       "    </tr>\n",
       "    <tr>\n",
       "      <th>2</th>\n",
       "      <td>2</td>\n",
       "      <td>2.0</td>\n",
       "      <td></td>\n",
       "      <td></td>\n",
       "    </tr>\n",
       "    <tr>\n",
       "      <th>3</th>\n",
       "      <td>_superrun_test</td>\n",
       "      <td>NaN</td>\n",
       "      <td></td>\n",
       "      <td></td>\n",
       "    </tr>\n",
       "  </tbody>\n",
       "</table>\n",
       "</div>"
      ],
      "text/plain": [
       "             name  number mode tags\n",
       "0               0     0.0          \n",
       "1               1     1.0          \n",
       "2               2     2.0          \n",
       "3  _superrun_test     NaN          "
      ]
     },
     "execution_count": 9,
     "metadata": {},
     "output_type": "execute_result"
    }
   ],
   "source": [
    "st.select_runs()"
   ]
  },
  {
   "cell_type": "markdown",
   "id": "korean-encounter",
   "metadata": {},
   "source": [
    "### Loading data with superruns:\n",
    "\n",
    "Loading superruns can be done in two different ways. Lets try first the already implemented approach and compare the data with loading the individual runs separately:"
   ]
  },
  {
   "cell_type": "code",
   "execution_count": 10,
   "id": "differential-rocket",
   "metadata": {},
   "outputs": [
    {
     "data": {
      "application/vnd.jupyter.widget-view+json": {
       "model_id": "d3d440291216445398c84724986d0f03",
       "version_major": 2,
       "version_minor": 0
      },
      "text/plain": [
       "Loading 3 runs: 0it [00:00, ?it/s]"
      ]
     },
     "metadata": {},
     "output_type": "display_data"
    },
    {
     "data": {
      "application/vnd.jupyter.widget-view+json": {
       "model_id": "1a3cb38344404b4483fbb2a59ad13945",
       "version_major": 2,
       "version_minor": 0
      },
      "text/plain": [
       "Loading 3 runs: 0it [00:00, ?it/s]"
      ]
     },
     "metadata": {},
     "output_type": "display_data"
    },
    {
     "data": {
      "application/vnd.jupyter.widget-view+json": {
       "model_id": "abd51d3c60cb41c2bc27a9dc22752d2d",
       "version_major": 2,
       "version_minor": 0
      },
      "text/plain": [
       "Loading records: |          | 0.00 % [00:00<?]"
      ]
     },
     "metadata": {},
     "output_type": "display_data"
    }
   ],
   "source": [
    "sub_runs = st.get_array(subrun_ids, 'records')  # Loading all subruns individually like we are used to\n",
    "superrun = st.get_array(superrun_name, 'records')  # Loading the superrun\n",
    "assert np.all(sub_runs['time'] == superrun['time'])  # Comparing if the data is the same"
   ]
  },
  {
   "cell_type": "markdown",
   "id": "inclusive-weather",
   "metadata": {},
   "source": [
    "To increase the loading speed it can be allowed to skip the lineage check of the individual subruns:"
   ]
  },
  {
   "cell_type": "code",
   "execution_count": 11,
   "id": "muslim-schedule",
   "metadata": {},
   "outputs": [
    {
     "data": {
      "application/vnd.jupyter.widget-view+json": {
       "model_id": "24376261235e4242b84ab5de51ef1fd8",
       "version_major": 2,
       "version_minor": 0
      },
      "text/plain": [
       "Loading 3 runs: 0it [00:00, ?it/s]"
      ]
     },
     "metadata": {},
     "output_type": "display_data"
    },
    {
     "name": "stderr",
     "output_type": "stream",
     "text": [
      "/home/dwenz/mymodules/strax/strax/context.py:217: UserWarning: Unknown config option _check_lineage_per_run_id; will do nothing.\n",
      "  warnings.warn(f\"Unknown config option {k}; will do nothing.\")\n",
      "/home/dwenz/mymodules/strax/strax/context.py:223: UserWarning: Invalid context option _check_lineage_per_run_id; will do nothing.\n",
      "  warnings.warn(f\"Invalid context option {k}; will do nothing.\")\n"
     ]
    },
    {
     "data": {
      "application/vnd.jupyter.widget-view+json": {
       "model_id": "05ef60b97bad4fa080afe738916b9047",
       "version_major": 2,
       "version_minor": 0
      },
      "text/plain": [
       "Loading 3 runs: 0it [00:00, ?it/s]"
      ]
     },
     "metadata": {},
     "output_type": "display_data"
    },
    {
     "data": {
      "application/vnd.jupyter.widget-view+json": {
       "model_id": "067d5a32abd748a7a9642e69b68948c8",
       "version_major": 2,
       "version_minor": 0
      },
      "text/plain": [
       "Loading records: |          | 0.00 % [00:00<?]"
      ]
     },
     "metadata": {},
     "output_type": "display_data"
    }
   ],
   "source": [
    "sub_runs = st.get_array(subrun_ids, 'records')\n",
    "superrun = st.get_array(superrun_name, 'records', _check_lineage_per_run_id=False)\n",
    "assert np.all(sub_runs['time'] == superrun['time'])"
   ]
  },
  {
   "cell_type": "markdown",
   "id": "approximate-reality",
   "metadata": {},
   "source": [
    "So how does this magic work? Under the hood a superrun first checks if the data of the different subruns has been created before. If not it will make the data for you. After that the data of the individual runs is loaded.\n",
    "\n",
    "The loading speed can be further increased if we rechunk and write the data of our superrun as \"new\" data to disk. This can be done easily for light weight data_types like peaks and above. Further, this allows us to combine multiple data_types if the same data_kind, like for example `event_info` and `cuts`."
   ]
  },
  {
   "cell_type": "markdown",
   "id": "aboriginal-bedroom",
   "metadata": {},
   "source": [
    "### Writing a \"new\" superrun:\n",
    "\n",
    "To write a new superrun one has to set the corresponding context setting to true:"
   ]
  },
  {
   "cell_type": "code",
   "execution_count": 12,
   "id": "aggressive-allah",
   "metadata": {},
   "outputs": [],
   "source": [
    "st.set_context_config({'write_superruns': True})"
   ]
  },
  {
   "cell_type": "code",
   "execution_count": 13,
   "id": "fifteen-history",
   "metadata": {},
   "outputs": [
    {
     "data": {
      "text/plain": [
       "False"
      ]
     },
     "execution_count": 13,
     "metadata": {},
     "output_type": "execute_result"
    }
   ],
   "source": [
    "st.is_stored(superrun_name, 'records')"
   ]
  },
  {
   "cell_type": "code",
   "execution_count": 14,
   "id": "contrary-nursing",
   "metadata": {},
   "outputs": [
    {
     "data": {
      "application/vnd.jupyter.widget-view+json": {
       "model_id": "d1fc5a32108841b99bfe2cb061e2bf7f",
       "version_major": 2,
       "version_minor": 0
      },
      "text/plain": [
       "Loading 3 runs: 0it [00:00, ?it/s]"
      ]
     },
     "metadata": {},
     "output_type": "display_data"
    },
    {
     "data": {
      "text/plain": [
       "True"
      ]
     },
     "execution_count": 14,
     "metadata": {},
     "output_type": "execute_result"
    }
   ],
   "source": [
    "st.make(superrun_name, 'records')\n",
    "st.is_stored(superrun_name, 'records')"
   ]
  },
  {
   "cell_type": "markdown",
   "id": "numerical-uganda",
   "metadata": {},
   "source": [
    "Lets see if the data is the same:"
   ]
  },
  {
   "cell_type": "code",
   "execution_count": 15,
   "id": "documentary-granny",
   "metadata": {
    "scrolled": false
   },
   "outputs": [
    {
     "data": {
      "application/vnd.jupyter.widget-view+json": {
       "model_id": "23ce37e36f58456cab5c1c332e0affe0",
       "version_major": 2,
       "version_minor": 0
      },
      "text/plain": [
       "Loading 3 runs: 0it [00:00, ?it/s]"
      ]
     },
     "metadata": {},
     "output_type": "display_data"
    },
    {
     "data": {
      "application/vnd.jupyter.widget-view+json": {
       "model_id": "ad76b9774d6a4f848b969a79d7bebbba",
       "version_major": 2,
       "version_minor": 0
      },
      "text/plain": [
       "Loading records: |          | 0.00 % [00:00<?]"
      ]
     },
     "metadata": {},
     "output_type": "display_data"
    }
   ],
   "source": [
    "sub_runs = st.get_array(subrun_ids, 'records')\n",
    "superrun = st.get_array(superrun_name, 'records', _check_lineage_per_run_id=False)\n",
    "assert np.all(sub_runs['time'] == superrun['time'])"
   ]
  },
  {
   "cell_type": "markdown",
   "id": "decent-marijuana",
   "metadata": {},
   "source": [
    "And the data will now shown as available in select runs:"
   ]
  },
  {
   "cell_type": "code",
   "execution_count": 16,
   "id": "periodic-magnet",
   "metadata": {},
   "outputs": [
    {
     "data": {
      "text/html": [
       "<div>\n",
       "<style scoped>\n",
       "    .dataframe tbody tr th:only-of-type {\n",
       "        vertical-align: middle;\n",
       "    }\n",
       "\n",
       "    .dataframe tbody tr th {\n",
       "        vertical-align: top;\n",
       "    }\n",
       "\n",
       "    .dataframe thead th {\n",
       "        text-align: right;\n",
       "    }\n",
       "</style>\n",
       "<table border=\"1\" class=\"dataframe\">\n",
       "  <thead>\n",
       "    <tr style=\"text-align: right;\">\n",
       "      <th></th>\n",
       "      <th>name</th>\n",
       "      <th>number</th>\n",
       "      <th>mode</th>\n",
       "      <th>tags</th>\n",
       "      <th>records_available</th>\n",
       "    </tr>\n",
       "  </thead>\n",
       "  <tbody>\n",
       "    <tr>\n",
       "      <th>0</th>\n",
       "      <td>0</td>\n",
       "      <td>0.0</td>\n",
       "      <td></td>\n",
       "      <td></td>\n",
       "      <td>True</td>\n",
       "    </tr>\n",
       "    <tr>\n",
       "      <th>1</th>\n",
       "      <td>1</td>\n",
       "      <td>1.0</td>\n",
       "      <td></td>\n",
       "      <td></td>\n",
       "      <td>True</td>\n",
       "    </tr>\n",
       "    <tr>\n",
       "      <th>2</th>\n",
       "      <td>2</td>\n",
       "      <td>2.0</td>\n",
       "      <td></td>\n",
       "      <td></td>\n",
       "      <td>True</td>\n",
       "    </tr>\n",
       "    <tr>\n",
       "      <th>3</th>\n",
       "      <td>_superrun_test</td>\n",
       "      <td>NaN</td>\n",
       "      <td></td>\n",
       "      <td></td>\n",
       "      <td>True</td>\n",
       "    </tr>\n",
       "  </tbody>\n",
       "</table>\n",
       "</div>"
      ],
      "text/plain": [
       "             name  number mode tags  records_available\n",
       "0               0     0.0                         True\n",
       "1               1     1.0                         True\n",
       "2               2     2.0                         True\n",
       "3  _superrun_test     NaN                         True"
      ]
     },
     "execution_count": 16,
     "metadata": {},
     "output_type": "execute_result"
    }
   ],
   "source": [
    "st.select_runs(available=('records', ))"
   ]
  },
  {
   "cell_type": "markdown",
   "id": "conservative-pencil",
   "metadata": {},
   "source": [
    "If a some data does not exist for a super run we can simply created it via the superrun_id. This will not only create the data of the rechunked superrun but also the data of the subrungs if not already stored:"
   ]
  },
  {
   "cell_type": "code",
   "execution_count": 17,
   "id": "authentic-marijuana",
   "metadata": {},
   "outputs": [
    {
     "data": {
      "text/plain": [
       "False"
      ]
     },
     "execution_count": 17,
     "metadata": {},
     "output_type": "execute_result"
    }
   ],
   "source": [
    "st.is_stored(subrun_ids[0], 'peaks')"
   ]
  },
  {
   "cell_type": "code",
   "execution_count": 18,
   "id": "continental-baptist",
   "metadata": {},
   "outputs": [
    {
     "data": {
      "application/vnd.jupyter.widget-view+json": {
       "model_id": "c9f25a5ef0ca4afbb2543482c94170ed",
       "version_major": 2,
       "version_minor": 0
      },
      "text/plain": [
       "Loading 3 runs: 0it [00:00, ?it/s]"
      ]
     },
     "metadata": {},
     "output_type": "display_data"
    },
    {
     "data": {
      "text/plain": [
       "True"
      ]
     },
     "execution_count": 18,
     "metadata": {},
     "output_type": "execute_result"
    }
   ],
   "source": [
    "st.make(superrun_name, 'peaks')\n",
    "st.is_stored(subrun_ids[0], 'peaks')"
   ]
  },
  {
   "cell_type": "code",
   "execution_count": 19,
   "id": "portuguese-imaging",
   "metadata": {},
   "outputs": [
    {
     "data": {
      "application/vnd.jupyter.widget-view+json": {
       "model_id": "121b0dc13154498284734ed242b5c620",
       "version_major": 2,
       "version_minor": 0
      },
      "text/plain": [
       "Loading peaks: |          | 0.00 % [00:00<?]"
      ]
     },
     "metadata": {},
     "output_type": "display_data"
    }
   ],
   "source": [
    "peaks = st.get_array(superrun_name, 'peaks')"
   ]
  },
  {
   "cell_type": "markdown",
   "id": "considerable-flavor",
   "metadata": {},
   "source": [
    "**Some developer information:** \n",
    "\n",
    "In case of a stored and rechunked superruns every chunk has also now some additional information about the individual subruns it is made of:"
   ]
  },
  {
   "cell_type": "code",
   "execution_count": 20,
   "id": "norman-trouble",
   "metadata": {},
   "outputs": [
    {
     "data": {
      "application/vnd.jupyter.widget-view+json": {
       "model_id": "7c6949560fbe43c3b703a4a3962fd159",
       "version_major": 2,
       "version_minor": 0
      },
      "text/plain": [
       "Loading records: |          | 0.00 % [00:00<?]"
      ]
     },
     "metadata": {},
     "output_type": "display_data"
    },
    {
     "data": {
      "text/plain": [
       "({'0': {'end': 10, 'start': 0},\n",
       "  '1': {'end': 30, 'start': 20},\n",
       "  '2': {'end': 50, 'start': 40}},\n",
       " '_superrun_test')"
      ]
     },
     "execution_count": 20,
     "metadata": {},
     "output_type": "execute_result"
    }
   ],
   "source": [
    "for chunk in st.get_iter(superrun_name, 'records'):\n",
    "    chunk\n",
    "chunk.subruns, chunk.run_id"
   ]
  },
  {
   "cell_type": "markdown",
   "id": "piano-invitation",
   "metadata": {},
   "source": [
    "The same goes for the meta data:"
   ]
  },
  {
   "cell_type": "code",
   "execution_count": 21,
   "id": "expanded-inspection",
   "metadata": {},
   "outputs": [
    {
     "data": {
      "text/plain": [
       "[{'chunk_i': 0,\n",
       "  'end': 50,\n",
       "  'filename': 'records-j3nd2fjbiq-000000',\n",
       "  'filesize': 2343,\n",
       "  'first_endtime': 1,\n",
       "  'first_time': 0,\n",
       "  'last_endtime': 50,\n",
       "  'last_time': 49,\n",
       "  'n': 300,\n",
       "  'nbytes': 77100,\n",
       "  'run_id': '_superrun_test',\n",
       "  'start': 0,\n",
       "  'subruns': {'0': {'end': 10, 'start': 0},\n",
       "   '1': {'end': 30, 'start': 20},\n",
       "   '2': {'end': 50, 'start': 40}}}]"
      ]
     },
     "execution_count": 21,
     "metadata": {},
     "output_type": "execute_result"
    }
   ],
   "source": [
    "st.get_meta(superrun_name, 'records')['chunks']"
   ]
  },
  {
   "cell_type": "code",
   "execution_count": null,
   "id": "thick-steering",
   "metadata": {},
   "outputs": [],
   "source": []
  }
 ],
 "metadata": {
  "kernelspec": {
   "display_name": "Python 3 (ipykernel)",
   "language": "python",
   "name": "python3"
  },
  "language_info": {
   "codemirror_mode": {
    "name": "ipython",
    "version": 3
   },
   "file_extension": ".py",
   "mimetype": "text/x-python",
   "name": "python",
   "nbconvert_exporter": "python",
   "pygments_lexer": "ipython3",
   "version": "3.10.0"
  },
  "latex_envs": {
   "LaTeX_envs_menu_present": true,
   "autoclose": false,
   "autocomplete": true,
   "bibliofile": "biblio.bib",
   "cite_by": "apalike",
   "current_citInitial": 1,
   "eqLabelWithNumbers": true,
   "eqNumInitial": 1,
   "hotkeys": {
    "equation": "Ctrl-E",
    "itemize": "Ctrl-I"
   },
   "labels_anchors": false,
   "latex_user_defs": false,
   "report_style_numbering": false,
   "user_envs_cfg": false
  },
  "varInspector": {
   "cols": {
    "lenName": 16,
    "lenType": 16,
    "lenVar": 40
   },
   "kernels_config": {
    "python": {
     "delete_cmd_postfix": "",
     "delete_cmd_prefix": "del ",
     "library": "var_list.py",
     "varRefreshCmd": "print(var_dic_list())"
    },
    "r": {
     "delete_cmd_postfix": ") ",
     "delete_cmd_prefix": "rm(",
     "library": "var_list.r",
     "varRefreshCmd": "cat(var_dic_list()) "
    }
   },
   "types_to_exclude": [
    "module",
    "function",
    "builtin_function_or_method",
    "instance",
    "_Feature"
   ],
   "window_display": false
  }
 },
 "nbformat": 4,
 "nbformat_minor": 5
}
