{
 "cells": [
  {
   "cell_type": "markdown",
   "metadata": {},
   "source": [
    "# PMT Pulse analysis"
   ]
  },
  {
   "cell_type": "markdown",
   "metadata": {},
   "source": [
    "Jelle, updated May 2019\n",
    "\n",
    "updated Feb 2022 by Joran"
   ]
  },
  {
   "cell_type": "markdown",
   "metadata": {},
   "source": [
    "Standard python setup:"
   ]
  },
  {
   "cell_type": "code",
   "execution_count": 1,
   "metadata": {},
   "outputs": [],
   "source": [
    "import numpy as np\n",
    "from tqdm import tqdm\n",
    "import matplotlib.pyplot as plt\n",
    "\n",
    "# This just ensures some comments in dataframes below display nicely\n",
    "import pandas as pd\n",
    "pd.options.display.max_colwidth = 100"
   ]
  },
  {
   "cell_type": "markdown",
   "metadata": {},
   "source": [
    "After this standard setup, we can load straxen:"
   ]
  },
  {
   "cell_type": "code",
   "execution_count": 2,
   "metadata": {},
   "outputs": [
    {
     "name": "stdout",
     "output_type": "stream",
     "text": [
      "cutax is not installed\n"
     ]
    },
    {
     "data": {
      "text/html": [
       "<div>\n",
       "<style scoped>\n",
       "    .dataframe tbody tr th:only-of-type {\n",
       "        vertical-align: middle;\n",
       "    }\n",
       "\n",
       "    .dataframe tbody tr th {\n",
       "        vertical-align: top;\n",
       "    }\n",
       "\n",
       "    .dataframe thead th {\n",
       "        text-align: right;\n",
       "    }\n",
       "</style>\n",
       "<table border=\"1\" class=\"dataframe\">\n",
       "  <thead>\n",
       "    <tr style=\"text-align: right;\">\n",
       "      <th></th>\n",
       "      <th>module</th>\n",
       "      <th>version</th>\n",
       "      <th>path</th>\n",
       "      <th>git</th>\n",
       "    </tr>\n",
       "  </thead>\n",
       "  <tbody>\n",
       "    <tr>\n",
       "      <th>0</th>\n",
       "      <td>python</td>\n",
       "      <td>3.10.0</td>\n",
       "      <td>/home/angevaare/miniconda3/envs/dev_strax/bin/python</td>\n",
       "      <td>None</td>\n",
       "    </tr>\n",
       "    <tr>\n",
       "      <th>1</th>\n",
       "      <td>strax</td>\n",
       "      <td>1.1.7</td>\n",
       "      <td>/home/angevaare/software/dev_strax/strax/strax</td>\n",
       "      <td>branch:master | db14f80</td>\n",
       "    </tr>\n",
       "    <tr>\n",
       "      <th>2</th>\n",
       "      <td>straxen</td>\n",
       "      <td>1.2.8</td>\n",
       "      <td>/home/angevaare/software/dev_strax/straxen/straxen</td>\n",
       "      <td>branch:master | 024602e</td>\n",
       "    </tr>\n",
       "  </tbody>\n",
       "</table>\n",
       "</div>"
      ],
      "text/plain": [
       "    module version                                                  path  \\\n",
       "0   python  3.10.0  /home/angevaare/miniconda3/envs/dev_strax/bin/python   \n",
       "1    strax   1.1.7        /home/angevaare/software/dev_strax/strax/strax   \n",
       "2  straxen   1.2.8    /home/angevaare/software/dev_strax/straxen/straxen   \n",
       "\n",
       "                       git  \n",
       "0                     None  \n",
       "1  branch:master | db14f80  \n",
       "2  branch:master | 024602e  "
      ]
     },
     "execution_count": 2,
     "metadata": {},
     "output_type": "execute_result"
    }
   ],
   "source": [
    "import strax\n",
    "import straxen\n",
    "st = straxen.contexts.xenonnt_online()\n",
    "straxen.print_versions()"
   ]
  },
  {
   "cell_type": "markdown",
   "metadata": {},
   "source": [
    "### Raw records"
   ]
  },
  {
   "cell_type": "markdown",
   "metadata": {},
   "source": [
    "Let's select a run for which we have strax data."
   ]
  },
  {
   "cell_type": "code",
   "execution_count": 3,
   "metadata": {},
   "outputs": [
    {
     "data": {
      "application/vnd.jupyter.widget-view+json": {
       "model_id": "d01228bb51e144fbaf896189dce7d62f",
       "version_major": 2,
       "version_minor": 0
      },
      "text/plain": [
       "Checking data availability:   0%|          | 0/2 [00:00<?, ?it/s]"
      ]
     },
     "metadata": {},
     "output_type": "display_data"
    },
    {
     "data": {
      "text/plain": [
       "'008334'"
      ]
     },
     "execution_count": 3,
     "metadata": {},
     "output_type": "execute_result"
    }
   ],
   "source": [
    "dsets = st.select_runs(available='raw_records', \n",
    "                      )\n",
    "run_id = dsets.name.min()\n",
    "run_id"
   ]
  },
  {
   "cell_type": "code",
   "execution_count": 4,
   "metadata": {},
   "outputs": [
    {
     "data": {
      "text/plain": [
       "[straxen.storage.rundb.RunDB, readonly: True,\n",
       " strax.storage.files.DataDirectory, readonly: True, path: /dali/lgrandi/xenonnt/raw, take_only: ('raw_records', 'raw_records_he', 'raw_records_aqmon', 'raw_records_nv', 'raw_records_aqmon_nv', 'raw_records_aux_mv', 'raw_records_mv'),\n",
       " strax.storage.files.DataDirectory, readonly: True, path: /dali/lgrandi/xenonnt/processed,\n",
       " strax.storage.files.DataDirectory, path: ./strax_data]"
      ]
     },
     "execution_count": 4,
     "metadata": {},
     "output_type": "execute_result"
    }
   ],
   "source": [
    "st.storage"
   ]
  },
  {
   "cell_type": "markdown",
   "metadata": {},
   "source": [
    "This run is one hour long, so the full raw waveform data won't fit into memory. Let's instead load only the first 30 seconds:"
   ]
  },
  {
   "cell_type": "code",
   "execution_count": 5,
   "metadata": {},
   "outputs": [
    {
     "data": {
      "application/vnd.jupyter.widget-view+json": {
       "model_id": "d69ff53d2cf5474bbf409a2c4da1ad0f",
       "version_major": 2,
       "version_minor": 0
      },
      "text/plain": [
       "Loading raw_records: |          | 0.00 % [00:00<?]"
      ]
     },
     "metadata": {},
     "output_type": "display_data"
    },
    {
     "name": "stdout",
     "output_type": "stream",
     "text": [
      "convert_channel::\tchanged channel\n",
      "convert_channel::\tchanged channel\n",
      "convert_channel::\tchanged channel\n",
      "convert_channel::\tchanged channel\n",
      "convert_channel::\tchanged channel\n",
      "convert_channel::\tchanged channel\n"
     ]
    }
   ],
   "source": [
    "rr = st.get_array(run_id, 'raw_records', seconds_range=(0, 30))"
   ]
  },
  {
   "cell_type": "markdown",
   "metadata": {},
   "source": [
    "The `rr` object is a numpy record array. This works almost like a pandas dataframe, in particular, you can use the same syntax you're used to from dataframes for selections.\n",
    "\n",
    "Here are the fields you can access:"
   ]
  },
  {
   "cell_type": "code",
   "execution_count": 6,
   "metadata": {},
   "outputs": [
    {
     "data": {
      "text/html": [
       "<div>\n",
       "<style scoped>\n",
       "    .dataframe tbody tr th:only-of-type {\n",
       "        vertical-align: middle;\n",
       "    }\n",
       "\n",
       "    .dataframe tbody tr th {\n",
       "        vertical-align: top;\n",
       "    }\n",
       "\n",
       "    .dataframe thead th {\n",
       "        text-align: right;\n",
       "    }\n",
       "</style>\n",
       "<table border=\"1\" class=\"dataframe\">\n",
       "  <thead>\n",
       "    <tr style=\"text-align: right;\">\n",
       "      <th></th>\n",
       "      <th>Field name</th>\n",
       "      <th>Data type</th>\n",
       "      <th>Comment</th>\n",
       "    </tr>\n",
       "  </thead>\n",
       "  <tbody>\n",
       "    <tr>\n",
       "      <th>0</th>\n",
       "      <td>time</td>\n",
       "      <td>int64</td>\n",
       "      <td>Start time since unix epoch [ns]</td>\n",
       "    </tr>\n",
       "    <tr>\n",
       "      <th>1</th>\n",
       "      <td>length</td>\n",
       "      <td>int32</td>\n",
       "      <td>Length of the interval in samples</td>\n",
       "    </tr>\n",
       "    <tr>\n",
       "      <th>2</th>\n",
       "      <td>dt</td>\n",
       "      <td>int16</td>\n",
       "      <td>Width of one sample [ns]</td>\n",
       "    </tr>\n",
       "    <tr>\n",
       "      <th>3</th>\n",
       "      <td>channel</td>\n",
       "      <td>int16</td>\n",
       "      <td>Channel/PMT number</td>\n",
       "    </tr>\n",
       "    <tr>\n",
       "      <th>4</th>\n",
       "      <td>pulse_length</td>\n",
       "      <td>int32</td>\n",
       "      <td>Length of pulse to which the record belongs (without zero-padding)</td>\n",
       "    </tr>\n",
       "    <tr>\n",
       "      <th>5</th>\n",
       "      <td>record_i</td>\n",
       "      <td>int16</td>\n",
       "      <td>Fragment number in the pulse</td>\n",
       "    </tr>\n",
       "    <tr>\n",
       "      <th>6</th>\n",
       "      <td>baseline</td>\n",
       "      <td>int16</td>\n",
       "      <td>Baseline determined by the digitizer (if this is supported)</td>\n",
       "    </tr>\n",
       "    <tr>\n",
       "      <th>7</th>\n",
       "      <td>data</td>\n",
       "      <td>('&lt;i2', (110,))</td>\n",
       "      <td>Waveform data in raw ADC counts</td>\n",
       "    </tr>\n",
       "  </tbody>\n",
       "</table>\n",
       "</div>"
      ],
      "text/plain": [
       "     Field name        Data type  \\\n",
       "0          time            int64   \n",
       "1        length            int32   \n",
       "2            dt            int16   \n",
       "3       channel            int16   \n",
       "4  pulse_length            int32   \n",
       "5      record_i            int16   \n",
       "6      baseline            int16   \n",
       "7          data  ('<i2', (110,))   \n",
       "\n",
       "                                                              Comment  \n",
       "0                                    Start time since unix epoch [ns]  \n",
       "1                                   Length of the interval in samples  \n",
       "2                                            Width of one sample [ns]  \n",
       "3                                                  Channel/PMT number  \n",
       "4  Length of pulse to which the record belongs (without zero-padding)  \n",
       "5                                        Fragment number in the pulse  \n",
       "6         Baseline determined by the digitizer (if this is supported)  \n",
       "7                                     Waveform data in raw ADC counts  "
      ]
     },
     "execution_count": 6,
     "metadata": {},
     "output_type": "execute_result"
    }
   ],
   "source": [
    "st.data_info('raw_records')"
   ]
  },
  {
   "cell_type": "markdown",
   "metadata": {},
   "source": [
    "You now have a matrix (record_i, sample_j) of waveforms in rr['data']:"
   ]
  },
  {
   "cell_type": "code",
   "execution_count": 7,
   "metadata": {},
   "outputs": [
    {
     "data": {
      "text/plain": [
       "(3046781, 110)"
      ]
     },
     "execution_count": 7,
     "metadata": {},
     "output_type": "execute_result"
    }
   ],
   "source": [
    "rr['data'].shape"
   ]
  },
  {
   "cell_type": "markdown",
   "metadata": {},
   "source": [
    "Let's select only records that belong to short PMT pulses. These are mostly lone PMT hits. Longer pulses are likely part of S1s or S2s."
   ]
  },
  {
   "cell_type": "code",
   "execution_count": 8,
   "metadata": {},
   "outputs": [],
   "source": [
    "rr = rr[rr['pulse_length'] < 110]"
   ]
  },
  {
   "cell_type": "markdown",
   "metadata": {},
   "source": [
    "Here's one record:"
   ]
  },
  {
   "cell_type": "code",
   "execution_count": 9,
   "metadata": {},
   "outputs": [
    {
     "data": {
      "image/png": "[encoded data removed]",
      "text/plain": [
       "<Figure size 432x288 with 1 Axes>"
      ]
     },
     "metadata": {
      "needs_background": "light"
     },
     "output_type": "display_data"
    }
   ],
   "source": [
    "def plot_record(sample_r):\n",
    "    plt.plot(sample_r['data'][:sample_r['length']], drawstyle='steps-mid')\n",
    "    plt.xlabel(\"Sample number\")\n",
    "    plt.ylabel(\"Amplitude (ADCc)\")\n",
    "    \n",
    "sample_r = rr[0]\n",
    "plot_record(sample_r)"
   ]
  },
  {
   "cell_type": "markdown",
   "metadata": {},
   "source": [
    "As you can see, this record contains a single PE pulse, straight as it comes off the DAQ. No operations have been done on it; we did not even subtract the baseline and flip the pulse. \n",
    "\n",
    "Each record is 110 samples long, but this digitizer pulse was only 102 samples long:"
   ]
  },
  {
   "cell_type": "code",
   "execution_count": 10,
   "metadata": {},
   "outputs": [
    {
     "data": {
      "text/plain": [
       "102"
      ]
     },
     "execution_count": 10,
     "metadata": {},
     "output_type": "execute_result"
    }
   ],
   "source": [
    "sample_r['pulse_length']"
   ]
  },
  {
   "cell_type": "markdown",
   "metadata": {},
   "source": [
    "and thus the pulse has been zero-padded:"
   ]
  },
  {
   "cell_type": "code",
   "execution_count": 11,
   "metadata": {},
   "outputs": [
    {
     "data": {
      "text/plain": [
       "array([15991, 15991, 15987, 15991, 15993, 15993, 15993, 15992, 15988,\n",
       "       15990, 15990, 15992, 15992, 15992, 15992, 15993, 15992, 15995,\n",
       "       15991, 15993, 15991, 15992, 15989, 15993, 15991, 15991, 15994,\n",
       "       15992, 15990, 15989, 15990, 15991, 15989, 15990, 15988, 15989,\n",
       "       15991, 15993, 15992, 15994, 15992, 15994, 15991, 15994, 15996,\n",
       "       15994, 15994, 15993, 15993, 15977, 15975, 15987, 15988, 15988,\n",
       "       15986, 15989, 15990, 15992, 15989, 15992, 15992, 15991, 15992,\n",
       "       15993, 15992, 15994, 15995, 15992, 15990, 15995, 15993, 15989,\n",
       "       15991, 15993, 15991, 15992, 15991, 15994, 15992, 15994, 15995,\n",
       "       15992, 15990, 15996, 15994, 15994, 15993, 15994, 15991, 15992,\n",
       "       15991, 15992, 15990, 15991, 15990, 15990, 15989, 15994, 15995,\n",
       "       15994, 15995, 15991,     0,     0,     0,     0,     0,     0,\n",
       "           0,     0], dtype=int16)"
      ]
     },
     "execution_count": 11,
     "metadata": {},
     "output_type": "execute_result"
    }
   ],
   "source": [
    "sample_r['data']"
   ]
  },
  {
   "cell_type": "markdown",
   "metadata": {},
   "source": [
    "Let's take care of the baseline and zero padding:"
   ]
  },
  {
   "cell_type": "code",
   "execution_count": 12,
   "metadata": {},
   "outputs": [],
   "source": [
    "# Convert from raw_records to the records datatype, which has more fields.\n",
    "# Without this we cannot baseline.\n",
    "rr = strax.raw_to_records(rr)\n",
    "\n",
    "# Subtract baseline and flip channel\n",
    "strax.baseline(rr)"
   ]
  },
  {
   "cell_type": "markdown",
   "metadata": {},
   "source": [
    "Now things look more reasonable:"
   ]
  },
  {
   "cell_type": "code",
   "execution_count": 13,
   "metadata": {},
   "outputs": [
    {
     "data": {
      "image/png": "[encoded data removed]",
      "text/plain": [
       "<Figure size 432x288 with 1 Axes>"
      ]
     },
     "metadata": {
      "needs_background": "light"
     },
     "output_type": "display_data"
    }
   ],
   "source": [
    "plot_record(rr[0])"
   ]
  },
  {
   "cell_type": "markdown",
   "metadata": {},
   "source": [
    "### Pulse shape"
   ]
  },
  {
   "cell_type": "markdown",
   "metadata": {},
   "source": [
    "Let's focus on channel 100:"
   ]
  },
  {
   "cell_type": "code",
   "execution_count": 14,
   "metadata": {},
   "outputs": [],
   "source": [
    "r = rr[rr['channel'] == 100]"
   ]
  },
  {
   "cell_type": "markdown",
   "metadata": {},
   "source": [
    "Here is the distribution of amplitudes in each sample. This is very roughly the mean pulse shape:"
   ]
  },
  {
   "cell_type": "code",
   "execution_count": 15,
   "metadata": {},
   "outputs": [
    {
     "data": {
      "text/plain": [
       "Text(0, 0.5, 'Amplitude (ADCc)')"
      ]
     },
     "execution_count": 15,
     "metadata": {},
     "output_type": "execute_result"
    },
    {
     "data": {
      "image/png": "[encoded data removed]",
      "text/plain": [
       "<Figure size 432x288 with 1 Axes>"
      ]
     },
     "metadata": {
      "needs_background": "light"
     },
     "output_type": "display_data"
    }
   ],
   "source": [
    "ns = np.arange(len(r[0]['data']))\n",
    "\n",
    "plt.plot(ns, r['data'].mean(axis=0), drawstyle='steps-mid')\n",
    "plt.fill_between(\n",
    "    ns,\n",
    "    np.percentile(r['data'], 25, axis=0),\n",
    "    np.percentile(r['data'], 75, axis=0), \n",
    "    step='mid', alpha=0.3, linewidth=0)\n",
    "plt.xlabel(\"Sample in record\")\n",
    "plt.ylabel(\"Amplitude (ADCc)\")"
   ]
  },
  {
   "cell_type": "markdown",
   "metadata": {},
   "source": [
    "You can clearly see we're dealing with single PEs here, and also see the infamous long PE pulse tail. For a serious pulse shape study you should of course first normalize the pulses."
   ]
  },
  {
   "cell_type": "markdown",
   "metadata": {},
   "source": [
    "## Gain calibration"
   ]
  },
  {
   "cell_type": "code",
   "execution_count": 16,
   "metadata": {},
   "outputs": [
    {
     "data": {
      "text/plain": [
       "'008334'"
      ]
     },
     "execution_count": 16,
     "metadata": {},
     "output_type": "execute_result"
    }
   ],
   "source": [
    "run_id"
   ]
  },
  {
   "cell_type": "markdown",
   "metadata": {},
   "source": [
    "Let's integrate between sample 40 and 70, to get the mean single-PE area. We have to add a small correction for the baseline, see [here](https://github.com/AxFoundation/strax/issues/2) for details. Usually this is done inside strax and you don't have to worry about it."
   ]
  },
  {
   "cell_type": "code",
   "execution_count": 17,
   "metadata": {},
   "outputs": [
    {
     "data": {
      "text/plain": [
       "<matplotlib.lines.Line2D at 0x7fb99a612950>"
      ]
     },
     "execution_count": 17,
     "metadata": {},
     "output_type": "execute_result"
    },
    {
     "data": {
      "image/png": "[encoded data removed]",
      "text/plain": [
       "<Figure size 432x288 with 1 Axes>"
      ]
     },
     "metadata": {
      "needs_background": "light"
     },
     "output_type": "display_data"
    }
   ],
   "source": [
    "left, right = 40, 70\n",
    "areas = r['data'][:,left:right].sum(axis=1)\n",
    "\n",
    "# Small correction for baseline, see strax issue #2\n",
    "areas += ((r['baseline'] % 1) * (right - left)).round().astype(np.int64)\n",
    "\n",
    "# Hack to get ADC -> PE conversion factors. We'll make this better someday...\n",
    "to_pe = st.get_single_plugin(run_id, 'peaklets').to_pe\n",
    "\n",
    "plt.hist(areas, bins=100)\n",
    "plt.xlabel(\"Area (ADCc)\")\n",
    "plt.ylabel(\"Counts\")\n",
    "plt.axvline(1/to_pe[100], color='r', linestyle='--')\n",
    "plt.axvline(np.median(areas), color='purple', linestyle='--')"
   ]
  },
  {
   "cell_type": "markdown",
   "metadata": {},
   "source": [
    "The purple line is an extremely bad gain estimate (the median area) of pulses, which nonetheless comes close for this PMT. It should be obvious this is a bad method: it takes no account of 2PE hits or the hitfinder efficiency at all.\n",
    "\n",
    "The red line indicates where the 1 PE area should be according to the XENON1T gain calibration. Looks like the gain is, at least approximately, correct!\n",
    "\n",
    "Let's do the same for all PMTs:"
   ]
  },
  {
   "cell_type": "code",
   "execution_count": 18,
   "metadata": {},
   "outputs": [
    {
     "name": "stderr",
     "output_type": "stream",
     "text": [
      "  2%|▏         | 12/494 [00:00<00:16, 29.33it/s]/home/angevaare/miniconda3/envs/dev_strax/lib/python3.10/site-packages/numpy/core/fromnumeric.py:3440: RuntimeWarning: Mean of empty slice.\n",
      "  return _methods._mean(a, axis=axis, dtype=dtype,\n",
      "/home/angevaare/miniconda3/envs/dev_strax/lib/python3.10/site-packages/numpy/core/_methods.py:189: RuntimeWarning: invalid value encountered in double_scalars\n",
      "  ret = ret.dtype.type(ret / rcount)\n",
      "100%|██████████| 494/494 [00:18<00:00, 27.23it/s]\n"
     ]
    }
   ],
   "source": [
    "areas = rr['data'][:,40:70].sum(axis=1)\n",
    "channels = rr['channel']\n",
    "\n",
    "gain_ests = np.array([\n",
    "    np.median(areas[channels == pmt]) \n",
    "    for pmt in tqdm(np.arange(straxen.n_tpc_pmts))])"
   ]
  },
  {
   "cell_type": "code",
   "execution_count": 19,
   "metadata": {},
   "outputs": [
    {
     "name": "stderr",
     "output_type": "stream",
     "text": [
      "/tmp/jobs/17887550/ipykernel_29675/2656599034.py:1: RuntimeWarning: divide by zero encountered in true_divide\n",
      "  plt.scatter(1/to_pe, gain_ests, s=2)\n"
     ]
    },
    {
     "data": {
      "image/png": "[encoded data removed]",
      "text/plain": [
       "<Figure size 432x288 with 1 Axes>"
      ]
     },
     "metadata": {
      "needs_background": "light"
     },
     "output_type": "display_data"
    }
   ],
   "source": [
    "plt.scatter(1/to_pe, gain_ests, s=2)\n",
    "plt.plot([0, 250], [0, 250], c='k', alpha=0.2)\n",
    "plt.xlabel(\"XENONnT gain calibration (ADCc)\")\n",
    "plt.ylabel(\"Median short pulse area (ADCc)\")\n",
    "plt.title(\"Pulse areas in ADCc for each PMT\")\n",
    "plt.xlim(left=0)\n",
    "plt.ylim(bottom=0)\n",
    "plt.gca().set_aspect('equal')"
   ]
  },
  {
   "cell_type": "markdown",
   "metadata": {},
   "source": [
    "As you can see, even this extremely basic method (median area of short pulses in 30sec of background data) gives a somewhat plausible gain estimate for most PMTs."
   ]
  }
 ],
 "metadata": {
  "kernelspec": {
   "display_name": "Python 3 (ipykernel)",
   "language": "python",
   "name": "python3"
  },
  "language_info": {
   "codemirror_mode": {
    "name": "ipython",
    "version": 3
   },
   "file_extension": ".py",
   "mimetype": "text/x-python",
   "name": "python",
   "nbconvert_exporter": "python",
   "pygments_lexer": "ipython3",
   "version": "3.10.0"
  },
  "latex_envs": {
   "LaTeX_envs_menu_present": true,
   "autoclose": false,
   "autocomplete": true,
   "bibliofile": "biblio.bib",
   "cite_by": "apalike",
   "current_citInitial": 1,
   "eqLabelWithNumbers": true,
   "eqNumInitial": 1,
   "hotkeys": {
    "equation": "Ctrl-E",
    "itemize": "Ctrl-I"
   },
   "labels_anchors": false,
   "latex_user_defs": false,
   "report_style_numbering": false,
   "user_envs_cfg": false
  },
  "varInspector": {
   "cols": {
    "lenName": 16,
    "lenType": 16,
    "lenVar": 40
   },
   "kernels_config": {
    "python": {
     "delete_cmd_postfix": "",
     "delete_cmd_prefix": "del ",
     "library": "var_list.py",
     "varRefreshCmd": "print(var_dic_list())"
    },
    "r": {
     "delete_cmd_postfix": ") ",
     "delete_cmd_prefix": "rm(",
     "library": "var_list.r",
     "varRefreshCmd": "cat(var_dic_list()) "
    }
   },
   "types_to_exclude": [
    "module",
    "function",
    "builtin_function_or_method",
    "instance",
    "_Feature"
   ],
   "window_display": false
  }
 },
 "nbformat": 4,
 "nbformat_minor": 4
}
