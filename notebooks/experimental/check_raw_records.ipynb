{
 "cells": [
  {
   "cell_type": "markdown",
   "metadata": {},
   "source": [
    "# Strax raw data check"
   ]
  },
  {
   "cell_type": "code",
   "execution_count": 1,
   "metadata": {
    "ExecuteTime": {
     "end_time": "2021-01-06T09:19:03.942567Z",
     "start_time": "2021-01-06T09:18:58.120913Z"
    }
   },
   "outputs": [
    {
     "data": {
      "text/plain": [
       "straxen.plugins.pax_interface.RecordsFromPax"
      ]
     },
     "execution_count": 1,
     "metadata": {},
     "output_type": "execute_result"
    }
   ],
   "source": [
    "import glob\n",
    "from tqdm import tqdm\n",
    "import os \n",
    "import os.path as osp\n",
    "\n",
    "dirname = '/dali/lgrandi/xenon1t/strax_converted/raw'\n",
    "\n",
    "import strax\n",
    "import straxen\n",
    "st = strax.Context(\n",
    "    storage=strax.DataDirectory(dirname),\n",
    "    **{**straxen.contexts.common_opts, \n",
    "       **dict(check_available=('raw_records',))})\n",
    "st.register(straxen.plugins.pax_interface.RecordsFromPax)"
   ]
  },
  {
   "cell_type": "markdown",
   "metadata": {},
   "source": [
    "This will run for some time for a large directory over a network filesystem. It will show a progress bar, but no progress until is is done."
   ]
  },
  {
   "cell_type": "code",
   "execution_count": 2,
   "metadata": {
    "ExecuteTime": {
     "end_time": "2021-01-06T09:19:19.158302Z",
     "start_time": "2021-01-06T09:19:03.948052Z"
    }
   },
   "outputs": [
    {
     "name": "stderr",
     "output_type": "stream",
     "text": [
      "Checking data availability: 100%|██████████| 1/1 [00:10<00:00, 10.62s/it]\n"
     ]
    },
    {
     "data": {
      "text/plain": [
       "216"
      ]
     },
     "execution_count": 2,
     "metadata": {},
     "output_type": "execute_result"
    }
   ],
   "source": [
    "# Simple check\n",
    "ok_runs = st.select_runs(available='raw_records')['name'].values.tolist()\n",
    "len(ok_runs)"
   ]
  },
  {
   "cell_type": "code",
   "execution_count": 3,
   "metadata": {
    "ExecuteTime": {
     "end_time": "2021-01-06T09:19:21.008918Z",
     "start_time": "2021-01-06T09:19:19.162327Z"
    }
   },
   "outputs": [
    {
     "name": "stderr",
     "output_type": "stream",
     "text": [
      "100%|██████████| 217/217 [00:01<00:00, 118.57it/s]"
     ]
    },
    {
     "name": "stdout",
     "output_type": "stream",
     "text": [
      "Found 0 bad and 217 good data folders out of 217\n"
     ]
    },
    {
     "name": "stderr",
     "output_type": "stream",
     "text": [
      "\n"
     ]
    }
   ],
   "source": [
    "# Detailed check\n",
    "rr_hash = st.key_for('0', 'raw_records').lineage_hash\n",
    "all_dirs = set(glob.glob(dirname + '/*'))\n",
    "all_dirs = set(d for d in all_dirs if 'meta' not in d)\n",
    "checked_ok = set()\n",
    "\n",
    "for q in tqdm(all_dirs):\n",
    "    if not osp.isdir(q):\n",
    "        continue\n",
    "    try:\n",
    "        _run_id, _data_type, _hash = st.storage[0]._parse_folder_name(q)\n",
    "    except strax.storage.files.InvalidFolderNameFormat:\n",
    "        print(f\"{q}: Invalid or non-strax folder name\")\n",
    "        continue\n",
    "     \n",
    "    if _data_type != 'raw_records':\n",
    "        print(f\"{q}: Non-raw data type\")\n",
    "        continue\n",
    "\n",
    "    if _hash != rr_hash:\n",
    "        print(f\"{q}: Out of date or invalid hash\")\n",
    "        continue\n",
    "    \n",
    "    try:\n",
    "        md = st.get_metadata(_run_id, 'raw_records')\n",
    "    except strax.DataCorrupted:\n",
    "        print(f\"{q}: Exception while loading metadata\")\n",
    "        continue\n",
    "\n",
    "    if 'exception' in md:\n",
    "        print(f\"{q}: Metadata contains exception (crash during conversion)\")\n",
    "        continue\n",
    "    if not 'writing_ended' in md:\n",
    "        print(f\"{q}: Metadata indicates conversion never finished.\")\n",
    "        continue\n",
    "    \n",
    "    if not 'chunks' in md:\n",
    "        print(f\"{q}: No chunks registered in metadata\")\n",
    "        continue\n",
    "        \n",
    "    if not 'lineage_hash' in md:\n",
    "        print(f\"{q}: Lineage hash missing from metadata\")\n",
    "        continue\n",
    "\n",
    "    fn = osp.join(q, md['chunks'][0]['filename'])\n",
    "    if not osp.exists(fn) or osp.getsize(fn) == 0:\n",
    "        print(f\"{q}: First chunk file is non-existent or empty\")\n",
    "        continue\n",
    "        \n",
    "    # If you want to be really really sure the data is ok, you can try to load the data\n",
    "    # try:\n",
    "    #     rr = st.get_array(_run_id, 'raw_records', seconds_range=(0, 0.1))\n",
    "    # except Exception as e:\n",
    "    #     print(f\"{q}: Exception while actually loading data: {e}\")\n",
    "    #     continue\n",
    "    \n",
    "    checked_ok.add(q)\n",
    "    \n",
    "failing = all_dirs - checked_ok\n",
    "print(f\"Found {len(failing)} bad and {len(checked_ok)} good data folders out of {len(all_dirs)}\")"
   ]
  },
  {
   "cell_type": "code",
   "execution_count": null,
   "metadata": {},
   "outputs": [],
   "source": []
  }
 ],
 "metadata": {
  "kernelspec": {
   "display_name": "Python 3",
   "language": "python",
   "name": "python3"
  },
  "language_info": {
   "codemirror_mode": {
    "name": "ipython",
    "version": 3
   },
   "file_extension": ".py",
   "mimetype": "text/x-python",
   "name": "python",
   "nbconvert_exporter": "python",
   "pygments_lexer": "ipython3",
   "version": "3.6.9"
  }
 },
 "nbformat": 4,
 "nbformat_minor": 2
}
