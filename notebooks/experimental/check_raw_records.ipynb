{
 "cells": [
  {
   "cell_type": "markdown",
   "metadata": {},
   "source": [
    "# Strax raw data check"
   ]
  },
  {
   "cell_type": "code",
   "execution_count": 1,
   "metadata": {},
   "outputs": [],
   "source": [
    "import glob\n",
    "from tqdm import tqdm\n",
    "import os \n",
    "import os.path as osp\n",
    "\n",
    "dirname = '/dali/lgrandi/tunnell/strax_data'\n",
    "\n",
    "import strax\n",
    "import straxen\n",
    "st = strax.Context(\n",
    "    storage=strax.DataDirectory(dirname),\n",
    "    register=straxen.plugins.pax_interface.RecordsFromPax,\n",
    "    **{**straxen.common_opts, \n",
    "       **dict(check_available=('raw_records',))})\n"
   ]
  },
  {
   "cell_type": "markdown",
   "metadata": {},
   "source": [
    "This will run for some time for a large directory over a network filesystem. It will show a progress bar, but no progress until is is done."
   ]
  },
  {
   "cell_type": "code",
   "execution_count": 2,
   "metadata": {},
   "outputs": [
    {
     "name": "stderr",
     "output_type": "stream",
     "text": [
      "Checking data availability: 100%|██████████| 1/1 [00:02<00:00,  2.95s/it]\n"
     ]
    },
    {
     "data": {
      "text/plain": [
       "1996"
      ]
     },
     "execution_count": 2,
     "metadata": {},
     "output_type": "execute_result"
    }
   ],
   "source": [
    "# Simple check\n",
    "ok_runs = st.select_runs(available='raw_records')['name'].values.tolist()\n",
    "len(ok_runs)"
   ]
  },
  {
   "cell_type": "code",
   "execution_count": 3,
   "metadata": {},
   "outputs": [
    {
     "name": "stderr",
     "output_type": "stream",
     "text": [
      "  6%|▌         | 116/2071 [00:00<00:03, 578.06it/s]"
     ]
    },
    {
     "name": "stdout",
     "output_type": "stream",
     "text": [
      "/dali/lgrandi/tunnell/strax_data/180706_2252-raw_records-7k65yaooed: Metadata contains exception (crash during conversion)\n",
      "/dali/lgrandi/tunnell/strax_data/180125_0346-raw_records-7k65yaooed: Metadata contains exception (crash during conversion)\n",
      "/dali/lgrandi/tunnell/strax_data/180123_2308-raw_records-7k65yaooed: Metadata contains exception (crash during conversion)\n",
      "/dali/lgrandi/tunnell/strax_data/180205_0331-raw_records-7k65yaooed: Metadata contains exception (crash during conversion)\n"
     ]
    },
    {
     "name": "stderr",
     "output_type": "stream",
     "text": [
      " 13%|█▎        | 261/2071 [00:00<00:02, 645.84it/s]"
     ]
    },
    {
     "name": "stdout",
     "output_type": "stream",
     "text": [
      "/dali/lgrandi/tunnell/strax_data/180202_0836-raw_records-7k65yaooed: Metadata contains exception (crash during conversion)\n",
      "/dali/lgrandi/tunnell/strax_data/180127_1021-raw_records-7k65yaooed: Metadata contains exception (crash during conversion)\n",
      "/dali/lgrandi/tunnell/strax_data/180205_2348-raw_records-7k65yaooed: Metadata contains exception (crash during conversion)\n",
      "/dali/lgrandi/tunnell/strax_data/180127_0520-raw_records-7k65yaooed: Metadata contains exception (crash during conversion)\n",
      "/dali/lgrandi/tunnell/strax_data/180404_0835-raw_records-7k65yaooed: Metadata contains exception (crash during conversion)\n",
      "/dali/lgrandi/tunnell/strax_data/180706_1551-raw_records-7k65yaooed: Metadata contains exception (crash during conversion)\n",
      "/dali/lgrandi/tunnell/strax_data/180203_2325-raw_records-7k65yaooed: Metadata contains exception (crash during conversion)\n"
     ]
    },
    {
     "name": "stderr",
     "output_type": "stream",
     "text": [
      " 22%|██▏       | 450/2071 [00:00<00:02, 630.50it/s]"
     ]
    },
    {
     "name": "stdout",
     "output_type": "stream",
     "text": [
      "/dali/lgrandi/tunnell/strax_data/180205_2248-raw_records-7k65yaooed: Metadata contains exception (crash during conversion)\n",
      "/dali/lgrandi/tunnell/strax_data/180201_0631-raw_records-7k65yaooed: Metadata contains exception (crash during conversion)\n",
      "/dali/lgrandi/tunnell/strax_data/180131_1729-raw_records-7k65yaooed: Metadata contains exception (crash during conversion)\n"
     ]
    },
    {
     "name": "stderr",
     "output_type": "stream",
     "text": [
      " 28%|██▊       | 586/2071 [00:00<00:02, 639.95it/s]"
     ]
    },
    {
     "name": "stdout",
     "output_type": "stream",
     "text": [
      "/dali/lgrandi/tunnell/strax_data/180130_1724-raw_records-7k65yaooed: Metadata contains exception (crash during conversion)\n",
      "/dali/lgrandi/tunnell/strax_data/180706_2152-raw_records-7k65yaooed: Metadata contains exception (crash during conversion)\n",
      "/dali/lgrandi/tunnell/strax_data/180131_0326-raw_records-7k65yaooed: Metadata contains exception (crash during conversion)\n",
      "/dali/lgrandi/tunnell/strax_data/180128_2316-raw_records-7k65yaooed: Metadata contains exception (crash during conversion)\n",
      "/dali/lgrandi/tunnell/strax_data/180127_1421-raw_records-7k65yaooed: Metadata contains exception (crash during conversion)\n"
     ]
    },
    {
     "name": "stderr",
     "output_type": "stream",
     "text": [
      " 36%|███▌      | 740/2071 [00:01<00:02, 662.57it/s]"
     ]
    },
    {
     "name": "stdout",
     "output_type": "stream",
     "text": [
      "/dali/lgrandi/tunnell/strax_data/180127_0019-raw_records-7k65yaooed: Metadata contains exception (crash during conversion)\n",
      "/dali/lgrandi/tunnell/strax_data/180131_2330-raw_records-7k65yaooed: Metadata contains exception (crash during conversion)\n",
      "/dali/lgrandi/tunnell/strax_data/180126_0150-raw_records-7k65yaooed: Metadata contains exception (crash during conversion)\n",
      "/dali/lgrandi/tunnell/strax_data/180205_1145-raw_records-7k65yaooed: Metadata contains exception (crash during conversion)\n",
      "/dali/lgrandi/tunnell/strax_data/180220_1510-raw_records-7k65yaooed: Metadata contains exception (crash during conversion)\n",
      "/dali/lgrandi/tunnell/strax_data/180201_2034-raw_records-7k65yaooed: Metadata contains exception (crash during conversion)\n"
     ]
    },
    {
     "name": "stderr",
     "output_type": "stream",
     "text": [
      " 43%|████▎     | 890/2071 [00:01<00:01, 671.75it/s]"
     ]
    },
    {
     "name": "stdout",
     "output_type": "stream",
     "text": [
      "/dali/lgrandi/tunnell/strax_data/180707_0253-raw_records-7k65yaooed: Metadata contains exception (crash during conversion)\n",
      "/dali/lgrandi/tunnell/strax_data/180706_2052-raw_records-7k65yaooed: Metadata contains exception (crash during conversion)\n",
      "/dali/lgrandi/tunnell/strax_data/180201_1433-raw_records-7k65yaooed: Metadata contains exception (crash during conversion)\n",
      "/dali/lgrandi/tunnell/strax_data/180129_2020-raw_records-7k65yaooed: Metadata contains exception (crash during conversion)\n"
     ]
    },
    {
     "name": "stderr",
     "output_type": "stream",
     "text": [
      " 53%|█████▎    | 1102/2071 [00:01<00:01, 667.41it/s]"
     ]
    },
    {
     "name": "stdout",
     "output_type": "stream",
     "text": [
      "/dali/lgrandi/tunnell/strax_data/180201_1533-raw_records-7k65yaooed: Metadata contains exception (crash during conversion)\n",
      "/dali/lgrandi/tunnell/strax_data/180126_0250-raw_records-7k65yaooed: Metadata contains exception (crash during conversion)\n",
      "/dali/lgrandi/tunnell/strax_data/180707_0453-raw_records-7k65yaooed: Metadata contains exception (crash during conversion)\n",
      "/dali/lgrandi/tunnell/strax_data/180127_1522-raw_records-7k65yaooed: Metadata contains exception (crash during conversion)\n"
     ]
    },
    {
     "name": "stderr",
     "output_type": "stream",
     "text": [
      " 60%|██████    | 1250/2071 [00:01<00:01, 674.75it/s]"
     ]
    },
    {
     "name": "stdout",
     "output_type": "stream",
     "text": [
      "/dali/lgrandi/tunnell/strax_data/180202_0335-raw_records-7k65yaooed: Metadata contains exception (crash during conversion)\n",
      "/dali/lgrandi/tunnell/strax_data/180216_1625-raw_records-7k65yaooed: Metadata contains exception (crash during conversion)\n",
      "/dali/lgrandi/tunnell/strax_data/180203_1023-raw_records-7k65yaooed: Metadata contains exception (crash during conversion)\n",
      "/dali/lgrandi/tunnell/strax_data/180123_1707-raw_records-7k65yaooed: Metadata contains exception (crash during conversion)\n",
      "/dali/lgrandi/tunnell/strax_data/180127_0420-raw_records-7k65yaooed: Metadata contains exception (crash during conversion)\n",
      "/dali/lgrandi/tunnell/strax_data/180130_1123-raw_records-7k65yaooed: Metadata contains exception (crash during conversion)\n",
      "/dali/lgrandi/tunnell/strax_data/180403_1451-raw_records-7k65yaooed: Metadata contains exception (crash during conversion)\n",
      "/dali/lgrandi/tunnell/strax_data/180129_0918-raw_records-7k65yaooed: Metadata contains exception (crash during conversion)\n",
      "/dali/lgrandi/tunnell/strax_data/180124_0810-raw_records-7k65yaooed: Metadata contains exception (crash during conversion)\n",
      "/dali/lgrandi/tunnell/strax_data/180123_2108-raw_records-7k65yaooed: Metadata contains exception (crash during conversion)\n",
      "/dali/lgrandi/tunnell/strax_data/180204_1328-raw_records-7k65yaooed: Metadata contains exception (crash during conversion)\n",
      "/dali/lgrandi/tunnell/strax_data/180205_1746-raw_records-7k65yaooed: Metadata contains exception (crash during conversion)\n",
      "/dali/lgrandi/tunnell/strax_data/180221_0644-raw_records-7k65yaooed: Metadata contains exception (crash during conversion)\n",
      "/dali/lgrandi/tunnell/strax_data/180201_0932-raw_records-7k65yaooed: Metadata contains exception (crash during conversion)\n"
     ]
    },
    {
     "name": "stderr",
     "output_type": "stream",
     "text": [
      " 67%|██████▋   | 1391/2071 [00:02<00:01, 669.82it/s]"
     ]
    },
    {
     "name": "stdout",
     "output_type": "stream",
     "text": [
      "/dali/lgrandi/tunnell/strax_data/180205_1045-raw_records-7k65yaooed: Metadata contains exception (crash during conversion)\n",
      "/dali/lgrandi/tunnell/strax_data/180202_0636-raw_records-7k65yaooed: Metadata contains exception (crash during conversion)\n",
      "/dali/lgrandi/tunnell/strax_data/180126_0050-raw_records-7k65yaooed: Metadata contains exception (crash during conversion)\n",
      "/dali/lgrandi/tunnell/strax_data/180221_0012-raw_records-7k65yaooed: Metadata contains exception (crash during conversion)\n",
      "/dali/lgrandi/tunnell/strax_data/180130_0422-raw_records-7k65yaooed: Metadata contains exception (crash during conversion)\n"
     ]
    },
    {
     "name": "stderr",
     "output_type": "stream",
     "text": [
      " 74%|███████▍  | 1529/2071 [00:02<00:00, 663.82it/s]"
     ]
    },
    {
     "name": "stdout",
     "output_type": "stream",
     "text": [
      "/dali/lgrandi/tunnell/strax_data/180127_0319-raw_records-7k65yaooed: Metadata contains exception (crash during conversion)\n",
      "/dali/lgrandi/tunnell/strax_data/180206_0349-raw_records-7k65yaooed: Metadata contains exception (crash during conversion)\n",
      "/dali/lgrandi/tunnell/strax_data/180204_0126-raw_records-7k65yaooed: Metadata contains exception (crash during conversion)\n",
      "/dali/lgrandi/tunnell/strax_data/180703_1025-raw_records-7k65yaooed: Metadata contains exception (crash during conversion)\n",
      "/dali/lgrandi/tunnell/strax_data/180707_0554-raw_records-7k65yaooed: Metadata contains exception (crash during conversion)\n",
      "/dali/lgrandi/tunnell/strax_data/180131_2029-raw_records-7k65yaooed: Metadata contains exception (crash during conversion)\n",
      "/dali/lgrandi/tunnell/strax_data/180206_0249-raw_records-7k65yaooed: Metadata contains exception (crash during conversion)\n",
      "/dali/lgrandi/tunnell/strax_data/180127_1121-raw_records-7k65yaooed: Metadata contains exception (crash during conversion)\n"
     ]
    },
    {
     "name": "stderr",
     "output_type": "stream",
     "text": [
      " 80%|████████  | 1663/2071 [00:02<00:00, 662.48it/s]"
     ]
    },
    {
     "name": "stdout",
     "output_type": "stream",
     "text": [
      "/dali/lgrandi/tunnell/strax_data/180126_1517-raw_records-7k65yaooed: Metadata contains exception (crash during conversion)\n",
      "/dali/lgrandi/tunnell/strax_data/180124_1211-raw_records-7k65yaooed: Metadata contains exception (crash during conversion)\n",
      "/dali/lgrandi/tunnell/strax_data/180202_0035-raw_records-7k65yaooed: Metadata contains exception (crash during conversion)\n"
     ]
    },
    {
     "name": "stderr",
     "output_type": "stream",
     "text": [
      " 90%|████████▉ | 1862/2071 [00:02<00:00, 656.90it/s]"
     ]
    },
    {
     "name": "stdout",
     "output_type": "stream",
     "text": [
      "/dali/lgrandi/tunnell/strax_data/180403_1233-raw_records-7k65yaooed: Metadata contains exception (crash during conversion)\n",
      "/dali/lgrandi/tunnell/strax_data/180918_1607-raw_records-7k65yaooed: Metadata contains exception (crash during conversion)\n"
     ]
    },
    {
     "name": "stderr",
     "output_type": "stream",
     "text": [
      " 97%|█████████▋| 2003/2071 [00:03<00:00, 659.23it/s]"
     ]
    },
    {
     "name": "stdout",
     "output_type": "stream",
     "text": [
      "/dali/lgrandi/tunnell/strax_data/180129_0518-raw_records-7k65yaooed: Metadata contains exception (crash during conversion)\n",
      "/dali/lgrandi/tunnell/strax_data/180130_0622-raw_records-7k65yaooed: Metadata contains exception (crash during conversion)\n",
      "/dali/lgrandi/tunnell/strax_data/180125_0546-raw_records-7k65yaooed: Metadata contains exception (crash during conversion)\n",
      "/dali/lgrandi/tunnell/strax_data/180128_1426-raw_records-7k65yaooed: Metadata contains exception (crash during conversion)\n",
      "/dali/lgrandi/tunnell/strax_data/180131_2230-raw_records-7k65yaooed: Metadata contains exception (crash during conversion)\n",
      "/dali/lgrandi/tunnell/strax_data/180201_1332-raw_records-7k65yaooed: Metadata contains exception (crash during conversion)\n",
      "/dali/lgrandi/tunnell/strax_data/180203_1925-raw_records-7k65yaooed: Metadata contains exception (crash during conversion)\n",
      "/dali/lgrandi/tunnell/strax_data/180123_2208-raw_records-7k65yaooed: Metadata contains exception (crash during conversion)\n"
     ]
    },
    {
     "name": "stderr",
     "output_type": "stream",
     "text": [
      "100%|██████████| 2071/2071 [00:03<00:00, 659.80it/s]"
     ]
    },
    {
     "name": "stdout",
     "output_type": "stream",
     "text": [
      "/dali/lgrandi/tunnell/strax_data/180126_0651-raw_records-7k65yaooed: Metadata contains exception (crash during conversion)\n",
      "/dali/lgrandi/tunnell/strax_data/180215_1035-raw_records-7k65yaooed: Metadata contains exception (crash during conversion)\n",
      "Found 75 bad and 1996 good data folders out of 2071\n"
     ]
    },
    {
     "name": "stderr",
     "output_type": "stream",
     "text": [
      "\n"
     ]
    }
   ],
   "source": [
    "# Detailed check\n",
    "rr_hash = st._key_for('0', 'raw_records').lineage_hash\n",
    "all_dirs = set(glob.glob(dirname + '/*'))\n",
    "checked_ok = set()\n",
    "\n",
    "for q in tqdm(all_dirs):\n",
    "    if not osp.isdir(q):\n",
    "        continue\n",
    "    try:\n",
    "        _run_id, _data_type, _hash = st.storage[0]._parse_folder_name(q)\n",
    "    except strax.storage.files.InvalidFolderNameFormat:\n",
    "        print(f\"{q}: Invalid or non-strax folder name\")\n",
    "        continue\n",
    "     \n",
    "    if _data_type != 'raw_records':\n",
    "        print(f\"{q}: Non-raw data type\")\n",
    "        continue\n",
    "\n",
    "    if _hash != rr_hash:\n",
    "        print(f\"{q}: Out of date or invalid hash\")\n",
    "        continue\n",
    "    \n",
    "    try:\n",
    "        md = st.get_metadata(_run_id, 'raw_records')\n",
    "    except strax.DataCorrupted:\n",
    "        print(f\"{q}: Exception while loading metadata\")\n",
    "        continue\n",
    "\n",
    "    if 'exception' in md:\n",
    "        print(f\"{q}: Metadata contains exception (crash during conversion)\")\n",
    "        continue\n",
    "    if not 'writing_ended' in md:\n",
    "        print(f\"{q}: Metadata indicates conversion never finished.\")\n",
    "        continue\n",
    "    \n",
    "    if not 'chunks' in md:\n",
    "        print(f\"{q}: No chunks registered in metadata\")\n",
    "        continue\n",
    "        \n",
    "    if not 'lineage_hash' in md:\n",
    "        print(f\"{q}: Lineage hash missing from metadata\")\n",
    "        continue\n",
    "\n",
    "    fn = osp.join(q, md['chunks'][0]['filename'])\n",
    "    if not osp.exists(fn) or osp.getsize(fn) == 0:\n",
    "        print(f\"{q}: First chunk file is non-existent or empty\")\n",
    "        continue\n",
    "        \n",
    "    # If you want to be really really sure the data is ok, you can try to load the data\n",
    "    # try:\n",
    "    #     rr = st.get_array(_run_id, 'raw_records', seconds_range=(0, 0.1))\n",
    "    # except Exception as e:\n",
    "    #     print(f\"{q}: Exception while actually loading data: {e}\")\n",
    "    #     continue\n",
    "    \n",
    "    checked_ok.add(q)\n",
    "    \n",
    "failing = all_dirs - checked_ok\n",
    "print(f\"Found {len(failing)} bad and {len(checked_ok)} good data folders out of {len(all_dirs)}\")"
   ]
  },
  {
   "cell_type": "code",
   "execution_count": null,
   "metadata": {},
   "outputs": [],
   "source": []
  }
 ],
 "metadata": {
  "kernelspec": {
   "display_name": "Python [default]",
   "language": "python",
   "name": "python3"
  },
  "language_info": {
   "codemirror_mode": {
    "name": "ipython",
    "version": 3
   },
   "file_extension": ".py",
   "mimetype": "text/x-python",
   "name": "python",
   "nbconvert_exporter": "python",
   "pygments_lexer": "ipython3",
   "version": "3.6.8"
  }
 },
 "nbformat": 4,
 "nbformat_minor": 2
}
